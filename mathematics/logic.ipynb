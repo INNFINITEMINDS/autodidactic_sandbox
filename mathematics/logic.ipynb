{
 "cells": [
  {
   "cell_type": "markdown",
   "metadata": {},
   "source": [
    "# Computational logic"
   ]
  },
  {
   "cell_type": "markdown",
   "metadata": {},
   "source": [
    "## Boolean logic"
   ]
  },
  {
   "cell_type": "code",
   "execution_count": 32,
   "metadata": {},
   "outputs": [],
   "source": [
    "def l_nand(a, b):\n",
    "    'Logical nand operation.'\n",
    "    \n",
    "    if a and b == True:\n",
    "        output = False\n",
    "    else:\n",
    "        output = True\n",
    "    \n",
    "    return output"
   ]
  },
  {
   "cell_type": "code",
   "execution_count": 34,
   "metadata": {},
   "outputs": [
    {
     "name": "stdout",
     "output_type": "stream",
     "text": [
      "[False, False] True\n",
      "[False, True] True\n",
      "[True, False] True\n",
      "[True, True] False\n"
     ]
    }
   ],
   "source": [
    "print([False, False], l_nand(False, False))\n",
    "print([False, True], l_nand(False, True))\n",
    "print([True, False], l_nand(True, False))\n",
    "print([True, True], l_nand(True, True))"
   ]
  },
  {
   "cell_type": "code",
   "execution_count": 9,
   "metadata": {},
   "outputs": [],
   "source": [
    "def l_not(a):\n",
    "    'Logical not operation.'\n",
    "    \n",
    "    output = l_nand(a, a)\n",
    "    \n",
    "    return output"
   ]
  },
  {
   "cell_type": "code",
   "execution_count": 35,
   "metadata": {},
   "outputs": [
    {
     "name": "stdout",
     "output_type": "stream",
     "text": [
      "[True] False\n",
      "[False] True\n"
     ]
    }
   ],
   "source": [
    "print([True], l_not(True))\n",
    "print([False], l_not(False))"
   ]
  },
  {
   "cell_type": "code",
   "execution_count": 16,
   "metadata": {},
   "outputs": [],
   "source": [
    "def l_and(a, b):\n",
    "    'Logical and operation.'\n",
    "    \n",
    "    output = l_nand(l_nand(a, b), l_nand(a, b))\n",
    "    \n",
    "    return output"
   ]
  },
  {
   "cell_type": "code",
   "execution_count": 36,
   "metadata": {},
   "outputs": [
    {
     "name": "stdout",
     "output_type": "stream",
     "text": [
      "[False, False] False\n",
      "[False, True] False\n",
      "[True, False] False\n",
      "[True, True] True\n"
     ]
    }
   ],
   "source": [
    "print([False, False], l_and(False, False))\n",
    "print([False, True], l_and(False, True))\n",
    "print([True, False], l_and(True, False))\n",
    "print([True, True], l_and(True, True))"
   ]
  },
  {
   "cell_type": "code",
   "execution_count": 18,
   "metadata": {},
   "outputs": [],
   "source": [
    "def l_or(a, b):\n",
    "    'Logical or operation.'\n",
    "    \n",
    "    output = l_nand(l_nand(a, a), l_nand(b, b))\n",
    "    \n",
    "    return output"
   ]
  },
  {
   "cell_type": "code",
   "execution_count": 37,
   "metadata": {},
   "outputs": [
    {
     "name": "stdout",
     "output_type": "stream",
     "text": [
      "[False, False] False\n",
      "[False, True] True\n",
      "[True, False] True\n",
      "[True, True] True\n"
     ]
    }
   ],
   "source": [
    "print([False, False], l_or(False, False))\n",
    "print([False, True], l_or(False, True))\n",
    "print([True, False], l_or(True, False))\n",
    "print([True, True], l_or(True, True))"
   ]
  },
  {
   "cell_type": "code",
   "execution_count": 20,
   "metadata": {},
   "outputs": [],
   "source": [
    "def l_xor(a, b):\n",
    "    'Logical xor operation.'\n",
    "    \n",
    "    output = l_nand(l_nand(a, l_nand(a, b)), l_nand(b, l_nand(a, b)))\n",
    "    \n",
    "    return output"
   ]
  },
  {
   "cell_type": "code",
   "execution_count": 38,
   "metadata": {},
   "outputs": [
    {
     "name": "stdout",
     "output_type": "stream",
     "text": [
      "[False, False] False\n",
      "[False, True] True\n",
      "[True, False] True\n",
      "[True, True] False\n"
     ]
    }
   ],
   "source": [
    "print([False, False], l_xor(False, False))\n",
    "print([False, True], l_xor(False, True))\n",
    "print([True, False], l_xor(True, False))\n",
    "print([True, True], l_xor(True, True))"
   ]
  },
  {
   "cell_type": "code",
   "execution_count": 22,
   "metadata": {},
   "outputs": [],
   "source": [
    "def l_mux(a, b, sel):\n",
    "    'Logical multiplexor operation.'\n",
    "    \n",
    "    output = l_or(l_and(a, not(sel)), l_and(b, sel))\n",
    "    \n",
    "    return output"
   ]
  },
  {
   "cell_type": "code",
   "execution_count": 39,
   "metadata": {},
   "outputs": [
    {
     "name": "stdout",
     "output_type": "stream",
     "text": [
      "[False, False, False] False\n",
      "[False, False, True] False\n",
      "[False, True, False] True\n",
      "[False, True, True] False\n",
      "[True, False, False] False\n",
      "[True, False, True] True\n",
      "[True, True, False] True\n",
      "[True, True, True] True\n"
     ]
    }
   ],
   "source": [
    "print([False, False, False], l_mux(False, False, False))\n",
    "print([False, False, True], l_mux(False, False, True))\n",
    "print([False, True, False], l_mux(False, True, False))\n",
    "print([False, True, True], l_mux(False, True, True))\n",
    "print([True, False, False], l_mux(True, False, False))\n",
    "print([True, False, True], l_mux(True, False, True))\n",
    "print([True, True, False], l_mux(True, True, False))\n",
    "print([True, True, True], l_mux(True, True, True))"
   ]
  },
  {
   "cell_type": "code",
   "execution_count": 50,
   "metadata": {},
   "outputs": [],
   "source": [
    "def l_dmux(a, sel):\n",
    "    'Logical demultiplexor operation.'\n",
    "    \n",
    "    a = l_or(l_and(a, l_not(sel)), l_and(False, sel))\n",
    "    \n",
    "    b = l_or(l_and(False, l_not(sel)), l_and(a, sel))\n",
    "    \n",
    "    return [a, b]"
   ]
  },
  {
   "cell_type": "code",
   "execution_count": null,
   "metadata": {},
   "outputs": [],
   "source": [
    "If sel=0 then {a=in, b=0} else {a=0, b=in}."
   ]
  },
  {
   "cell_type": "code",
   "execution_count": 51,
   "metadata": {},
   "outputs": [
    {
     "name": "stdout",
     "output_type": "stream",
     "text": [
      "[False, False] [False, False]\n",
      "[False, True] [False, False]\n",
      "[True, False] [True, False]\n",
      "[True, True] [False, False]\n"
     ]
    }
   ],
   "source": [
    "print([False, False], l_dmux(False, False))\n",
    "print([False, True], l_dmux(False, True))\n",
    "print([True, False], l_dmux(True, False))\n",
    "print([True, True], l_dmux(True, True))"
   ]
  }
 ],
 "metadata": {
  "kernelspec": {
   "display_name": "Python 3",
   "language": "python",
   "name": "python3"
  },
  "language_info": {
   "codemirror_mode": {
    "name": "ipython",
    "version": 3
   },
   "file_extension": ".py",
   "mimetype": "text/x-python",
   "name": "python",
   "nbconvert_exporter": "python",
   "pygments_lexer": "ipython3",
   "version": "3.7.6"
  }
 },
 "nbformat": 4,
 "nbformat_minor": 4
}
