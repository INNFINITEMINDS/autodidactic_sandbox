{
 "cells": [
  {
   "cell_type": "code",
   "execution_count": 20,
   "metadata": {},
   "outputs": [],
   "source": [
    "import numpy as np\n",
    "import matplotlib.pyplot as plt"
   ]
  },
  {
   "cell_type": "code",
   "execution_count": 21,
   "metadata": {},
   "outputs": [],
   "source": [
    "A = np.matrix('1 -4 6; -7 4 3; 8 -0 -1')\n",
    "B = np.matrix('3 1 -1; 2 8 5; -5 9 7')\n",
    "C = np.matrix('5 -2 1; 10 -4 2; 15 -6 3')"
   ]
  },
  {
   "cell_type": "code",
   "execution_count": 22,
   "metadata": {},
   "outputs": [
    {
     "name": "stdout",
     "output_type": "stream",
     "text": [
      "-263 -64 0\n"
     ]
    }
   ],
   "source": [
    "# Matrix determinant\n",
    "determinant_A = int(np.linalg.det(A))\n",
    "determinant_B = int(np.linalg.det(B))\n",
    "determinant_C = int(np.linalg.det(C))\n",
    "print(determinant_A, determinant_B, determinant_C)\n",
    "\n",
    "# Note that the determinant of matrix C is 0. This is a result of the columns of matrix C being linearly dependent, \n",
    "# which was deliberate."
   ]
  },
  {
   "cell_type": "code",
   "execution_count": 23,
   "metadata": {},
   "outputs": [
    {
     "name": "stdout",
     "output_type": "stream",
     "text": [
      "[-8.57324357  9.24096332  3.33228024]\n",
      "[[ 0.60084071  0.64554746  0.32983038]\n",
      " [ 0.48595099 -0.57355347  0.72128424]\n",
      " [-0.63469841  0.50428652  0.60906564]]\n",
      "[-0.95404254  4.70932064 14.2447219 ]\n",
      "[[-0.33032255  0.6363691  -0.01428194]\n",
      " [ 0.51534831  0.50249875  0.62216187]\n",
      " [-0.79076111 -0.58526009  0.78275835]]\n",
      "[ 4.0000000e+00 -1.3766005e-16  1.7199892e-16]\n",
      "[[ 0.26726124 -0.14644473 -0.34551944]\n",
      " [ 0.53452248  0.12456082 -0.92923959]\n",
      " [ 0.80178373  0.98134527 -0.13088197]]\n"
     ]
    }
   ],
   "source": [
    "# Eigenvalues and eigenvectors\n",
    "eigenvalue_A, eigenvector_A = np.linalg.eig(A)\n",
    "print(eigenvalue_A)\n",
    "print(eigenvector_A)\n",
    "\n",
    "eigenvalue_B, eigenvector_B = np.linalg.eig(B)\n",
    "print(eigenvalue_B)\n",
    "print(eigenvector_B)\n",
    "\n",
    "eigenvalue_C, eigenvector_C = np.linalg.eig(C)\n",
    "print(eigenvalue_C)\n",
    "print(eigenvector_C)"
   ]
  },
  {
   "cell_type": "code",
   "execution_count": 34,
   "metadata": {},
   "outputs": [
    {
     "name": "stdout",
     "output_type": "stream",
     "text": [
      "True\n"
     ]
    }
   ],
   "source": [
    "# Check eigenvectors and eigenvalues are consistent\n",
    "I = np.matrix('1 0 0; 0 1 0; 0 0 1')\n",
    "\n",
    "result = []\n",
    "\n",
    "for x in range(0, 3):\n",
    "    result.append(int(np.linalg.det(A - (eigenvalue_A[x] * I))) == 0)\n",
    "    result.append(int(np.linalg.det(B - (eigenvalue_B[x] * I))) == 0)\n",
    "    result.append(int(np.linalg.det(C - (eigenvalue_C[x] * I))) == 0)\n",
    "\n",
    "print(np.all(result))"
   ]
  }
 ],
 "metadata": {
  "kernelspec": {
   "display_name": "Python 3",
   "language": "python",
   "name": "python3"
  },
  "language_info": {
   "codemirror_mode": {
    "name": "ipython",
    "version": 3
   },
   "file_extension": ".py",
   "mimetype": "text/x-python",
   "name": "python",
   "nbconvert_exporter": "python",
   "pygments_lexer": "ipython3",
   "version": "3.7.6"
  }
 },
 "nbformat": 4,
 "nbformat_minor": 4
}
