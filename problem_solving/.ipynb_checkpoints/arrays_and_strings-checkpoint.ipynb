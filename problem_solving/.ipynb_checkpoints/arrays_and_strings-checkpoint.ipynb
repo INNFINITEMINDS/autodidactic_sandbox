{
 "cells": [
  {
   "cell_type": "markdown",
   "metadata": {},
   "source": [
    "# Arrays and strings"
   ]
  },
  {
   "cell_type": "markdown",
   "metadata": {},
   "source": [
    "## Problem 1\n",
    "\n",
    "Implement an algorithm to determine if a string has all unique characters. What if you cannot use additional data structures?"
   ]
  },
  {
   "cell_type": "markdown",
   "metadata": {},
   "source": [
    "### Brute force solution\n",
    "\n",
    "Iterate through each character, and check whether it is equal to any other character in the array.\n",
    "\n",
    "Time complexity: $O(N^2)$"
   ]
  },
  {
   "cell_type": "code",
   "execution_count": 30,
   "metadata": {},
   "outputs": [],
   "source": [
    "def solve_1_brute_force(string):\n",
    "    'Determines if a string has all unique characters.'\n",
    "    \n",
    "    # Check if the input is a string.\n",
    "    check_result = isinstance(string, str)\n",
    "    if check_result == False: return 'ERROR: Input is not a string.'\n",
    "    \n",
    "    # Iterate through all characters in the string.\n",
    "    for i in range(len(string)):\n",
    "        \n",
    "        # Iterate through all characters except the ith character.\n",
    "        for j in range(0, len(string)):\n",
    "            if i != j and string[i] == string[j]:\n",
    "                return False\n",
    "    \n",
    "    return True"
   ]
  },
  {
   "cell_type": "markdown",
   "metadata": {},
   "source": [
    "#### Test cases\n",
    "\n",
    "N.b. calling the function with no argument will automatically give an error message."
   ]
  },
  {
   "cell_type": "code",
   "execution_count": 31,
   "metadata": {},
   "outputs": [
    {
     "name": "stdout",
     "output_type": "stream",
     "text": [
      "1 ERROR: Input is not a string.\n",
      "2 ERROR: Input is not a string.\n",
      "3 False\n",
      "4 False\n",
      "5 True\n",
      "6 True\n"
     ]
    }
   ],
   "source": [
    "print(1, solve_1_brute_force(1))\n",
    "print(2, solve_1_brute_force(False))\n",
    "print(3, solve_1_brute_force('Apple'))\n",
    "print(4, solve_1_brute_force('Banana'))\n",
    "print(5, solve_1_brute_force('abc123'))\n",
    "print(6, solve_1_brute_force('qwerty 1234!'))"
   ]
  },
  {
   "cell_type": "markdown",
   "metadata": {},
   "source": [
    "### Better solution 1\n",
    "\n",
    "Iterate through each character and check whether it is equal to any of the subsequent characters. You don't need to check against previous characters because this has already been done.<br>\n",
    "Time complexity: $O(N^2)$ but approximately twice as fast as the brute force solution."
   ]
  },
  {
   "cell_type": "code",
   "execution_count": 32,
   "metadata": {},
   "outputs": [],
   "source": [
    "def solve_1_better_1(string):\n",
    "    'Determines if a string has all unique characters.'\n",
    "    \n",
    "    # Check if the input is a string.\n",
    "    check_result = isinstance(string, str)\n",
    "    if check_result == False: return 'ERROR: Input is not a string.'\n",
    "    \n",
    "    # Iterate through all characters in the string except the last one.\n",
    "    for i in range(len(string) - 1):\n",
    "        \n",
    "        # Iterate through all characters after the ith character.\n",
    "        for j in range(i + 1, len(string)):\n",
    "            if string[i] == string[j]:\n",
    "                return False\n",
    "    \n",
    "    return True"
   ]
  },
  {
   "cell_type": "code",
   "execution_count": null,
   "metadata": {},
   "outputs": [],
   "source": [
    "#### Test cases\n",
    "\n",
    "N.b. calling the function with no argument will automatically give an error message."
   ]
  },
  {
   "cell_type": "code",
   "execution_count": 33,
   "metadata": {
    "scrolled": true
   },
   "outputs": [
    {
     "name": "stdout",
     "output_type": "stream",
     "text": [
      "1 ERROR: Input is not a string.\n",
      "2 ERROR: Input is not a string.\n",
      "3 False\n",
      "4 False\n",
      "5 True\n",
      "6 True\n"
     ]
    }
   ],
   "source": [
    "print(1, solve_1_better_1(1))\n",
    "print(2, solve_1_better_1(False))\n",
    "print(3, solve_1_better_1('Apple'))\n",
    "print(4, solve_1_better_1('Banana'))\n",
    "print(5, solve_1_better_1('abc123'))\n",
    "print(6, solve_1_better_1('qwerty 1234!'))"
   ]
  },
  {
   "cell_type": "markdown",
   "metadata": {},
   "source": [
    "### Better solution 2\n",
    "\n",
    "Same solution as solution 1 but uses list comprehension as this <br>\n",
    "Time complexity: $O(N^2)$ but faster than both solutions above."
   ]
  },
  {
   "cell_type": "code",
   "execution_count": 50,
   "metadata": {},
   "outputs": [],
   "source": [
    "def solve_1_better_2(string):\n",
    "    'Determines if a string has all unique characters.'\n",
    "    \n",
    "    # Check if the input is a string.\n",
    "    check_result = isinstance(string, str)\n",
    "    if check_result == False: return 'ERROR: Input is not a string.'\n",
    "    \n",
    "    # Iterate through all characters in the string except the last one.\n",
    "    for i in range(len(string) - 1):\n",
    "        \n",
    "        # # Iterate through all characters after the ith character.\n",
    "        unique = [string[i] == character for character in string[i + 1:len(string)]]\n",
    "        if any(unique) == True: return False\n",
    "        \n",
    "    \n",
    "    return True"
   ]
  },
  {
   "cell_type": "markdown",
   "metadata": {},
   "source": [
    "#### Test cases\n",
    "\n",
    "N.b. calling the function with no argument will automatically give an error message."
   ]
  },
  {
   "cell_type": "code",
   "execution_count": 51,
   "metadata": {
    "scrolled": true
   },
   "outputs": [
    {
     "name": "stdout",
     "output_type": "stream",
     "text": [
      "1 ERROR: Input is not a string.\n",
      "2 ERROR: Input is not a string.\n",
      "3 False\n",
      "4 False\n",
      "5 True\n",
      "6 True\n"
     ]
    }
   ],
   "source": [
    "print(1, solve_1_better_2(1))\n",
    "print(2, solve_1_better_2(False))\n",
    "print(3, solve_1_better_2('Apple'))\n",
    "print(4, solve_1_better_2('Banana'))\n",
    "print(5, solve_1_better_2('abc123'))\n",
    "print(6, solve_1_better_2('qwerty 1234!'))"
   ]
  }
 ],
 "metadata": {
  "kernelspec": {
   "display_name": "Python 3",
   "language": "python",
   "name": "python3"
  },
  "language_info": {
   "codemirror_mode": {
    "name": "ipython",
    "version": 3
   },
   "file_extension": ".py",
   "mimetype": "text/x-python",
   "name": "python",
   "nbconvert_exporter": "python",
   "pygments_lexer": "ipython3",
   "version": "3.7.6"
  }
 },
 "nbformat": 4,
 "nbformat_minor": 4
}
