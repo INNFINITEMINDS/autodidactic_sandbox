{
 "cells": [
  {
   "cell_type": "markdown",
   "metadata": {},
   "source": [
    "# URLify"
   ]
  },
  {
   "cell_type": "markdown",
   "metadata": {},
   "source": [
    "## Problem statement\n",
    "\n",
    "Write a method to replace all spaces in a string with '%20'. You may assume that the string has sufficient space at the end to hold additionaly characters, and that you are given the 'true' length of the string.\n",
    "\n",
    "Example:<br>\n",
    "Input: 'Mr John Smith    ', 13<br>\n",
    "Output: 'Mr%20John%20%Smith'"
   ]
  },
  {
   "cell_type": "markdown",
   "metadata": {},
   "source": [
    "## Solution 1\n",
    "\n",
    "Make a new string and fill it with either non-space characters or '%20' as appropriate by iterating through the characters in the input string."
   ]
  },
  {
   "cell_type": "code",
   "execution_count": 32,
   "metadata": {},
   "outputs": [],
   "source": [
    "def URLify_1(string, n):\n",
    "    'Replace all spaces in the string with \"%20.\"'\n",
    "    \n",
    "    # Check input string is a string and n is an integer.\n",
    "    val_res_1 = isinstance(string, str)\n",
    "    val_res_2 = isinstance(n, int)\n",
    "    if val_res_1 + val_res_2 != 2: return 'ERROR: At least one input is invalid.'\n",
    "    \n",
    "    output_string = ''\n",
    "    \n",
    "    for i in range(n):\n",
    "        if string[i] == ' ':\n",
    "            output_string += '%20'\n",
    "        else:\n",
    "            output_string += string[i]\n",
    "            \n",
    "    return output_string"
   ]
  },
  {
   "cell_type": "markdown",
   "metadata": {},
   "source": [
    "#### Test cases"
   ]
  },
  {
   "cell_type": "code",
   "execution_count": 33,
   "metadata": {},
   "outputs": [
    {
     "name": "stdout",
     "output_type": "stream",
     "text": [
      "ERROR: At least one input is invalid.\n",
      "ERROR: At least one input is invalid.\n",
      "a%20p%20p%20l%20e%20\n",
      "a%20%20p%20pl\n"
     ]
    }
   ],
   "source": [
    "print(URLify_1('abc', '5'))\n",
    "print(URLify_1(5,  5))\n",
    "print(URLify_1('a p p l e           ', 10))\n",
    "print(URLify_1('a  p ple      ', 7))"
   ]
  },
  {
   "cell_type": "markdown",
   "metadata": {},
   "source": [
    "## Solution 2\n",
    "\n",
    "Start from the back of the input string and perform the operation in place."
   ]
  },
  {
   "cell_type": "code",
   "execution_count": 119,
   "metadata": {},
   "outputs": [],
   "source": [
    "def URLify_2(string, n):\n",
    "    'Replace all spaces in the string with \"%20.\"'\n",
    "    \n",
    "    # Check input string is a string and n is an integer.\n",
    "    val_res_1 = isinstance(string, str)\n",
    "    val_res_2 = isinstance(n, int)\n",
    "    if val_res_1 + val_res_2 != 2: return 'ERROR: At least one input is invalid.'\n",
    "    \n",
    "    j = len(string)\n",
    "    \n",
    "    string = list(string)\n",
    "    \n",
    "    for i in range(n - 1, -1, -1):\n",
    "        if string[i] == ' ':\n",
    "            string[j - 3 : j] = '%20'\n",
    "            j -= 3\n",
    "        else:\n",
    "            string[j - 1] = string[i]\n",
    "            j -= 1\n",
    "            \n",
    "    return ''.join(string)"
   ]
  },
  {
   "cell_type": "markdown",
   "metadata": {},
   "source": [
    "#### Test cases"
   ]
  },
  {
   "cell_type": "code",
   "execution_count": 121,
   "metadata": {},
   "outputs": [
    {
     "name": "stdout",
     "output_type": "stream",
     "text": [
      "ERROR: At least one input is invalid.\n",
      "ERROR: At least one input is invalid.\n",
      "a%20p%20p%20l%20e%20\n",
      "aa%20%20p%20pl\n"
     ]
    }
   ],
   "source": [
    "print(URLify_2('abc', '5'))\n",
    "print(URLify_2(5,  5))\n",
    "print(URLify_2('a p p l e           ', 10))\n",
    "print(URLify_2('a  p ple      ', 7))"
   ]
  }
 ],
 "metadata": {
  "kernelspec": {
   "display_name": "Python 3",
   "language": "python",
   "name": "python3"
  },
  "language_info": {
   "codemirror_mode": {
    "name": "ipython",
    "version": 3
   },
   "file_extension": ".py",
   "mimetype": "text/x-python",
   "name": "python",
   "nbconvert_exporter": "python",
   "pygments_lexer": "ipython3",
   "version": "3.7.6"
  }
 },
 "nbformat": 4,
 "nbformat_minor": 4
}
