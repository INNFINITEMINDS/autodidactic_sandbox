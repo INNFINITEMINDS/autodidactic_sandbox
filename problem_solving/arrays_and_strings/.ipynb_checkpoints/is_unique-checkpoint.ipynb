{
 "cells": [
  {
   "cell_type": "markdown",
   "metadata": {},
   "source": [
    "# Is Unique"
   ]
  },
  {
   "cell_type": "markdown",
   "metadata": {},
   "source": [
    "## Problem statement\n",
    "\n",
    "Implement an algorithm to determine if a string has all unique characters. What if you cannot use additional data structures?"
   ]
  },
  {
   "cell_type": "markdown",
   "metadata": {},
   "source": [
    "### Solution 1\n",
    "\n",
    "Iterate through each character, and check whether it is equal to any other character in the array.\n",
    "\n",
    "Time complexity: $O(N^2)$"
   ]
  },
  {
   "cell_type": "code",
   "execution_count": 1,
   "metadata": {},
   "outputs": [],
   "source": [
    "def is_unique_1(string):\n",
    "    'Determines if a string has all unique characters.'\n",
    "    \n",
    "    # Check if the input is a string.\n",
    "    check_result = isinstance(string, str)\n",
    "    if check_result == False: return 'ERROR: Input is not a string.'\n",
    "    \n",
    "    # Iterate through all characters in the string.\n",
    "    for i in range(len(string)):\n",
    "        \n",
    "        # Iterate through all characters except the ith character.\n",
    "        for j in range(0, len(string)):\n",
    "            if i != j and string[i] == string[j]:\n",
    "                return False\n",
    "    \n",
    "    return True"
   ]
  },
  {
   "cell_type": "markdown",
   "metadata": {},
   "source": [
    "#### Test cases\n",
    "\n",
    "N.b. calling the function with no argument will automatically give an error message."
   ]
  },
  {
   "cell_type": "code",
   "execution_count": 2,
   "metadata": {},
   "outputs": [
    {
     "name": "stdout",
     "output_type": "stream",
     "text": [
      "1 ERROR: Input is not a string.\n",
      "2 ERROR: Input is not a string.\n",
      "3 False\n",
      "4 False\n",
      "5 True\n",
      "6 True\n"
     ]
    }
   ],
   "source": [
    "print(1, is_unique_1(1))\n",
    "print(2, is_unique_1(False))\n",
    "print(3, is_unique_1('Apple'))\n",
    "print(4, is_unique_1('Banana'))\n",
    "print(5, is_unique_1('abc123'))\n",
    "print(6, is_unique_1('qwerty 1234!'))"
   ]
  },
  {
   "cell_type": "markdown",
   "metadata": {},
   "source": [
    "### Solution 2\n",
    "\n",
    "Iterate through each character and check whether it is equal to any of the subsequent characters. You don't need to check against previous characters because this has already been done.\n",
    "\n",
    "Time complexity: $O(N^2)$ but approximately twice as fast as the brute force solution."
   ]
  },
  {
   "cell_type": "code",
   "execution_count": 3,
   "metadata": {},
   "outputs": [],
   "source": [
    "def is_unique_2(string):\n",
    "    'Determines if a string has all unique characters.'\n",
    "    \n",
    "    # Check if the input is a string.\n",
    "    check_result = isinstance(string, str)\n",
    "    if check_result == False: return 'ERROR: Input is not a string.'\n",
    "    \n",
    "    # Iterate through all characters in the string except the last one.\n",
    "    for i in range(len(string) - 1):\n",
    "        \n",
    "        # Iterate through all characters after the ith character.\n",
    "        for j in range(i + 1, len(string)):\n",
    "            if string[i] == string[j]:\n",
    "                return False\n",
    "    \n",
    "    return True"
   ]
  },
  {
   "cell_type": "markdown",
   "metadata": {},
   "source": [
    "#### Test cases\n",
    "\n",
    "N.b. calling the function with no argument will automatically give an error message."
   ]
  },
  {
   "cell_type": "code",
   "execution_count": null,
   "metadata": {
    "scrolled": true
   },
   "outputs": [],
   "source": [
    "print(1, is_unique_2(1))\n",
    "print(2, is_unique_2(False))\n",
    "print(3, is_unique_2('Apple'))\n",
    "print(4, is_unique_2('Banana'))\n",
    "print(5, is_unique_2('abc123'))\n",
    "print(6, is_unique_2('qwerty 1234!'))"
   ]
  },
  {
   "cell_type": "markdown",
   "metadata": {},
   "source": [
    "### Solution 3\n",
    "\n",
    "Same solution as solution 1 but uses list comprehension rather than a second explicit for loop.\n",
    "\n",
    "Time complexity: $O(N^2)$ but faster than both solutions above."
   ]
  },
  {
   "cell_type": "code",
   "execution_count": null,
   "metadata": {},
   "outputs": [],
   "source": [
    "def is_unique_3(string):\n",
    "    'Determines if a string has all unique characters.'\n",
    "    \n",
    "    # Check if the input is a string.\n",
    "    check_result = isinstance(string, str)\n",
    "    if check_result == False: return 'ERROR: Input is not a string.'\n",
    "    \n",
    "    # Iterate through all characters in the string except the last one.\n",
    "    for i in range(len(string) - 1):\n",
    "        \n",
    "        # # Iterate through all characters after the ith character.\n",
    "        unique = [string[i] == character for character in string[i + 1:len(string)]]\n",
    "        if any(unique) == True: return False\n",
    "        \n",
    "    \n",
    "    return True"
   ]
  },
  {
   "cell_type": "markdown",
   "metadata": {},
   "source": [
    "#### Test cases\n",
    "\n",
    "N.b. calling the function with no argument will automatically give an error message."
   ]
  },
  {
   "cell_type": "code",
   "execution_count": null,
   "metadata": {
    "scrolled": true
   },
   "outputs": [],
   "source": [
    "print(1, is_unique_3(1))\n",
    "print(2, is_unique_3(False))\n",
    "print(3, is_unique_3('Apple'))\n",
    "print(4, is_unique_3('Banana'))\n",
    "print(5, is_unique_3('abc123'))\n",
    "print(6, is_unique_3('qwerty 1234!'))"
   ]
  },
  {
   "cell_type": "markdown",
   "metadata": {},
   "source": [
    "### Solution 4\n",
    "\n",
    "Assume for simplicity that the characters are all ASCII characters, of which there are 128 in total. Create a dictionary which counts the number of times each character in the string occurs. If the count exceeds one, return false.\n",
    "\n",
    "Calling the dict() function automatically determines the unique characters from the input string, so I could just check that the length of the dictionary is equal to the length of the string, but this isn't an interesting solution.\n",
    "\n",
    "Time complexity: $O(N)$"
   ]
  },
  {
   "cell_type": "code",
   "execution_count": 1,
   "metadata": {},
   "outputs": [],
   "source": [
    "def is_unique_4(string):\n",
    "    'Determines if a string has all unique characters.'\n",
    "    \n",
    "    # Check if the input is a string.\n",
    "    check_result = isinstance(string, str)\n",
    "    if check_result == False: return 'ERROR: Input is not a string.'\n",
    "    \n",
    "    # Check if the string has more characters than the total number of ASCII characters.\n",
    "    if len(string) > 128: return False\n",
    "    \n",
    "    # Create a dictionary of all of the unique elements in the string, giving a count value of zero to each.\n",
    "    characters_dict = dict(zip(list(string), [0] * len(string)))\n",
    "    \n",
    "    # Iterate through all characters in the string.\n",
    "    for i in range(len(string)):\n",
    "        \n",
    "        # Update the count\n",
    "        characters_dict[string[i]] += 1\n",
    "        if characters_dict[string[i]] > 1:\n",
    "            return False\n",
    "        \n",
    "    return True"
   ]
  },
  {
   "cell_type": "markdown",
   "metadata": {},
   "source": [
    "#### Test cases\n",
    "\n",
    "N.b. calling the function with no argument will automatically give an error message."
   ]
  },
  {
   "cell_type": "code",
   "execution_count": 2,
   "metadata": {
    "scrolled": true
   },
   "outputs": [
    {
     "name": "stdout",
     "output_type": "stream",
     "text": [
      "1 ERROR: Input is not a string.\n",
      "2 ERROR: Input is not a string.\n",
      "3 False\n",
      "4 False\n",
      "5 True\n",
      "6 True\n"
     ]
    }
   ],
   "source": [
    "print(1, is_unique_4(1))\n",
    "print(2, is_unique_4(False))\n",
    "print(3, is_unique_4('Apple'))\n",
    "print(4, is_unique_4('Banana'))\n",
    "print(5, is_unique_4('abc123'))\n",
    "print(6, is_unique_4('qwerty 1234!'))"
   ]
  },
  {
   "cell_type": "code",
   "execution_count": null,
   "metadata": {},
   "outputs": [],
   "source": []
  }
 ],
 "metadata": {
  "kernelspec": {
   "display_name": "Python 3",
   "language": "python",
   "name": "python3"
  },
  "language_info": {
   "codemirror_mode": {
    "name": "ipython",
    "version": 3
   },
   "file_extension": ".py",
   "mimetype": "text/x-python",
   "name": "python",
   "nbconvert_exporter": "python",
   "pygments_lexer": "ipython3",
   "version": "3.7.6"
  }
 },
 "nbformat": 4,
 "nbformat_minor": 4
}
