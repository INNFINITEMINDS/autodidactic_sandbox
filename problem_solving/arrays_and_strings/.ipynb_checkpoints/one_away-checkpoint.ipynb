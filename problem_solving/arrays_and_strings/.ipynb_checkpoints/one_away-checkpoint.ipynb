{
 "cells": [
  {
   "cell_type": "markdown",
   "metadata": {},
   "source": [
    "# One Away\n",
    "\n",
    "## Problem statement\n",
    "\n",
    "There are three types of edits that can be performed on strings: insert a character, remove a character, or replace a character. Given two strings, write a function to check if they are one edit (or zero edits) away."
   ]
  },
  {
   "cell_type": "markdown",
   "metadata": {},
   "source": [
    "## Solution 1\n",
    "\n",
    "Looking at the length of each string, there are three possible cases to look at:\n",
    "- The length of one string is more than one greater than the other. In this case, there are more than two edits, so return false.\n",
    "- The length of one string is exactly one greater than the other. In this case, it is possible that the strings are one edit different.\n",
    "- The length of one string is equal to that of the other. In this case, it is possible that the strings are zero or one edits different."
   ]
  },
  {
   "cell_type": "code",
   "execution_count": 42,
   "metadata": {},
   "outputs": [],
   "source": [
    "def one_away_1(string_1, string_2):\n",
    "    'Determines whether two strings are zero or one edits away.'\n",
    "    \n",
    "    # Check that each of the inputs are strings.\n",
    "    val_res_1 = isinstance(string_1, str)\n",
    "    val_res_2 = isinstance(string_2, str)\n",
    "    if val_res_1 + val_res_2 != 2:\n",
    "        return 'ERROR: One or more inputs is invalid.'\n",
    "    \n",
    "    # Optimisation: check if the strings are equal. O(1) and avoids the element-wise checking below.\n",
    "    if string_1 == string_2: return True\n",
    "    \n",
    "    # The difference between the lengths of each string.\n",
    "    len_diff = abs(len(string_1) - len(string_2))\n",
    "    \n",
    "    # Check each possible case.\n",
    "    if len_diff > 1:\n",
    "        return False\n",
    "    elif len_diff == 1:\n",
    "        if len(string_1) > len(string_2):\n",
    "            bigger_string = string_1\n",
    "            smaller_string = string_2\n",
    "        else:\n",
    "            bigger_string = string_2\n",
    "            smaller_string = string_1\n",
    "        \n",
    "        # Iterate through each character in the smaller string.\n",
    "        for i in range(len(smaller_string)):\n",
    "            \n",
    "            # Find the character that does not exist in the smaller string.\n",
    "            if bigger_string[i] != string_2[i]:\n",
    "                \n",
    "                # Remove the offending character.\n",
    "                bigger_string = bigger_string[0:i] + bigger_string[i + 1:len(bigger_string)]\n",
    "                if smaller_string == bigger_string:\n",
    "                    return True\n",
    "                else:\n",
    "                    return False\n",
    "                \n",
    "    else:\n",
    "        # Generate a boolean list where each element indicates whether the characters of each string are not equal.\n",
    "        match_list = [a != b for a, b in zip(list(string_1), list(string_2))]\n",
    "        \n",
    "        if sum(match_list) > 1:\n",
    "            return False\n",
    "        else:\n",
    "            return True"
   ]
  },
  {
   "cell_type": "markdown",
   "metadata": {},
   "source": [
    "#### Test cases\n",
    "\n",
    "N.b. if fewer than two arguments are given, this will automatically result in an error."
   ]
  },
  {
   "cell_type": "code",
   "execution_count": 47,
   "metadata": {},
   "outputs": [
    {
     "name": "stdout",
     "output_type": "stream",
     "text": [
      "1 ERROR: One or more inputs is invalid.\n",
      "2 ERROR: One or more inputs is invalid.\n",
      "3 False\n",
      "4 False\n",
      "5 True\n",
      "6 True\n",
      "7 True\n",
      "8 True\n"
     ]
    }
   ],
   "source": [
    "print(1, one_away_1('abc', True))\n",
    "print(2, one_away_1(1, 'abc'))\n",
    "print(3, one_away_1('abc', 'abcde'))\n",
    "print(4, one_away_1('abc', 'def'))\n",
    "print(5, one_away_1('adbc', 'abc'))\n",
    "print(6, one_away_1('abc', 'abc'))\n",
    "print(7, one_away_1('abc', 'abd'))\n",
    "print(8, one_away_1('abc', 'ac'))"
   ]
  }
 ],
 "metadata": {
  "kernelspec": {
   "display_name": "Python 3",
   "language": "python",
   "name": "python3"
  },
  "language_info": {
   "codemirror_mode": {
    "name": "ipython",
    "version": 3
   },
   "file_extension": ".py",
   "mimetype": "text/x-python",
   "name": "python",
   "nbconvert_exporter": "python",
   "pygments_lexer": "ipython3",
   "version": "3.7.6"
  }
 },
 "nbformat": 4,
 "nbformat_minor": 4
}
