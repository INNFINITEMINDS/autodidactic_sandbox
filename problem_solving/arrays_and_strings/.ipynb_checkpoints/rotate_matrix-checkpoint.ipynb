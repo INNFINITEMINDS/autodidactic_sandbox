{
 "cells": [
  {
   "cell_type": "markdown",
   "metadata": {},
   "source": [
    "# Rotate matrix\n",
    "\n",
    "## Problem statement\n",
    "\n",
    "Given an image represented by an $N*N$ matrix, where each pixel in the image is represented by an integer, write a method to rotate the image by 90 degrees. Can you do this in place?"
   ]
  },
  {
   "cell_type": "markdown",
   "metadata": {},
   "source": [
    "## Import packages"
   ]
  },
  {
   "cell_type": "code",
   "execution_count": 47,
   "metadata": {},
   "outputs": [],
   "source": [
    "import numpy as np"
   ]
  },
  {
   "cell_type": "markdown",
   "metadata": {},
   "source": [
    "## Solution 1\n",
    "\n",
    "Create a new $N*N$ matrix and fill in the elements one-by-one.\n",
    "\n",
    "Assume input is given as a standard Python list of lists."
   ]
  },
  {
   "cell_type": "code",
   "execution_count": 48,
   "metadata": {},
   "outputs": [],
   "source": [
    "def rotate_matrix_1(input, direction = 'clockwise'):\n",
    "    \n",
    "    # Check that input is square.\n",
    "    if len(input) != len(input[0]): return 'ERROR: Input matrix is not square.'\n",
    "    \n",
    "    output = np.tile(0, (len(input), len(input)))\n",
    "    \n",
    "    for i in range(0, len(input)):\n",
    "        for j in range(0, len(input)):\n",
    "            if direction == 'clockwise':\n",
    "                output[i][j] = input[len(input) - j - 1][i]\n",
    "            else:\n",
    "                output[i][j] = input[j][len(input) - i - 1]\n",
    "    \n",
    "    return output"
   ]
  },
  {
   "cell_type": "markdown",
   "metadata": {},
   "source": [
    "#### Test cases"
   ]
  },
  {
   "cell_type": "code",
   "execution_count": 49,
   "metadata": {},
   "outputs": [
    {
     "name": "stdout",
     "output_type": "stream",
     "text": [
      "1 ERROR: Input matrix is not square.\n",
      "2 [[3 1]\n",
      " [4 2]]\n",
      "3 [[2 4]\n",
      " [1 3]]\n",
      "4 [[7 4 1]\n",
      " [8 5 2]\n",
      " [9 6 3]]\n",
      "5 [[3 6 9]\n",
      " [2 5 8]\n",
      " [1 4 7]]\n"
     ]
    }
   ],
   "source": [
    "print(1, rotate_matrix_1([[1, 2, 3], [4, 5, 6]]))\n",
    "print(2, rotate_matrix_1([[1, 2], [3, 4]], 'clockwise'))\n",
    "print(3, rotate_matrix_1([[1, 2], [3, 4]], 'anti-clockwise'))\n",
    "print(4, rotate_matrix_1([[1, 2, 3], [4, 5, 6], [7, 8, 9]], 'clockwise'))\n",
    "print(5, rotate_matrix_1([[1, 2, 3], [4, 5, 6], [7, 8, 9]], 'anti-clockwise'))"
   ]
  },
  {
   "cell_type": "code",
   "execution_count": null,
   "metadata": {},
   "outputs": [],
   "source": []
  }
 ],
 "metadata": {
  "kernelspec": {
   "display_name": "Python 3",
   "language": "python",
   "name": "python3"
  },
  "language_info": {
   "codemirror_mode": {
    "name": "ipython",
    "version": 3
   },
   "file_extension": ".py",
   "mimetype": "text/x-python",
   "name": "python",
   "nbconvert_exporter": "python",
   "pygments_lexer": "ipython3",
   "version": "3.7.6"
  }
 },
 "nbformat": 4,
 "nbformat_minor": 4
}
