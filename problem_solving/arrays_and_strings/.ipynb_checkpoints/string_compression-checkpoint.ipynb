{
 "cells": [
  {
   "cell_type": "markdown",
   "metadata": {},
   "source": [
    "# String compression\n",
    "\n",
    "## Problem statement\n",
    "\n",
    "Implement a method to perform basic string compression using the counts of repeated characters. For example, the string aabcccccaa would become a2b1c5a3. If the 'compressed' string would not become smaller than the original string, your method should return the original string. You can assume the string only has uppercase and lowercase letters."
   ]
  },
  {
   "cell_type": "markdown",
   "metadata": {},
   "source": [
    "## Solution 1\n",
    "\n",
    "Iterate through each character, count how many times the character repeats, then add this to the output.\n",
    "\n",
    "Time complexity: $O(N)$"
   ]
  },
  {
   "cell_type": "code",
   "execution_count": 47,
   "metadata": {},
   "outputs": [],
   "source": [
    "def string_compression_1(input):\n",
    "    'Performs basic string compression using the counts of repeated characters.'\n",
    "    \n",
    "    # Check that the input is actually a string.\n",
    "    if isinstance(input, str) == False: return 'ERROR: Input is not a string.'\n",
    "    \n",
    "    output = ''\n",
    "    \n",
    "    if len(input) == 1: return input\n",
    "    \n",
    "    for i in range(len(input)):\n",
    "        # First latter.\n",
    "        if i == 0:\n",
    "            count = 1\n",
    "        # Same as last letter.\n",
    "        elif input[i] == input[i - 1]:\n",
    "            count += 1\n",
    "        # New letter.\n",
    "        else:\n",
    "            output += input[i - 1] + str(count)\n",
    "            count = 1\n",
    "    \n",
    "    output += input[i] + str(count)\n",
    "    \n",
    "    if len(output) > len(input):\n",
    "        return input\n",
    "    else:\n",
    "        return output"
   ]
  },
  {
   "cell_type": "markdown",
   "metadata": {},
   "source": [
    "#### Test cases\n",
    "\n",
    "N.b. A missing input will automatically result in an error message."
   ]
  },
  {
   "cell_type": "code",
   "execution_count": 48,
   "metadata": {},
   "outputs": [
    {
     "name": "stdout",
     "output_type": "stream",
     "text": [
      "1 ERROR: Input is not a string.\n",
      "2 ERROR: Input is not a string.\n",
      "3 a\n",
      "4 abc\n",
      "5 a3b2c1\n",
      "6 a16b11C1c2b2a2\n"
     ]
    }
   ],
   "source": [
    "print(1, string_compression_1(True))\n",
    "print(2, string_compression_1(123))\n",
    "print(3, string_compression_1('a'))\n",
    "print(4, string_compression_1('abc'))\n",
    "print(5, string_compression_1('aaabbc'))\n",
    "print(6, string_compression_1('aaaaaaaaaaaaaaaabbbbbbbbbbbCccbbaa'))"
   ]
  }
 ],
 "metadata": {
  "kernelspec": {
   "display_name": "Python 3",
   "language": "python",
   "name": "python3"
  },
  "language_info": {
   "codemirror_mode": {
    "name": "ipython",
    "version": 3
   },
   "file_extension": ".py",
   "mimetype": "text/x-python",
   "name": "python",
   "nbconvert_exporter": "python",
   "pygments_lexer": "ipython3",
   "version": "3.7.6"
  }
 },
 "nbformat": 4,
 "nbformat_minor": 4
}
