{
 "cells": [
  {
   "cell_type": "markdown",
   "metadata": {},
   "source": [
    "# Zero matrix\n",
    "\n",
    "## Problem statement\n",
    "\n",
    "Write an algorithm such that if an element in an $M*M$ matrix is 0, its entire row and column are set to 0."
   ]
  },
  {
   "cell_type": "markdown",
   "metadata": {},
   "source": [
    "## Import packages"
   ]
  },
  {
   "cell_type": "code",
   "execution_count": 7,
   "metadata": {},
   "outputs": [],
   "source": [
    "import numpy as np"
   ]
  },
  {
   "cell_type": "markdown",
   "metadata": {},
   "source": [
    "## Solution 1\n",
    "\n",
    "Assume the input is given as a list of lists. Iterate through each element in the matrix and, if it is zero, set the row and column of that element to zero.\n",
    "\n",
    "This is a brute force method that involves a lot of duplicated work and no optimisation. Time complexity: $O(N^2)$"
   ]
  },
  {
   "cell_type": "code",
   "execution_count": 48,
   "metadata": {},
   "outputs": [],
   "source": [
    "def zero_matrix_1(input_mat):\n",
    "    'Sets the column and row of any matrix element with 0 to 0.'\n",
    "    \n",
    "    if len(input_mat) != len(input_mat[0]): return 'ERROR: Input is not a square matrix.'\n",
    "    \n",
    "    input_mat = np.matrix(input_mat)\n",
    "    output_mat = np.matrix(input_mat)\n",
    "    \n",
    "    for i in range(len(output_mat)):\n",
    "        for j in range(len(output_mat)):\n",
    "            if input_mat[i, j] == 0:\n",
    "                output_mat[i, :] = 0\n",
    "                output_mat[:, j] = 0\n",
    "    \n",
    "    return output_mat"
   ]
  },
  {
   "cell_type": "markdown",
   "metadata": {},
   "source": [
    "#### Test cases"
   ]
  },
  {
   "cell_type": "code",
   "execution_count": 52,
   "metadata": {},
   "outputs": [
    {
     "name": "stdout",
     "output_type": "stream",
     "text": [
      "ERROR: Input is not a square matrix.\n",
      "[[1 0]\n",
      " [0 0]]\n",
      "[[1 0 3]\n",
      " [4 0 6]\n",
      " [0 0 0]]\n",
      "[[1 2]\n",
      " [3 4]]\n",
      "[[ 0  0  0  0]\n",
      " [ 5  0  0  8]\n",
      " [ 0  0  0  0]\n",
      " [13  0  0 16]]\n"
     ]
    }
   ],
   "source": [
    "print(zero_matrix_1([[1, 2, 3], [4, 5, 6]]))\n",
    "print(zero_matrix_1([[1, 3], [3, 0]]))\n",
    "print(zero_matrix_1([[1, 2, 3], [4, 5, 6], [7, 0, 9]]))\n",
    "print(zero_matrix_1([[1, 2], [3, 4]]))\n",
    "print(zero_matrix_1([[1, 0, 3, 4], [5, 6, 7, 8], [9, 10, 0, 12], [13, 14, 15, 16]]))"
   ]
  },
  {
   "cell_type": "markdown",
   "metadata": {},
   "source": [
    "## Solution 2\n",
    "\n",
    "Assume the input is given as a list of lists. Iterate through each row. If a row contains a zero, set that row equal to zero. Repeat this for columns.\n",
    "\n",
    "Time complexity: $O(N)$"
   ]
  },
  {
   "cell_type": "code",
   "execution_count": 57,
   "metadata": {},
   "outputs": [],
   "source": [
    "def zero_matrix_2(input_mat):\n",
    "    'Sets the column and row of any matrix element with 0 to 0.'\n",
    "    \n",
    "    if len(input_mat) != len(input_mat[0]): return 'ERROR: Input is not a square matrix.'\n",
    "    \n",
    "    input_mat = np.matrix(input_mat)\n",
    "    output_mat = np.matrix(input_mat)\n",
    "    \n",
    "    for i in range(len(output_mat)):\n",
    "        if 0 in input_mat[i, :]:\n",
    "            output_mat[i, :] = 0\n",
    "    \n",
    "    for j in range(len(output_mat)):\n",
    "        if 0 in input_mat[:, j]:\n",
    "            output_mat[:, j] = 0\n",
    "    \n",
    "    return output_mat"
   ]
  },
  {
   "cell_type": "markdown",
   "metadata": {},
   "source": [
    "#### Test cases"
   ]
  },
  {
   "cell_type": "code",
   "execution_count": 58,
   "metadata": {},
   "outputs": [
    {
     "name": "stdout",
     "output_type": "stream",
     "text": [
      "ERROR: Input is not a square matrix.\n",
      "[[1 0]\n",
      " [0 0]]\n",
      "[[1 0 3]\n",
      " [4 0 6]\n",
      " [0 0 0]]\n",
      "[[1 2]\n",
      " [3 4]]\n",
      "[[ 0  0  0  0]\n",
      " [ 5  0  0  8]\n",
      " [ 0  0  0  0]\n",
      " [13  0  0 16]]\n"
     ]
    }
   ],
   "source": [
    "print(zero_matrix_2([[1, 2, 3], [4, 5, 6]]))\n",
    "print(zero_matrix_2([[1, 3], [3, 0]]))\n",
    "print(zero_matrix_2([[1, 2, 3], [4, 5, 6], [7, 0, 9]]))\n",
    "print(zero_matrix_2([[1, 2], [3, 4]]))\n",
    "print(zero_matrix_2([[1, 0, 3, 4], [5, 6, 7, 8], [9, 10, 0, 12], [13, 14, 15, 16]]))"
   ]
  }
 ],
 "metadata": {
  "kernelspec": {
   "display_name": "Python 3",
   "language": "python",
   "name": "python3"
  },
  "language_info": {
   "codemirror_mode": {
    "name": "ipython",
    "version": 3
   },
   "file_extension": ".py",
   "mimetype": "text/x-python",
   "name": "python",
   "nbconvert_exporter": "python",
   "pygments_lexer": "ipython3",
   "version": "3.7.6"
  }
 },
 "nbformat": 4,
 "nbformat_minor": 4
}
