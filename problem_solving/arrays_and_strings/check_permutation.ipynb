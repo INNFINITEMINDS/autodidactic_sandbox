{
 "cells": [
  {
   "cell_type": "markdown",
   "metadata": {},
   "source": [
    "# Check Permutation"
   ]
  },
  {
   "cell_type": "markdown",
   "metadata": {},
   "source": [
    "## Problem statement\n",
    "\n",
    "Given two strings, write an algorithm to determine if one is a permutation of another."
   ]
  },
  {
   "cell_type": "markdown",
   "metadata": {},
   "source": [
    "## Solution 1\n",
    "\n",
    "Create a dictionary of the characters and counts of the characters in each string. Check if the dictionaries are equal.\n",
    "\n",
    "Time complexity: $O(N)$"
   ]
  },
  {
   "cell_type": "code",
   "execution_count": 13,
   "metadata": {},
   "outputs": [],
   "source": [
    "def check_permutation_1(string_1, string_2):\n",
    "    'Determines whether one string is a permutation of another.'\n",
    "    \n",
    "    # Check that both arguments are strings.\n",
    "    val_result_1 = isinstance(string_1, str)\n",
    "    val_result_2 = isinstance(string_2, str)\n",
    "    if val_result_1 + val_result_2 != 2:\n",
    "        return 'ERROR: One or both inputs are invalid.'\n",
    "    \n",
    "    # Check that both strings are of the same length.\n",
    "    if len(string_1) != len(string_2): return False\n",
    "    \n",
    "    # Create count dictionaries.\n",
    "    string_dict_1 = dict(zip(list(string_1), [0 for i in range(len(string_1))]))\n",
    "    string_dict_2 = dict(zip(list(string_2), [0 for i in range(len(string_2))]))\n",
    "    \n",
    "    for i in range(len(string_1)):\n",
    "        string_dict_1[string_1[i]] += 1\n",
    "        string_dict_2[string_2[i]] += 1\n",
    "        \n",
    "    # If dictionaries are not identical, there must be different characters in one of the strings, so return False.\n",
    "    if string_dict_1 != string_dict_2: return False\n",
    "    \n",
    "    return True"
   ]
  },
  {
   "cell_type": "markdown",
   "metadata": {},
   "source": [
    "#### Test cases"
   ]
  },
  {
   "cell_type": "code",
   "execution_count": 14,
   "metadata": {},
   "outputs": [
    {
     "name": "stdout",
     "output_type": "stream",
     "text": [
      "ERROR: One or both inputs are invalid.\n",
      "ERROR: One or both inputs are invalid.\n",
      "False\n",
      "False\n",
      "True\n",
      "True\n"
     ]
    }
   ],
   "source": [
    "print(check_permutation_1(123, '123'))\n",
    "print(check_permutation_1('True', True))\n",
    "print(check_permutation_1('abc', 'def'))\n",
    "print(check_permutation_1('abc', 'abcc'))\n",
    "print(check_permutation_1('abc', 'abc'))\n",
    "print(check_permutation_1('abc 123!', 'abc 123!'))"
   ]
  },
  {
   "cell_type": "code",
   "execution_count": null,
   "metadata": {},
   "outputs": [],
   "source": []
  }
 ],
 "metadata": {
  "kernelspec": {
   "display_name": "Python 3",
   "language": "python",
   "name": "python3"
  },
  "language_info": {
   "codemirror_mode": {
    "name": "ipython",
    "version": 3
   },
   "file_extension": ".py",
   "mimetype": "text/x-python",
   "name": "python",
   "nbconvert_exporter": "python",
   "pygments_lexer": "ipython3",
   "version": "3.7.6"
  }
 },
 "nbformat": 4,
 "nbformat_minor": 4
}
