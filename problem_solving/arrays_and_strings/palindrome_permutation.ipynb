{
 "cells": [
  {
   "cell_type": "markdown",
   "metadata": {},
   "source": [
    "# Palindrome Permutation\n",
    "\n",
    "## Problem statement\n",
    "\n",
    "Given a string, write a function to check if it is a permutation of a palindrome. A palindrome is a word or phrase that is the same forwards and backwards. A permutation is a rearrangement of letters. The palindrome does not need to be limited to just dictionary words."
   ]
  },
  {
   "cell_type": "markdown",
   "metadata": {},
   "source": [
    "## Solution 1\n",
    "\n",
    "Create a count-dictionary (i.e. hash table) for the input string. There are two possible cases if the input string is a permutation of palindrome. If the string has an even number of letters, each of the letters in the dictionary must have an even count. If the string has an odd number of letters, each of the letters except one must have an even number of letters. Ignore casing and non-letter characters."
   ]
  },
  {
   "cell_type": "code",
   "execution_count": 94,
   "metadata": {},
   "outputs": [],
   "source": [
    "def palindrome_permutation_1(string):\n",
    "    'Determines whether the string is a permutation of a palindrome.'\n",
    "    \n",
    "    # Check that the input is actually a string.\n",
    "    val_res = isinstance(string, str)\n",
    "    if val_res == False: return 'ERROR: The input is not a string.'\n",
    "    \n",
    "    # Seeing as case doesn't matter, force all characters to be lower case.\n",
    "    string = string.lower()\n",
    "    \n",
    "    # List containing all the elements of the alphabet.\n",
    "    alphabet = [chr(letter) for letter in range(ord('a'), ord('z') + 1)]\n",
    "    \n",
    "    # Only keep the characters if they are letters.\n",
    "    string = [character for character in string if character in alphabet]\n",
    "    \n",
    "    # Create the count-dictionary.\n",
    "    count_dict = dict(zip(alphabet, [0] * 26))\n",
    "    for i in range(len(string)):\n",
    "        if string[i] in count_dict.keys():\n",
    "            count_dict[string[i]] += 1\n",
    "    \n",
    "    is_count_odd = [count % 2 != 0 for count in count_dict.values()]\n",
    "    #print(is_count_odd)\n",
    "    if sum(is_count_odd) <= 1:\n",
    "        return True\n",
    "    else:\n",
    "        return False"
   ]
  },
  {
   "cell_type": "markdown",
   "metadata": {},
   "source": [
    "#### Test cases\n",
    "\n",
    "N.b. the function will automatically return an  error if no argument is given."
   ]
  },
  {
   "cell_type": "code",
   "execution_count": 96,
   "metadata": {},
   "outputs": [
    {
     "name": "stdout",
     "output_type": "stream",
     "text": [
      "1 ERROR: The input is not a string.\n",
      "2 ERROR: The input is not a string.\n",
      "3 True\n",
      "4 True\n",
      "5 False\n",
      "6 True\n"
     ]
    }
   ],
   "source": [
    "print(1, palindrome_permutation_1(1))\n",
    "print(2, palindrome_permutation_1(True))\n",
    "print(3, palindrome_permutation_1('ABcba'))\n",
    "print(4, palindrome_permutation_1('a b c b    a'))\n",
    "print(5, palindrome_permutation_1('abcd'))\n",
    "print(6, palindrome_permutation_1('abcba123'))"
   ]
  },
  {
   "cell_type": "markdown",
   "metadata": {},
   "source": [
    "## Solution 2\n",
    "\n",
    "Same solution as above except use the Counter sub-class to create the count-dictionary (i.e. hash table)."
   ]
  },
  {
   "cell_type": "code",
   "execution_count": 99,
   "metadata": {},
   "outputs": [],
   "source": [
    "from collections import Counter\n",
    "\n",
    "def palindrome_permutation_2(string):\n",
    "    'Determines whether the string is a permutation of a palindrome.'\n",
    "    \n",
    "    # Check that the input is actually a string.\n",
    "    val_res = isinstance(string, str)\n",
    "    if val_res == False: return 'ERROR: The input is not a string.'\n",
    "    \n",
    "    # Seeing as case doesn't matter, force all characters to be lower case.\n",
    "    string = string.lower()\n",
    "    \n",
    "    alphabet = [chr(letter) for letter in range(ord('a'), ord('z') + 1)]\n",
    "    \n",
    "    # Only keep the characters if they are letters.\n",
    "    string = [character for character in string if character in alphabet]\n",
    "    \n",
    "    # Create the hash table.\n",
    "    count_obj = Counter(string)\n",
    "    \n",
    "    is_count_odd = [count % 2 != 0 for count in count_obj.values()]\n",
    "    \n",
    "    if sum(is_count_odd) <= 1:\n",
    "        return True\n",
    "    else:\n",
    "        return False"
   ]
  },
  {
   "cell_type": "markdown",
   "metadata": {},
   "source": [
    "#### Test cases\n",
    "\n",
    "N.b. the function will automatically return an  error if no argument is given."
   ]
  },
  {
   "cell_type": "code",
   "execution_count": 100,
   "metadata": {},
   "outputs": [
    {
     "name": "stdout",
     "output_type": "stream",
     "text": [
      "1 ERROR: The input is not a string.\n",
      "2 ERROR: The input is not a string.\n",
      "3 True\n",
      "4 True\n",
      "5 False\n",
      "6 True\n"
     ]
    }
   ],
   "source": [
    "print(1, palindrome_permutation_2(1))\n",
    "print(2, palindrome_permutation_2(True))\n",
    "print(3, palindrome_permutation_2('ABcba'))\n",
    "print(4, palindrome_permutation_2('a b c b    a'))\n",
    "print(5, palindrome_permutation_2('abcd'))\n",
    "print(6, palindrome_permutation_2('abcba123'))"
   ]
  }
 ],
 "metadata": {
  "kernelspec": {
   "display_name": "Python 3",
   "language": "python",
   "name": "python3"
  },
  "language_info": {
   "codemirror_mode": {
    "name": "ipython",
    "version": 3
   },
   "file_extension": ".py",
   "mimetype": "text/x-python",
   "name": "python",
   "nbconvert_exporter": "python",
   "pygments_lexer": "ipython3",
   "version": "3.7.6"
  }
 },
 "nbformat": 4,
 "nbformat_minor": 4
}
