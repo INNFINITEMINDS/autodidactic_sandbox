{
 "cells": [
  {
   "cell_type": "markdown",
   "metadata": {},
   "source": [
    "# String rotation\n",
    "\n",
    "## Problem statement\n",
    "\n",
    "Assume you have a method isSubstring which checks if one word is a substring of another. Given two strings, $s1$ and $s2$, write code to check if $s2$ is a rotation of $s1$ using only one call to isSubstring (e.g. 'waterbottle' is a rotation of 'erbottelwat')."
   ]
  },
  {
   "cell_type": "markdown",
   "metadata": {},
   "source": [
    "## Solution 1\n",
    "\n",
    "Turn the strings into lists. Iterate through the characters in s2. In each iteration, make up a new string by adding the bit before to the bit after, and check whether the new string is equal to s1. If it is, then it is a rotation."
   ]
  },
  {
   "cell_type": "code",
   "execution_count": 27,
   "metadata": {},
   "outputs": [],
   "source": [
    "def string_rotation_1(s1, s2):\n",
    "    'Checks if s2 is a rotation of s1.'\n",
    "    \n",
    "    # Check s1 and s2 are strings.\n",
    "    val_res_1 = isinstance(s1, str)\n",
    "    val_res_2 = isinstance(s2, str)\n",
    "    if val_res_1 + val_res_2 != 2: return 'ERROR: At least one of the inputs is not a string.'\n",
    "    \n",
    "    # Check s1 and s2 have the same length.\n",
    "    if len(s1) != len(s2): return False\n",
    "    \n",
    "    list_s1 = list(s1)\n",
    "    list_s2 = list(s2)\n",
    "    n = len(list_s1)\n",
    "    \n",
    "    for i in range(0, n):\n",
    "        if s1 == s2[i : n] + s2[0 : i]:\n",
    "            return True\n",
    "    \n",
    "    return False"
   ]
  },
  {
   "cell_type": "markdown",
   "metadata": {},
   "source": [
    "#### Test cases"
   ]
  },
  {
   "cell_type": "code",
   "execution_count": 28,
   "metadata": {},
   "outputs": [
    {
     "name": "stdout",
     "output_type": "stream",
     "text": [
      "ERROR: At least one of the inputs is not a string.\n",
      "ERROR: At least one of the inputs is not a string.\n",
      "False\n",
      "True\n",
      "True\n",
      "True\n",
      "True\n"
     ]
    }
   ],
   "source": [
    "print(string_rotation_1(1, 'abcd'))\n",
    "print(string_rotation_1('abcd', True))\n",
    "print(string_rotation_1('abcd', 'abcde'))\n",
    "print(string_rotation_1('abcd', 'abcd'))\n",
    "print(string_rotation_1('bcda', 'abcd'))\n",
    "print(string_rotation_1('abcd', 'cdab'))\n",
    "print(string_rotation_1('abcd', 'dabc'))"
   ]
  }
 ],
 "metadata": {
  "kernelspec": {
   "display_name": "Python 3",
   "language": "python",
   "name": "python3"
  },
  "language_info": {
   "codemirror_mode": {
    "name": "ipython",
    "version": 3
   },
   "file_extension": ".py",
   "mimetype": "text/x-python",
   "name": "python",
   "nbconvert_exporter": "python",
   "pygments_lexer": "ipython3",
   "version": "3.7.6"
  }
 },
 "nbformat": 4,
 "nbformat_minor": 4
}
