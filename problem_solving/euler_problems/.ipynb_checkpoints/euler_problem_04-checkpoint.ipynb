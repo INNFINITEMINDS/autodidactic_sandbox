{
 "cells": [
  {
   "cell_type": "markdown",
   "metadata": {},
   "source": [
    "# Euler Problems\n",
    "\n",
    "Euler problems found [here](https://projecteuler.net/archives).<br>\n",
    "Numerical answers found [here](https://github.com/luckytoilet/projecteuler-solutions/blob/master/Solutions.md).\n",
    "\n",
    "## Import packages"
   ]
  },
  {
   "cell_type": "code",
   "execution_count": 1,
   "metadata": {},
   "outputs": [],
   "source": [
    "import numpy as np\n",
    "import math\n",
    "import time"
   ]
  },
  {
   "cell_type": "markdown",
   "metadata": {},
   "source": [
    "## Problem 4\n",
    "A palindromic number reads the same both ways.\n",
    "The largest palindrome made from the product of two 2-digit numbers is 9009 = 91 × 99.\n",
    "\n",
    "Find the largest palindrome made from the product of two 3-digit numbers.\n",
    "\n",
    "#### Solution"
   ]
  },
  {
   "cell_type": "code",
   "execution_count": 2,
   "metadata": {},
   "outputs": [],
   "source": [
    "def is_palindrome(x):\n",
    "    'Returns True if x is a palindrome, false if not.'\n",
    "    x_string_list = list(str(x))\n",
    "    x_string_list_reversed = list(x_string_list)[::-1]\n",
    "    if x_string_list == x_string_list_reversed:\n",
    "        return True\n",
    "    else:\n",
    "        return False\n",
    "\n",
    "def solve_problem_4(n):\n",
    "    'Returns the largest palindrome made from the product of two n-digit numbers.'\n",
    "    tic = time.perf_counter()\n",
    "    a = int('9' * n)\n",
    "    b = a\n",
    "    solution = 1\n",
    "    \n",
    "    for x in range(a, 1, -1):\n",
    "        for y in range(b, 1, -1):\n",
    "            number = x * y\n",
    "            #print(x, y, number)\n",
    "            if is_palindrome(number):\n",
    "                if number > solution:\n",
    "                    solution = number\n",
    "    toc = time.perf_counter()\n",
    "    return solution, round(toc - tic, 4)"
   ]
  },
  {
   "cell_type": "markdown",
   "metadata": {},
   "source": [
    "#### Test Case\n",
    "\n",
    "$n = 2$"
   ]
  },
  {
   "cell_type": "code",
   "execution_count": 3,
   "metadata": {},
   "outputs": [
    {
     "name": "stdout",
     "output_type": "stream",
     "text": [
      "9009\n",
      "Time taken: 0.0103 seconds\n"
     ]
    }
   ],
   "source": [
    "test_case, duration = solve_problem_4(2)\n",
    "print(test_case)\n",
    "print('Time taken:', duration, 'seconds')"
   ]
  },
  {
   "cell_type": "markdown",
   "metadata": {},
   "source": [
    "#### Final result\n",
    "\n",
    "$n = 3$"
   ]
  },
  {
   "cell_type": "code",
   "execution_count": 4,
   "metadata": {},
   "outputs": [
    {
     "name": "stdout",
     "output_type": "stream",
     "text": [
      "906609\n",
      "Time taken: 0.919 seconds\n"
     ]
    }
   ],
   "source": [
    "final_result, duration = solve_problem_4(3)\n",
    "print(final_result)\n",
    "print('Time taken:', duration, 'seconds')"
   ]
  }
 ],
 "metadata": {
  "kernelspec": {
   "display_name": "Python 3",
   "language": "python",
   "name": "python3"
  },
  "language_info": {
   "codemirror_mode": {
    "name": "ipython",
    "version": 3
   },
   "file_extension": ".py",
   "mimetype": "text/x-python",
   "name": "python",
   "nbconvert_exporter": "python",
   "pygments_lexer": "ipython3",
   "version": "3.7.6"
  }
 },
 "nbformat": 4,
 "nbformat_minor": 4
}
