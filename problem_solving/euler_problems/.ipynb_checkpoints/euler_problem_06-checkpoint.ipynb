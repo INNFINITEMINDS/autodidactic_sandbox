{
 "cells": [
  {
   "cell_type": "markdown",
   "metadata": {},
   "source": [
    "# Euler Problems\n",
    "\n",
    "Euler problems found [here](https://projecteuler.net/archives).<br>\n",
    "Numerical answers found [here](https://github.com/luckytoilet/projecteuler-solutions/blob/master/Solutions.md).\n",
    "\n",
    "## Import packages"
   ]
  },
  {
   "cell_type": "code",
   "execution_count": 1,
   "metadata": {},
   "outputs": [],
   "source": [
    "import numpy as np\n",
    "import math\n",
    "import time"
   ]
  },
  {
   "cell_type": "markdown",
   "metadata": {},
   "source": [
    "## Problem 6\n",
    "\n",
    "The sum of the squares of the first ten natural numbers is,\n",
    "$1^{2} + 2^{2} + ... + 10^{2} = 385$\n",
    "\n",
    "The square of the sum of the first ten natural numbers is,\n",
    "$(1+2+...+10)^2=55^2=3025$\n",
    "\n",
    "Hence the difference between the sum of the squares of the first ten natural numbers and the square of the sum is\n",
    "$3025 − 385 = 2640$\n",
    "\n",
    "Find the difference between the sum of the squares of the first one hundred natural numbers and the square of the sum.\n",
    "\n",
    "#### Solution"
   ]
  },
  {
   "cell_type": "code",
   "execution_count": 2,
   "metadata": {},
   "outputs": [],
   "source": [
    "def solve_problem_6(n):\n",
    "    'Returns the difference between the sum of the squares of the first n natural numbters and the square of the sum.'\n",
    "    tic = time.perf_counter()\n",
    "    nat_nums = np.arange(1, n + 1)\n",
    "    nat_nums_sq = nat_nums ** 2\n",
    "    nat_nums_sq_sum = nat_nums_sq.sum()\n",
    "    \n",
    "    nat_nums_sum = nat_nums.sum()\n",
    "    nat_nums_sum_sq = nat_nums_sum ** 2\n",
    "    \n",
    "    solution = nat_nums_sum_sq - nat_nums_sq_sum\n",
    "    \n",
    "    toc = time.perf_counter()\n",
    "    return solution, round(toc - tic, 4)"
   ]
  },
  {
   "cell_type": "markdown",
   "metadata": {},
   "source": [
    "#### Test case\n",
    "\n",
    "$n = 10$"
   ]
  },
  {
   "cell_type": "code",
   "execution_count": 3,
   "metadata": {},
   "outputs": [
    {
     "name": "stdout",
     "output_type": "stream",
     "text": [
      "2640\n",
      "Time taken: 0.0001 seconds\n"
     ]
    }
   ],
   "source": [
    "test_case, duration = solve_problem_6(10)\n",
    "print(test_case)\n",
    "print('Time taken:', duration, 'seconds')"
   ]
  },
  {
   "cell_type": "markdown",
   "metadata": {},
   "source": [
    "#### Final result\n",
    "\n",
    "$n = 100$"
   ]
  },
  {
   "cell_type": "code",
   "execution_count": 4,
   "metadata": {},
   "outputs": [
    {
     "name": "stdout",
     "output_type": "stream",
     "text": [
      "25164150\n",
      "Time taken: 0.0001 seconds\n"
     ]
    }
   ],
   "source": [
    "final_result, duration = solve_problem_6(100)\n",
    "print(final_result)\n",
    "print('Time taken:', duration, 'seconds')"
   ]
  }
 ],
 "metadata": {
  "kernelspec": {
   "display_name": "Python 3",
   "language": "python",
   "name": "python3"
  },
  "language_info": {
   "codemirror_mode": {
    "name": "ipython",
    "version": 3
   },
   "file_extension": ".py",
   "mimetype": "text/x-python",
   "name": "python",
   "nbconvert_exporter": "python",
   "pygments_lexer": "ipython3",
   "version": "3.7.6"
  }
 },
 "nbformat": 4,
 "nbformat_minor": 4
}
