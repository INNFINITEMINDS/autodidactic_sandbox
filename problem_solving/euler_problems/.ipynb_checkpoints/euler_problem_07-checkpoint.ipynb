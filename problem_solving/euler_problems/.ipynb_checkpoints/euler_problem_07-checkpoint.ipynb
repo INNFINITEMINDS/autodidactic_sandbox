{
 "cells": [
  {
   "cell_type": "markdown",
   "metadata": {},
   "source": [
    "# Euler Problems\n",
    "\n",
    "Euler problems found [here](https://projecteuler.net/archives).<br>\n",
    "Numerical answers found [here](https://github.com/luckytoilet/projecteuler-solutions/blob/master/Solutions.md).\n",
    "\n",
    "## Import packages"
   ]
  },
  {
   "cell_type": "code",
   "execution_count": 1,
   "metadata": {},
   "outputs": [],
   "source": [
    "import numpy as np\n",
    "import math\n",
    "import time"
   ]
  },
  {
   "cell_type": "markdown",
   "metadata": {},
   "source": [
    "## Problem 7\n",
    "By listing the first six prime numbers: 2, 3, 5, 7, 11, and 13, we can see that the 6th prime is 13.\n",
    "\n",
    "What is the 10,001st prime number?\n",
    "\n",
    "#### Solution a"
   ]
  },
  {
   "cell_type": "code",
   "execution_count": 2,
   "metadata": {},
   "outputs": [],
   "source": [
    "def solve_problem_7a(n):\n",
    "    'Returns the nth prime number using Sieve of Eratosthenes.'\n",
    "    'Uses only vectorised arrays.'\n",
    "    tic = time.perf_counter()\n",
    "    upper_limit = 200000\n",
    "    is_prime = np.array([True] * (upper_limit - 1))\n",
    "    all_nums = np.arange(2, upper_limit + 1)\n",
    "    prime_count = 0\n",
    "    for i in range(2, upper_limit):\n",
    "        if is_prime[i-2] == True:\n",
    "            highest_prime = i\n",
    "            prime_count += 1\n",
    "            if prime_count == n:\n",
    "                toc = time.perf_counter()\n",
    "                return highest_prime, round(toc - tic, 4)\n",
    "    \n",
    "        is_prime[i-1:] = np.logical_and(is_prime[i-1:], np.invert(all_nums[i-1:] % i == 0))"
   ]
  },
  {
   "cell_type": "markdown",
   "metadata": {},
   "source": [
    "#### Test case\n",
    "\n",
    "$n = 6$"
   ]
  },
  {
   "cell_type": "code",
   "execution_count": 3,
   "metadata": {},
   "outputs": [
    {
     "name": "stdout",
     "output_type": "stream",
     "text": [
      "13\n",
      "Time taken: 0.0406 seconds\n"
     ]
    }
   ],
   "source": [
    "test_case, duration = solve_problem_7a(6)\n",
    "print(test_case)\n",
    "print('Time taken:', duration, 'seconds')"
   ]
  },
  {
   "cell_type": "markdown",
   "metadata": {},
   "source": [
    "#### Final result\n",
    "\n",
    "$n = 10001$"
   ]
  },
  {
   "cell_type": "code",
   "execution_count": 4,
   "metadata": {},
   "outputs": [
    {
     "name": "stdout",
     "output_type": "stream",
     "text": [
      "104743\n",
      "Time taken: 169.414 seconds\n"
     ]
    }
   ],
   "source": [
    "final_result, duration = solve_problem_7a(10001)\n",
    "print(final_result)\n",
    "print('Time taken:', duration, 'seconds')"
   ]
  },
  {
   "cell_type": "markdown",
   "metadata": {},
   "source": [
    "#### Solution b"
   ]
  },
  {
   "cell_type": "code",
   "execution_count": 5,
   "metadata": {},
   "outputs": [],
   "source": [
    "def solve_problem_7b(n):\n",
    "    'Returns the nth prime number using Sieve of Eratosthenes.'\n",
    "    'Uses combo of vectorised arrays with for loops.'\n",
    "    tic = time.perf_counter()\n",
    "    length_of_sieve = n**2\n",
    "    X = np.array([True] * (length_of_sieve - 1))\n",
    "    \n",
    "    prime_count =0\n",
    "    for i in range(2, length_of_sieve):\n",
    "        if X[i]:\n",
    "            prime_count += 1\n",
    "            if prime_count == n: \n",
    "                toc = time.perf_counter()\n",
    "                return i, round(toc - tic, 4)\n",
    "            for j in range(i ** 2 , length_of_sieve-1, i):\n",
    "                X[j] = False"
   ]
  },
  {
   "cell_type": "markdown",
   "metadata": {},
   "source": [
    "#### Test case\n",
    "\n",
    "$n = 6$"
   ]
  },
  {
   "cell_type": "code",
   "execution_count": 6,
   "metadata": {},
   "outputs": [
    {
     "name": "stdout",
     "output_type": "stream",
     "text": [
      "13\n",
      "Time taken: 0.0 seconds\n"
     ]
    }
   ],
   "source": [
    "test_case, duration = solve_problem_7b(6)\n",
    "print(test_case)\n",
    "print('Time taken:', duration, 'seconds')"
   ]
  },
  {
   "cell_type": "markdown",
   "metadata": {},
   "source": [
    "#### Final result\n",
    "\n",
    "$n = 10001$"
   ]
  },
  {
   "cell_type": "code",
   "execution_count": 7,
   "metadata": {},
   "outputs": [
    {
     "name": "stdout",
     "output_type": "stream",
     "text": [
      "104743\n",
      "Time taken: 26.5376 seconds\n"
     ]
    }
   ],
   "source": [
    "final_result, duration = solve_problem_7b(10001)\n",
    "print(final_result)\n",
    "print('Time taken:', duration, 'seconds')"
   ]
  }
 ],
 "metadata": {
  "kernelspec": {
   "display_name": "Python 3",
   "language": "python",
   "name": "python3"
  },
  "language_info": {
   "codemirror_mode": {
    "name": "ipython",
    "version": 3
   },
   "file_extension": ".py",
   "mimetype": "text/x-python",
   "name": "python",
   "nbconvert_exporter": "python",
   "pygments_lexer": "ipython3",
   "version": "3.7.6"
  }
 },
 "nbformat": 4,
 "nbformat_minor": 4
}
