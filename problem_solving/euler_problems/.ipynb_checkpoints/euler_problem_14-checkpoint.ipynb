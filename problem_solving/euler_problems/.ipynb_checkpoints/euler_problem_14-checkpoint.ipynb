{
 "cells": [
  {
   "cell_type": "markdown",
   "metadata": {},
   "source": [
    "# Euler Problems\n",
    "\n",
    "Euler problems found [here](https://projecteuler.net/archives).<br>\n",
    "Numerical answers found [here](https://github.com/luckytoilet/projecteuler-solutions/blob/master/Solutions.md).\n",
    "\n",
    "## Import packages"
   ]
  },
  {
   "cell_type": "code",
   "execution_count": 1,
   "metadata": {},
   "outputs": [],
   "source": [
    "import numpy as np\n",
    "import math\n",
    "import time"
   ]
  },
  {
   "cell_type": "markdown",
   "metadata": {},
   "source": [
    "## Problem 14\n",
    "The following iterative sequence is defined for the set of positive integers:\n",
    "    \n",
    "$n → n/2$ ($n$ is even)<br>\n",
    "$n → 3n + 1$ ($n$ is odd)\n",
    "\n",
    "Using the rule above and starting with $13$, we generate the following sequence:\n",
    "    \n",
    "$13 → 40 → 20 → 10 → 5 → 16 → 8 → 4 → 2 → 1$\n",
    "\n",
    "It can be seen that this sequence (starting at $13$ and finishing at $1$) contains $10$ terms.\n",
    "Although it has not been proved yet (Collatz Problem), it is thought that all starting numbers finish at $1$.\n",
    "Which starting number, under one million, produces the longest chain?\n",
    "NOTE: Once the chain starts the terms are allowed to go above one million.\n",
    "\n",
    "## Solution 14"
   ]
  },
  {
   "cell_type": "code",
   "execution_count": 2,
   "metadata": {},
   "outputs": [],
   "source": [
    "def solve_problem_14(m):\n",
    "    'Finds the number under one million that produces the longest chain in a Collatz sequence.'\n",
    "    tic = time.perf_counter()\n",
    "    chain_length = {n: 0 for n in range(1, m)}\n",
    "    \n",
    "    chain_length[1] = 1\n",
    "    chain_length[2] = 2\n",
    "    \n",
    "    for i in range(3, m, 1):\n",
    "        counter = 0\n",
    "        \n",
    "        original_number = i\n",
    "        \n",
    "        while i > 1:\n",
    "            if i < original_number:\n",
    "                chain_length[original_number] = chain_length[i] + counter\n",
    "                break\n",
    "\n",
    "            if i % 2 == 0:\n",
    "                i = i / 2\n",
    "                counter += 1\n",
    "            else:\n",
    "                i = 3 * i + 1\n",
    "                counter += 1\n",
    "\n",
    "    toc = time.perf_counter()\n",
    "    return list(chain_length.values()).index(max(chain_length.values())) + 1, round(toc - tic, 4)"
   ]
  },
  {
   "cell_type": "markdown",
   "metadata": {},
   "source": [
    "#### Final result"
   ]
  },
  {
   "cell_type": "code",
   "execution_count": 3,
   "metadata": {},
   "outputs": [
    {
     "name": "stdout",
     "output_type": "stream",
     "text": [
      "837799\n",
      "Time taken: 1.6293 seconds\n"
     ]
    }
   ],
   "source": [
    "final_result, duration = solve_problem_14(1000000)\n",
    "print(final_result)\n",
    "print('Time taken:', duration, 'seconds')"
   ]
  }
 ],
 "metadata": {
  "kernelspec": {
   "display_name": "Python 3",
   "language": "python",
   "name": "python3"
  },
  "language_info": {
   "codemirror_mode": {
    "name": "ipython",
    "version": 3
   },
   "file_extension": ".py",
   "mimetype": "text/x-python",
   "name": "python",
   "nbconvert_exporter": "python",
   "pygments_lexer": "ipython3",
   "version": "3.7.6"
  }
 },
 "nbformat": 4,
 "nbformat_minor": 4
}
