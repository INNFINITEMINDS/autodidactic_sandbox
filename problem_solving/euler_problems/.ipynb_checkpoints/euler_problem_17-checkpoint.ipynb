{
 "cells": [
  {
   "cell_type": "markdown",
   "metadata": {},
   "source": [
    "# Euler Problems\n",
    "\n",
    "Euler problems found [here](https://projecteuler.net/archives).<br>\n",
    "Numerical answers found [here](https://github.com/luckytoilet/projecteuler-solutions/blob/master/Solutions.md).\n",
    "\n",
    "## Import packages"
   ]
  },
  {
   "cell_type": "code",
   "execution_count": 1,
   "metadata": {},
   "outputs": [],
   "source": [
    "import numpy as np\n",
    "import math\n",
    "import time"
   ]
  },
  {
   "cell_type": "markdown",
   "metadata": {},
   "source": [
    "## Problem 17\n",
    "\n",
    "If the numbers 1 to 5 are written out in words: one, two, three, four, five, then there are 3 + 3 + 5 + 4 + 4 = 19 letters used in total.\n",
    "\n",
    "If all the numbers from 1 to 1000 (one thousand) inclusive were written out in words, how many letters would be used?\n",
    "\n",
    "NOTE: Do not count spaces or hyphens. For example, 342 (three hundred and forty-two) contains 23 letters and 115 (one hundred and fifteen) contains 20 letters. The use of \"and\" when writing out numbers is in compliance with British usage.\n",
    "\n",
    "#### Solution"
   ]
  },
  {
   "cell_type": "code",
   "execution_count": 2,
   "metadata": {},
   "outputs": [],
   "source": [
    "def solve_problem_17(n):\n",
    "    tic = time.perf_counter()\n",
    "    unique_words = {\n",
    "        1: 'one',\n",
    "        2: 'two',\n",
    "        3: 'three',\n",
    "        4: 'four',\n",
    "        5: 'five',\n",
    "        6: 'six',\n",
    "        7: 'seven',\n",
    "        8: 'eight',\n",
    "        9: 'nine',\n",
    "        10: 'ten',\n",
    "        11: 'eleven',\n",
    "        12: 'twelve',\n",
    "        13: 'thirteen',\n",
    "        14: 'fourteen',\n",
    "        15: 'fifteen',\n",
    "        16: 'sixteen',\n",
    "        17: 'seventeen',\n",
    "        18: 'eighteen',\n",
    "        19: 'nineteen',\n",
    "        20: 'twenty',\n",
    "        30: 'thirty',\n",
    "        40: 'forty',\n",
    "        50: 'fifty',\n",
    "        60: 'sixty',\n",
    "        70: 'seventy',\n",
    "        80: 'eighty',\n",
    "        90: 'ninety',\n",
    "        100: 'hundred'\n",
    "    }\n",
    "    result = 0\n",
    "    for i in range(1, n + 1):\n",
    "        result += count_letters(i, unique_words)\n",
    "    toc = time.perf_counter()\n",
    "    return result, round(toc - tic, 4)\n",
    "\n",
    "def count_letters(x, unique_words):\n",
    "    \n",
    "    if x == 1000: return 11\n",
    "    \n",
    "    number_letters = 0\n",
    "    if x > 99:\n",
    "        # Number of hundreds, e.g. 900 = 'nine'.\n",
    "        number_letters += len(unique_words[int((x - x % 100)/100)])\n",
    "        # 'hundred'\n",
    "        number_letters += len(unique_words[100])\n",
    "        if x % 100 == 0: return number_letters\n",
    "        # 'and'\n",
    "        number_letters += 3\n",
    "        \n",
    "        x = x % 100\n",
    "    \n",
    "    if x in unique_words.keys():\n",
    "        number_letters += len(unique_words[x])\n",
    "        return number_letters\n",
    "    \n",
    "    # e.g. 20 = 'twenty'\n",
    "    number_letters += len(unique_words[x - x % 10])\n",
    "    x = x % 10\n",
    "    \n",
    "    # e.g. 6 = 'six'\n",
    "    number_letters += len(unique_words[x])\n",
    "    \n",
    "    return number_letters"
   ]
  },
  {
   "cell_type": "markdown",
   "metadata": {},
   "source": [
    "#### Test case\n",
    "\n",
    "$n = 5$"
   ]
  },
  {
   "cell_type": "code",
   "execution_count": 3,
   "metadata": {},
   "outputs": [
    {
     "name": "stdout",
     "output_type": "stream",
     "text": [
      "19\n",
      "Time taken: 0.0 seconds\n"
     ]
    }
   ],
   "source": [
    "test_case, duration = solve_problem_17(5)\n",
    "print(test_case)\n",
    "print('Time taken:', duration, 'seconds')"
   ]
  },
  {
   "cell_type": "markdown",
   "metadata": {},
   "source": [
    "#### Final result\n",
    "\n",
    "$n = 1000$"
   ]
  },
  {
   "cell_type": "code",
   "execution_count": 4,
   "metadata": {},
   "outputs": [
    {
     "name": "stdout",
     "output_type": "stream",
     "text": [
      "21124\n",
      "Time taken: 0.0016 seconds\n"
     ]
    }
   ],
   "source": [
    "final_result, duration = solve_problem_17(1000)\n",
    "print(final_result)\n",
    "print('Time taken:', duration, 'seconds')"
   ]
  }
 ],
 "metadata": {
  "kernelspec": {
   "display_name": "Python 3",
   "language": "python",
   "name": "python3"
  },
  "language_info": {
   "codemirror_mode": {
    "name": "ipython",
    "version": 3
   },
   "file_extension": ".py",
   "mimetype": "text/x-python",
   "name": "python",
   "nbconvert_exporter": "python",
   "pygments_lexer": "ipython3",
   "version": "3.7.6"
  }
 },
 "nbformat": 4,
 "nbformat_minor": 4
}
