{
 "cells": [
  {
   "cell_type": "markdown",
   "metadata": {},
   "source": [
    "# Euler Problems\n",
    "\n",
    "Euler problems found [here](https://projecteuler.net/archives).<br>\n",
    "Numerical answers found [here](https://github.com/luckytoilet/projecteuler-solutions/blob/master/Solutions.md).\n",
    "\n",
    "## Import packages"
   ]
  },
  {
   "cell_type": "code",
   "execution_count": 1,
   "metadata": {},
   "outputs": [],
   "source": [
    "import numpy as np\n",
    "import math\n",
    "import time"
   ]
  },
  {
   "cell_type": "markdown",
   "metadata": {},
   "source": [
    "## Problem 26\n",
    "\n",
    "A unit fraction contains 1 in the numerator. The decimal representation of the unit fractions with denominators 2 to 10 are given:\n",
    "\n",
    "1/2\t= \t0.5<br>\n",
    "1/3\t= \t0.(3)<br>\n",
    "1/4\t= \t0.25<br>\n",
    "1/5\t= \t0.2<br>\n",
    "1/6\t= \t0.1(6)<br>\n",
    "1/7\t= \t0.(142857)<br>\n",
    "1/8\t= \t0.125<br>\n",
    "1/9\t= \t0.(1)<br>\n",
    "1/10\t= \t0.1\n",
    "\n",
    "Where 0.1(6) means 0.166666..., and has a 1-digit recurring cycle. It can be seen that 1/7 has a 6-digit recurring cycle.\n",
    "\n",
    "Find the value of d < 1000 for which 1/d contains the longest recurring cycle in its decimal fraction part.\n",
    "\n",
    "#### Solution"
   ]
  },
  {
   "cell_type": "code",
   "execution_count": 2,
   "metadata": {},
   "outputs": [],
   "source": [
    "def solve_problem_26(n):\n",
    "    \n",
    "    tic = time.perf_counter()\n",
    "    max_sequence = 2\n",
    "    \n",
    "    for i in range(2, n):\n",
    "        sequence = divide(i)\n",
    "        if sequence > max_sequence:\n",
    "            max_sequence = sequence\n",
    "            max_index = i\n",
    "            \n",
    "    toc = time.perf_counter()\n",
    "    \n",
    "    return max_index, round(toc - tic, 4)\n",
    "\n",
    "def divide(n):\n",
    "    'Calculates 1 / n, returning the length of any recurring cycle.'\n",
    "    \n",
    "    nom = 1\n",
    "    res = ''\n",
    "    test = []\n",
    "\n",
    "    while True:\n",
    "        digit = nom // n\n",
    "        res += str(digit)\n",
    "        remainder = nom % n\n",
    "        if remainder == 0:\n",
    "            return 0\n",
    "        if remainder in test:\n",
    "            return len(test) - test.index(remainder)\n",
    "        test.append(remainder)\n",
    "        nom = 10 * (nom % n)\n",
    "    \n",
    "    return test"
   ]
  },
  {
   "cell_type": "markdown",
   "metadata": {},
   "source": [
    "#### Test case\n",
    "\n",
    "Input: n = 10<br>\n",
    "Output: 7"
   ]
  },
  {
   "cell_type": "code",
   "execution_count": 3,
   "metadata": {},
   "outputs": [],
   "source": [
    "test_case, duration = solve_problem_26(10)\n",
    "print(test_case)\n",
    "print('Time taken:', duration, 'seconds')"
   ]
  },
  {
   "cell_type": "markdown",
   "metadata": {},
   "source": [
    "#### Final result\n",
    "\n",
    "Input: n = 1000<br>\n",
    "Output: 983"
   ]
  },
  {
   "cell_type": "code",
   "execution_count": 4,
   "metadata": {},
   "outputs": [
    {
     "name": "stdout",
     "output_type": "stream",
     "text": [
      "983\n",
      "Time taken: 0.2384 seconds\n"
     ]
    }
   ],
   "source": [
    "final_result, duration = solve_problem_26(1000)\n",
    "print(final_result)\n",
    "print('Time taken:', duration, 'seconds')"
   ]
  }
 ],
 "metadata": {
  "kernelspec": {
   "display_name": "Python 3",
   "language": "python",
   "name": "python3"
  },
  "language_info": {
   "codemirror_mode": {
    "name": "ipython",
    "version": 3
   },
   "file_extension": ".py",
   "mimetype": "text/x-python",
   "name": "python",
   "nbconvert_exporter": "python",
   "pygments_lexer": "ipython3",
   "version": "3.7.6"
  }
 },
 "nbformat": 4,
 "nbformat_minor": 4
}
