{
 "cells": [
  {
   "cell_type": "markdown",
   "metadata": {},
   "source": [
    "# Euler Problems\n",
    "\n",
    "Euler problems found [here](https://projecteuler.net/archives).<br>\n",
    "Numerical answers found [here](https://github.com/luckytoilet/projecteuler-solutions/blob/master/Solutions.md).\n",
    "\n",
    "## Import packages"
   ]
  },
  {
   "cell_type": "code",
   "execution_count": 1,
   "metadata": {},
   "outputs": [],
   "source": [
    "import numpy as np\n",
    "import math\n",
    "import time"
   ]
  },
  {
   "cell_type": "markdown",
   "metadata": {},
   "source": [
    "## Problem 27\n",
    "\n",
    "Euler discovered the remarkable quadratic formula:\n",
    "\n",
    "$n^2+n+41$\n",
    "\n",
    "It turns out that the formula will produce 40 primes for the consecutive integer values 0≤n≤39. However, when $n=40$, $40^2+40+41=40(40+1)+41$ is divisible by 41, and certainly when $n=41$, $41^2+41+41$ is clearly divisible by 41.\n",
    "The incredible formula $n^2−79n+1601$ was discovered, which produces 80 primes for the consecutive values $0≤n≤79$. The product of the coefficients, −79 and 1601, is −126479.\n",
    "\n",
    "Considering quadratics of the form:\n",
    "$n^2+an+b$, where $|a|<1000$ and $|b|≤1000$ where $|n|$ is the modulus/absolute value of n, e.g. $|11|=11$ and $|−4|=4$. Find the product of the coefficients, a and b, for the quadratic expression that produces the maximum number of primes for consecutive values of n, starting with n=0.\n",
    "\n",
    "#### Solution"
   ]
  },
  {
   "cell_type": "code",
   "execution_count": 2,
   "metadata": {},
   "outputs": [],
   "source": [
    "def solve_problem_27(n):\n",
    "    \n",
    "    tic = time.perf_counter()\n",
    "    upper_limit = 2 * n\n",
    "    primes = sieve(upper_limit)\n",
    "    iter_primes = iter(primes)\n",
    "    max_count = 0\n",
    "    b = next(iter_primes)\n",
    "    while b < n:\n",
    "        for a in range(-n, n + 1, 1):\n",
    "            count = 0\n",
    "            x = 0\n",
    "            while (x * (x + a) + b) in primes:\n",
    "                count += 1\n",
    "                x +=1\n",
    "            if count >= max_count:\n",
    "                max_count = count\n",
    "                res = a * b\n",
    "        b = next(iter_primes)\n",
    "    \n",
    "    toc = time.perf_counter()\n",
    "    \n",
    "    return res, round(toc - tic, 4)"
   ]
  },
  {
   "cell_type": "code",
   "execution_count": 3,
   "metadata": {},
   "outputs": [],
   "source": [
    "def sieve(n):\n",
    "    'Sieve of eratosthenes.'\n",
    "    primes = [True] * (n + 1)\n",
    "    primes[0:2] = [False, False]\n",
    "    \n",
    "    for i in range(2, math.ceil(math.sqrt(n))):\n",
    "        j = 1\n",
    "        while i + (i * j) <= n:\n",
    "            primes[i + (i * j)] = False\n",
    "            j += 1\n",
    "    \n",
    "    res = []\n",
    "    for i in range(n + 1):\n",
    "        if primes[i]:\n",
    "            res.append(i)\n",
    "    \n",
    "    return res"
   ]
  },
  {
   "cell_type": "markdown",
   "metadata": {},
   "source": [
    "#### Final result\n",
    "\n",
    "Input: n = 1000<br>\n",
    "Output: -59231"
   ]
  },
  {
   "cell_type": "code",
   "execution_count": 4,
   "metadata": {},
   "outputs": [
    {
     "name": "stdout",
     "output_type": "stream",
     "text": [
      "-59231\n",
      "Time taken: 1.6734 seconds\n"
     ]
    }
   ],
   "source": [
    "final_result, duration = solve_problem_27(1000)\n",
    "print(final_result)\n",
    "print('Time taken:', duration, 'seconds')"
   ]
  }
 ],
 "metadata": {
  "kernelspec": {
   "display_name": "Python 3",
   "language": "python",
   "name": "python3"
  },
  "language_info": {
   "codemirror_mode": {
    "name": "ipython",
    "version": 3
   },
   "file_extension": ".py",
   "mimetype": "text/x-python",
   "name": "python",
   "nbconvert_exporter": "python",
   "pygments_lexer": "ipython3",
   "version": "3.7.6"
  }
 },
 "nbformat": 4,
 "nbformat_minor": 4
}
