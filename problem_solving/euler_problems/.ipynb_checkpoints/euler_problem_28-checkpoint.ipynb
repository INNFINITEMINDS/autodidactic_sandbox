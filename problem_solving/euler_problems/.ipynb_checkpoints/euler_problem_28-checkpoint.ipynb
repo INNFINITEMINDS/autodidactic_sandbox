{
 "cells": [
  {
   "cell_type": "markdown",
   "metadata": {},
   "source": [
    "# Euler Problems\n",
    "\n",
    "Euler problems found [here](https://projecteuler.net/archives).<br>\n",
    "Numerical answers found [here](https://github.com/luckytoilet/projecteuler-solutions/blob/master/Solutions.md).\n",
    "\n",
    "## Import packages"
   ]
  },
  {
   "cell_type": "code",
   "execution_count": 1,
   "metadata": {},
   "outputs": [],
   "source": [
    "import numpy as np\n",
    "import math\n",
    "import time"
   ]
  },
  {
   "cell_type": "markdown",
   "metadata": {},
   "source": [
    "## Problem 28\n",
    "\n",
    "Starting with the number 1 and moving to the right in a clockwise direction a 5 by 5 spiral is formed as follows:\n",
    "\n",
    "__21__ 22 23 24 __25__<br>\n",
    "20  __7__  8  __9__ 10<br>\n",
    "19  6  __1__  2 11<br>\n",
    "18  __5__  4  __3__ 12<br>\n",
    "__17__ 16 15 14 __13__\n",
    "\n",
    "It can be verified that the sum of the numbers on the diagonals is 101.\n",
    "\n",
    "What is the sum of the numbers on the diagonals in a 1001 by 1001 spiral formed in the same way?\n",
    "\n",
    "#### Solution a"
   ]
  },
  {
   "cell_type": "code",
   "execution_count": 2,
   "metadata": {},
   "outputs": [],
   "source": [
    "def solve_problem_28a(n):\n",
    "    tic = time.perf_counter()\n",
    "    x = 1\n",
    "    res = 1\n",
    "    for i in range(1, n // 2 + 1):\n",
    "        for j in range(1, 5):\n",
    "            x += 2 * i\n",
    "            res += x\n",
    "    toc = time.perf_counter()\n",
    "            \n",
    "    return res, round(toc - tic, 4)"
   ]
  },
  {
   "cell_type": "markdown",
   "metadata": {},
   "source": [
    "#### Test case\n",
    "\n",
    "Input: n = 5<br>\n",
    "Output: 101"
   ]
  },
  {
   "cell_type": "code",
   "execution_count": 3,
   "metadata": {},
   "outputs": [
    {
     "name": "stdout",
     "output_type": "stream",
     "text": [
      "101\n",
      "Time taken: 0.0 seconds\n"
     ]
    }
   ],
   "source": [
    "test_case, duration = solve_problem_28a(5)\n",
    "print(test_case)\n",
    "print('Time taken:', duration, 'seconds')"
   ]
  },
  {
   "cell_type": "markdown",
   "metadata": {},
   "source": [
    "#### Final result\n",
    "\n",
    "Input: n = 1001<br>\n",
    "Output: 669171001"
   ]
  },
  {
   "cell_type": "code",
   "execution_count": 4,
   "metadata": {},
   "outputs": [
    {
     "name": "stdout",
     "output_type": "stream",
     "text": [
      "669171001\n",
      "Time taken: 0.0007 seconds\n"
     ]
    }
   ],
   "source": [
    "final_result, duration = solve_problem_28a(1001)\n",
    "print(final_result)\n",
    "print('Time taken:', duration, 'seconds')"
   ]
  },
  {
   "cell_type": "markdown",
   "metadata": {},
   "source": [
    "#### Solution b"
   ]
  },
  {
   "cell_type": "markdown",
   "metadata": {},
   "source": [
    "## Problem 28\n",
    "\n",
    "Starting with the number 1 and moving to the right in a clockwise direction a 5 by 5 spiral is formed as follows:\n",
    "\n",
    "__21__ 22 23 24 __25__<br>\n",
    "20  __7__  8  __9__ 10<br>\n",
    "19  6  __1__  2 11<br>\n",
    "18  __5__  4  __3__ 12<br>\n",
    "__17__ 16 15 14 __13__\n",
    "\n",
    "It can be verified that the sum of the numbers on the diagonals is 101.\n",
    "\n",
    "What is the sum of the numbers on the diagonals in a 1001 by 1001 spiral formed in the same way?\n",
    "\n",
    "#### Solution b"
   ]
  },
  {
   "cell_type": "code",
   "execution_count": 5,
   "metadata": {},
   "outputs": [],
   "source": [
    "def solve_problem_28b(n):\n",
    "    tic = time.perf_counter()\n",
    "    i = 1\n",
    "    res = i\n",
    "    for j in range((n - 1) // 2):\n",
    "        i += 8 * j + 5\n",
    "        res += 4 * i\n",
    "    toc = time.perf_counter()\n",
    "\n",
    "    return res, round(toc - tic, 4)"
   ]
  },
  {
   "cell_type": "markdown",
   "metadata": {},
   "source": [
    "#### Test case\n",
    "\n",
    "Input: n = 5<br>\n",
    "Output: 101"
   ]
  },
  {
   "cell_type": "code",
   "execution_count": 6,
   "metadata": {},
   "outputs": [
    {
     "name": "stdout",
     "output_type": "stream",
     "text": [
      "101\n",
      "Time taken: 0.0 seconds\n"
     ]
    }
   ],
   "source": [
    "test_case, duration = solve_problem_28b(5)\n",
    "print(test_case)\n",
    "print('Time taken:', duration, 'seconds')"
   ]
  },
  {
   "cell_type": "markdown",
   "metadata": {},
   "source": [
    "#### Final result\n",
    "\n",
    "Input: n = 1001<br>\n",
    "Output: 669171001"
   ]
  },
  {
   "cell_type": "code",
   "execution_count": 7,
   "metadata": {},
   "outputs": [
    {
     "name": "stdout",
     "output_type": "stream",
     "text": [
      "669171001\n",
      "Time taken: 0.0002 seconds\n"
     ]
    }
   ],
   "source": [
    "final_result, duration = solve_problem_28b(1001)\n",
    "print(final_result)\n",
    "print('Time taken:', duration, 'seconds')"
   ]
  }
 ],
 "metadata": {
  "kernelspec": {
   "display_name": "Python 3",
   "language": "python",
   "name": "python3"
  },
  "language_info": {
   "codemirror_mode": {
    "name": "ipython",
    "version": 3
   },
   "file_extension": ".py",
   "mimetype": "text/x-python",
   "name": "python",
   "nbconvert_exporter": "python",
   "pygments_lexer": "ipython3",
   "version": "3.7.6"
  }
 },
 "nbformat": 4,
 "nbformat_minor": 4
}
