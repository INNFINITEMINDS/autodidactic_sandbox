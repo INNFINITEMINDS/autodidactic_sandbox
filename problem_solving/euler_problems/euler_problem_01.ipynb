{
 "cells": [
  {
   "cell_type": "markdown",
   "metadata": {},
   "source": [
    "# Euler Problems\n",
    "\n",
    "Euler problems found [here](https://projecteuler.net/archives).<br>\n",
    "Numerical answers found [here](https://github.com/luckytoilet/projecteuler-solutions/blob/master/Solutions.md).\n",
    "\n",
    "## Import packages"
   ]
  },
  {
   "cell_type": "code",
   "execution_count": 1,
   "metadata": {},
   "outputs": [],
   "source": [
    "import numpy as np\n",
    "import math\n",
    "import time"
   ]
  },
  {
   "cell_type": "markdown",
   "metadata": {},
   "source": [
    "## Problem 1\n",
    "If we list all the natural numbers below 10 that are multiples of 3 or 5, we get 3, 5, 6 and 9.\n",
    "The sum of these multiples is 23.\n",
    "Find the sum of all the multiples of 3 or 5 below 1000.\n",
    "\n",
    "#### Solution"
   ]
  },
  {
   "cell_type": "code",
   "execution_count": 2,
   "metadata": {},
   "outputs": [],
   "source": [
    "def solve_problem_1(multiple_a, multiple_b, n):\n",
    "    'Returns the sum of the multiples of multiple_a and multiple_b below n.'\n",
    "    tic = time.perf_counter()\n",
    "    all_numbers = np.arange(1, n, 1)\n",
    "    bool_key_numbers = (all_numbers%3 == 0) | (all_numbers%5 == 0)\n",
    "    solution = all_numbers[bool_key_numbers].sum()\n",
    "    toc = time.perf_counter()\n",
    "    return solution, round(toc-tic, 5)"
   ]
  },
  {
   "cell_type": "markdown",
   "metadata": {},
   "source": [
    "#### Test case\n",
    "\n",
    "$n = 10$"
   ]
  },
  {
   "cell_type": "code",
   "execution_count": 3,
   "metadata": {},
   "outputs": [
    {
     "name": "stdout",
     "output_type": "stream",
     "text": [
      "23\n",
      "Time taken: 0.00094 seconds\n"
     ]
    }
   ],
   "source": [
    "test_case, duration = solve_problem_1(3, 5, 10)\n",
    "print(test_case)\n",
    "print('Time taken:', duration, 'seconds')"
   ]
  },
  {
   "cell_type": "markdown",
   "metadata": {},
   "source": [
    "#### Final result\n",
    "\n",
    "$n = 1,000$"
   ]
  },
  {
   "cell_type": "code",
   "execution_count": 4,
   "metadata": {},
   "outputs": [
    {
     "name": "stdout",
     "output_type": "stream",
     "text": [
      "233168\n",
      "Time taken: 0.00049 seconds\n"
     ]
    }
   ],
   "source": [
    "final_result, duration = solve_problem_1(3, 5, 1000)\n",
    "print(final_result)\n",
    "print('Time taken:', duration, 'seconds')"
   ]
  }
 ],
 "metadata": {
  "kernelspec": {
   "display_name": "Python 3",
   "language": "python",
   "name": "python3"
  },
  "language_info": {
   "codemirror_mode": {
    "name": "ipython",
    "version": 3
   },
   "file_extension": ".py",
   "mimetype": "text/x-python",
   "name": "python",
   "nbconvert_exporter": "python",
   "pygments_lexer": "ipython3",
   "version": "3.7.6"
  }
 },
 "nbformat": 4,
 "nbformat_minor": 4
}
