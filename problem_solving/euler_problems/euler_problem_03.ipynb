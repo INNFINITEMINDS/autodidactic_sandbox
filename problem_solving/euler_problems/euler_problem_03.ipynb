{
 "cells": [
  {
   "cell_type": "markdown",
   "metadata": {},
   "source": [
    "# Euler Problems\n",
    "\n",
    "Euler problems found [here](https://projecteuler.net/archives).<br>\n",
    "Numerical answers found [here](https://github.com/luckytoilet/projecteuler-solutions/blob/master/Solutions.md).\n",
    "\n",
    "## Import packages"
   ]
  },
  {
   "cell_type": "code",
   "execution_count": 1,
   "metadata": {},
   "outputs": [],
   "source": [
    "import numpy as np\n",
    "import math\n",
    "import time"
   ]
  },
  {
   "cell_type": "markdown",
   "metadata": {},
   "source": [
    "## Problem 3\n",
    "The prime factors of 13195 are 5, 7, 13 and 29.\n",
    "\n",
    "What is the largest prime factor of the number 600,851,475,143?\n",
    "\n",
    "#### Solution"
   ]
  },
  {
   "cell_type": "code",
   "execution_count": 2,
   "metadata": {},
   "outputs": [],
   "source": [
    "def solve_problem_3(n):\n",
    "    'Finds the largest prime factor of a number n.'\n",
    "    tic = time.perf_counter()\n",
    "    divisor = 2\n",
    "    solution_found = False\n",
    "    \n",
    "    while solution_found == False:\n",
    "        if n == divisor:\n",
    "            solution_found = True\n",
    "        else: \n",
    "            if n % divisor == 0:\n",
    "                n = n // divisor\n",
    "            else:\n",
    "                divisor += 1\n",
    "    \n",
    "    toc = time.perf_counter()\n",
    "    return n, round(toc-tic, 5)"
   ]
  },
  {
   "cell_type": "markdown",
   "metadata": {},
   "source": [
    "#### Test case\n",
    "\n",
    "$n = 19,185$"
   ]
  },
  {
   "cell_type": "code",
   "execution_count": 3,
   "metadata": {},
   "outputs": [
    {
     "name": "stdout",
     "output_type": "stream",
     "text": [
      "Test case for n = 19185: 29\n",
      "Time taken: 1e-05 seconds\n"
     ]
    }
   ],
   "source": [
    "test_case, duration = solve_problem_3(13195)\n",
    "print('Test case for n = 19185:', test_case)\n",
    "print('Time taken:', duration, 'seconds')"
   ]
  },
  {
   "cell_type": "markdown",
   "metadata": {},
   "source": [
    "#### Final result\n",
    "\n",
    "$n = 600851475143$"
   ]
  },
  {
   "cell_type": "code",
   "execution_count": 4,
   "metadata": {},
   "outputs": [
    {
     "name": "stdout",
     "output_type": "stream",
     "text": [
      "6857\n",
      "Time taken: 0.00159 seconds\n",
      "\n"
     ]
    }
   ],
   "source": [
    "final_result, duration = solve_problem_3(600851475143)\n",
    "print(final_result)\n",
    "print('Time taken:', duration, 'seconds')\n",
    "print('')"
   ]
  }
 ],
 "metadata": {
  "kernelspec": {
   "display_name": "Python 3",
   "language": "python",
   "name": "python3"
  },
  "language_info": {
   "codemirror_mode": {
    "name": "ipython",
    "version": 3
   },
   "file_extension": ".py",
   "mimetype": "text/x-python",
   "name": "python",
   "nbconvert_exporter": "python",
   "pygments_lexer": "ipython3",
   "version": "3.7.6"
  }
 },
 "nbformat": 4,
 "nbformat_minor": 4
}
