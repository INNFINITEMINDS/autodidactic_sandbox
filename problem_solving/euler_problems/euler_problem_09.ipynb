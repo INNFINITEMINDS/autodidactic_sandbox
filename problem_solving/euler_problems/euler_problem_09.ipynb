{
 "cells": [
  {
   "cell_type": "markdown",
   "metadata": {},
   "source": [
    "# Euler Problems\n",
    "\n",
    "Euler problems found [here](https://projecteuler.net/archives).<br>\n",
    "Numerical answers found [here](https://github.com/luckytoilet/projecteuler-solutions/blob/master/Solutions.md).\n",
    "\n",
    "## Import packages"
   ]
  },
  {
   "cell_type": "code",
   "execution_count": 1,
   "metadata": {},
   "outputs": [],
   "source": [
    "import numpy as np\n",
    "import math\n",
    "import time"
   ]
  },
  {
   "cell_type": "markdown",
   "metadata": {},
   "source": [
    "## Problem 9\n",
    "A Pythagorean triplet is a set of three natural numbers, $a < b < c$, for which,\n",
    "\n",
    "$a^{2} + b^{2} = c^{2}$\n",
    "\n",
    "For example, $3^{2} + 4^{2} = 9 + 16 = 25 = 5^{2}$.\n",
    "\n",
    "There exists exactly one Pythagorean triplet for which $a + b + c = 1000$.\n",
    "Find the product $abc$.\n",
    "\n",
    "#### Solution"
   ]
  },
  {
   "cell_type": "code",
   "execution_count": 2,
   "metadata": {},
   "outputs": [],
   "source": [
    "def is_pyth_triplet(a, b, c):\n",
    "    'Returns True if a, b, and c are a Pythagorean triplet, false otherwise.'\n",
    "    a2 = a**2\n",
    "    b2 = b**2\n",
    "    c2 = c**2\n",
    "    if a2 + b2 == c2:\n",
    "        return True\n",
    "    elif b2 + c2 == a2:\n",
    "        return True\n",
    "    elif c2 + a2 == b2:\n",
    "        return True\n",
    "    else:\n",
    "        return False\n",
    "\n",
    "def solve_problem_9(n):\n",
    "    'Finds the product of the Pythagorean triplet whose sum adds to n.'\n",
    "    tic = time.perf_counter()\n",
    "    for i in range(1, int(n / 2)):\n",
    "        for j in range(i, int(n / 2)):\n",
    "            for k in range(j, int(n / 2)):\n",
    "                if is_pyth_triplet(i, j, k) & (i + j + k == n):\n",
    "                    toc = time.perf_counter()\n",
    "                    return i * j * k, round(toc - tic, 4)"
   ]
  },
  {
   "cell_type": "markdown",
   "metadata": {},
   "source": [
    "#### Final result"
   ]
  },
  {
   "cell_type": "code",
   "execution_count": 3,
   "metadata": {},
   "outputs": [
    {
     "name": "stdout",
     "output_type": "stream",
     "text": [
      "Final result for n = 1000:  31875000\n",
      "Time taken: 18.8797 seconds\n",
      "\n"
     ]
    }
   ],
   "source": [
    "final_result, duration = solve_problem_9(1000)\n",
    "print('Final result for n = 1000: ', final_result)\n",
    "print('Time taken:', duration, 'seconds')\n",
    "print('')"
   ]
  }
 ],
 "metadata": {
  "kernelspec": {
   "display_name": "Python 3",
   "language": "python",
   "name": "python3"
  },
  "language_info": {
   "codemirror_mode": {
    "name": "ipython",
    "version": 3
   },
   "file_extension": ".py",
   "mimetype": "text/x-python",
   "name": "python",
   "nbconvert_exporter": "python",
   "pygments_lexer": "ipython3",
   "version": "3.7.6"
  }
 },
 "nbformat": 4,
 "nbformat_minor": 4
}
