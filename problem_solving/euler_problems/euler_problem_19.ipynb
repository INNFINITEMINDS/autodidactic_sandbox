{
 "cells": [
  {
   "cell_type": "markdown",
   "metadata": {},
   "source": [
    "# Euler Problems\n",
    "\n",
    "Euler problems found [here](https://projecteuler.net/archives).<br>\n",
    "Numerical answers found [here](https://github.com/luckytoilet/projecteuler-solutions/blob/master/Solutions.md).\n",
    "\n",
    "## Import packages"
   ]
  },
  {
   "cell_type": "code",
   "execution_count": 1,
   "metadata": {},
   "outputs": [],
   "source": [
    "import numpy as np\n",
    "import math\n",
    "import time"
   ]
  },
  {
   "cell_type": "markdown",
   "metadata": {},
   "source": [
    "## Problem 19\n",
    "\n",
    "You are given the following information, but you may prefer to do some research for yourself.\n",
    "\n",
    "1 Jan 1900 was a Monday.<br>\n",
    "Thirty days has September,<br>\n",
    "April, June and November.<br>\n",
    "All the rest have thirty-one,<br>\n",
    "Saving February alone,<br>\n",
    "Which has twenty-eight, rain or shine.<br>\n",
    "And on leap years, twenty-nine.<br>\n",
    "\n",
    "A leap year occurs on any year evenly divisible by 4, but not on a century unless it is divisible by 400.\n",
    "How many Sundays fell on the first of the month during the twentieth century (1 Jan 1901 to 31 Dec 2000)?\n",
    "\n",
    "#### Solution"
   ]
  },
  {
   "cell_type": "code",
   "execution_count": 2,
   "metadata": {},
   "outputs": [],
   "source": [
    "def solve_problem_19():\n",
    "    tic = time.perf_counter()\n",
    "    days_in_months = [31, 28, 31, 30, 31, 30, 31, 31, 30, 31, 30, 31]\n",
    "\n",
    "    month_count = 0\n",
    "    week_day = 0\n",
    "    sundays_count = 0\n",
    "\n",
    "    for i in range(99 * 12):\n",
    "        days_in_month = days_in_months[month_count % 12]\n",
    "\n",
    "        if days_in_month == 28 and (i // 12 + 1901) % 4 == 0:\n",
    "            d = 29\n",
    "        else:\n",
    "            d = days_in_month\n",
    "\n",
    "        week_day = (week_day + d) % 7\n",
    "        if week_day == 6:\n",
    "            sundays_count += 1\n",
    "\n",
    "        month_count = (month_count + 1) % 12\n",
    "    \n",
    "    toc = time.perf_counter()\n",
    "\n",
    "    return sundays_count, round(toc - tic, 4)"
   ]
  },
  {
   "cell_type": "markdown",
   "metadata": {},
   "source": [
    "#### Final result"
   ]
  },
  {
   "cell_type": "code",
   "execution_count": 3,
   "metadata": {},
   "outputs": [
    {
     "name": "stdout",
     "output_type": "stream",
     "text": [
      "171\n",
      "Time taken: 0.0003 seconds\n"
     ]
    }
   ],
   "source": [
    "final_result, duration = solve_problem_19()\n",
    "print(final_result)\n",
    "print('Time taken:', duration, 'seconds')"
   ]
  }
 ],
 "metadata": {
  "kernelspec": {
   "display_name": "Python 3",
   "language": "python",
   "name": "python3"
  },
  "language_info": {
   "codemirror_mode": {
    "name": "ipython",
    "version": 3
   },
   "file_extension": ".py",
   "mimetype": "text/x-python",
   "name": "python",
   "nbconvert_exporter": "python",
   "pygments_lexer": "ipython3",
   "version": "3.7.6"
  }
 },
 "nbformat": 4,
 "nbformat_minor": 4
}
