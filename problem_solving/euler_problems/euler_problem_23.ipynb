{
 "cells": [
  {
   "cell_type": "markdown",
   "metadata": {},
   "source": [
    "# Euler Problems\n",
    "\n",
    "Euler problems found [here](https://projecteuler.net/archives).<br>\n",
    "Numerical answers found [here](https://github.com/luckytoilet/projecteuler-solutions/blob/master/Solutions.md).\n",
    "\n",
    "## Import packages"
   ]
  },
  {
   "cell_type": "code",
   "execution_count": 1,
   "metadata": {},
   "outputs": [],
   "source": [
    "import numpy as np\n",
    "import math\n",
    "import time"
   ]
  },
  {
   "cell_type": "markdown",
   "metadata": {},
   "source": [
    "## Problem 23\n",
    "\n",
    "A perfect number is a number for which the sum of its proper divisors is exactly equal to the number. For example, the sum of the proper divisors of 28 would be 1 + 2 + 4 + 7 + 14 = 28, which means that 28 is a perfect number.\n",
    "\n",
    "A number n is called deficient if the sum of its proper divisors is less than n and it is called abundant if this sum exceeds n.\n",
    "\n",
    "As 12 is the smallest abundant number, 1 + 2 + 3 + 4 + 6 = 16, the smallest number that can be written as the sum of two abundant numbers is 24. By mathematical analysis, it can be shown that all integers greater than 28123 can be written as the sum of two abundant numbers. However, this upper limit cannot be reduced any further by analysis even though it is known that the greatest number that cannot be expressed as the sum of two abundant numbers is less than this limit.\n",
    "\n",
    "Find the sum of all the positive integers which cannot be written as the sum of two abundant numbers.\n",
    "\n",
    "#### Solution 1"
   ]
  },
  {
   "cell_type": "code",
   "execution_count": 2,
   "metadata": {},
   "outputs": [],
   "source": [
    "def calc_sum_prop_divs(n):\n",
    "    \n",
    "    res = 0\n",
    "    \n",
    "    for i in range(1, n // 2 + 1):\n",
    "        if n % i == 0:\n",
    "            res += i\n",
    "    \n",
    "    return res\n",
    "\n",
    "def solve_problem_23(n):\n",
    "    \n",
    "    tic = time.perf_counter()\n",
    "    abundant_nums = []\n",
    "    \n",
    "    for i in range(n):\n",
    "        temp = calc_sum_prop_divs(i)\n",
    "        if temp > i:\n",
    "            abundant_nums.append(i)\n",
    "    \n",
    "    m = len(abundant_nums)\n",
    "    sum_2_abun_nums = [0] * n\n",
    "    \n",
    "    for i in range(0, m):\n",
    "        for j in range(i, m):\n",
    "            temp = abundant_nums[i] + abundant_nums[j]\n",
    "            if temp < n:\n",
    "                sum_2_abun_nums[temp] = temp\n",
    "    \n",
    "    res = n * (n - 1) // 2 - sum(sum_2_abun_nums)\n",
    "\n",
    "    toc = time.perf_counter()\n",
    "    \n",
    "    return res, round(toc - tic, 4)"
   ]
  },
  {
   "cell_type": "markdown",
   "metadata": {},
   "source": [
    "#### Final result\n",
    "\n",
    "Input: 28123<br>\n",
    "Output: 4179871"
   ]
  },
  {
   "cell_type": "code",
   "execution_count": 3,
   "metadata": {},
   "outputs": [
    {
     "name": "stdout",
     "output_type": "stream",
     "text": [
      "4179871\n",
      "Time taken: 17.1194 seconds\n"
     ]
    }
   ],
   "source": [
    "final_result, duration = solve_problem_23(28123)\n",
    "print(final_result)\n",
    "print('Time taken:', duration, 'seconds')"
   ]
  }
 ],
 "metadata": {
  "kernelspec": {
   "display_name": "Python 3",
   "language": "python",
   "name": "python3"
  },
  "language_info": {
   "codemirror_mode": {
    "name": "ipython",
    "version": 3
   },
   "file_extension": ".py",
   "mimetype": "text/x-python",
   "name": "python",
   "nbconvert_exporter": "python",
   "pygments_lexer": "ipython3",
   "version": "3.7.6"
  }
 },
 "nbformat": 4,
 "nbformat_minor": 4
}
