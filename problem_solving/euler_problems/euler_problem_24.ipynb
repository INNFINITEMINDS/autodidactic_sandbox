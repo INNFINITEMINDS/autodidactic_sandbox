{
 "cells": [
  {
   "cell_type": "markdown",
   "metadata": {},
   "source": [
    "# Euler Problems\n",
    "\n",
    "Euler problems found [here](https://projecteuler.net/archives).<br>\n",
    "Numerical answers found [here](https://github.com/luckytoilet/projecteuler-solutions/blob/master/Solutions.md).\n",
    "\n",
    "## Import packages"
   ]
  },
  {
   "cell_type": "code",
   "execution_count": 1,
   "metadata": {},
   "outputs": [],
   "source": [
    "import numpy as np\n",
    "import math\n",
    "import time"
   ]
  },
  {
   "cell_type": "markdown",
   "metadata": {},
   "source": [
    "## Problem 24\n",
    "\n",
    "A permutation is an ordered arrangement of objects. For example, 3124 is one possible permutation of the digits 1, 2, 3 and 4. If all of the permutations are listed numerically or alphabetically, we call it lexicographic order. The lexicographic permutations of 0, 1 and 2 are:\n",
    "\n",
    "012   021   102   120   201   210\n",
    "\n",
    "What is the millionth lexicographic permutation of the digits 0, 1, 2, 3, 4, 5, 6, 7, 8 and 9?\n",
    "\n",
    "#### Solution"
   ]
  },
  {
   "cell_type": "code",
   "execution_count": 22,
   "metadata": {},
   "outputs": [],
   "source": [
    "def produce_permutations(perms, chars):\n",
    "    \n",
    "    if len(chars) == 1:\n",
    "        return chars\n",
    "    \n",
    "    perms = produce_permutations(perms, chars[:-1])\n",
    "    char = chars[-1]\n",
    "    res = []\n",
    "    \n",
    "    for i in range(len(perms)):\n",
    "        for j in range(len(perms[0])):\n",
    "            res.append(perms[i][:j] + char + perms[i][j:])\n",
    "        res.append(perms[0] + char)\n",
    "    \n",
    "    return res"
   ]
  },
  {
   "cell_type": "code",
   "execution_count": 39,
   "metadata": {},
   "outputs": [],
   "source": [
    "def quick_sort(array):\n",
    "    'Sorts the input list using the Quick Sort algorithm.'\n",
    "    \n",
    "    assert isinstance(array, list) == True, 'ERROR: Input must be a list.'\n",
    "    \n",
    "    n = len(array)\n",
    "    \n",
    "    quick_sort_helper(array, 0, n - 1)\n",
    "    \n",
    "def quick_sort_helper(array, left, right):\n",
    "    'Helper function for quick_sort().'\n",
    "    \n",
    "    index = partition(array, left, right)\n",
    "    \n",
    "    if left < index - 1: # Sort the left side.\n",
    "        quick_sort_helper(array, left, index - 1)\n",
    "    if index < right: # Sort the right side.\n",
    "        quick_sort_helper(array, index, right)\n",
    "        \n",
    "def partition(array, left, right):\n",
    "    '''Partition the array such all numbers less than the partitioning element come before\n",
    "    and all other numbers come after it.'''\n",
    "    \n",
    "    pivot = array[(left + right) // 2]\n",
    "    while left <= right:\n",
    "        while array[left] < pivot:\n",
    "            left += 1\n",
    "        while array[right] > pivot:\n",
    "            right -= 1\n",
    "        if left <= right:\n",
    "            # Swap the two elements.\n",
    "            temp = array[left]\n",
    "            array[left] = array[right]\n",
    "            array[right] = temp\n",
    "            left += 1\n",
    "            right -= 1\n",
    "    \n",
    "    return left"
   ]
  },
  {
   "cell_type": "code",
   "execution_count": 40,
   "metadata": {},
   "outputs": [],
   "source": [
    "def solve_problem_24(chars, n):\n",
    "    \n",
    "    tic = time.perf_counter()\n",
    "    perms = produce_permutations(None, chars)\n",
    "    \n",
    "    quick_sort(perms)\n",
    "    \n",
    "    res = perms[n - 1]\n",
    "    toc = time.perf_counter()\n",
    "    \n",
    "    return res, round(toc - tic, 4)"
   ]
  },
  {
   "cell_type": "markdown",
   "metadata": {},
   "source": [
    "#### Testing\n",
    "\n",
    "Input: '012', 3<br>\n",
    "Output: '102'"
   ]
  },
  {
   "cell_type": "code",
   "execution_count": 48,
   "metadata": {},
   "outputs": [
    {
     "name": "stdout",
     "output_type": "stream",
     "text": [
      "102\n",
      "Time taken: 0.0 seconds\n"
     ]
    }
   ],
   "source": [
    "test_case, duration = solve_problem_24('012', 3)\n",
    "print(test_case)\n",
    "print('Time taken:', duration, 'seconds')"
   ]
  },
  {
   "cell_type": "markdown",
   "metadata": {},
   "source": [
    "Input: '0123', 10<br>\n",
    "Output: '2103'"
   ]
  },
  {
   "cell_type": "code",
   "execution_count": 50,
   "metadata": {},
   "outputs": [
    {
     "name": "stdout",
     "output_type": "stream",
     "text": [
      "2103\n",
      "Time taken: 0.0001 seconds\n"
     ]
    }
   ],
   "source": [
    "test_case, duration = solve_problem_24('0123', 10)\n",
    "print(test_case)\n",
    "print('Time taken:', duration, 'seconds')"
   ]
  },
  {
   "cell_type": "markdown",
   "metadata": {},
   "source": [
    "#### Final result"
   ]
  },
  {
   "cell_type": "code",
   "execution_count": 47,
   "metadata": {},
   "outputs": [
    {
     "name": "stdout",
     "output_type": "stream",
     "text": [
      "4976382105\n",
      "Time taken: 18.7125 seconds\n"
     ]
    }
   ],
   "source": [
    "final_result, duration = solve_problem_24('0123456789', 1000000)\n",
    "print(final_result)\n",
    "print('Time taken:', duration, 'seconds')"
   ]
  },
  {
   "cell_type": "code",
   "execution_count": null,
   "metadata": {},
   "outputs": [],
   "source": [
    "2783915460"
   ]
  }
 ],
 "metadata": {
  "kernelspec": {
   "display_name": "Python 3",
   "language": "python",
   "name": "python3"
  },
  "language_info": {
   "codemirror_mode": {
    "name": "ipython",
    "version": 3
   },
   "file_extension": ".py",
   "mimetype": "text/x-python",
   "name": "python",
   "nbconvert_exporter": "python",
   "pygments_lexer": "ipython3",
   "version": "3.7.6"
  }
 },
 "nbformat": 4,
 "nbformat_minor": 4
}
