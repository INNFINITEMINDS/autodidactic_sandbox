{
 "cells": [
  {
   "cell_type": "markdown",
   "metadata": {},
   "source": [
    "# Euler Problems\n",
    "\n",
    "Euler problems found [here](https://projecteuler.net/archives).<br>\n",
    "Numerical answers found [here](https://github.com/luckytoilet/projecteuler-solutions/blob/master/Solutions.md).\n",
    "\n",
    "## Import packages"
   ]
  },
  {
   "cell_type": "code",
   "execution_count": 13,
   "metadata": {},
   "outputs": [],
   "source": [
    "import numpy as np\n",
    "import math\n",
    "import time"
   ]
  },
  {
   "cell_type": "markdown",
   "metadata": {},
   "source": [
    "## Problem 18\n",
    "\n",
    "The Fibonacci sequence is defined by the recurrence relation:\n",
    "\n",
    "$F_n = Fn−1 + Fn−2$, where $F1 = 1$ and $F2 = 1$.\n",
    "Hence the first 12 terms will be:\n",
    "\n",
    "$F1 = 1$<br>\n",
    "$F2 = 1$<br>\n",
    "$F3 = 2$<br>\n",
    "$F4 = 3$<br>\n",
    "$F5 = 5$<br>\n",
    "$F6 = 8$<br>\n",
    "$F7 = 13$<br>\n",
    "$F8 = 21$<br>\n",
    "$F9 = 34$<br>\n",
    "$F10 = 55$<br>\n",
    "$F11 = 89$<br>\n",
    "$F12 = 144$\n",
    "\n",
    "The 12th term, $F12$, is the first term to contain three digits.\n",
    "\n",
    "What is the index of the first term in the Fibonacci sequence to contain 1000 digits?\n",
    "\n",
    "#### Solution"
   ]
  },
  {
   "cell_type": "code",
   "execution_count": 26,
   "metadata": {},
   "outputs": [],
   "source": [
    "def solve_problem_25(n):\n",
    "    \n",
    "    tic = time.perf_counter()\n",
    "    m = 10**(n-1)\n",
    "    \n",
    "    f1 = 1\n",
    "    f2 = 1\n",
    "    res = 0\n",
    "    count = 2\n",
    "    while res < m:\n",
    "        f3 = f1 + f2\n",
    "        f1 = f2\n",
    "        f2 = f3\n",
    "        res = f3\n",
    "        count += 1\n",
    "    \n",
    "    toc = time.perf_counter()\n",
    "    \n",
    "    return count, round(toc - tic, 4)"
   ]
  },
  {
   "cell_type": "markdown",
   "metadata": {},
   "source": [
    "#### Test case"
   ]
  },
  {
   "cell_type": "code",
   "execution_count": 27,
   "metadata": {},
   "outputs": [
    {
     "name": "stdout",
     "output_type": "stream",
     "text": [
      "12\n",
      "Time taken: 0.0 seconds\n"
     ]
    }
   ],
   "source": [
    "test_case, duration = solve_problem_25(3)\n",
    "print(test_case)\n",
    "print('Time taken:', duration, 'seconds')"
   ]
  },
  {
   "cell_type": "markdown",
   "metadata": {},
   "source": [
    "#### Final result"
   ]
  },
  {
   "cell_type": "code",
   "execution_count": 28,
   "metadata": {},
   "outputs": [
    {
     "name": "stdout",
     "output_type": "stream",
     "text": [
      "4782\n",
      "Time taken: 0.0011 seconds\n"
     ]
    }
   ],
   "source": [
    "final_result, duration = solve_problem_25(1000)\n",
    "print(final_result)\n",
    "print('Time taken:', duration, 'seconds')"
   ]
  }
 ],
 "metadata": {
  "kernelspec": {
   "display_name": "Python 3",
   "language": "python",
   "name": "python3"
  },
  "language_info": {
   "codemirror_mode": {
    "name": "ipython",
    "version": 3
   },
   "file_extension": ".py",
   "mimetype": "text/x-python",
   "name": "python",
   "nbconvert_exporter": "python",
   "pygments_lexer": "ipython3",
   "version": "3.7.6"
  }
 },
 "nbformat": 4,
 "nbformat_minor": 4
}
