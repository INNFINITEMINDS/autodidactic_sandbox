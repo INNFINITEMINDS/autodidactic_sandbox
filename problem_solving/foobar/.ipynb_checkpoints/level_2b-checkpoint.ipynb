{
 "cells": [
  {
   "cell_type": "markdown",
   "metadata": {},
   "source": [
    "# Level 2b"
   ]
  },
  {
   "cell_type": "markdown",
   "metadata": {},
   "source": [
    "## Problem\n",
    "\n",
    "Every time the Commander's employees pass each other in the hall, each of them must stop and salute each other - one at a time - before resuming their path. A salute is five seconds long, so each exchange of salutes takes a full ten seconds. You think that by removing the salute requirement, you could save several collective hours of employee time per day. But first, you need to show her how bad the problem really is.\n",
    "\n",
    "Write a program that counts how many salutes are exchanged during a typical walk along a hallway. The hall is represented by a string. For example: '--->-><-><-->-'\n",
    "\n",
    "Each hallway string will contain three different types of characters: '>', an employee walking to the right; '<', an employee walking to the left; and '-', an empty space. Every employee walks at the same speed either to the right or to the left, according to their direction. Whenever two employees cross, each of them salues the other. They then continue walking until they reach the end, finally leaving the hallway. In the above example, they salutee 10 times.\n",
    "\n",
    "Write a function solution(s) which takes a string representing employees walking along a hallway and returns the number of times the employees will salue. s will contain at least 1 and at most 100 characters, each one of -, <, or >.\n"
   ]
  },
  {
   "cell_type": "markdown",
   "metadata": {},
   "source": [
    "## Solution"
   ]
  },
  {
   "cell_type": "code",
   "execution_count": 1,
   "metadata": {},
   "outputs": [],
   "source": [
    "def solution(s):\n",
    "    \n",
    "    s = list(s)\n",
    "    \n",
    "    n = len(s)\n",
    "    \n",
    "    # rights is a list which will indicate how many >'s are left of the index.\n",
    "    rights = [0] * n\n",
    "    # lefts is a list which indicates the indices of the <'s.\n",
    "    lefts = [0] * n\n",
    "    \n",
    "    # Now just loop through s to determine what rights and lefts should be.\n",
    "    if s[0] == '>':\n",
    "        rights[0] = 1\n",
    "    else:\n",
    "        rights[0] = 0\n",
    "    \n",
    "    for i in range(1, n):\n",
    "        if s[i] == '>':\n",
    "            rights[i] = rights[i - 1] + 1\n",
    "        else:\n",
    "            rights[i] = rights[i - 1]\n",
    "            if s[i] == '<':\n",
    "                lefts[i] = 1\n",
    "    \n",
    "    # The result is just the element-wise product of the two lists * 2.\n",
    "    result = sum([left * right for left, right in zip(lefts, rights)]) * 2\n",
    "    return result"
   ]
  },
  {
   "cell_type": "markdown",
   "metadata": {},
   "source": [
    "## Testing"
   ]
  },
  {
   "cell_type": "code",
   "execution_count": 2,
   "metadata": {},
   "outputs": [
    {
     "name": "stdout",
     "output_type": "stream",
     "text": [
      "4\n"
     ]
    }
   ],
   "source": [
    "print(solution('<<>><'))"
   ]
  },
  {
   "cell_type": "code",
   "execution_count": 3,
   "metadata": {},
   "outputs": [
    {
     "name": "stdout",
     "output_type": "stream",
     "text": [
      "2\n"
     ]
    }
   ],
   "source": [
    "print(solution('>----<'))"
   ]
  }
 ],
 "metadata": {
  "kernelspec": {
   "display_name": "Python 3",
   "language": "python",
   "name": "python3"
  },
  "language_info": {
   "codemirror_mode": {
    "name": "ipython",
    "version": 3
   },
   "file_extension": ".py",
   "mimetype": "text/x-python",
   "name": "python",
   "nbconvert_exporter": "python",
   "pygments_lexer": "ipython3",
   "version": "3.7.6"
  }
 },
 "nbformat": 4,
 "nbformat_minor": 4
}
