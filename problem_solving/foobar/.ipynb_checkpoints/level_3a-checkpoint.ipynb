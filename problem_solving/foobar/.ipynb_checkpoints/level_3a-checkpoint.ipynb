{
 "cells": [
  {
   "cell_type": "markdown",
   "metadata": {},
   "source": [
    "# Level 3a"
   ]
  },
  {
   "cell_type": "markdown",
   "metadata": {},
   "source": [
    "## Problem\n",
    "\n",
    "You need to write a program to return the same security checksum that the guards would have after they would have checked all the workers through. Fortunately, Commander Lambda's desire for efficiency won't allow for hours-long lines, so the checkpoint guards have found ways to quicken the pass-through rate. Instead of checking each and every worker coming through, the guards instead go over everyone in line while noting their security IDs, then allow the line to fill back up. Once they've done that they go over the line again, this time leaving off the last worker. They continue doing this, leaving off one more worker from the line each time but recording the security IDs of those they do check, until they skip the entire line, at which point they XOR the IDs of all workers they noted into a checksum and then take off for lunch. Forunately, the workers' orderly nature causes them to always line up in numerical order without any caps.\n",
    "\n",
    "For example, if the first worker in the line has ID 0 and the security checkpoint line holds three workers, the process would look like this:\n",
    "\n",
    "0 1 2 /<br>\n",
    "3 4 / 5<br>\n",
    "6 / 7 8\n",
    "\n",
    "Where the guards' XOR (^) checksum is 0^1^2^3^4^6 == 2.\n",
    "\n",
    "Likewise, if the first worker has ID 17 and the checkpoint holds four workers, the process would look like:\n",
    "\n",
    "17 18 19 20 /<br>\n",
    "21 22 23 / 24<br>\n",
    "25 26 / 27 28<br>\n",
    "29 / 30 31 32\n",
    "\n",
    "Which produces the checksum 17^18^19^20^21^22^23^25^26^29 == 14.\n",
    "\n",
    "All worker IDs (including the first worker) are between 0 and 200,000,000 inclusive and the checkpoint line will always be at least 1 worker long. With this information, write a function solution(start, length) that will cover the missing security checkpoint by outputting the same checksum the guards would normally submit before lunch. You have just enough time to find out the ID of the first worker to be checked (start) and the length of the line (length) before the automatic review occurs, so your program must generate the proper checksum with just those two values."
   ]
  },
  {
   "cell_type": "markdown",
   "metadata": {},
   "source": [
    "## Solution"
   ]
  },
  {
   "cell_type": "code",
   "execution_count": 58,
   "metadata": {},
   "outputs": [],
   "source": [
    "import functools\n",
    "\n",
    "def solution(start, length):\n",
    "    \n",
    "    upper_limit = 2000000000\n",
    "    \n",
    "    result = 0\n",
    "    for i in range(length):\n",
    "        if start + i * length > upper_limit:\n",
    "            break\n",
    "        elif start + i * length <= upper_limit < start + i * length + (length - i):\n",
    "            new_row = [result] + list(range(start + i * length, upper_limit + 1))\n",
    "            result = functools.reduce(lambda x, y: x ^ y, new_row)\n",
    "            break\n",
    "        else:\n",
    "            new_row = [result] + list(range(start + i * length, start + i * length + (length - i)))\n",
    "            result = functools.reduce(lambda x, y: x ^ y, new_row)\n",
    "        \n",
    "    return result"
   ]
  },
  {
   "cell_type": "code",
   "execution_count": 140,
   "metadata": {},
   "outputs": [],
   "source": [
    "def solution(start, length):\n",
    "    \n",
    "    upper_limit = 2000000000\n",
    "    \n",
    "    result = 0\n",
    "    for i in range(length):\n",
    "        if start + i * length > upper_limit:\n",
    "            break\n",
    "        elif start + i * length <= upper_limit < start + i * length + (length - i):\n",
    "            for j in range(start + i * length, upper_limit + 1):\n",
    "                result ^= j\n",
    "            break\n",
    "        else:\n",
    "            for j in range(start + i * length, start + i * length + (length - i)):\n",
    "                result ^= j\n",
    "        \n",
    "    return result"
   ]
  },
  {
   "cell_type": "code",
   "execution_count": 308,
   "metadata": {},
   "outputs": [],
   "source": [
    "def solution(start, length):\n",
    "    \n",
    "    upper_limit = 2000000000\n",
    "    \n",
    "    result = 0\n",
    "    for i in range(length):\n",
    "        if start + i * length > upper_limit:\n",
    "            break\n",
    "        elif start + i * length <= upper_limit < start + i * length + (length - i):\n",
    "            result ^= xor_consecutive(start + i * length, upper_limit)\n",
    "            break\n",
    "        else:\n",
    "            result ^= xor_consecutive(start + i * length, start + i * length + (length - i) - 1)\n",
    "        \n",
    "    return result\n",
    "\n",
    "def xor_consecutive(start, end):\n",
    "    return xor_consecutive_helper(start - 1) ^ xor_consecutive_helper(end)\n",
    "\n",
    "def xor_consecutive_helper(n):\n",
    "    if n % 4 == 0:\n",
    "        return n\n",
    "    elif n % 4 == 1:\n",
    "        return 1\n",
    "    elif n % 4 == 2:\n",
    "        return n + 1\n",
    "    else:\n",
    "        return 0"
   ]
  },
  {
   "cell_type": "markdown",
   "metadata": {},
   "source": [
    "## Testing"
   ]
  },
  {
   "cell_type": "code",
   "execution_count": 314,
   "metadata": {},
   "outputs": [
    {
     "name": "stdout",
     "output_type": "stream",
     "text": [
      "0\n"
     ]
    }
   ],
   "source": [
    "print(solution(0, 1))"
   ]
  },
  {
   "cell_type": "code",
   "execution_count": 315,
   "metadata": {},
   "outputs": [
    {
     "name": "stdout",
     "output_type": "stream",
     "text": [
      "2\n"
     ]
    }
   ],
   "source": [
    "print(solution(0, 3))"
   ]
  },
  {
   "cell_type": "code",
   "execution_count": 316,
   "metadata": {},
   "outputs": [
    {
     "name": "stdout",
     "output_type": "stream",
     "text": [
      "14\n"
     ]
    }
   ],
   "source": [
    "print(solution(17, 4))"
   ]
  },
  {
   "cell_type": "code",
   "execution_count": 317,
   "metadata": {},
   "outputs": [
    {
     "name": "stdout",
     "output_type": "stream",
     "text": [
      "82460672\n"
     ]
    }
   ],
   "source": [
    "print(solution(0, 10000))"
   ]
  }
 ],
 "metadata": {
  "kernelspec": {
   "display_name": "Python 3",
   "language": "python",
   "name": "python3"
  },
  "language_info": {
   "codemirror_mode": {
    "name": "ipython",
    "version": 3
   },
   "file_extension": ".py",
   "mimetype": "text/x-python",
   "name": "python",
   "nbconvert_exporter": "python",
   "pygments_lexer": "ipython3",
   "version": "3.7.6"
  }
 },
 "nbformat": 4,
 "nbformat_minor": 4
}
