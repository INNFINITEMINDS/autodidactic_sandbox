{
 "cells": [
  {
   "cell_type": "markdown",
   "metadata": {},
   "source": [
    "# Level 3b\n",
    "\n",
    "## Problem statement\n",
    "\n",
    "Lambda has given you an overview of the types of bricks available, plus a budget. You can buy different amounts of the different types of bricks (for example, 3 little pink bricks, or 5 blue lace bricks). Commander Lambda wants to know how many different types of staircases can be built with each amount of bricks, so she can pick the one with the most options.\n",
    "\n",
    "Each type of staircase should consist of 2 or more steps. No two steps are allowed to be at the same height, each step must be lower than the previous one. All steps must contain at least one brick. A step's height is classified as the total amount of bricks that make up that step.\n",
    "\n",
    "For example, when N = 3, you have only 1 choice of how to build the staircase, with the first step having a height of 2 and the second step having a height of 1: (# indicates a brick)\n",
    "\n",
    "\\#<br>\n",
    "\\##<br>\n",
    "21\n",
    "\n",
    "When N = 4, you still only have 1 staircase choice:\n",
    "\n",
    "\\#<br>\n",
    "\\#<br>\n",
    "\\##<br>\n",
    "31\n",
    "\n",
    "But when N = 5, there are two ways you can build a staircase from the given bricks. The two staircases can have heights (4, 1) or (3, 2), as shown below:\n",
    "\n",
    "\\#<br>\n",
    "\\#<br>\n",
    "\\#<br>\n",
    "\\##<br>\n",
    "41\n",
    "\n",
    "\\#<br>\n",
    "\\##<br>\n",
    "\\##<br>\n",
    "32\n",
    "\n",
    "Write a function called solution(n) that takes a positive integer n and returns the number of different staircases that can be built from exactly n bricks. n will always be at least 3 ( so you can have a staircase at all), but no more than 200, because Commander Lambda's not made of money!"
   ]
  },
  {
   "cell_type": "code",
   "execution_count": 114,
   "metadata": {},
   "outputs": [],
   "source": [
    "import math\n",
    "\n",
    "def solution(n):\n",
    "    \n",
    "    memo = dict()\n",
    "    return solution_helper(n, n, memo) - 1\n",
    "\n",
    "def solution_helper(n, max_num, memo):\n",
    "    \n",
    "    if n < 3:\n",
    "        return 1\n",
    "    \n",
    "    # Cantor pairing function.\n",
    "    hash_value = (n + max_num) * (n + max_num + 1) // 2 + max_num\n",
    "    if hash_value in memo:\n",
    "        return memo[hash_value]\n",
    "    \n",
    "    # Derived from sum of arithmetic sequence and formula for solving a quadratic equation.\n",
    "    m = math.ceil((-1 + math.sqrt(1 + 8 * n)) / 2)\n",
    "    count = 1\n",
    "    \n",
    "    for i in range(m, max_num):\n",
    "        remainder = n - i\n",
    "        count += solution_helper(remainder, min(remainder, i - 1), memo)\n",
    "            \n",
    "    memo[hash_value] = count\n",
    "    \n",
    "    return count"
   ]
  },
  {
   "cell_type": "code",
   "execution_count": 100,
   "metadata": {},
   "outputs": [
    {
     "name": "stdout",
     "output_type": "stream",
     "text": [
      "solution 1 0\n",
      "solution 2 0\n",
      "solution 3 1\n",
      "solution 4 1\n",
      "solution 5 2\n",
      "solution 6 3\n",
      "solution 7 4\n",
      "solution 8 5\n",
      "solution 9 7\n",
      "solution 10 9\n",
      "solution 11 11\n"
     ]
    }
   ],
   "source": [
    "for i in range(1, 12):\n",
    "    print('solution', i, solution(i))"
   ]
  },
  {
   "cell_type": "code",
   "execution_count": 115,
   "metadata": {},
   "outputs": [
    {
     "name": "stdout",
     "output_type": "stream",
     "text": [
      "3109416\n"
     ]
    }
   ],
   "source": [
    "print(solution(140))"
   ]
  },
  {
   "cell_type": "code",
   "execution_count": null,
   "metadata": {},
   "outputs": [],
   "source": []
  }
 ],
 "metadata": {
  "kernelspec": {
   "display_name": "Python 3",
   "language": "python",
   "name": "python3"
  },
  "language_info": {
   "codemirror_mode": {
    "name": "ipython",
    "version": 3
   },
   "file_extension": ".py",
   "mimetype": "text/x-python",
   "name": "python",
   "nbconvert_exporter": "python",
   "pygments_lexer": "ipython3",
   "version": "3.7.6"
  }
 },
 "nbformat": 4,
 "nbformat_minor": 4
}
