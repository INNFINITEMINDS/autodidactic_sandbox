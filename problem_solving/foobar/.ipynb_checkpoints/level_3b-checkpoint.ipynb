{
 "cells": [
  {
   "cell_type": "markdown",
   "metadata": {},
   "source": [
    "# Level 3b\n",
    "\n",
    "## Problem statement\n",
    "\n",
    "Lambda has given you an overview of the types of bricks available, plus a budget. You can buy different amounts of the different types of bricks (for example, 3 little pink bricks, or 5 blue lace bricks). Commander Lambda wants to know how many different types of staircases can be built with each amount of bricks, so she can pick the one with the most options.\n",
    "\n",
    "Each type of staircase should consist of 2 or more steps. No two steps are allowed to be at the same height, each step must be lower than the previous one. All steps must contain at least one brick. A step's height is classified as the total amount of bricks that make up that step.\n",
    "\n",
    "For example, when N = 3, you have only 1 choice of how to build the staircase, with the first step having a height of 2 and the second step having a height of 1: (# indicates a brick)\n",
    "\n",
    "\\#<br>\n",
    "\\##<br>\n",
    "21\n",
    "\n",
    "When N = 4, you still only have 1 staircase choice:\n",
    "\n",
    "\\#<br>\n",
    "\\#<br>\n",
    "\\##<br>\n",
    "31\n",
    "\n",
    "But when N = 5, there are two ways you can build a staircase from the given bricks. The two staircases can have heights (4, 1) or (3, 2), as shown below:\n",
    "\n",
    "\\#<br>\n",
    "\\#<br>\n",
    "\\#<br>\n",
    "\\##<br>\n",
    "41\n",
    "\n",
    "\\#<br>\n",
    "\\##<br>\n",
    "\\##<br>\n",
    "32\n",
    "\n",
    "Write a function called solution(n) that takes a positive integer n and returns the number of different staircases that can be built from exactly n bricks. n will always be at least 3 ( so you can have a staircase at all), but no more than 200, because Commander Lambda's not made of money!"
   ]
  },
  {
   "cell_type": "code",
   "execution_count": 141,
   "metadata": {},
   "outputs": [],
   "source": [
    "import math\n",
    "\n",
    "def solution(n):\n",
    "    \n",
    "    memo\n",
    "    return solution_helper(n, n) - 1\n",
    "\n",
    "def solution_helper(n, max_num):\n",
    "    \n",
    "    if n < 3:\n",
    "        return 1\n",
    "    \n",
    "    m = math.ceil((-1 + math.sqrt(1 + 8 * n)) / 2)\n",
    "    \n",
    "    count = 1\n",
    "    \n",
    "    for i in range(m, max_num):\n",
    "        remainder = n - i\n",
    "        if remainder >= i:\n",
    "            count += solution_helper(remainder, i - 1)\n",
    "        else:\n",
    "            count += solution_helper(remainder, remainder)\n",
    "    return count"
   ]
  },
  {
   "cell_type": "code",
   "execution_count": 152,
   "metadata": {},
   "outputs": [
    {
     "name": "stdout",
     "output_type": "stream",
     "text": [
      "3109416\n"
     ]
    }
   ],
   "source": [
    "print(solution(140))"
   ]
  },
  {
   "cell_type": "code",
   "execution_count": 145,
   "metadata": {},
   "outputs": [
    {
     "name": "stdout",
     "output_type": "stream",
     "text": [
      "1 0\n",
      "2 0\n",
      "3 1\n",
      "4 1\n",
      "5 2\n",
      "6 3\n",
      "7 4\n",
      "8 5\n",
      "9 7\n",
      "10 9\n",
      "11 11\n"
     ]
    }
   ],
   "source": [
    "for i in range(1, 12):\n",
    "    print(i, solution(i))"
   ]
  },
  {
   "cell_type": "code",
   "execution_count": 3,
   "metadata": {},
   "outputs": [
    {
     "data": {
      "text/plain": [
       "3"
      ]
     },
     "execution_count": 3,
     "metadata": {},
     "output_type": "execute_result"
    }
   ],
   "source": [
    "5 // 2 + 5 % 2"
   ]
  },
  {
   "cell_type": "code",
   "execution_count": 5,
   "metadata": {},
   "outputs": [
    {
     "name": "stdout",
     "output_type": "stream",
     "text": [
      "5\n",
      "6\n",
      "7\n",
      "8\n",
      "9\n",
      "None\n"
     ]
    }
   ],
   "source": [
    "print(solution_helper(10))"
   ]
  },
  {
   "cell_type": "code",
   "execution_count": 79,
   "metadata": {},
   "outputs": [
    {
     "data": {
      "text/plain": [
       "21"
      ]
     },
     "execution_count": 79,
     "metadata": {},
     "output_type": "execute_result"
    }
   ],
   "source": [
    "1+2+3+4+5+6"
   ]
  },
  {
   "cell_type": "code",
   "execution_count": 62,
   "metadata": {},
   "outputs": [
    {
     "data": {
      "text/plain": [
       "-6"
      ]
     },
     "execution_count": 62,
     "metadata": {},
     "output_type": "execute_result"
    }
   ],
   "source": [
    "(1 + 5) + 5 // 2"
   ]
  },
  {
   "cell_type": "code",
   "execution_count": 71,
   "metadata": {},
   "outputs": [
    {
     "ename": "SyntaxError",
     "evalue": "invalid syntax (<ipython-input-71-5b436da18b51>, line 1)",
     "output_type": "error",
     "traceback": [
      "\u001b[0;36m  File \u001b[0;32m\"<ipython-input-71-5b436da18b51>\"\u001b[0;36m, line \u001b[0;32m1\u001b[0m\n\u001b[0;31m    (1+m) m / 2 = n\u001b[0m\n\u001b[0m          ^\u001b[0m\n\u001b[0;31mSyntaxError\u001b[0m\u001b[0;31m:\u001b[0m invalid syntax\n"
     ]
    }
   ],
   "source": [
    "(1+m) m / 2 = n\n",
    "(1+m)m=2n\n",
    "m^2 + m - 2n = 0\n",
    "\n",
    "-1 - sqrt(1+8n) / 2"
   ]
  },
  {
   "cell_type": "code",
   "execution_count": 89,
   "metadata": {},
   "outputs": [
    {
     "name": "stdout",
     "output_type": "stream",
     "text": [
      "1 1\n",
      "2 2\n",
      "3 2\n",
      "4 3\n",
      "5 3\n",
      "6 3\n",
      "7 4\n",
      "8 4\n",
      "9 4\n"
     ]
    }
   ],
   "source": [
    "import math\n",
    "for i in range(1, 10):\n",
    "    print(i, math.ceil((-1 + math.sqrt(1 + 8 * i)) / 2))"
   ]
  },
  {
   "cell_type": "code",
   "execution_count": null,
   "metadata": {},
   "outputs": [],
   "source": []
  }
 ],
 "metadata": {
  "kernelspec": {
   "display_name": "Python 3",
   "language": "python",
   "name": "python3"
  },
  "language_info": {
   "codemirror_mode": {
    "name": "ipython",
    "version": 3
   },
   "file_extension": ".py",
   "mimetype": "text/x-python",
   "name": "python",
   "nbconvert_exporter": "python",
   "pygments_lexer": "ipython3",
   "version": "3.7.6"
  }
 },
 "nbformat": 4,
 "nbformat_minor": 4
}
