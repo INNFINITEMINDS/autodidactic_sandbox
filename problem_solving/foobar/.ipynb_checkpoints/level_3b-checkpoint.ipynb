{
 "cells": [
  {
   "cell_type": "markdown",
   "metadata": {},
   "source": [
    "# Level 3b\n",
    "\n",
    "## Problem statement\n",
    "\n",
    "Lambda has given you an overview of the types of bricks available, plus a budget. You can buy different amounts of the different types of bricks (for example, 3 little pink bricks, or 5 blue lace bricks). Commander Lambda wants to know how many different types of staircases can be built with each amount of bricks, so she can pick the one with the most options.\n",
    "\n",
    "Each type of staircase should consist of 2 or more steps. No two steps are allowed to be at the same height, each step must be lower than the previous one. All steps must contain at least one brick. A step's height is classified as the total amount of bricks that make up that step.\n",
    "\n",
    "For example, when N = 3, you have only 1 choice of how to build the staircase, with the first step having a height of 2 and the second step having a height of 1: (# indicates a brick)\n",
    "\n",
    "\\#<br>\n",
    "\\##<br>\n",
    "21\n",
    "\n",
    "When N = 4, you still only have 1 staircase choice:\n",
    "\n",
    "\\#<br>\n",
    "\\#<br>\n",
    "\\##<br>\n",
    "31\n",
    "\n",
    "But when N = 5, there are two ways you can build a staircase from the given bricks. The two staircases can have heights (4, 1) or (3, 2), as shown below:\n",
    "\n",
    "\\#<br>\n",
    "\\#<br>\n",
    "\\#<br>\n",
    "\\##<br>\n",
    "41\n",
    "\n",
    "\\#<br>\n",
    "\\##<br>\n",
    "\\##<br>\n",
    "32\n",
    "\n",
    "Write a function called solution(n) that takes a positive integer n and returns the number of different staircases that can be built from exactly n bricks. n will always be at least 3 (so you can have a staircase at all), but no more than 200."
   ]
  },
  {
   "cell_type": "code",
   "execution_count": 50,
   "metadata": {},
   "outputs": [],
   "source": [
    "import math\n",
    "\n",
    "def solution(n):\n",
    "    \n",
    "    memo = dict()\n",
    "    return solution_helper(n, n, memo) - 1\n",
    "\n",
    "def solution_helper(n, max_num, memo):\n",
    "    \n",
    "    if n < 3:\n",
    "        return 1\n",
    "    \n",
    "    # Cantor pairing function.\n",
    "    hash_value = (n + max_num) * (n + max_num + 1) // 2 + max_num\n",
    "    if hash_value in memo:\n",
    "        return memo[hash_value]\n",
    "    \n",
    "    # Derived from sum of arithmetic sequence and formula for solving a quadratic equation.\n",
    "    m = int(math.ceil((-1 + math.sqrt(1 + 8 * n)) / 2.))\n",
    "    count = 0\n",
    "    \n",
    "    for i in range(m, max_num + 1):\n",
    "        remainder = n - i\n",
    "        count += solution_helper(remainder, min(remainder, i - 1), memo)\n",
    "            \n",
    "    memo[hash_value] = count\n",
    "    \n",
    "    return count"
   ]
  },
  {
   "cell_type": "markdown",
   "metadata": {},
   "source": [
    "## Testing\n",
    "\n",
    "Input: solution(3)<br>\n",
    "Output: 1\n",
    "\n",
    "Input: solution(200)<br>\n",
    "Output: 487067745"
   ]
  },
  {
   "cell_type": "code",
   "execution_count": 51,
   "metadata": {},
   "outputs": [
    {
     "name": "stdout",
     "output_type": "stream",
     "text": [
      "1\n"
     ]
    }
   ],
   "source": [
    "print(solution(3))"
   ]
  },
  {
   "cell_type": "code",
   "execution_count": 52,
   "metadata": {},
   "outputs": [
    {
     "name": "stdout",
     "output_type": "stream",
     "text": [
      "487067745\n"
     ]
    }
   ],
   "source": [
    "print(solution(200))"
   ]
  }
 ],
 "metadata": {
  "kernelspec": {
   "display_name": "Python 3",
   "language": "python",
   "name": "python3"
  },
  "language_info": {
   "codemirror_mode": {
    "name": "ipython",
    "version": 3
   },
   "file_extension": ".py",
   "mimetype": "text/x-python",
   "name": "python",
   "nbconvert_exporter": "python",
   "pygments_lexer": "ipython3",
   "version": "3.7.6"
  }
 },
 "nbformat": 4,
 "nbformat_minor": 4
}
