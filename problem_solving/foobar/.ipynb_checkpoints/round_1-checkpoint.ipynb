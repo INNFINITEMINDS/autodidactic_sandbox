{
 "cells": [
  {
   "cell_type": "markdown",
   "metadata": {},
   "source": [
    "# Round 1\n",
    "\n",
    "## Problem\n",
    "\n",
    "Due to the nature of the space station's outter panelling, all of its solar panels must be squares. Fortunately, you have one very large and flat area of solar material, a pair of industrial-strength scissors, and enough MegaCorp Solar Tape(TM) to piece together any excess panel material into more squares.\n",
    "\n",
    "For example, if you have a total of 12 square yards of solar material, you would be able to make one $3 \\times 3$ panel (with a total area of 9). That would leave 3 square yards, so you can turn those into three $1 \\times 1$ square solar panels.\n",
    "\n",
    "Write a function $solution(area)$ that takes as its input a single unit of measure representing the total area of solar panels you have (between 1 and 1,000,000 inclusive) and returns a list of the areas of the largest squares you could make out of those panels, starting with the largest squares first. So, following the example above, $solution(12)$ would return $[9, 1, 1, 1]$."
   ]
  },
  {
   "cell_type": "markdown",
   "metadata": {},
   "source": [
    "## Solution"
   ]
  },
  {
   "cell_type": "code",
   "execution_count": 19,
   "metadata": {},
   "outputs": [],
   "source": [
    "def solution(area):\n",
    "    'Returns a list of the largest squares that can be made out of the area in descending order.'\n",
    "    \n",
    "    # Create a list of the square numbers that could make up the the total amount.\n",
    "    squares = []\n",
    "    i = 0\n",
    "    while i ** 2 <= area:\n",
    "        squares.append(i ** 2)\n",
    "        i += 1\n",
    "    \n",
    "    # Iteratively break down the total area by subtracting the largest possible square numbers.\n",
    "    total = area\n",
    "    result = []\n",
    "    i = len(squares) - 1\n",
    "    while total > 0:\n",
    "        if squares[i] <= total:\n",
    "            total -= squares[i]\n",
    "            result.append(squares[i])\n",
    "        else:\n",
    "            i -= 1\n",
    "    \n",
    "    return result"
   ]
  },
  {
   "cell_type": "markdown",
   "metadata": {},
   "source": [
    "## Testing"
   ]
  },
  {
   "cell_type": "code",
   "execution_count": 2,
   "metadata": {},
   "outputs": [],
   "source": [
    "import math\n",
    "\n",
    "def validate_solution(area, result):\n",
    "    'Validates the results of the problem solver.'\n",
    "    \n",
    "    assert sum(result) == area, 'Total does not add up to the area given.'\n",
    "    \n",
    "    for i in range(len(result) - 1):\n",
    "        assert math.sqrt(result[i]) // 1 == math.sqrt(result[i]), result[i] + 'is not a square number.'\n",
    "        \n",
    "    return area, result, True"
   ]
  },
  {
   "cell_type": "markdown",
   "metadata": {},
   "source": [
    "Input: solution.solution(15324)\n",
    "\n",
    "Output: [15129, 169, 25, 1]"
   ]
  },
  {
   "cell_type": "code",
   "execution_count": 3,
   "metadata": {},
   "outputs": [
    {
     "data": {
      "text/plain": [
       "[15129, 169, 25, 1]"
      ]
     },
     "execution_count": 3,
     "metadata": {},
     "output_type": "execute_result"
    }
   ],
   "source": [
    "solution(15324)"
   ]
  },
  {
   "cell_type": "markdown",
   "metadata": {},
   "source": [
    "Input: solution.solution(12)\n",
    "\n",
    "Output: [9, 1, 1, 1]"
   ]
  },
  {
   "cell_type": "code",
   "execution_count": 4,
   "metadata": {},
   "outputs": [
    {
     "data": {
      "text/plain": [
       "[9, 1, 1, 1]"
      ]
     },
     "execution_count": 4,
     "metadata": {},
     "output_type": "execute_result"
    }
   ],
   "source": [
    "solution(12)"
   ]
  },
  {
   "cell_type": "code",
   "execution_count": 7,
   "metadata": {},
   "outputs": [
    {
     "name": "stdout",
     "output_type": "stream",
     "text": [
      "(12, [9, 1, 1, 1], True)\n"
     ]
    }
   ],
   "source": [
    "area = 12\n",
    "print(validate_solution(area, solution(area)))"
   ]
  },
  {
   "cell_type": "code",
   "execution_count": 25,
   "metadata": {},
   "outputs": [
    {
     "name": "stdout",
     "output_type": "stream",
     "text": [
      "(1, [1], True)\n",
      "(2, [1, 1], True)\n",
      "(3, [1, 1, 1], True)\n",
      "(4, [4], True)\n",
      "(5, [4, 1], True)\n",
      "(6, [4, 1, 1], True)\n",
      "(7, [4, 1, 1, 1], True)\n",
      "(8, [4, 4], True)\n",
      "(9, [9], True)\n",
      "(10, [9, 1], True)\n",
      "(11, [9, 1, 1], True)\n",
      "(12, [9, 1, 1, 1], True)\n",
      "(13, [9, 4], True)\n",
      "(14, [9, 4, 1], True)\n",
      "(15, [9, 4, 1, 1], True)\n",
      "(16, [16], True)\n",
      "(17, [16, 1], True)\n",
      "(18, [16, 1, 1], True)\n",
      "(19, [16, 1, 1, 1], True)\n",
      "(20, [16, 4], True)\n",
      "(21, [16, 4, 1], True)\n",
      "(22, [16, 4, 1, 1], True)\n",
      "(23, [16, 4, 1, 1, 1], True)\n",
      "(24, [16, 4, 4], True)\n",
      "(25, [25], True)\n",
      "(26, [25, 1], True)\n",
      "(27, [25, 1, 1], True)\n",
      "(28, [25, 1, 1, 1], True)\n",
      "(29, [25, 4], True)\n",
      "(30, [25, 4, 1], True)\n",
      "(31, [25, 4, 1, 1], True)\n",
      "(32, [25, 4, 1, 1, 1], True)\n",
      "(33, [25, 4, 4], True)\n",
      "(34, [25, 9], True)\n",
      "(35, [25, 9, 1], True)\n",
      "(36, [36], True)\n",
      "(37, [36, 1], True)\n",
      "(38, [36, 1, 1], True)\n",
      "(39, [36, 1, 1, 1], True)\n",
      "(40, [36, 4], True)\n",
      "(41, [36, 4, 1], True)\n",
      "(42, [36, 4, 1, 1], True)\n",
      "(43, [36, 4, 1, 1, 1], True)\n",
      "(44, [36, 4, 4], True)\n",
      "(45, [36, 9], True)\n",
      "(46, [36, 9, 1], True)\n",
      "(47, [36, 9, 1, 1], True)\n",
      "(48, [36, 9, 1, 1, 1], True)\n",
      "(49, [49], True)\n",
      "(50, [49, 1], True)\n",
      "(51, [49, 1, 1], True)\n",
      "(52, [49, 1, 1, 1], True)\n",
      "(53, [49, 4], True)\n",
      "(54, [49, 4, 1], True)\n",
      "(55, [49, 4, 1, 1], True)\n",
      "(56, [49, 4, 1, 1, 1], True)\n",
      "(57, [49, 4, 4], True)\n",
      "(58, [49, 9], True)\n",
      "(59, [49, 9, 1], True)\n",
      "(60, [49, 9, 1, 1], True)\n",
      "(61, [49, 9, 1, 1, 1], True)\n",
      "(62, [49, 9, 4], True)\n",
      "(63, [49, 9, 4, 1], True)\n",
      "(64, [64], True)\n",
      "(65, [64, 1], True)\n",
      "(66, [64, 1, 1], True)\n",
      "(67, [64, 1, 1, 1], True)\n",
      "(68, [64, 4], True)\n",
      "(69, [64, 4, 1], True)\n",
      "(70, [64, 4, 1, 1], True)\n",
      "(71, [64, 4, 1, 1, 1], True)\n",
      "(72, [64, 4, 4], True)\n",
      "(73, [64, 9], True)\n",
      "(74, [64, 9, 1], True)\n",
      "(75, [64, 9, 1, 1], True)\n",
      "(76, [64, 9, 1, 1, 1], True)\n",
      "(77, [64, 9, 4], True)\n",
      "(78, [64, 9, 4, 1], True)\n",
      "(79, [64, 9, 4, 1, 1], True)\n",
      "(80, [64, 16], True)\n",
      "(81, [81], True)\n",
      "(82, [81, 1], True)\n",
      "(83, [81, 1, 1], True)\n",
      "(84, [81, 1, 1, 1], True)\n",
      "(85, [81, 4], True)\n",
      "(86, [81, 4, 1], True)\n",
      "(87, [81, 4, 1, 1], True)\n",
      "(88, [81, 4, 1, 1, 1], True)\n",
      "(89, [81, 4, 4], True)\n",
      "(90, [81, 9], True)\n",
      "(91, [81, 9, 1], True)\n",
      "(92, [81, 9, 1, 1], True)\n",
      "(93, [81, 9, 1, 1, 1], True)\n",
      "(94, [81, 9, 4], True)\n",
      "(95, [81, 9, 4, 1], True)\n",
      "(96, [81, 9, 4, 1, 1], True)\n",
      "(97, [81, 16], True)\n",
      "(98, [81, 16, 1], True)\n",
      "(99, [81, 16, 1, 1], True)\n"
     ]
    }
   ],
   "source": [
    "for i in range(1, 100):\n",
    "    print(validate_solution(i, solution(i)))"
   ]
  }
 ],
 "metadata": {
  "kernelspec": {
   "display_name": "Python 3",
   "language": "python",
   "name": "python3"
  },
  "language_info": {
   "codemirror_mode": {
    "name": "ipython",
    "version": 3
   },
   "file_extension": ".py",
   "mimetype": "text/x-python",
   "name": "python",
   "nbconvert_exporter": "python",
   "pygments_lexer": "ipython3",
   "version": "3.7.6"
  }
 },
 "nbformat": 4,
 "nbformat_minor": 4
}
