{
 "cells": [
  {
   "cell_type": "markdown",
   "metadata": {},
   "source": [
    "# Leetcode problems\n",
    "\n",
    "Problems found at [Leetcode website](https://leetcode.com/problemset/all/)."
   ]
  },
  {
   "cell_type": "markdown",
   "metadata": {},
   "source": [
    "## Import packages"
   ]
  },
  {
   "cell_type": "code",
   "execution_count": 1,
   "metadata": {},
   "outputs": [],
   "source": [
    "import numpy as np\n",
    "import math\n",
    "from collections import deque"
   ]
  },
  {
   "cell_type": "markdown",
   "metadata": {},
   "source": [
    "# Problem 3\n",
    "\n",
    "Given a string, find the length of the longest substring without repeating characters.\n",
    "\n",
    "#### Solution"
   ]
  },
  {
   "cell_type": "code",
   "execution_count": 2,
   "metadata": {},
   "outputs": [],
   "source": [
    "def solve_problem_3(input):\n",
    "    input = list(input)\n",
    "    str = [input[0]]\n",
    "    highest_length = 1\n",
    "    count = 1\n",
    "    for i in range(1, len(input)):\n",
    "        if input[i] == str:\n",
    "            count += 1\n",
    "        elif input[i] in str:\n",
    "            if count > highest_length:\n",
    "                highest_length = count\n",
    "            str = [input[i]]\n",
    "            count = 1\n",
    "        else:\n",
    "            str.append(input[i])\n",
    "            count += 1\n",
    "    return highest_length"
   ]
  },
  {
   "cell_type": "markdown",
   "metadata": {},
   "source": [
    "#### Test cases\n",
    "\n",
    "\n",
    "Example 1:<br>\n",
    "Input: \"abcabcbb\"<br>\n",
    "Output: 3 <br>\n",
    "Explanation: The answer is \"abc\", with the length of 3.\n",
    "\n",
    "Example 2:<br>\n",
    "Input: \"bbbbb\"<br>\n",
    "Output: 1<br>\n",
    "Explanation: The answer is \"b\", with the length of 1.\n",
    "\n",
    "Example 3:<br>\n",
    "Input: \"pwwkew\"<br>\n",
    "Output: 3<br>\n",
    "Explanation: The answer is \"wke\", with the length of 3. Note that the answer must be a substring, \"pwke\" is a subsequence and not a substring."
   ]
  },
  {
   "cell_type": "code",
   "execution_count": 3,
   "metadata": {},
   "outputs": [
    {
     "name": "stdout",
     "output_type": "stream",
     "text": [
      "3\n",
      "1\n",
      "3\n"
     ]
    }
   ],
   "source": [
    "print(solve_problem_3('abcabcbb'))\n",
    "print(solve_problem_3('bbbbb'))\n",
    "print(solve_problem_3('pwwkew'))"
   ]
  }
 ],
 "metadata": {
  "kernelspec": {
   "display_name": "Python 3",
   "language": "python",
   "name": "python3"
  },
  "language_info": {
   "codemirror_mode": {
    "name": "ipython",
    "version": 3
   },
   "file_extension": ".py",
   "mimetype": "text/x-python",
   "name": "python",
   "nbconvert_exporter": "python",
   "pygments_lexer": "ipython3",
   "version": "3.7.6"
  }
 },
 "nbformat": 4,
 "nbformat_minor": 4
}
