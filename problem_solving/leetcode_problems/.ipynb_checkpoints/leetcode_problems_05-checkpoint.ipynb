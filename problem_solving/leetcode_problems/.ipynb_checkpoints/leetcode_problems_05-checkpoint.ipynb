{
 "cells": [
  {
   "cell_type": "markdown",
   "metadata": {},
   "source": [
    "# Leetcode problems\n",
    "\n",
    "Problems found at [Leetcode website](https://leetcode.com/problemset/all/)."
   ]
  },
  {
   "cell_type": "markdown",
   "metadata": {},
   "source": [
    "## Import packages"
   ]
  },
  {
   "cell_type": "code",
   "execution_count": 1,
   "metadata": {},
   "outputs": [],
   "source": [
    "import numpy as np\n",
    "import math\n",
    "from collections import deque"
   ]
  },
  {
   "cell_type": "markdown",
   "metadata": {},
   "source": [
    "## Problem 5\n",
    "\n",
    "Given a string $s$, find the longest palindromic substring in $s$.\n",
    "\n",
    "You may assume that the maximum length of $s$ is 1000.\n",
    "\n",
    "#### Solution"
   ]
  },
  {
   "cell_type": "code",
   "execution_count": 2,
   "metadata": {},
   "outputs": [],
   "source": [
    "def is_palindrome(s):\n",
    "    if s == s[::-1]:\n",
    "        return True\n",
    "    else:\n",
    "        return False\n",
    "\n",
    "def solve_problem_5(s):\n",
    "    longest_palindrome_length = 0\n",
    "    for i in range(0, len(s)):\n",
    "        for j in range(i, len(s)):\n",
    "            if is_palindrome(s[i:j]) and j-i > longest_palindrome_length:\n",
    "                longest_palindrome_length = j-i\n",
    "                longest_palindrome = s[i:j]\n",
    "    return \"\".join(longest_palindrome)"
   ]
  },
  {
   "cell_type": "markdown",
   "metadata": {},
   "source": [
    "#### Test cases\n",
    "\n",
    "Example 1:<br>\n",
    "Input: \"babad\"<br>\n",
    "Output: \"bab\"<br>\n",
    "Note: \"aba\" is also a valid answer.\n",
    "\n",
    "Example 2:<br>\n",
    "Input: \"cbbd\"<br>\n",
    "Output: \"bb\""
   ]
  },
  {
   "cell_type": "code",
   "execution_count": 3,
   "metadata": {},
   "outputs": [
    {
     "name": "stdout",
     "output_type": "stream",
     "text": [
      "bab\n",
      "bb\n"
     ]
    }
   ],
   "source": [
    "print(solve_problem_5('babad'))\n",
    "print(solve_problem_5('cbbd'))"
   ]
  }
 ],
 "metadata": {
  "kernelspec": {
   "display_name": "Python 3",
   "language": "python",
   "name": "python3"
  },
  "language_info": {
   "codemirror_mode": {
    "name": "ipython",
    "version": 3
   },
   "file_extension": ".py",
   "mimetype": "text/x-python",
   "name": "python",
   "nbconvert_exporter": "python",
   "pygments_lexer": "ipython3",
   "version": "3.7.6"
  }
 },
 "nbformat": 4,
 "nbformat_minor": 4
}
