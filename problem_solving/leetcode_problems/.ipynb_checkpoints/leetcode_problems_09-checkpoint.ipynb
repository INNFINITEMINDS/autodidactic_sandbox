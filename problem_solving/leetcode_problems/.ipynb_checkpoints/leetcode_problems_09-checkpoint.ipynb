{
 "cells": [
  {
   "cell_type": "markdown",
   "metadata": {},
   "source": [
    "# Leetcode problems\n",
    "\n",
    "Problems found at [Leetcode website](https://leetcode.com/problemset/all/)."
   ]
  },
  {
   "cell_type": "markdown",
   "metadata": {},
   "source": [
    "## Import packages"
   ]
  },
  {
   "cell_type": "code",
   "execution_count": 1,
   "metadata": {},
   "outputs": [],
   "source": [
    "import numpy as np\n",
    "import math\n",
    "from collections import deque"
   ]
  },
  {
   "cell_type": "markdown",
   "metadata": {},
   "source": [
    "## Problem 9\n",
    "\n",
    "Determine whether an integer is a palindrome. An integer is a palindrome when it reads the same backward as forward.\n",
    "\n",
    "#### Solution 9"
   ]
  },
  {
   "cell_type": "code",
   "execution_count": 2,
   "metadata": {},
   "outputs": [],
   "source": [
    "def is_palindrome1(x):\n",
    "    'Returns True if x is a palindrome, false if not.'\n",
    "    x_string_list = list(str(x))\n",
    "    x_string_list_reversed = list(x_string_list)[::-1]\n",
    "    if x_string_list == x_string_list_reversed:\n",
    "        return True\n",
    "    else:\n",
    "        return False\n",
    "    \n",
    "def is_palindrome2(s):\n",
    "    if str(s) == str(s)[::-1]:\n",
    "        return True\n",
    "    else:\n",
    "        return False\n",
    "\n"
   ]
  },
  {
   "cell_type": "markdown",
   "metadata": {},
   "source": [
    "#### Test cases\n",
    "\n",
    "Example 1:<br>\n",
    "Input: 121<br>\n",
    "Output: true\n",
    "    \n",
    "Example 2:<br>\n",
    "Input: -121<br>\n",
    "Output: false<br>\n",
    "Explanation: From left to right, it reads -121. From right to left, it becomes 121-. Therefore it is not a palindrome.\n",
    "\n",
    "Example 3:<br>\n",
    "Input: 10<br>\n",
    "Output: false<br>\n",
    "Explanation: Reads 01 from right to left. Therefore it is not a palindrome."
   ]
  },
  {
   "cell_type": "code",
   "execution_count": 3,
   "metadata": {},
   "outputs": [
    {
     "name": "stdout",
     "output_type": "stream",
     "text": [
      "True\n",
      "False\n",
      "False\n"
     ]
    }
   ],
   "source": [
    "print(is_palindrome2(121))\n",
    "print(is_palindrome2(-121))\n",
    "print(is_palindrome2(10))"
   ]
  }
 ],
 "metadata": {
  "kernelspec": {
   "display_name": "Python 3",
   "language": "python",
   "name": "python3"
  },
  "language_info": {
   "codemirror_mode": {
    "name": "ipython",
    "version": 3
   },
   "file_extension": ".py",
   "mimetype": "text/x-python",
   "name": "python",
   "nbconvert_exporter": "python",
   "pygments_lexer": "ipython3",
   "version": "3.7.6"
  }
 },
 "nbformat": 4,
 "nbformat_minor": 4
}
