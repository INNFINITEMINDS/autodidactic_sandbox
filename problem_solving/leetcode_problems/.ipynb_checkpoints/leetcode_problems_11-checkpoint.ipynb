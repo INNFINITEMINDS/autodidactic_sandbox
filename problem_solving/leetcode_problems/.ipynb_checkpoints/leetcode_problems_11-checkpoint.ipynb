{
 "cells": [
  {
   "cell_type": "markdown",
   "metadata": {},
   "source": [
    "# Leetcode problems\n",
    "\n",
    "Problems found at [Leetcode website](https://leetcode.com/problemset/all/)."
   ]
  },
  {
   "cell_type": "markdown",
   "metadata": {},
   "source": [
    "## Import packages"
   ]
  },
  {
   "cell_type": "code",
   "execution_count": 1,
   "metadata": {},
   "outputs": [],
   "source": [
    "import numpy as np\n",
    "import math\n",
    "from collections import deque"
   ]
  },
  {
   "cell_type": "markdown",
   "metadata": {},
   "source": [
    "## Problem 11\n",
    "\n",
    "Given n non-negative integers $a_{1}$, $a_{2}$, ..., $a_{n}$ , where each represents a point at coordinate ($i$, $ai$).n vertical lines are drawn such that the two endpoints of line $i$ is at ($i$, $ai$) and ($i$, $0$).\n",
    "\n",
    "Find two lines, which together with x-axis forms a container, such that the container contains the most water.<br>\n",
    "Note: You may not slant the container and $n$ is at least 2.\n",
    "\n",
    "#### Solution"
   ]
  },
  {
   "cell_type": "code",
   "execution_count": 2,
   "metadata": {},
   "outputs": [],
   "source": [
    "def solve_problem_11(input):\n",
    "    n = len(input)\n",
    "    greatest_area = 0\n",
    "    for i in range(0, n):\n",
    "        for j in range(i + 1, n):\n",
    "            area = min(input[i], input[j]) * (j - i)\n",
    "            if area > greatest_area:\n",
    "                greatest_area = area\n",
    "    \n",
    "    return greatest_area"
   ]
  },
  {
   "cell_type": "markdown",
   "metadata": {},
   "source": [
    "#### Test cases\n",
    "\n",
    "Example:<br>\n",
    "Input: [1, 8 ,6 ,2 ,5 ,4 ,8 ,3 ,7]<br>\n",
    "Output: 49"
   ]
  },
  {
   "cell_type": "code",
   "execution_count": 3,
   "metadata": {},
   "outputs": [
    {
     "name": "stdout",
     "output_type": "stream",
     "text": [
      "49\n"
     ]
    }
   ],
   "source": [
    "print(solve_problem_11([1, 8, 6, 2, 5, 4, 8, 3, 7]))"
   ]
  }
 ],
 "metadata": {
  "kernelspec": {
   "display_name": "Python 3",
   "language": "python",
   "name": "python3"
  },
  "language_info": {
   "codemirror_mode": {
    "name": "ipython",
    "version": 3
   },
   "file_extension": ".py",
   "mimetype": "text/x-python",
   "name": "python",
   "nbconvert_exporter": "python",
   "pygments_lexer": "ipython3",
   "version": "3.7.6"
  }
 },
 "nbformat": 4,
 "nbformat_minor": 4
}
