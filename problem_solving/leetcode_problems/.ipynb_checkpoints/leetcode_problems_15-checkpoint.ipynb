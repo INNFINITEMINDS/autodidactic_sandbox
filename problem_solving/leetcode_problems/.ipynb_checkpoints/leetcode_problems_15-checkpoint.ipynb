{
 "cells": [
  {
   "cell_type": "markdown",
   "metadata": {},
   "source": [
    "# Leetcode problems\n",
    "\n",
    "Problems found at [Leetcode website](https://leetcode.com/problemset/all/)."
   ]
  },
  {
   "cell_type": "markdown",
   "metadata": {},
   "source": [
    "## Import packages"
   ]
  },
  {
   "cell_type": "code",
   "execution_count": 1,
   "metadata": {},
   "outputs": [],
   "source": [
    "import numpy as np\n",
    "import math\n",
    "from collections import deque"
   ]
  },
  {
   "cell_type": "markdown",
   "metadata": {},
   "source": [
    "## Problem 15\n",
    "\n",
    "Given an array $nums$ of n integers, are there elements a, b, c in nums such that a + b + c = 0? Find all unique triplets in the array which gives the sum of zero.\n",
    "\n",
    "Note:\n",
    "\n",
    "The solution set must not contain duplicate triplets.\n",
    "\n",
    "Example:\n",
    "\n",
    "Given array nums = [-1, 0, 1, 2, -1, -4],\n",
    "\n",
    "A solution set is:\n",
    "[\n",
    "  [-1, 0, 1],\n",
    "  [-1, -1, 2]\n",
    "]\n",
    "\n",
    "## Solution a\n",
    "\n",
    "Brute force."
   ]
  },
  {
   "cell_type": "code",
   "execution_count": 2,
   "metadata": {},
   "outputs": [],
   "source": [
    "def leetcode_15a(nums):\n",
    "    'Find all unique triplets in the array which gives the sum of zero.'\n",
    "    \n",
    "    if isinstance(nums, list) == False: return 'ERROR: Input must be a list.'\n",
    "    \n",
    "    n = len(nums)\n",
    "    if n < 3: return 'ERROR: List must have at least three numbers.'\n",
    "    \n",
    "    result = []\n",
    "    \n",
    "    for i in range(0, n - 2):\n",
    "        for j in range(i + 1, n - 1):\n",
    "            for k in range(j + 1, n):\n",
    "                total = nums[i] + nums[j] + nums[k]\n",
    "                temp = three_number_sort([nums[i], nums[j], nums[k]])\n",
    "                if total == 0 and not(temp in result):\n",
    "                    result.append(temp)\n",
    "    \n",
    "    if len(result) == 0:\n",
    "        return 'No solutions.'\n",
    "    else:\n",
    "        return result\n",
    "    \n",
    "def three_number_sort(input_nums):\n",
    "    output_nums = [-1] * 3\n",
    "    if min(input_nums) == input_nums[0]:\n",
    "        output_nums[0] = input_nums[0]\n",
    "        output_nums[1] = min(input_nums[1], input_nums[2])\n",
    "        output_nums[2] = max(input_nums[1], input_nums[2])\n",
    "    elif min(input_nums) == input_nums[1]:\n",
    "        output_nums[0] = input_nums[1]\n",
    "        output_nums[1] = min(input_nums[0], input_nums[2])\n",
    "        output_nums[2] = max(input_nums[0], input_nums[2])\n",
    "    else:\n",
    "        output_nums[0] = input_nums[2]\n",
    "        output_nums[1] = min(input_nums[0], input_nums[1])\n",
    "        output_nums[2] = max(input_nums[0], input_nums[1])\n",
    "    return output_nums"
   ]
  },
  {
   "cell_type": "markdown",
   "metadata": {},
   "source": [
    "#### Test cases"
   ]
  },
  {
   "cell_type": "code",
   "execution_count": 3,
   "metadata": {},
   "outputs": [
    {
     "name": "stdout",
     "output_type": "stream",
     "text": [
      "[1, 2, 3]\n",
      "[1, 2, 3]\n",
      "[1, 2, 3]\n"
     ]
    }
   ],
   "source": [
    "print(three_number_sort([1, 2, 3]))\n",
    "print(three_number_sort([3, 1, 2]))\n",
    "print(three_number_sort([2, 3, 1]))"
   ]
  },
  {
   "cell_type": "code",
   "execution_count": 4,
   "metadata": {},
   "outputs": [
    {
     "name": "stdout",
     "output_type": "stream",
     "text": [
      "ERROR: Input must be a list.\n"
     ]
    }
   ],
   "source": [
    "print(leetcode_15a(1))"
   ]
  },
  {
   "cell_type": "code",
   "execution_count": 5,
   "metadata": {},
   "outputs": [
    {
     "name": "stdout",
     "output_type": "stream",
     "text": [
      "ERROR: List must have at least three numbers.\n"
     ]
    }
   ],
   "source": [
    "print(leetcode_15a([1, 2]))"
   ]
  },
  {
   "cell_type": "code",
   "execution_count": 6,
   "metadata": {},
   "outputs": [
    {
     "name": "stdout",
     "output_type": "stream",
     "text": [
      "No solutions.\n"
     ]
    }
   ],
   "source": [
    "print(leetcode_15a([1, 2, 3]))"
   ]
  },
  {
   "cell_type": "code",
   "execution_count": 7,
   "metadata": {},
   "outputs": [
    {
     "name": "stdout",
     "output_type": "stream",
     "text": [
      "[[-1, 0, 1], [-1, -1, 2]]\n"
     ]
    }
   ],
   "source": [
    "print(leetcode_15a([-1, 0, 1, 2, -1, -4]))"
   ]
  },
  {
   "cell_type": "markdown",
   "metadata": {},
   "source": [
    "## Solution b\n",
    "\n",
    "Don't iterate through the whole array for the third number. Instead, check if the number is present. Only slightly faster than solution a."
   ]
  },
  {
   "cell_type": "code",
   "execution_count": 8,
   "metadata": {},
   "outputs": [],
   "source": [
    "def leetcode_15b(nums):\n",
    "    'Find all unique triplets in the array which gives the sum of zero.'\n",
    "    \n",
    "    if isinstance(nums, list) == False: return 'ERROR: Input must be a list.'\n",
    "    \n",
    "    n = len(nums)\n",
    "    if n < 3: return 'ERROR: List must have at least three numbers.'\n",
    "    \n",
    "    result = []\n",
    "    \n",
    "    for i in range(0, n - 2):\n",
    "        for j in range(i + 1, n - 1):\n",
    "            total = nums[i] + nums[j]\n",
    "            third_needed = -nums[i] - nums[j]\n",
    "            temp = three_number_sort([nums[i], nums[j], third_needed])\n",
    "            if -total in nums[j + 1:] and not(temp in result):\n",
    "                result.append(temp)\n",
    "    \n",
    "    if len(result) == 0:\n",
    "        return 'No solutions.'\n",
    "    else:\n",
    "        return result"
   ]
  },
  {
   "cell_type": "markdown",
   "metadata": {},
   "source": [
    "#### Test cases"
   ]
  },
  {
   "cell_type": "code",
   "execution_count": 9,
   "metadata": {},
   "outputs": [
    {
     "name": "stdout",
     "output_type": "stream",
     "text": [
      "No solutions.\n"
     ]
    }
   ],
   "source": [
    "print(leetcode_15b([1, 2, 3]))"
   ]
  },
  {
   "cell_type": "code",
   "execution_count": 10,
   "metadata": {},
   "outputs": [
    {
     "name": "stdout",
     "output_type": "stream",
     "text": [
      "[[-1, 0, 1], [-1, -1, 2]]\n"
     ]
    }
   ],
   "source": [
    "print(leetcode_15b([-1, 0, 1, 2, -1, -4]))"
   ]
  },
  {
   "cell_type": "markdown",
   "metadata": {},
   "source": [
    "## Solution c\n",
    "\n",
    "Sort the array first using quick sort. Then use a binary search to find the third number. Much faster than the top two solution."
   ]
  },
  {
   "cell_type": "code",
   "execution_count": 11,
   "metadata": {},
   "outputs": [],
   "source": [
    "def partition(array, start, end):\n",
    "    pivot = array[start]\n",
    "    low = start + 1\n",
    "    high = end\n",
    "\n",
    "    while True:\n",
    "        # If the current value we're looking at is larger than the pivot\n",
    "        # it's in the right place (right side of pivot) and we can move left,\n",
    "        # to the next element.\n",
    "        # We also need to make sure we haven't surpassed the low pointer, since that\n",
    "        # indicates we have already moved all the elements to their correct side of the pivot\n",
    "        while low <= high and array[high] >= pivot:\n",
    "            high = high - 1\n",
    "\n",
    "        # Opposite process of the one above\n",
    "        while low <= high and array[low] <= pivot:\n",
    "            low = low + 1\n",
    "\n",
    "        # We either found a value for both high and low that is out of order\n",
    "        # or low is higher than high, in which case we exit the loop\n",
    "        if low <= high:\n",
    "            array[low], array[high] = array[high], array[low]\n",
    "            # The loop continues\n",
    "        else:\n",
    "            # We exit out of the loop\n",
    "            break\n",
    "\n",
    "    array[start], array[high] = array[high], array[start]\n",
    "\n",
    "    return high\n",
    "\n",
    "def quick_sort(array, start, end):\n",
    "    if start >= end:\n",
    "        return\n",
    "\n",
    "    p = partition(array, start, end)\n",
    "    quick_sort(array, start, p-1)\n",
    "    quick_sort(array, p+1, end)\n",
    "    \n",
    "# Stolen from the internet."
   ]
  },
  {
   "cell_type": "code",
   "execution_count": 12,
   "metadata": {},
   "outputs": [],
   "source": [
    "def binary_search(x, array):\n",
    "    'Finds the position of the scalar x in the sorted array.'\n",
    "    return binary_search_helper(array, 0, len(array) - 1, x)\n",
    "\n",
    "# Returns index of x in arr if present, else -1 \n",
    "def binary_search_helper(arr, low, high, x): \n",
    "  \n",
    "    # Check base case \n",
    "    if high >= low: \n",
    "  \n",
    "        mid = (high + low) // 2\n",
    "  \n",
    "        # If element is present at the middle itself \n",
    "        if arr[mid] == x: \n",
    "            return mid \n",
    "  \n",
    "        # If element is smaller than mid, then it can only \n",
    "        # be present in left subarray \n",
    "        elif arr[mid] > x: \n",
    "            return binary_search_helper(arr, low, mid - 1, x) \n",
    "  \n",
    "        # Else the element can only be present in right subarray \n",
    "        else: \n",
    "            return binary_search_helper(arr, mid + 1, high, x) \n",
    "  \n",
    "    else: \n",
    "        # Element is not present in the array \n",
    "        return -1\n",
    "\n",
    "# Borrowed from the internet."
   ]
  },
  {
   "cell_type": "code",
   "execution_count": 13,
   "metadata": {},
   "outputs": [],
   "source": [
    "def leetcode_15c(nums):\n",
    "    'Find all unique triplets in the array which gives the sum of zero.'\n",
    "    \n",
    "    if isinstance(nums, list) == False: return 'ERROR: Input must be a list.'\n",
    "    \n",
    "    n = len(nums)\n",
    "    if n < 3: return 'ERROR: List must have at least three numbers.'\n",
    "    \n",
    "    quick_sort(nums, 0, n - 1)\n",
    "    \n",
    "    result = []\n",
    "    \n",
    "    for i in range(0, n - 2):\n",
    "        for j in range(i + 1, n - 1):\n",
    "            total = nums[i] + nums[j]\n",
    "            third_needed = -nums[i] - nums[j]\n",
    "            temp = three_number_sort([nums[i], nums[j], third_needed])\n",
    "            if binary_search(third_needed, nums[j + 1:]) != -1 and not(temp in result):\n",
    "                result.append(temp)\n",
    "    \n",
    "    if len(result) == 0:\n",
    "        return 'No solutions.'\n",
    "    else:\n",
    "        return result"
   ]
  },
  {
   "cell_type": "markdown",
   "metadata": {},
   "source": [
    "#### Test cases"
   ]
  },
  {
   "cell_type": "code",
   "execution_count": 14,
   "metadata": {},
   "outputs": [
    {
     "name": "stdout",
     "output_type": "stream",
     "text": [
      "No solutions.\n"
     ]
    }
   ],
   "source": [
    "print(leetcode_15c([1, 2, 3]))"
   ]
  },
  {
   "cell_type": "code",
   "execution_count": 15,
   "metadata": {},
   "outputs": [
    {
     "name": "stdout",
     "output_type": "stream",
     "text": [
      "[[-1, -1, 2], [-1, 0, 1]]\n"
     ]
    }
   ],
   "source": [
    "print(leetcode_15c([-1, 0, 1, 2, -1, -4]))"
   ]
  }
 ],
 "metadata": {
  "kernelspec": {
   "display_name": "Python 3",
   "language": "python",
   "name": "python3"
  },
  "language_info": {
   "codemirror_mode": {
    "name": "ipython",
    "version": 3
   },
   "file_extension": ".py",
   "mimetype": "text/x-python",
   "name": "python",
   "nbconvert_exporter": "python",
   "pygments_lexer": "ipython3",
   "version": "3.7.6"
  }
 },
 "nbformat": 4,
 "nbformat_minor": 4
}
