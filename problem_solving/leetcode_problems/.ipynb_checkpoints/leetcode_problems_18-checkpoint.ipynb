{
 "cells": [
  {
   "cell_type": "markdown",
   "metadata": {},
   "source": [
    "# Leetcode problems\n",
    "\n",
    "Problems found at [Leetcode website](https://leetcode.com/problemset/all/)."
   ]
  },
  {
   "cell_type": "markdown",
   "metadata": {},
   "source": [
    "## Import packages"
   ]
  },
  {
   "cell_type": "code",
   "execution_count": 1,
   "metadata": {},
   "outputs": [],
   "source": [
    "import numpy as np\n",
    "import math\n",
    "from collections import deque"
   ]
  },
  {
   "cell_type": "markdown",
   "metadata": {},
   "source": [
    "## Problem 18\n",
    "\n",
    "Given an array nums of n integers and an integer target, are there elements a, b, c, and d in nums such that a + b + c + d = target? Find all unique quadruplets in the array which gives the sum of target.\n",
    "\n",
    "Note: The solution set must not contain duplicate quadruplets.\n",
    "\n",
    "#### Solution a\n",
    "\n",
    "Brute force solution.\n",
    "\n",
    "Time complexity: $O(n^4)$"
   ]
  },
  {
   "cell_type": "code",
   "execution_count": 18,
   "metadata": {},
   "outputs": [],
   "source": [
    "def leetcode_18a(nums, target):\n",
    "    'Finds combinations of four elements of nums that sum to the target.'\n",
    "    \n",
    "    assert isinstance(nums, list) == True, 'ERROR: nums must be a list.'\n",
    "    assert isinstance(target, int) == True, 'ERROR: target must be a list.'\n",
    "    assert len(nums) >= 4, 'ERROR: Length of nums must be greater than or equal to four.'\n",
    "    \n",
    "    n = len(nums)\n",
    "    sols = []\n",
    "\n",
    "    for i in range(0, n - 3):\n",
    "        for j in range(i + 1, n - 2):\n",
    "            for k in range(j + 1, n - 1):\n",
    "                for l in range(k + 1, n):\n",
    "                    sm = nums[i] + nums[j] + nums[k] + nums[l]\n",
    "                    if sm == target:\n",
    "                        sol = [nums[i], nums[j], nums[k], nums[l]]\n",
    "                        bubble_sort(sol)\n",
    "                        if sol not in sols:\n",
    "                            sols.append(sol)\n",
    "    return sols\n",
    "\n",
    "def bubble_sort(array):\n",
    "    'Sorts the input list using the Bubble Sort algorithm.'\n",
    "    \n",
    "    assert isinstance(array, list) == True, 'ERROR: Input must be a list.'\n",
    "    \n",
    "    n = len(array)\n",
    "    \n",
    "    # Boolean to indicate if the list is sorted or not.\n",
    "    sort_done = False\n",
    "    \n",
    "    while sort_done == False:\n",
    "        sort_done = True\n",
    "        for i in range(0, n - 1):\n",
    "            # Check if two elements need swapping.\n",
    "            if array[i] > array[i + 1]:\n",
    "                # Swap two elements.\n",
    "                temp = array[i]\n",
    "                array[i] = array[i + 1]\n",
    "                array[i + 1] = temp\n",
    "                sort_done = False"
   ]
  },
  {
   "cell_type": "markdown",
   "metadata": {},
   "source": [
    "#### Test cases\n",
    "\n",
    "Given array nums = [1, 0, -1, 0, -2, 2], and target = 0.\n",
    "\n",
    "A solution set is:\n",
    "[\n",
    "  [-1,  0, 0, 1],\n",
    "  [-2, -1, 1, 2],\n",
    "  [-2,  0, 0, 2]\n",
    "]"
   ]
  },
  {
   "cell_type": "code",
   "execution_count": 19,
   "metadata": {},
   "outputs": [
    {
     "name": "stdout",
     "output_type": "stream",
     "text": [
      "[[-1, 0, 0, 1], [-2, -1, 1, 2], [-2, 0, 0, 2]]\n"
     ]
    }
   ],
   "source": [
    "print(leetcode_18a([1, 0, -1, 0, -2, 2], 0))"
   ]
  },
  {
   "cell_type": "markdown",
   "metadata": {},
   "source": [
    "#### Solution b\n",
    "\n",
    "Vectorise the last loop.\n",
    "\n",
    "Time complexity: $O(n^3)$"
   ]
  },
  {
   "cell_type": "code",
   "execution_count": 26,
   "metadata": {},
   "outputs": [],
   "source": [
    "def leetcode_18b(nums, target):\n",
    "    'Finds combinations of four elements of nums that sum to the target.'\n",
    "    \n",
    "    assert isinstance(nums, list) == True, 'ERROR: nums must be a list.'\n",
    "    assert isinstance(target, int) == True, 'ERROR: target must be a list.'\n",
    "    assert len(nums) >= 4, 'ERROR: Length of nums must be greater than or equal to four.'\n",
    "    \n",
    "    n = len(nums)\n",
    "    sols = []\n",
    "\n",
    "    for i in range(0, n - 3):\n",
    "        for j in range(i + 1, n - 2):\n",
    "            for k in range(j + 1, n - 1):\n",
    "                rem = target - nums[i] - nums[j] - nums[k]\n",
    "                if rem in nums[k + 1:n]:\n",
    "                    sol = [nums[i], nums[j], nums[k], rem]\n",
    "                    bubble_sort(sol)\n",
    "                    if sol not in sols:\n",
    "                        sols.append(sol)\n",
    "    return sols"
   ]
  },
  {
   "cell_type": "code",
   "execution_count": 27,
   "metadata": {},
   "outputs": [
    {
     "name": "stdout",
     "output_type": "stream",
     "text": [
      "[[-1, 0, 0, 1], [-2, -1, 1, 2], [-2, 0, 0, 2]]\n"
     ]
    }
   ],
   "source": [
    "print(leetcode_18b([1, 0, -1, 0, -2, 2], 0))"
   ]
  },
  {
   "cell_type": "code",
   "execution_count": null,
   "metadata": {},
   "outputs": [],
   "source": []
  }
 ],
 "metadata": {
  "kernelspec": {
   "display_name": "Python 3",
   "language": "python",
   "name": "python3"
  },
  "language_info": {
   "codemirror_mode": {
    "name": "ipython",
    "version": 3
   },
   "file_extension": ".py",
   "mimetype": "text/x-python",
   "name": "python",
   "nbconvert_exporter": "python",
   "pygments_lexer": "ipython3",
   "version": "3.7.6"
  }
 },
 "nbformat": 4,
 "nbformat_minor": 4
}
