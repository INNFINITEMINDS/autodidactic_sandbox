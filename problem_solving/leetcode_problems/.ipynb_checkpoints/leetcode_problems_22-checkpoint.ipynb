{
 "cells": [
  {
   "cell_type": "markdown",
   "metadata": {},
   "source": [
    "# Leetcode problems\n",
    "\n",
    "Problems found at [Leetcode website](https://leetcode.com/problemset/all/)."
   ]
  },
  {
   "cell_type": "markdown",
   "metadata": {},
   "source": [
    "## Import packages"
   ]
  },
  {
   "cell_type": "code",
   "execution_count": 1,
   "metadata": {},
   "outputs": [],
   "source": [
    "import numpy as np\n",
    "import math\n",
    "from collections import deque"
   ]
  },
  {
   "cell_type": "markdown",
   "metadata": {},
   "source": [
    "## Problem 22\n",
    "\n",
    "Given n pairs of parentheses, write a function to generate all combinations of well-formed parentheses.\n",
    "\n",
    "#### Solution "
   ]
  },
  {
   "cell_type": "code",
   "execution_count": 2,
   "metadata": {},
   "outputs": [],
   "source": [
    "def solve_problem_21(n):\n",
    "    '''Generate all combinations of n pairs of well-formed parentheses.'''\n",
    "    \n",
    "    # Base case.\n",
    "    if n == 1:\n",
    "        return ['()']\n",
    "    # Recursive case.\n",
    "    else:\n",
    "        res = []\n",
    "        # Find the solution for n - 1.\n",
    "        combos_lower = solve_problem_21(n - 1)\n",
    "        \n",
    "        # Iterate through all the combinations from the n - 1 case.\n",
    "        for combo in combos_lower:\n",
    "            \n",
    "            # Iterate through all the characters in the combination.\n",
    "            for i in range(len(combo) + 1):\n",
    "                \n",
    "                # Add in a new pair of brackets at every possible position in the combination, to give new combinations.\n",
    "                new_combo = combo[0:i] + '()' + combo[i:]\n",
    "                # Check if new combination is a duplicate. If not, add to the result.\n",
    "                if new_combo not in res: res.append(new_combo)\n",
    "                    \n",
    "        return res"
   ]
  },
  {
   "cell_type": "markdown",
   "metadata": {},
   "source": [
    "#### Testing\n",
    "\n",
    "Input: n = 3<br>\n",
    "Output: [\"((()))\",\"(()())\",\"(())()\",\"()(())\",\"()()()\"]"
   ]
  },
  {
   "cell_type": "code",
   "execution_count": 5,
   "metadata": {},
   "outputs": [
    {
     "name": "stdout",
     "output_type": "stream",
     "text": [
      "['()()()', '(())()', '()(())', '(()())', '((()))']\n"
     ]
    }
   ],
   "source": [
    "n = 3\n",
    "print(solve_problem_21(n))"
   ]
  },
  {
   "cell_type": "markdown",
   "metadata": {},
   "source": [
    "Input: n = 1<br>\n",
    "Output: [\"()\"]"
   ]
  },
  {
   "cell_type": "code",
   "execution_count": 6,
   "metadata": {},
   "outputs": [
    {
     "name": "stdout",
     "output_type": "stream",
     "text": [
      "['()']\n"
     ]
    }
   ],
   "source": [
    "n = 1\n",
    "print(solve_problem_21(n))"
   ]
  }
 ],
 "metadata": {
  "kernelspec": {
   "display_name": "Python 3",
   "language": "python",
   "name": "python3"
  },
  "language_info": {
   "codemirror_mode": {
    "name": "ipython",
    "version": 3
   },
   "file_extension": ".py",
   "mimetype": "text/x-python",
   "name": "python",
   "nbconvert_exporter": "python",
   "pygments_lexer": "ipython3",
   "version": "3.7.6"
  }
 },
 "nbformat": 4,
 "nbformat_minor": 4
}
