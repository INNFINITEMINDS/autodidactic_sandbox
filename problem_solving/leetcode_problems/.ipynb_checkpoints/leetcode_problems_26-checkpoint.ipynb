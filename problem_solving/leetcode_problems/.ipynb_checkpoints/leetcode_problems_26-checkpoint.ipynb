{
 "cells": [
  {
   "cell_type": "markdown",
   "metadata": {},
   "source": [
    "# Leetcode problems\n",
    "\n",
    "Problems found at [Leetcode website](https://leetcode.com/problemset/all/)."
   ]
  },
  {
   "cell_type": "markdown",
   "metadata": {},
   "source": [
    "## Import packages"
   ]
  },
  {
   "cell_type": "code",
   "execution_count": 1,
   "metadata": {},
   "outputs": [],
   "source": [
    "import numpy as np\n",
    "import math\n",
    "from collections import deque"
   ]
  },
  {
   "cell_type": "markdown",
   "metadata": {},
   "source": [
    "## Problem 26\n",
    "Given a sorted array nums, remove the duplicates in-place such that each element appear only once and return the new length.\n",
    "\n",
    "Do not allocate extra space for another array, you must do this by modifying the input array in-place with O(1) extra memory.\n",
    "\n",
    "#### Solution"
   ]
  },
  {
   "cell_type": "code",
   "execution_count": 2,
   "metadata": {},
   "outputs": [],
   "source": [
    "def solve_problem_26(nums):\n",
    "    if nums is None:\n",
    "        return 0\n",
    "\n",
    "    i = 0\n",
    "    # Iterate through the whole list of numbers.\n",
    "    for j in range(0, len(nums)):\n",
    "        \n",
    "        # If the two nums are not equal.\n",
    "        if nums[j] != nums[i]:\n",
    "            \n",
    "            # Update i\n",
    "            i = i + 1\n",
    "            \n",
    "            # Swap nums[i] and nums[j]\n",
    "            temp = nums[i]\n",
    "            nums[i] = nums[j]\n",
    "            nums[j] = temp\n",
    "\n",
    "    return i + 1, nums[0: i + 1]"
   ]
  },
  {
   "cell_type": "markdown",
   "metadata": {},
   "source": [
    "#### Test cases\n",
    "\n",
    "Example 1:<br>\n",
    "Given nums = [1,1,2],<br>\n",
    "Your function should return length = 2, with the first two elements of nums being 1 and 2 respectively. It doesn't matter what you leave beyond the returned length.\n",
    "\n",
    "Example 2:<br>\n",
    "Given nums = [0,0,1,1,1,2,2,3,3,4],<br>\n",
    "Your function should return length = 5, with the first five elements of nums being modified to 0, 1, 2, 3, and 4 respectively.\n",
    "It doesn't matter what values are set beyond the returned length."
   ]
  },
  {
   "cell_type": "code",
   "execution_count": 3,
   "metadata": {},
   "outputs": [
    {
     "name": "stdout",
     "output_type": "stream",
     "text": [
      "(2, [1, 2])\n",
      "(5, [0, 1, 2, 3, 4])\n"
     ]
    }
   ],
   "source": [
    "print(solve_problem_26([1,1,2]))\n",
    "print(solve_problem_26([0,0,1,1,1,2,2,3,3,4]))"
   ]
  }
 ],
 "metadata": {
  "kernelspec": {
   "display_name": "Python 3",
   "language": "python",
   "name": "python3"
  },
  "language_info": {
   "codemirror_mode": {
    "name": "ipython",
    "version": 3
   },
   "file_extension": ".py",
   "mimetype": "text/x-python",
   "name": "python",
   "nbconvert_exporter": "python",
   "pygments_lexer": "ipython3",
   "version": "3.7.6"
  }
 },
 "nbformat": 4,
 "nbformat_minor": 4
}
