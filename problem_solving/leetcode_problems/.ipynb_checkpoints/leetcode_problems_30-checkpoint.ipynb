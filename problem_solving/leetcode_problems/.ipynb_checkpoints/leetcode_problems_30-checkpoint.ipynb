{
 "cells": [
  {
   "cell_type": "markdown",
   "metadata": {},
   "source": [
    "# Leetcode problems\n",
    "\n",
    "Problems found at [Leetcode website](https://leetcode.com/problemset/all/)."
   ]
  },
  {
   "cell_type": "markdown",
   "metadata": {},
   "source": [
    "## Import packages"
   ]
  },
  {
   "cell_type": "code",
   "execution_count": 1,
   "metadata": {},
   "outputs": [],
   "source": [
    "import numpy as np\n",
    "import math\n",
    "from collections import deque"
   ]
  },
  {
   "cell_type": "markdown",
   "metadata": {},
   "source": [
    "## Problem 30\n",
    "\n",
    "You are given a string s and an array of strings words of the same length. Return all starting indices of substring(s) in s that is a concatenation of each word in words exactly once, in any order, and without any intervening characters.\n",
    "\n",
    "You can return the answer in any order.\n",
    "\n",
    "#### Solution"
   ]
  },
  {
   "cell_type": "code",
   "execution_count": 111,
   "metadata": {},
   "outputs": [],
   "source": [
    "def solve_problem_30(s, words):\n",
    "    '''Returns the starting indices of substring(s) in s that is a concatenation of each word in words exactly once, \n",
    "    in any order, and without any intervening characters.\n",
    "    '''\n",
    "    \n",
    "    n = len(s)\n",
    "    m = len(words)\n",
    "    o = len(words[0])\n",
    "    \n",
    "    res = []\n",
    "    \n",
    "    # Iterate through each possible starting index\n",
    "    i = 0\n",
    "    while i < n - m*(o - 1):\n",
    "        \n",
    "        print('------', s[i], '------')\n",
    "        \n",
    "        # Shallow copy of words\n",
    "        words_copy = words.copy()\n",
    "        \n",
    "        # Iterate through each of words_copy\n",
    "        for j in range(m):\n",
    "            L = len(words_copy)\n",
    "            for k in range(L):\n",
    "                substring = s[i + j*o: i + (j + 1)*o]\n",
    "                print(j, k, substring, words_copy)\n",
    "                try:\n",
    "                    words_copy.remove(substring)\n",
    "                except:\n",
    "                    break\n",
    "        print(words_copy)\n",
    "        if len(words_copy) == 0:\n",
    "            \n",
    "            res.append(i)\n",
    "            i += m*o\n",
    "        else:\n",
    "            i += o\n",
    "        \n",
    "    return res"
   ]
  },
  {
   "cell_type": "markdown",
   "metadata": {},
   "source": [
    "## Test cases\n",
    "\n",
    "Input: s = \"barfoothefoobarman\", words = [\"foo\",\"bar\"]<br>\n",
    "Output: [0,9]"
   ]
  },
  {
   "cell_type": "code",
   "execution_count": 112,
   "metadata": {},
   "outputs": [
    {
     "name": "stdout",
     "output_type": "stream",
     "text": [
      "------ b ------\n",
      "0 0 bar ['foo', 'bar']\n",
      "0 1 bar ['foo']\n",
      "1 0 foo ['foo']\n",
      "[]\n",
      "------ t ------\n",
      "0 0 the ['foo', 'bar']\n",
      "1 0 foo ['foo', 'bar']\n",
      "1 1 foo ['bar']\n",
      "['bar']\n",
      "------ f ------\n",
      "0 0 foo ['foo', 'bar']\n",
      "0 1 foo ['bar']\n",
      "1 0 bar ['bar']\n",
      "[]\n"
     ]
    },
    {
     "data": {
      "text/plain": [
       "[0, 9]"
      ]
     },
     "execution_count": 112,
     "metadata": {},
     "output_type": "execute_result"
    }
   ],
   "source": [
    "s = \"barfoothefoobarman\"\n",
    "words = [\"foo\",\"bar\"]\n",
    "solve_problem_30(s, words)"
   ]
  },
  {
   "cell_type": "markdown",
   "metadata": {},
   "source": [
    "Input: s = \"wordgoodgoodgoodbestword\", words = [\"word\",\"good\",\"best\",\"word\"]<br>\n",
    "Output: []"
   ]
  },
  {
   "cell_type": "code",
   "execution_count": 113,
   "metadata": {},
   "outputs": [
    {
     "name": "stdout",
     "output_type": "stream",
     "text": [
      "------ w ------\n",
      "0 0 word ['word', 'good', 'best', 'word']\n",
      "0 1 word ['good', 'best', 'word']\n",
      "0 2 word ['good', 'best']\n",
      "1 0 good ['good', 'best']\n",
      "1 1 good ['best']\n",
      "2 0 good ['best']\n",
      "3 0 good ['best']\n",
      "['best']\n",
      "------ g ------\n",
      "0 0 good ['word', 'good', 'best', 'word']\n",
      "0 1 good ['word', 'best', 'word']\n",
      "1 0 good ['word', 'best', 'word']\n",
      "2 0 good ['word', 'best', 'word']\n",
      "3 0 best ['word', 'best', 'word']\n",
      "3 1 best ['word', 'word']\n",
      "['word', 'word']\n",
      "------ g ------\n",
      "0 0 good ['word', 'good', 'best', 'word']\n",
      "0 1 good ['word', 'best', 'word']\n",
      "1 0 good ['word', 'best', 'word']\n",
      "2 0 best ['word', 'best', 'word']\n",
      "2 1 best ['word', 'word']\n",
      "3 0 word ['word', 'word']\n",
      "3 1 word ['word']\n",
      "[]\n"
     ]
    },
    {
     "data": {
      "text/plain": [
       "[8]"
      ]
     },
     "execution_count": 113,
     "metadata": {},
     "output_type": "execute_result"
    }
   ],
   "source": [
    "s = \"wordgoodgoodgoodbestword\"\n",
    "words = [\"word\",\"good\",\"best\",\"word\"]\n",
    "solve_problem_30(s, words)"
   ]
  },
  {
   "cell_type": "markdown",
   "metadata": {},
   "source": [
    "Input: s = \"barfoofoobarthefoobarman\", words = [\"bar\",\"foo\",\"the\"]<br>\n",
    "Output: [6,9,12]"
   ]
  },
  {
   "cell_type": "code",
   "execution_count": 114,
   "metadata": {},
   "outputs": [
    {
     "name": "stdout",
     "output_type": "stream",
     "text": [
      "------ b ------\n",
      "0 0 bar ['bar', 'foo', 'the']\n",
      "0 1 bar ['foo', 'the']\n",
      "1 0 foo ['foo', 'the']\n",
      "1 1 foo ['the']\n",
      "2 0 foo ['the']\n",
      "['the']\n",
      "------ f ------\n",
      "0 0 foo ['bar', 'foo', 'the']\n",
      "0 1 foo ['bar', 'the']\n",
      "1 0 foo ['bar', 'the']\n",
      "2 0 bar ['bar', 'the']\n",
      "2 1 bar ['the']\n",
      "['the']\n",
      "------ f ------\n",
      "0 0 foo ['bar', 'foo', 'the']\n",
      "0 1 foo ['bar', 'the']\n",
      "1 0 bar ['bar', 'the']\n",
      "1 1 bar ['the']\n",
      "2 0 the ['the']\n",
      "[]\n",
      "------ f ------\n",
      "0 0 foo ['bar', 'foo', 'the']\n",
      "0 1 foo ['bar', 'the']\n",
      "1 0 bar ['bar', 'the']\n",
      "1 1 bar ['the']\n",
      "2 0 man ['the']\n",
      "['the']\n"
     ]
    },
    {
     "data": {
      "text/plain": [
       "[6]"
      ]
     },
     "execution_count": 114,
     "metadata": {},
     "output_type": "execute_result"
    }
   ],
   "source": [
    "s = \"barfoofoobarthefoobarman\"\n",
    "words = [\"bar\",\"foo\",\"the\"]\n",
    "solve_problem_30(s, words)"
   ]
  },
  {
   "cell_type": "code",
   "execution_count": null,
   "metadata": {},
   "outputs": [],
   "source": []
  }
 ],
 "metadata": {
  "kernelspec": {
   "display_name": "Python 3",
   "language": "python",
   "name": "python3"
  },
  "language_info": {
   "codemirror_mode": {
    "name": "ipython",
    "version": 3
   },
   "file_extension": ".py",
   "mimetype": "text/x-python",
   "name": "python",
   "nbconvert_exporter": "python",
   "pygments_lexer": "ipython3",
   "version": "3.7.6"
  }
 },
 "nbformat": 4,
 "nbformat_minor": 4
}
