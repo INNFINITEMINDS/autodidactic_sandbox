{
 "cells": [
  {
   "cell_type": "markdown",
   "metadata": {},
   "source": [
    "# Leetcode problems\n",
    "\n",
    "Problems found at [Leetcode website](https://leetcode.com/problemset/all/)."
   ]
  },
  {
   "cell_type": "markdown",
   "metadata": {},
   "source": [
    "## Import packages"
   ]
  },
  {
   "cell_type": "code",
   "execution_count": 1,
   "metadata": {},
   "outputs": [],
   "source": [
    "import numpy as np\n",
    "import math\n",
    "from collections import deque"
   ]
  },
  {
   "cell_type": "markdown",
   "metadata": {},
   "source": [
    "## Problem 30\n",
    "\n",
    "You are given a string s and an array of strings words of the same length. Return all starting indices of substring(s) in s that is a concatenation of each word in words exactly once, in any order, and without any intervening characters.\n",
    "\n",
    "You can return the answer in any order.\n",
    "\n",
    "#### Solution"
   ]
  },
  {
   "cell_type": "code",
   "execution_count": 142,
   "metadata": {},
   "outputs": [],
   "source": [
    "def solve_problem_30(s, words):\n",
    "    '''Returns the starting indices of substring(s) in s that is a concatenation of each word in words exactly once, \n",
    "    in any order, and without any intervening characters.\n",
    "    '''\n",
    "    \n",
    "    n = len(s)\n",
    "    m = len(words)\n",
    "    o = len(words[0])\n",
    "    \n",
    "    res = []\n",
    "    \n",
    "    # Iterate through each possible starting index\n",
    "    i = 0\n",
    "    while i < n - m*(o - 1):\n",
    "\n",
    "        words_copy = words.copy()\n",
    "        \n",
    "        substring_array = [s[i + j*o : i + (j + 1)*o] for j in range(m)]\n",
    "        \n",
    "        if is_permutation(substring_array, words_copy):\n",
    "            res.append(i)\n",
    "        \n",
    "        i += o\n",
    "        \n",
    "    return res\n",
    "\n",
    "def is_permutation(array_1, array_2):\n",
    "    '''Checks whether array_1 is a permutation of array_2.'''\n",
    "\n",
    "    bubble_sort(array_1)\n",
    "    bubble_sort(array_2)\n",
    "    \n",
    "    if array_1 == array_2:\n",
    "        return True\n",
    "    else:\n",
    "        False\n",
    "\n",
    "def bubble_sort(array):\n",
    "    '''Sorts the input list using the Bubble Sort algorithm.'''\n",
    "    \n",
    "    assert isinstance(array, list) == True, 'ERROR: Input must be a list.'\n",
    "    \n",
    "    n = len(array)\n",
    "    \n",
    "    # Boolean to indicate if the list is sorted or not.\n",
    "    sort_done = False\n",
    "    \n",
    "    while sort_done == False:\n",
    "        sort_done = True\n",
    "        for i in range(0, n - 1):\n",
    "            # Check if two elements need swapping.\n",
    "            if array[i] > array[i + 1]:\n",
    "                # Swap two elements.\n",
    "                temp = array[i]\n",
    "                array[i] = array[i + 1]\n",
    "                array[i + 1] = temp\n",
    "                sort_done = False"
   ]
  },
  {
   "cell_type": "markdown",
   "metadata": {},
   "source": [
    "## Test cases\n",
    "\n",
    "Input: s = \"barfoothefoobarman\", words = [\"foo\",\"bar\"]<br>\n",
    "Output: [0,9]"
   ]
  },
  {
   "cell_type": "code",
   "execution_count": 143,
   "metadata": {},
   "outputs": [
    {
     "data": {
      "text/plain": [
       "[0, 9]"
      ]
     },
     "execution_count": 143,
     "metadata": {},
     "output_type": "execute_result"
    }
   ],
   "source": [
    "s = \"barfoothefoobarman\"\n",
    "words = [\"foo\",\"bar\"]\n",
    "solve_problem_30(s, words)"
   ]
  },
  {
   "cell_type": "markdown",
   "metadata": {},
   "source": [
    "Input: s = \"wordgoodgoodgoodbestword\", words = [\"word\",\"good\",\"best\",\"word\"]<br>\n",
    "Output: []"
   ]
  },
  {
   "cell_type": "code",
   "execution_count": 144,
   "metadata": {},
   "outputs": [
    {
     "data": {
      "text/plain": [
       "[]"
      ]
     },
     "execution_count": 144,
     "metadata": {},
     "output_type": "execute_result"
    }
   ],
   "source": [
    "s = \"wordgoodgoodgoodbestword\"\n",
    "words = [\"word\",\"good\",\"best\",\"word\"]\n",
    "solve_problem_30(s, words)"
   ]
  },
  {
   "cell_type": "markdown",
   "metadata": {},
   "source": [
    "Input: s = \"barfoofoobarthefoobarman\", words = [\"bar\",\"foo\",\"the\"]<br>\n",
    "Output: [6,9,12]"
   ]
  },
  {
   "cell_type": "code",
   "execution_count": 145,
   "metadata": {},
   "outputs": [
    {
     "data": {
      "text/plain": [
       "[6, 9, 12]"
      ]
     },
     "execution_count": 145,
     "metadata": {},
     "output_type": "execute_result"
    }
   ],
   "source": [
    "s = \"barfoofoobarthefoobarman\"\n",
    "words = [\"bar\",\"foo\",\"the\"]\n",
    "solve_problem_30(s, words)"
   ]
  },
  {
   "cell_type": "code",
   "execution_count": null,
   "metadata": {},
   "outputs": [],
   "source": []
  }
 ],
 "metadata": {
  "kernelspec": {
   "display_name": "Python 3",
   "language": "python",
   "name": "python3"
  },
  "language_info": {
   "codemirror_mode": {
    "name": "ipython",
    "version": 3
   },
   "file_extension": ".py",
   "mimetype": "text/x-python",
   "name": "python",
   "nbconvert_exporter": "python",
   "pygments_lexer": "ipython3",
   "version": "3.7.6"
  }
 },
 "nbformat": 4,
 "nbformat_minor": 4
}
