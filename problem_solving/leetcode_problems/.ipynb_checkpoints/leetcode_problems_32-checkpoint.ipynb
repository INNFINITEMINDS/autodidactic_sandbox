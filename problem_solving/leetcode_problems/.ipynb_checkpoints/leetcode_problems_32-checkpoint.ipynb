{
 "cells": [
  {
   "cell_type": "markdown",
   "metadata": {},
   "source": [
    "# Leetcode problems\n",
    "\n",
    "Problems found at [Leetcode website](https://leetcode.com/problemset/all/)."
   ]
  },
  {
   "cell_type": "markdown",
   "metadata": {},
   "source": [
    "## Import packages"
   ]
  },
  {
   "cell_type": "code",
   "execution_count": 1,
   "metadata": {},
   "outputs": [],
   "source": [
    "import numpy as np\n",
    "import math\n",
    "from collections import deque"
   ]
  },
  {
   "cell_type": "markdown",
   "metadata": {},
   "source": [
    "## Problem 32\n",
    "\n",
    "Given a string containing just the characters '(' and ')', find the length of the longest valid (well-formed) parentheses substring.\n",
    "\n",
    "Constraints:\n",
    "\n",
    "0 <= s.length <= 3 * 104<br>\n",
    "s[i] is '(', or ')'.\n",
    "\n",
    "#### Solution"
   ]
  },
  {
   "cell_type": "code",
   "execution_count": 2,
   "metadata": {},
   "outputs": [],
   "source": [
    "def solve_problem_32(s):\n",
    "    '''Find the length of the longest valid parentheses substring.'''\n",
    "    \n",
    "    n = len(s)\n",
    "    \n",
    "    longest_substring = 0 # Longest substring found so far\n",
    "    substring = 0 # Substring being looked at currently\n",
    "    left_count = 0 # The count of left brackets in substring\n",
    "    right_count = 0 # The cound of right brackets in substring\n",
    "    \n",
    "    # Iterate through each bracket in s\n",
    "    for bracket in s:\n",
    "        \n",
    "        # Update left_count or right_count\n",
    "        if bracket == '(':\n",
    "            left_count += 1\n",
    "        else:\n",
    "            right_count += 1\n",
    "        \n",
    "        # Check if current substring could be valid\n",
    "        if right_count > left_count:\n",
    "            substring = 0\n",
    "            left_count = 0\n",
    "            right_count = 0\n",
    "        else:\n",
    "            substring += 1\n",
    "            if substring > longest_substring:\n",
    "                longest_substring = substring\n",
    "    \n",
    "    # Return the longest substring minus the excess left brackets\n",
    "    return longest_substring - left_count + right_count"
   ]
  },
  {
   "cell_type": "markdown",
   "metadata": {},
   "source": [
    "## Test cases\n",
    "\n",
    "Example 1:\n",
    "\n",
    "Input: s = \"(()\"<br>\n",
    "Output: 2\n",
    "\n",
    "Explanation: The longest valid parentheses substring is \"()\"."
   ]
  },
  {
   "cell_type": "code",
   "execution_count": 3,
   "metadata": {},
   "outputs": [
    {
     "name": "stdout",
     "output_type": "stream",
     "text": [
      "2\n"
     ]
    }
   ],
   "source": [
    "s = '(()'\n",
    "print(solve_problem_32(s))"
   ]
  },
  {
   "cell_type": "markdown",
   "metadata": {},
   "source": [
    "Example 2:\n",
    "\n",
    "Input: s = \")()())\"<br>\n",
    "Output: 4\n",
    "\n",
    "Explanation: The longest valid parentheses substring is \"()()\"."
   ]
  },
  {
   "cell_type": "code",
   "execution_count": 4,
   "metadata": {},
   "outputs": [
    {
     "name": "stdout",
     "output_type": "stream",
     "text": [
      "4\n"
     ]
    }
   ],
   "source": [
    "s = ')()())'\n",
    "print(solve_problem_32(s))"
   ]
  },
  {
   "cell_type": "markdown",
   "metadata": {},
   "source": [
    "Example 3:\n",
    "\n",
    "Input: s = \"\"<br>\n",
    "Output: 0"
   ]
  },
  {
   "cell_type": "code",
   "execution_count": 5,
   "metadata": {},
   "outputs": [
    {
     "name": "stdout",
     "output_type": "stream",
     "text": [
      "0\n"
     ]
    }
   ],
   "source": [
    "s = ''\n",
    "print(solve_problem_32(s))"
   ]
  }
 ],
 "metadata": {
  "kernelspec": {
   "display_name": "Python 3",
   "language": "python",
   "name": "python3"
  },
  "language_info": {
   "codemirror_mode": {
    "name": "ipython",
    "version": 3
   },
   "file_extension": ".py",
   "mimetype": "text/x-python",
   "name": "python",
   "nbconvert_exporter": "python",
   "pygments_lexer": "ipython3",
   "version": "3.7.6"
  }
 },
 "nbformat": 4,
 "nbformat_minor": 4
}
