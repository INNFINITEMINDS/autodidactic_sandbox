{
 "cells": [
  {
   "cell_type": "markdown",
   "metadata": {},
   "source": [
    "# Leetcode problems\n",
    "\n",
    "Problems found at [Leetcode website](https://leetcode.com/problemset/all/)."
   ]
  },
  {
   "cell_type": "markdown",
   "metadata": {},
   "source": [
    "## Import packages"
   ]
  },
  {
   "cell_type": "code",
   "execution_count": 1,
   "metadata": {},
   "outputs": [],
   "source": [
    "import numpy as np\n",
    "import math\n",
    "from collections import deque"
   ]
  },
  {
   "cell_type": "markdown",
   "metadata": {},
   "source": [
    "## Problem 33\n",
    "\n",
    "You are given an integer array nums sorted in ascending order, and an integer target.\n",
    "\n",
    "Suppose that nums is rotated at some pivot unknown to you beforehand (i.e., [0,1,2,4,5,6,7] might become [4,5,6,7,0,1,2]).\n",
    "\n",
    "If target is found in the array return its index, otherwise, return -1.\n",
    "\n",
    "#### Solution"
   ]
  },
  {
   "cell_type": "code",
   "execution_count": 2,
   "metadata": {},
   "outputs": [],
   "source": [
    "def solve_problem_33(nums, target):\n",
    "    '''Find the length of the longest valid parentheses substring.'''\n",
    "    \n",
    "    n = len(nums)\n",
    "    \n",
    "    # Find the pivot point in nums\n",
    "    pivot = binary_search_modified(nums, 0, n)\n",
    "    \n",
    "    # Search in the appropriate side of the pivot point for target\n",
    "    if target >= nums[0]:\n",
    "        return binary_search(nums, target, 0, pivot-1)\n",
    "    else:\n",
    "        return binary_search(nums, target, pivot, n)\n",
    "        \n",
    "    \n",
    "def binary_search(nums, target, low, high):\n",
    "    '''Search for target in nums between indices low and high.'''\n",
    "    \n",
    "    if high < low or low == len(nums):\n",
    "        return -1\n",
    "    \n",
    "    mid = (low + high) // 2\n",
    "    \n",
    "    if target == nums[mid]:\n",
    "        return mid\n",
    "    elif target < nums[mid]:\n",
    "        return binary_search(nums, target, low, mid-1)\n",
    "    else:\n",
    "        return binary_search(nums, target, mid+1, high)\n",
    "    \n",
    "def binary_search_modified(nums, low, high):\n",
    "    '''Search for the pivot point in nums between indices low and high.'''\n",
    "    \n",
    "    if nums[low] < nums[high-1]:\n",
    "        return 0\n",
    "    \n",
    "    mid = (low + high) // 2\n",
    "    \n",
    "    if mid+1 == len(nums):\n",
    "        return 0\n",
    "    \n",
    "    if nums[mid] > nums[mid+1]:\n",
    "        return mid + 1\n",
    "    elif nums[mid] > nums[low]:\n",
    "        return binary_search_modified(nums, mid+1, high)\n",
    "    else:\n",
    "        return binary_search_modified(nums, low, mid-1)"
   ]
  },
  {
   "cell_type": "markdown",
   "metadata": {},
   "source": [
    "## Test cases\n",
    "\n",
    "Example 1:\n",
    "\n",
    "Input: nums = [4,5,6,7,0,1,2], target = 0<br>\n",
    "Output: 4"
   ]
  },
  {
   "cell_type": "code",
   "execution_count": 7,
   "metadata": {},
   "outputs": [
    {
     "name": "stdout",
     "output_type": "stream",
     "text": [
      "4\n"
     ]
    }
   ],
   "source": [
    "nums = [4,5,6,7,0,1,2]\n",
    "target = 0\n",
    "print(solve_problem_33(nums, target))"
   ]
  },
  {
   "cell_type": "markdown",
   "metadata": {},
   "source": [
    "Example 2:\n",
    "\n",
    "Input: nums = [4,5,6,7,0,1,2], target = 3<br>\n",
    "Output: -1"
   ]
  },
  {
   "cell_type": "code",
   "execution_count": 4,
   "metadata": {},
   "outputs": [
    {
     "name": "stdout",
     "output_type": "stream",
     "text": [
      "-1\n"
     ]
    }
   ],
   "source": [
    "nums = [4,5,6,7,0,1,2]\n",
    "target = 3\n",
    "print(solve_problem_33(nums, target))"
   ]
  },
  {
   "cell_type": "markdown",
   "metadata": {},
   "source": [
    "Example 3:\n",
    "\n",
    "Input: nums = [1], target = 0<br>\n",
    "Output: -1"
   ]
  },
  {
   "cell_type": "code",
   "execution_count": 5,
   "metadata": {},
   "outputs": [
    {
     "name": "stdout",
     "output_type": "stream",
     "text": [
      "-1\n"
     ]
    }
   ],
   "source": [
    "nums = [1]\n",
    "target = 0\n",
    "print(solve_problem_33(nums, target))"
   ]
  }
 ],
 "metadata": {
  "kernelspec": {
   "display_name": "Python 3",
   "language": "python",
   "name": "python3"
  },
  "language_info": {
   "codemirror_mode": {
    "name": "ipython",
    "version": 3
   },
   "file_extension": ".py",
   "mimetype": "text/x-python",
   "name": "python",
   "nbconvert_exporter": "python",
   "pygments_lexer": "ipython3",
   "version": "3.7.6"
  }
 },
 "nbformat": 4,
 "nbformat_minor": 4
}
