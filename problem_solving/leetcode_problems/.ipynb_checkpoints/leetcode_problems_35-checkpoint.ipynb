{
 "cells": [
  {
   "cell_type": "markdown",
   "metadata": {},
   "source": [
    "# Leetcode problems\n",
    "\n",
    "Problems found at [Leetcode website](https://leetcode.com/problemset/all/)."
   ]
  },
  {
   "cell_type": "markdown",
   "metadata": {},
   "source": [
    "## Import packages"
   ]
  },
  {
   "cell_type": "code",
   "execution_count": 1,
   "metadata": {},
   "outputs": [],
   "source": [
    "import numpy as np\n",
    "import math\n",
    "from collections import deque"
   ]
  },
  {
   "cell_type": "markdown",
   "metadata": {},
   "source": [
    "## Problem 35\n",
    "\n",
    "Given a sorted array and a target value, return the index if the target is found. If not, return the index where it would be if it were inserted in order.\n",
    "\n",
    "You may assume no duplicates in the array.\n",
    "\n",
    "#### Solution"
   ]
  },
  {
   "cell_type": "code",
   "execution_count": 2,
   "metadata": {},
   "outputs": [],
   "source": [
    "def solve_problem_35(sorted_array, target):\n",
    "    if target in sorted_array:\n",
    "        return sorted_array.index(5)\n",
    "    else:\n",
    "        return sum([i < target for i in sorted_array])"
   ]
  },
  {
   "cell_type": "markdown",
   "metadata": {},
   "source": [
    "#### Test cases\n",
    "\n",
    "Example 1:<br>\n",
    "Input: [1, 3, 5, 6], 5<br>\n",
    "Output: 2\n",
    "\n",
    "Example 2:<br>\n",
    "Input: [1, 3, 5, 6], 2<br>\n",
    "Output: 1\n",
    "\n",
    "Example 3:<br>\n",
    "Input: [1, 3, 5, 6], 7<br>\n",
    "Output: 4\n",
    "\n",
    "Example 4:<br>\n",
    "Input: [1, 3, 5, 6], 0<br>\n",
    "Output: 0"
   ]
  },
  {
   "cell_type": "code",
   "execution_count": 3,
   "metadata": {},
   "outputs": [
    {
     "name": "stdout",
     "output_type": "stream",
     "text": [
      "2\n",
      "1\n",
      "4\n",
      "0\n"
     ]
    }
   ],
   "source": [
    "print(solve_problem_35([1, 3, 5, 6], 5))\n",
    "print(solve_problem_35([1, 3, 5, 6], 2))\n",
    "print(solve_problem_35([1, 3, 5, 6], 7))\n",
    "print(solve_problem_35([1, 3, 5, 6], 0))"
   ]
  }
 ],
 "metadata": {
  "kernelspec": {
   "display_name": "Python 3",
   "language": "python",
   "name": "python3"
  },
  "language_info": {
   "codemirror_mode": {
    "name": "ipython",
    "version": 3
   },
   "file_extension": ".py",
   "mimetype": "text/x-python",
   "name": "python",
   "nbconvert_exporter": "python",
   "pygments_lexer": "ipython3",
   "version": "3.7.6"
  }
 },
 "nbformat": 4,
 "nbformat_minor": 4
}
