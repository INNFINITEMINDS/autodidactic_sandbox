{
 "cells": [
  {
   "cell_type": "markdown",
   "metadata": {},
   "source": [
    "# Leetcode problems\n",
    "\n",
    "Problems found at [Leetcode website](https://leetcode.com/problemset/all/)."
   ]
  },
  {
   "cell_type": "markdown",
   "metadata": {},
   "source": [
    "## Import packages"
   ]
  },
  {
   "cell_type": "code",
   "execution_count": 1,
   "metadata": {},
   "outputs": [],
   "source": [
    "import numpy as np\n",
    "import math\n",
    "from collections import deque"
   ]
  },
  {
   "cell_type": "markdown",
   "metadata": {},
   "source": [
    "## Problem 53\n",
    "\n",
    "Given an integer array nums, find the contiguous subarray (containing at least one number) which has the largest sum and return its sum.\n",
    "\n",
    "#### Solution a: Brute force"
   ]
  },
  {
   "cell_type": "code",
   "execution_count": 2,
   "metadata": {},
   "outputs": [],
   "source": [
    "def solve_problem_53a(nums):\n",
    "    largest_sum = 0\n",
    "    largest_sum_array = []\n",
    "\n",
    "    for i in range(len(nums)):\n",
    "        for j in range(i, len(nums)):\n",
    "            if sum(nums[i:j]) > largest_sum:\n",
    "                largest_sum = sum(nums[i:j])\n",
    "                largest_sum_array = nums[i:j]\n",
    "    \n",
    "    return(largest_sum)"
   ]
  },
  {
   "cell_type": "markdown",
   "metadata": {},
   "source": [
    "#### Test case\n",
    "\n",
    "Example:<br>\n",
    "Input: [-2, 1, -3, 4, -1, 2, 1, -5, 4],<br>\n",
    "Output: 6<br>\n",
    "Explanation: [4, -1, 2, 1] has the largest sum = 6."
   ]
  },
  {
   "cell_type": "code",
   "execution_count": 3,
   "metadata": {},
   "outputs": [
    {
     "name": "stdout",
     "output_type": "stream",
     "text": [
      "6\n"
     ]
    }
   ],
   "source": [
    "print(solve_problem_53a([-2, 1, -3, 4, -1, 2, 1, -5, 4]))"
   ]
  },
  {
   "cell_type": "markdown",
   "metadata": {},
   "source": [
    "#### Solution b: O(n)"
   ]
  },
  {
   "cell_type": "code",
   "execution_count": 4,
   "metadata": {},
   "outputs": [],
   "source": [
    "def solve_problem_53b(nums):\n",
    "    largest_sum = 0\n",
    "    running_sum = 0\n",
    "    \n",
    "    for i in range(len(nums)):\n",
    "        running_sum = max(running_sum + nums[i], nums[i])\n",
    "        largest_sum = max(largest_sum, running_sum)\n",
    "    \n",
    "    return largest_sum"
   ]
  },
  {
   "cell_type": "code",
   "execution_count": 5,
   "metadata": {},
   "outputs": [
    {
     "name": "stdout",
     "output_type": "stream",
     "text": [
      "6\n"
     ]
    }
   ],
   "source": [
    "print(solve_problem_53b([-2, 1, -3, 4, -1, 2, 1, -5, 4]))"
   ]
  },
  {
   "cell_type": "markdown",
   "metadata": {},
   "source": [
    "#### Solution c: Divide and conquer"
   ]
  },
  {
   "cell_type": "code",
   "execution_count": 6,
   "metadata": {},
   "outputs": [],
   "source": [
    "def max_cross_sum(nums, p, q, r):\n",
    "    left = max([sum(nums[i : q + 1]) for i in range(p, q + 1)])\n",
    "    right = max([sum(nums[q + 1: i]) for i in range(q + 2, r + 2)])\n",
    "    \n",
    "    return max(left + right, left, right)\n",
    "\n",
    "def solve_problem_53c(nums, p, r):\n",
    "    if r - p == 1:\n",
    "        return nums[p]\n",
    "    q = (p + r) // 2\n",
    "    left_sum = solve_problem_53c(nums, p, q)\n",
    "    right_sum = solve_problem_53c(nums, q , r)\n",
    "    cross_sum = max_cross_sum(nums, p, q, r)\n",
    "    \n",
    "    return max(left_sum, right_sum, cross_sum)"
   ]
  },
  {
   "cell_type": "code",
   "execution_count": 7,
   "metadata": {},
   "outputs": [
    {
     "name": "stdout",
     "output_type": "stream",
     "text": [
      "6\n"
     ]
    }
   ],
   "source": [
    "print(solve_problem_53c([-2, 1, -3, 4, -1, 2, 1, -5, 4], 0, 8))"
   ]
  }
 ],
 "metadata": {
  "kernelspec": {
   "display_name": "Python 3",
   "language": "python",
   "name": "python3"
  },
  "language_info": {
   "codemirror_mode": {
    "name": "ipython",
    "version": 3
   },
   "file_extension": ".py",
   "mimetype": "text/x-python",
   "name": "python",
   "nbconvert_exporter": "python",
   "pygments_lexer": "ipython3",
   "version": "3.7.6"
  }
 },
 "nbformat": 4,
 "nbformat_minor": 4
}
