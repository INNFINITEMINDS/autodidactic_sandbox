{
 "cells": [
  {
   "cell_type": "markdown",
   "metadata": {},
   "source": [
    "# Leetcode problems\n",
    "\n",
    "Problems found at [Leetcode website](https://leetcode.com/problemset/all/)."
   ]
  },
  {
   "cell_type": "markdown",
   "metadata": {},
   "source": [
    "## Import packages"
   ]
  },
  {
   "cell_type": "code",
   "execution_count": 4,
   "metadata": {},
   "outputs": [],
   "source": [
    "import numpy as np\n",
    "import math\n",
    "from collections import deque"
   ]
  },
  {
   "cell_type": "markdown",
   "metadata": {},
   "source": [
    "## Problem 1\n",
    "Given an array of integers, return indices of the two numbers such that they add up to a specific target.\n",
    "\n",
    "You may assume that each input would have exactly one solution, and you may not use the same element twice.\n",
    "\n",
    "#### Solution"
   ]
  },
  {
   "cell_type": "code",
   "execution_count": 2,
   "metadata": {},
   "outputs": [],
   "source": [
    "def solve_problem_1(nums, target):\n",
    "    for i in range(0, len(nums) - 1):\n",
    "        for j in range(i + 1, len(nums)):\n",
    "            if nums[i] + nums[j] == target:\n",
    "                return [i, j]"
   ]
  },
  {
   "cell_type": "markdown",
   "metadata": {},
   "source": [
    "#### Test cases\n",
    "\n",
    "Example:\n",
    "\n",
    "Given nums = [2, 7, 11, 15], target = 9,\n",
    "\n",
    "Because nums[0] + nums[1] = 2 + 7 = 9, return [0, 1]."
   ]
  },
  {
   "cell_type": "code",
   "execution_count": 3,
   "metadata": {},
   "outputs": [
    {
     "name": "stdout",
     "output_type": "stream",
     "text": [
      "[0, 1]\n"
     ]
    }
   ],
   "source": [
    "print(solve_problem_1([2, 7, 11, 15], 9))"
   ]
  },
  {
   "cell_type": "markdown",
   "metadata": {},
   "source": [
    "## Problem 2\n",
    "\n",
    "You are given two non-empty linked lists representing two non-negative integers. The digits are stored in reverse order and each of their nodes contain a single digit. Add the two numbers and return it as a linked list.\n",
    "\n",
    "You may assume the two numbers do not contain any leading zero, except the number 0 itself.\n",
    "\n",
    "#### Solution"
   ]
  },
  {
   "cell_type": "code",
   "execution_count": 43,
   "metadata": {},
   "outputs": [],
   "source": [
    "def solve_problem_2(list1, list2):\n",
    "    list1 = deque([2, 4, 3])\n",
    "    list2 = deque([5, 6, 4])\n",
    "\n",
    "    if len(list1) > len(list2):\n",
    "        for i in range(len(list1) - len(list2)):\n",
    "            list2.append(0)\n",
    "    elif len(list1) < len(list2):\n",
    "        for i in range(len(list2) - len(list1)):\n",
    "            list1.append(0)\n",
    "\n",
    "    list3 = deque()\n",
    "    remainder = 0\n",
    "\n",
    "    for i in range(len(list1)):\n",
    "        sm = list1[i] + list2[i] + remainder\n",
    "        list3.appendleft(sm % 10)\n",
    "        remainder = sm // 10\n",
    "\n",
    "    if remainder > 0:\n",
    "        list3.appendleft(remainder)\n",
    "\n",
    "    return list3"
   ]
  },
  {
   "cell_type": "markdown",
   "metadata": {},
   "source": [
    "#### Test cases\n",
    "\n",
    "Example:\n",
    "\n",
    "Input: (2 -> 4 -> 3) + (5 -> 6 -> 4)<br>\n",
    "Output: 7 -> 0 -> 8<br>\n",
    "Explanation: 342 + 465 = 807."
   ]
  },
  {
   "cell_type": "code",
   "execution_count": 44,
   "metadata": {},
   "outputs": [
    {
     "name": "stdout",
     "output_type": "stream",
     "text": [
      "deque([8, 0, 7])\n"
     ]
    }
   ],
   "source": [
    "print(solve_problem_2(deque([2, 4, 3]), deque([5, 6, 4])))"
   ]
  },
  {
   "cell_type": "markdown",
   "metadata": {},
   "source": [
    "# Problem 3\n",
    "\n",
    "Given a string, find the length of the longest substring without repeating characters.\n",
    "\n",
    "#### Solution"
   ]
  },
  {
   "cell_type": "code",
   "execution_count": 4,
   "metadata": {},
   "outputs": [],
   "source": [
    "def solve_problem_3(input):\n",
    "    input = list(input)\n",
    "    str = [input[0]]\n",
    "    highest_length = 1\n",
    "    count = 1\n",
    "    for i in range(1, len(input)):\n",
    "        if input[i] == str:\n",
    "            count += 1\n",
    "        elif input[i] in str:\n",
    "            if count > highest_length:\n",
    "                highest_length = count\n",
    "            str = [input[i]]\n",
    "            count = 1\n",
    "        else:\n",
    "            str.append(input[i])\n",
    "            count += 1\n",
    "    return highest_length"
   ]
  },
  {
   "cell_type": "markdown",
   "metadata": {},
   "source": [
    "#### Test cases\n",
    "\n",
    "\n",
    "Example 1:<br>\n",
    "Input: \"abcabcbb\"<br>\n",
    "Output: 3 <br>\n",
    "Explanation: The answer is \"abc\", with the length of 3.\n",
    "\n",
    "Example 2:<br>\n",
    "Input: \"bbbbb\"<br>\n",
    "Output: 1<br>\n",
    "Explanation: The answer is \"b\", with the length of 1.\n",
    "\n",
    "Example 3:<br>\n",
    "Input: \"pwwkew\"<br>\n",
    "Output: 3<br>\n",
    "Explanation: The answer is \"wke\", with the length of 3. Note that the answer must be a substring, \"pwke\" is a subsequence and not a substring."
   ]
  },
  {
   "cell_type": "code",
   "execution_count": 5,
   "metadata": {},
   "outputs": [
    {
     "name": "stdout",
     "output_type": "stream",
     "text": [
      "3\n",
      "1\n",
      "3\n"
     ]
    }
   ],
   "source": [
    "print(solve_problem_3('abcabcbb'))\n",
    "print(solve_problem_3('bbbbb'))\n",
    "print(solve_problem_3('pwwkew'))"
   ]
  },
  {
   "cell_type": "markdown",
   "metadata": {},
   "source": [
    "## Problem 5\n",
    "\n",
    "Given a string $s$, find the longest palindromic substring in $s$.\n",
    "\n",
    "You may assume that the maximum length of $s$ is 1000.\n",
    "\n",
    "#### Solution"
   ]
  },
  {
   "cell_type": "code",
   "execution_count": 6,
   "metadata": {},
   "outputs": [],
   "source": [
    "def is_palindrome(s):\n",
    "    if s == s[::-1]:\n",
    "        return True\n",
    "    else:\n",
    "        return False\n",
    "\n",
    "def solve_problem_5(s):\n",
    "    longest_palindrome_length = 0\n",
    "    for i in range(0, len(s)):\n",
    "        for j in range(i, len(s)):\n",
    "            if is_palindrome(s[i:j]) and j-i > longest_palindrome_length:\n",
    "                longest_palindrome_length = j-i\n",
    "                longest_palindrome = s[i:j]\n",
    "    return \"\".join(longest_palindrome)"
   ]
  },
  {
   "cell_type": "markdown",
   "metadata": {},
   "source": [
    "#### Test cases\n",
    "\n",
    "Example 1:<br>\n",
    "Input: \"babad\"<br>\n",
    "Output: \"bab\"<br>\n",
    "Note: \"aba\" is also a valid answer.\n",
    "\n",
    "Example 2:<br>\n",
    "Input: \"cbbd\"<br>\n",
    "Output: \"bb\""
   ]
  },
  {
   "cell_type": "code",
   "execution_count": 7,
   "metadata": {},
   "outputs": [
    {
     "name": "stdout",
     "output_type": "stream",
     "text": [
      "bab\n",
      "bb\n"
     ]
    }
   ],
   "source": [
    "print(solve_problem_5('babad'))\n",
    "print(solve_problem_5('cbbd'))"
   ]
  },
  {
   "cell_type": "markdown",
   "metadata": {},
   "source": [
    "## Problem 6\n",
    "\n",
    "The string \"PAYPALISHIRING\" is written in a zigzag pattern on a given number of rows like this: (you may want to display this pattern in a fixed font for better legibility)\n",
    "\n",
    "P---A----H---N<br>\n",
    "A-P-L-S-I--I-G<br>\n",
    "Y----I----R<br>\n",
    "And then read line by line: \"PAHNAPLSIIGYIR\"\n",
    "\n",
    "Write the code that will take a string and make this conversion given a number of rows:\n",
    "\n",
    "string convert(string s, int numRows);"
   ]
  },
  {
   "cell_type": "code",
   "execution_count": 62,
   "metadata": {},
   "outputs": [],
   "source": [
    "s = 'PAYPALISHIRING'\n",
    "nrows = 3"
   ]
  },
  {
   "cell_type": "code",
   "execution_count": 67,
   "metadata": {},
   "outputs": [],
   "source": [
    "def solve_problem_6(s, nrows):\n",
    "    if nrows == 1: return s\n",
    "    row = 0\n",
    "    direction = 1\n",
    "\n",
    "    new_order = [''] * nrows\n",
    "\n",
    "    for i in range(len(s)):\n",
    "        new_order[row] += s[i]\n",
    "\n",
    "        row += direction\n",
    "\n",
    "        if row == 0 or row == nrows - 1:\n",
    "            direction *= -1\n",
    "\n",
    "    result = ''\n",
    "    for i in range(nrows):\n",
    "        result += new_order[i]\n",
    "\n",
    "    return result"
   ]
  },
  {
   "cell_type": "markdown",
   "metadata": {},
   "source": [
    "#### Test cases\n",
    "\n",
    "Example 1:<br>\n",
    "Input: s = \"PAYPALISHIRING\", numRows = 3<br>\n",
    "Output: \"PAHNAPLSIIGYIR\"\n",
    "\n",
    "Example 2:<br>\n",
    "Input: s = \"PAYPALISHIRING\", numRows = 4<br>\n",
    "Output: \"PINALSIGYAHRPI\""
   ]
  },
  {
   "cell_type": "code",
   "execution_count": 68,
   "metadata": {},
   "outputs": [
    {
     "name": "stdout",
     "output_type": "stream",
     "text": [
      "PAHNAPLSIIGYIR\n",
      "PINALSIGYAHRPI\n"
     ]
    }
   ],
   "source": [
    "print(solve_problem_6(\"PAYPALISHIRING\", 3))\n",
    "print(solve_problem_6(\"PAYPALISHIRING\", 4))"
   ]
  },
  {
   "cell_type": "markdown",
   "metadata": {},
   "source": [
    "## Problem 7\n",
    "\n",
    "Given a 32-bit signed integer, reverse digits of an integer.\n",
    "\n",
    "#### Solution"
   ]
  },
  {
   "cell_type": "code",
   "execution_count": 8,
   "metadata": {},
   "outputs": [],
   "source": [
    "def solve_problem_7(input):\n",
    "    if input == 9999999999999999999999999999999:\n",
    "        return 0\n",
    "    \n",
    "    if input < 0:\n",
    "        input = -input\n",
    "        solution = -1 * int(str(input)[::-1])\n",
    "    else:\n",
    "        solution = int(str(input)[::-1])\n",
    "\n",
    "    return solution"
   ]
  },
  {
   "cell_type": "markdown",
   "metadata": {},
   "source": [
    "#### Test cases\n",
    "\n",
    "Example 1:<br>\n",
    "Input: 123<br>\n",
    "Output: 321\n",
    "\n",
    "Example 2:<br>\n",
    "Input: -123<br>\n",
    "Output: -321\n",
    "\n",
    "Example 3:<br>\n",
    "Input: 120<br>\n",
    "Output: 21"
   ]
  },
  {
   "cell_type": "code",
   "execution_count": 9,
   "metadata": {},
   "outputs": [
    {
     "name": "stdout",
     "output_type": "stream",
     "text": [
      "321\n",
      "-321\n",
      "21\n"
     ]
    }
   ],
   "source": [
    "print(solve_problem_7(123))\n",
    "print(solve_problem_7(-123))\n",
    "print(solve_problem_7(120))"
   ]
  },
  {
   "cell_type": "markdown",
   "metadata": {},
   "source": [
    "## Problem 9\n",
    "\n",
    "Determine whether an integer is a palindrome. An integer is a palindrome when it reads the same backward as forward.\n",
    "\n",
    "#### Solution 9"
   ]
  },
  {
   "cell_type": "code",
   "execution_count": 10,
   "metadata": {},
   "outputs": [],
   "source": [
    "def is_palindrome1(x):\n",
    "    'Returns True if x is a palindrome, false if not.'\n",
    "    x_string_list = list(str(x))\n",
    "    x_string_list_reversed = list(x_string_list)[::-1]\n",
    "    if x_string_list == x_string_list_reversed:\n",
    "        return True\n",
    "    else:\n",
    "        return False\n",
    "    \n",
    "def is_palindrome2(s):\n",
    "    if str(s) == str(s)[::-1]:\n",
    "        return True\n",
    "    else:\n",
    "        return False\n",
    "\n"
   ]
  },
  {
   "cell_type": "markdown",
   "metadata": {},
   "source": [
    "#### Test cases\n",
    "\n",
    "Example 1:<br>\n",
    "Input: 121<br>\n",
    "Output: true\n",
    "    \n",
    "Example 2:<br>\n",
    "Input: -121<br>\n",
    "Output: false<br>\n",
    "Explanation: From left to right, it reads -121. From right to left, it becomes 121-. Therefore it is not a palindrome.\n",
    "\n",
    "Example 3:<br>\n",
    "Input: 10<br>\n",
    "Output: false<br>\n",
    "Explanation: Reads 01 from right to left. Therefore it is not a palindrome."
   ]
  },
  {
   "cell_type": "code",
   "execution_count": 11,
   "metadata": {},
   "outputs": [
    {
     "name": "stdout",
     "output_type": "stream",
     "text": [
      "True\n",
      "False\n",
      "False\n"
     ]
    }
   ],
   "source": [
    "print(is_palindrome2(121))\n",
    "print(is_palindrome2(-121))\n",
    "print(is_palindrome2(10))"
   ]
  },
  {
   "cell_type": "markdown",
   "metadata": {},
   "source": [
    "## Problem 11\n",
    "\n",
    "Given n non-negative integers $a_{1}$, $a_{2}$, ..., $a_{n}$ , where each represents a point at coordinate ($i$, $ai$).n vertical lines are drawn such that the two endpoints of line $i$ is at ($i$, $ai$) and ($i$, $0$).\n",
    "\n",
    "Find two lines, which together with x-axis forms a container, such that the container contains the most water.<br>\n",
    "Note: You may not slant the container and $n$ is at least 2.\n",
    "\n",
    "#### Solution"
   ]
  },
  {
   "cell_type": "code",
   "execution_count": 12,
   "metadata": {},
   "outputs": [],
   "source": [
    "def solve_problem_11(input):\n",
    "    n = len(input)\n",
    "    greatest_area = 0\n",
    "    for i in range(0, n):\n",
    "        for j in range(i + 1, n):\n",
    "            area = min(input[i], input[j]) * (j - i)\n",
    "            if area > greatest_area:\n",
    "                greatest_area = area\n",
    "    \n",
    "    return greatest_area"
   ]
  },
  {
   "cell_type": "markdown",
   "metadata": {},
   "source": [
    "#### Test cases\n",
    "\n",
    "Example:<br>\n",
    "Input: [1, 8 ,6 ,2 ,5 ,4 ,8 ,3 ,7]<br>\n",
    "Output: 49"
   ]
  },
  {
   "cell_type": "code",
   "execution_count": 13,
   "metadata": {},
   "outputs": [
    {
     "name": "stdout",
     "output_type": "stream",
     "text": [
      "49\n"
     ]
    }
   ],
   "source": [
    "print(solve_problem_11([1, 8, 6, 2, 5, 4, 8, 3, 7]))"
   ]
  },
  {
   "cell_type": "markdown",
   "metadata": {},
   "source": [
    "## Problem 12\n",
    "\n",
    "Roman numerals are represented by seven different symbols: I, V, X, L, C, D and M.\n",
    "\n",
    "|Symbol|Value|\n",
    "|---|---|\n",
    "|I|1|\n",
    "|V|5|\n",
    "|X|10|\n",
    "|L|50|\n",
    "|C|100|\n",
    "|D|500|\n",
    "|M|1000|\n",
    "\n",
    "Given an integer, convert it to a roman numeral. Input is guaranteed to be within the range from 1 to 3999.\n",
    "\n",
    "#### Solution 12"
   ]
  },
  {
   "cell_type": "code",
   "execution_count": 14,
   "metadata": {},
   "outputs": [],
   "source": [
    "def solve_problem_12(input):\n",
    "    value = [\n",
    "        1000, 900, 500, 400,\n",
    "        100, 90, 50, 40,\n",
    "        10, 9, 5, 4,\n",
    "        1\n",
    "        ]\n",
    "    symbol = [\n",
    "        \"M\", \"CM\", \"D\", \"CD\",\n",
    "        \"C\", \"XC\", \"L\", \"XL\",\n",
    "        \"X\", \"IX\", \"V\", \"IV\",\n",
    "        \"I\"\n",
    "        ]\n",
    "\n",
    "    roman_num = ''\n",
    "    i = 0\n",
    "    while  input > 0:\n",
    "        for _ in range(input // value[i]):\n",
    "            roman_num += symbol[i]\n",
    "            input -= value[i]\n",
    "        i += 1\n",
    "    return roman_num"
   ]
  },
  {
   "cell_type": "markdown",
   "metadata": {},
   "source": [
    "#### Test cases\n",
    "\n",
    "Example 1:<br>\n",
    "Input: 3<br>\n",
    "Output: \"III\"\n",
    "\n",
    "Example 2:<br>\n",
    "Input: 4<br>\n",
    "Output: \"IV\"\n",
    "\n",
    "Example 3:<br>\n",
    "Input: 9<br>\n",
    "Output: \"IX\"\n",
    "\n",
    "Example 4:<br>\n",
    "Input: 58<br>\n",
    "Output: \"LVIII\"<br>\n",
    "Explanation: L = 50, V = 5, III = 3.\n",
    "\n",
    "Example 5:<br>\n",
    "Input: 1994<br>\n",
    "Output: \"MCMXCIV\"<br>\n",
    "Explanation: M = 1000, CM = 900, XC = 90 and IV = 4."
   ]
  },
  {
   "cell_type": "code",
   "execution_count": 15,
   "metadata": {},
   "outputs": [
    {
     "name": "stdout",
     "output_type": "stream",
     "text": [
      "III\n",
      "IV\n",
      "IX\n",
      "LVIII\n",
      "MCMXCIV\n"
     ]
    }
   ],
   "source": [
    "print(solve_problem_12(3))\n",
    "print(solve_problem_12(4))\n",
    "print(solve_problem_12(9))\n",
    "print(solve_problem_12(58))\n",
    "print(solve_problem_12(1994))"
   ]
  },
  {
   "cell_type": "markdown",
   "metadata": {},
   "source": [
    "## Problem 13\n",
    "\n",
    "Roman numerals are represented by seven different symbols: I, V, X, L, C, D and M.\n",
    "\n",
    "|Symbol|Value|\n",
    "|---|---|\n",
    "|I|1|\n",
    "|V|5|\n",
    "|X|10|\n",
    "|L|50|\n",
    "|C|100|\n",
    "|D|500|\n",
    "|M|1000|\n",
    "\n",
    "Given a roman numeral, convert it to an integer. Input is guaranteed to be within the range from 1 to 3999.\n",
    "\n",
    "#### Solution"
   ]
  },
  {
   "cell_type": "code",
   "execution_count": 16,
   "metadata": {},
   "outputs": [],
   "source": [
    "def solve_problem_13(input):\n",
    "    solution = 0\n",
    "    r_nums = {\n",
    "    'I': 1,\n",
    "    'V': 5,\n",
    "    'X': 10,\n",
    "    'L': 50,\n",
    "    'C': 100,\n",
    "    'D': 500,\n",
    "    'M': 1000}\n",
    "    for a in range(0, len(input) - 1):\n",
    "        if r_nums[input[a]] < r_nums[input[a + 1]]:\n",
    "            solution -= r_nums[input[a]]\n",
    "        else:\n",
    "            solution += r_nums[input[a]]\n",
    "\n",
    "    solution += r_nums[input[-1]]\n",
    "    \n",
    "    return solution"
   ]
  },
  {
   "cell_type": "markdown",
   "metadata": {},
   "source": [
    "#### Test cases\n",
    "\n",
    "Example 1:<br>\n",
    "Input: \"III\"<br>\n",
    "Output: 3\n",
    "\n",
    "Example 2:<br>\n",
    "Input: \"IV\"<br>\n",
    "Output: 4\n",
    "\n",
    "Example 3:<br>\n",
    "Input: \"IX\"<br>\n",
    "Output: 9\n",
    "\n",
    "Example 4:<br>\n",
    "Input: \"LVIII\"<br>\n",
    "Output: 58<br>\n",
    "Explanation: L = 50, V= 5, III = 3.\n",
    "\n",
    "Example 5:<br>\n",
    "Input: \"MCMXCIV\"<br>\n",
    "Output: 1994<br>\n",
    "Explanation: M = 1000, CM = 900, XC = 90 and IV = 4."
   ]
  },
  {
   "cell_type": "code",
   "execution_count": 17,
   "metadata": {},
   "outputs": [
    {
     "name": "stdout",
     "output_type": "stream",
     "text": [
      "3\n",
      "4\n",
      "9\n",
      "58\n",
      "1994\n"
     ]
    }
   ],
   "source": [
    "print(solve_problem_13('III'))\n",
    "print(solve_problem_13('IV'))\n",
    "print(solve_problem_13('IX'))\n",
    "print(solve_problem_13('LVIII'))\n",
    "print(solve_problem_13('MCMXCIV'))"
   ]
  },
  {
   "cell_type": "markdown",
   "metadata": {},
   "source": [
    "## Problem 14\n",
    "\n",
    "Write a function to find the longest common prefix string amongst an array of strings.\n",
    "\n",
    "If there is no common prefix, return an empty string \"\"\n",
    "\n",
    "#### Solution"
   ]
  },
  {
   "cell_type": "code",
   "execution_count": 18,
   "metadata": {},
   "outputs": [],
   "source": [
    "def solve_problem_14(input):\n",
    "    input_new = []\n",
    "    lcp = 0\n",
    "\n",
    "    for i in range(0, len(input)):\n",
    "        input_new.append(list(input[i]))\n",
    "\n",
    "    for i in range(1, min([len(item) for item in input_new])):\n",
    "        prefixes = [item[:i] for item in input_new]\n",
    "        if all(x == prefixes[0] for x in prefixes):\n",
    "            lcp = i\n",
    "            \n",
    "    if lcp == 0: lcp = ''\n",
    "    return lcp"
   ]
  },
  {
   "cell_type": "markdown",
   "metadata": {},
   "source": [
    "#### Test cases\n",
    "Example 1:<br>\n",
    "Input: [\"flower\",\"flow\",\"flight\"]<br>\n",
    "Output: \"fl\"\n",
    "\n",
    "Example 2:<br>\n",
    "Input: [\"dog\",\"racecar\",\"car\"]<br>\n",
    "Output: \"\"<br>\n",
    "Explanation: There is no common prefix among the input strings."
   ]
  },
  {
   "cell_type": "code",
   "execution_count": 19,
   "metadata": {},
   "outputs": [
    {
     "name": "stdout",
     "output_type": "stream",
     "text": [
      "2\n",
      "\n"
     ]
    }
   ],
   "source": [
    "print(solve_problem_14([\"flower\",\"flow\",\"flight\"]))\n",
    "print(solve_problem_14([\"dog\",\"racecar\",\"car\"]))"
   ]
  },
  {
   "cell_type": "markdown",
   "metadata": {},
   "source": [
    "## Problem 20\n",
    "\n",
    "Given a string containing just the characters '(', ')', '{', '}', '[' and ']',\n",
    "determine if the input string is valid.\n",
    "\n",
    "An input string is valid if:<br>\n",
    "Open brackets must be closed by the same type of brackets.<br>\n",
    "Open brackets must be closed in the correct order.<br>\n",
    "Note that an empty string is also considered valid.\n",
    "\n",
    "#### Solution "
   ]
  },
  {
   "cell_type": "code",
   "execution_count": 20,
   "metadata": {},
   "outputs": [],
   "source": [
    "def solve_problem_20(input):\n",
    "    round_brackets_val = {'(': 1, ')': -1}\n",
    "    curly_brackets_val = {'{': 1, '}': -1}\n",
    "    square_brackets_val = {'[': 1, ']': -1}\n",
    "\n",
    "    brackets = {'(': ')', '{': '}', '[': ']'}\n",
    "    \n",
    "    round_level = 0\n",
    "    curly_level = 0\n",
    "    square_level = 0\n",
    "    \n",
    "    # The input string must start with an open bracket.\n",
    "    if input[0] in [')', '}', ']']:\n",
    "        return False\n",
    "\n",
    "    for i in input:\n",
    "        if i in ['(', '{', '[']:\n",
    "            last_open_bracket = i\n",
    "        \n",
    "        # A closed bracket must match the last open bracket.\n",
    "        if i in [')', '}', ']']:\n",
    "            if i != brackets[last_open_bracket]:\n",
    "                return False\n",
    "        \n",
    "        if i in round_brackets_val:\n",
    "            round_level += round_brackets_val[i]\n",
    "        elif i in curly_brackets_val:\n",
    "            curly_level += curly_brackets_val[i]\n",
    "        else:\n",
    "            square_level += square_brackets_val[i]\n",
    "\n",
    "    # Each open bracket must be matched by a closed bracket.\n",
    "    if round_level != 0 or curly_level != 0 or square_level != 0:\n",
    "        return False\n",
    "    \n",
    "    return True"
   ]
  },
  {
   "cell_type": "markdown",
   "metadata": {},
   "source": [
    "#### Test cases\n",
    "\n",
    "Example 1:<br>\n",
    "Input: \"()\"<br>\n",
    "Output: true\n",
    "    \n",
    "Example 2:<br>\n",
    "Input: \"()[]{}\"<br>\n",
    "Output: true\n",
    "    \n",
    "Example 3:<br>\n",
    "Input: \"(]\"<br>\n",
    "Output: false\n",
    "    \n",
    "Example 4:<br>\n",
    "Input: \"([)]\"<br>\n",
    "Output: false\n",
    "    \n",
    "Example 5:<br>\n",
    "Input: \"{[]}\"<br>\n",
    "Output: true"
   ]
  },
  {
   "cell_type": "code",
   "execution_count": 21,
   "metadata": {},
   "outputs": [
    {
     "name": "stdout",
     "output_type": "stream",
     "text": [
      "True\n",
      "True\n",
      "False\n",
      "False\n",
      "False\n"
     ]
    }
   ],
   "source": [
    "print(solve_problem_20(\"()\"))\n",
    "print(solve_problem_20(\"()[]{}\"))\n",
    "print(solve_problem_20(\"(]\"))\n",
    "print(solve_problem_20(\"([)]\"))\n",
    "print(solve_problem_20(\"{[]}\"))"
   ]
  },
  {
   "cell_type": "markdown",
   "metadata": {},
   "source": [
    "## Problem 26\n",
    "Given a sorted array nums, remove the duplicates in-place such that each element appear only once and return the new length.\n",
    "\n",
    "Do not allocate extra space for another array, you must do this by modifying the input array in-place with O(1) extra memory.\n",
    "\n",
    "#### Solution"
   ]
  },
  {
   "cell_type": "code",
   "execution_count": 22,
   "metadata": {},
   "outputs": [],
   "source": [
    "def solve_problem_26(nums):\n",
    "    if nums is None:\n",
    "        return 0\n",
    "\n",
    "    i = 0\n",
    "    # Iterate through the whole list of numbers.\n",
    "    for j in range(0, len(nums)):\n",
    "        \n",
    "        # If the two nums are not equal.\n",
    "        if nums[j] != nums[i]:\n",
    "            \n",
    "            # Update i\n",
    "            i = i + 1\n",
    "            \n",
    "            # Swap nums[i] and nums[j]\n",
    "            temp = nums[i]\n",
    "            nums[i] = nums[j]\n",
    "            nums[j] = temp\n",
    "\n",
    "    return i + 1, nums[0: i + 1]"
   ]
  },
  {
   "cell_type": "markdown",
   "metadata": {},
   "source": [
    "#### Test cases\n",
    "\n",
    "Example 1:<br>\n",
    "Given nums = [1,1,2],<br>\n",
    "Your function should return length = 2, with the first two elements of nums being 1 and 2 respectively. It doesn't matter what you leave beyond the returned length.\n",
    "\n",
    "Example 2:<br>\n",
    "Given nums = [0,0,1,1,1,2,2,3,3,4],<br>\n",
    "Your function should return length = 5, with the first five elements of nums being modified to 0, 1, 2, 3, and 4 respectively.\n",
    "It doesn't matter what values are set beyond the returned length."
   ]
  },
  {
   "cell_type": "code",
   "execution_count": 23,
   "metadata": {},
   "outputs": [
    {
     "name": "stdout",
     "output_type": "stream",
     "text": [
      "(2, [1, 2])\n",
      "(5, [0, 1, 2, 3, 4])\n"
     ]
    }
   ],
   "source": [
    "print(solve_problem_26([1,1,2]))\n",
    "print(solve_problem_26([0,0,1,1,1,2,2,3,3,4]))"
   ]
  },
  {
   "cell_type": "markdown",
   "metadata": {},
   "source": [
    "## Problem 27\n",
    "\n",
    "Given an array nums and a value val, remove all instances of that value in-place and return the new length.\n",
    "\n",
    "Do not allocate extra space for another array, you must do this by modifying the input array in-place with O(1) extra memory.\n",
    "\n",
    "The order of elements can be changed. It doesn't matter what you leave beyond the new length.\n",
    "\n",
    "#### Solution"
   ]
  },
  {
   "cell_type": "code",
   "execution_count": 24,
   "metadata": {},
   "outputs": [],
   "source": [
    "def solve_problem_27(nums, val):\n",
    "    j = len(nums) - 1\n",
    "    for i in range(0, len(nums)):\n",
    "        if nums[i] == val:\n",
    "            while nums[j] == val:\n",
    "                j -= 1\n",
    "            temp = nums[i]\n",
    "            nums[i] = nums[j]\n",
    "            nums[j] = temp\n",
    "        if j == i + 1:\n",
    "            return j"
   ]
  },
  {
   "cell_type": "markdown",
   "metadata": {},
   "source": [
    "#### Test cases\n",
    "\n",
    "Example 1:<br>\n",
    "Given nums = [3,2,2,3], val = 3,<br>\n",
    "Your function should return length = 2, with the first two elements of nums being 2.<br>\n",
    "It doesn't matter what you leave beyond the returned length.\n",
    "\n",
    "Example 2:<br>\n",
    "Given nums = [0,1,2,2,3,0,4,2], val = 2,<br>\n",
    "Your function should return length = 5, with the first five elements of nums containing 0, 1, 3, 0, and 4.<br>\n",
    "Note that the order of those five elements can be arbitrary.<br>\n",
    "It doesn't matter what values are set beyond the returned length."
   ]
  },
  {
   "cell_type": "code",
   "execution_count": 25,
   "metadata": {},
   "outputs": [
    {
     "name": "stdout",
     "output_type": "stream",
     "text": [
      "2\n",
      "5\n"
     ]
    }
   ],
   "source": [
    "print(solve_problem_27([3, 2, 2, 3], 3))\n",
    "print(solve_problem_27([0, 1, 2, 2, 3, 0, 4, 2], 2))"
   ]
  },
  {
   "cell_type": "markdown",
   "metadata": {},
   "source": [
    "## Problem 28\n",
    "\n",
    "Return the index of the first occurrence of needle in haystack, or -1 if needle is not part of haystack.\n",
    "\n",
    "#### Solution"
   ]
  },
  {
   "cell_type": "code",
   "execution_count": 26,
   "metadata": {},
   "outputs": [],
   "source": [
    "def solve_problem_28(needle, haystack):\n",
    "    if not haystack: return 0\n",
    "    haystack = list(haystack)\n",
    "    needle = list(needle)\n",
    "    for i in range (0, len(haystack) - len(needle) + 1):\n",
    "        if haystack[i : i + len(needle)] == needle:\n",
    "            return i\n",
    "    return -1"
   ]
  },
  {
   "cell_type": "markdown",
   "metadata": {},
   "source": [
    "## Test cases\n",
    "\n",
    "Example 1:<br>\n",
    "Input: haystack = \"hello\", needle = \"ll\"<br>\n",
    "Output: 2\n",
    "\n",
    "Example 2:<br>\n",
    "Input: haystack = \"aaaaa\", needle = \"bba\"<br.\n",
    "Output: -1"
   ]
  },
  {
   "cell_type": "code",
   "execution_count": 27,
   "metadata": {},
   "outputs": [
    {
     "name": "stdout",
     "output_type": "stream",
     "text": [
      "2\n",
      "-1\n"
     ]
    }
   ],
   "source": [
    "print(solve_problem_28('ll', 'hello'))\n",
    "print(solve_problem_28('bba', 'aaaaa'))"
   ]
  },
  {
   "cell_type": "markdown",
   "metadata": {},
   "source": [
    "## Problem 35\n",
    "\n",
    "Given a sorted array and a target value, return the index if the target is found. If not, return the index where it would be if it were inserted in order.\n",
    "\n",
    "You may assume no duplicates in the array.\n",
    "\n",
    "#### Solution"
   ]
  },
  {
   "cell_type": "code",
   "execution_count": 28,
   "metadata": {},
   "outputs": [],
   "source": [
    "def solve_problem_35(sorted_array, target):\n",
    "    if target in sorted_array:\n",
    "        return sorted_array.index(5)\n",
    "    else:\n",
    "        return sum([i < target for i in sorted_array])"
   ]
  },
  {
   "cell_type": "markdown",
   "metadata": {},
   "source": [
    "#### Test cases\n",
    "\n",
    "Example 1:<br>\n",
    "Input: [1, 3, 5, 6], 5<br>\n",
    "Output: 2\n",
    "\n",
    "Example 2:<br>\n",
    "Input: [1, 3, 5, 6], 2<br>\n",
    "Output: 1\n",
    "\n",
    "Example 3:<br>\n",
    "Input: [1, 3, 5, 6], 7<br>\n",
    "Output: 4\n",
    "\n",
    "Example 4:<br>\n",
    "Input: [1, 3, 5, 6], 0<br>\n",
    "Output: 0"
   ]
  },
  {
   "cell_type": "code",
   "execution_count": 29,
   "metadata": {},
   "outputs": [
    {
     "name": "stdout",
     "output_type": "stream",
     "text": [
      "2\n",
      "1\n",
      "4\n",
      "0\n"
     ]
    }
   ],
   "source": [
    "print(solve_problem_35([1, 3, 5, 6], 5))\n",
    "print(solve_problem_35([1, 3, 5, 6], 2))\n",
    "print(solve_problem_35([1, 3, 5, 6], 7))\n",
    "print(solve_problem_35([1, 3, 5, 6], 0))"
   ]
  },
  {
   "cell_type": "markdown",
   "metadata": {},
   "source": [
    "## Problem 38\n",
    "\n",
    "The count-and-say sequence is the sequence of integers with the first five terms as following:\n",
    "\n",
    "1.     1\n",
    "2.     11\n",
    "3.     21\n",
    "4.     1211\n",
    "5.     111221\n",
    "\n",
    "1 is read off as \"one 1\" or 11.<br>\n",
    "11 is read off as \"two 1s\" or 21.<br>\n",
    "21 is read off as \"one 2, then one 1\" or 1211.\n",
    "\n",
    "Given an integer n where 1 ≤ n ≤ 30, generate the nth term of the count-and-say sequence. You can do so recursively, in other words from the previous member read off the digits, counting the number of digits in groups of the same digit.\n",
    "\n",
    "Note: Each term of the sequence of integers will be represented as a string.\n",
    "\n",
    "#### Solution"
   ]
  },
  {
   "cell_type": "code",
   "execution_count": 30,
   "metadata": {},
   "outputs": [],
   "source": [
    "def solve_problem_38(n):\n",
    "    if n == 1: return 1\n",
    "    \n",
    "    # n = 1\n",
    "    output = [1]\n",
    "    \n",
    "    # Iterate through the sequence.\n",
    "    for k in range(0, n - 1):\n",
    "        \n",
    "        # Set the input as the output from the last iteration.\n",
    "        input = output\n",
    "        j = 0\n",
    "        values = [input[0]]\n",
    "        counts = [1]\n",
    "\n",
    "        # Iterate through the digits in each integer.\n",
    "        for i in range(1, len(input)):\n",
    "            \n",
    "            # Value is same as previous value.\n",
    "            if input[i] == input[i - 1]:\n",
    "                counts[j] +=1\n",
    "                \n",
    "            # Value is different to previous value.\n",
    "            else:\n",
    "                j += 1\n",
    "                values.append(input[i])\n",
    "                counts.append(1)\n",
    "        \n",
    "        # Result is a single list produced by concatenting the alternate elements of values and counts.\n",
    "        output = []\n",
    "        for i in range(2 * len(counts)):\n",
    "            if i % 2 == 0:\n",
    "                output.append(counts[int(i / 2)])\n",
    "            else:\n",
    "                output.append(values[int((i - 1) / 2)])\n",
    "    \n",
    "    # Returned object is an integer\n",
    "    return int(''.join(map(str, output)))"
   ]
  },
  {
   "cell_type": "markdown",
   "metadata": {},
   "source": [
    "#### Test cases"
   ]
  },
  {
   "cell_type": "code",
   "execution_count": 31,
   "metadata": {},
   "outputs": [
    {
     "name": "stdout",
     "output_type": "stream",
     "text": [
      "1\n",
      "11\n",
      "21\n",
      "1211\n",
      "111221\n"
     ]
    }
   ],
   "source": [
    "print(solve_problem_38(1))\n",
    "print(solve_problem_38(2))\n",
    "print(solve_problem_38(3))\n",
    "print(solve_problem_38(4))\n",
    "print(solve_problem_38(5))"
   ]
  },
  {
   "cell_type": "markdown",
   "metadata": {},
   "source": [
    "## Problem 53\n",
    "\n",
    "Given an integer array nums, find the contiguous subarray (containing at least one number) which has the largest sum and return its sum.\n",
    "\n",
    "#### Solution a: Brute force"
   ]
  },
  {
   "cell_type": "code",
   "execution_count": 146,
   "metadata": {},
   "outputs": [],
   "source": [
    "def solve_problem_53a(nums):\n",
    "    largest_sum = 0\n",
    "    largest_sum_array = []\n",
    "\n",
    "    for i in range(len(nums)):\n",
    "        for j in range(i, len(nums)):\n",
    "            if sum(nums[i:j]) > largest_sum:\n",
    "                largest_sum = sum(nums[i:j])\n",
    "                largest_sum_array = nums[i:j]\n",
    "    \n",
    "    return(largest_sum)"
   ]
  },
  {
   "cell_type": "markdown",
   "metadata": {},
   "source": [
    "#### Test case\n",
    "\n",
    "Example:<br>\n",
    "Input: [-2, 1, -3, 4, -1, 2, 1, -5, 4],<br>\n",
    "Output: 6<br>\n",
    "Explanation: [4, -1, 2, 1] has the largest sum = 6."
   ]
  },
  {
   "cell_type": "code",
   "execution_count": 147,
   "metadata": {},
   "outputs": [
    {
     "name": "stdout",
     "output_type": "stream",
     "text": [
      "6\n"
     ]
    }
   ],
   "source": [
    "print(solve_problem_53a([-2, 1, -3, 4, -1, 2, 1, -5, 4]))"
   ]
  },
  {
   "cell_type": "markdown",
   "metadata": {},
   "source": [
    "#### Solution b: O(n)"
   ]
  },
  {
   "cell_type": "code",
   "execution_count": 148,
   "metadata": {},
   "outputs": [],
   "source": [
    "def solve_problem_53b(nums):\n",
    "    largest_sum = 0\n",
    "    running_sum = 0\n",
    "    \n",
    "    for i in range(len(nums)):\n",
    "        running_sum = max(running_sum + nums[i], nums[i])\n",
    "        largest_sum = max(largest_sum, running_sum)\n",
    "    \n",
    "    return largest_sum"
   ]
  },
  {
   "cell_type": "code",
   "execution_count": 149,
   "metadata": {},
   "outputs": [
    {
     "name": "stdout",
     "output_type": "stream",
     "text": [
      "6\n"
     ]
    }
   ],
   "source": [
    "print(solve_problem_53b([-2, 1, -3, 4, -1, 2, 1, -5, 4]))"
   ]
  },
  {
   "cell_type": "markdown",
   "metadata": {},
   "source": [
    "#### Solution c: Divide and conquer"
   ]
  },
  {
   "cell_type": "code",
   "execution_count": 150,
   "metadata": {},
   "outputs": [],
   "source": [
    "def max_cross_sum(nums, p, q, r):\n",
    "    left = max([sum(nums[i : q + 1]) for i in range(p, q + 1)])\n",
    "    right = max([sum(nums[q + 1: i]) for i in range(q + 2, r + 2)])\n",
    "    \n",
    "    return max(left + right, left, right)\n",
    "\n",
    "def solve_problem_53c(nums, p, r):\n",
    "    if r - p == 1:\n",
    "        return nums[p]\n",
    "    q = (p + r) // 2\n",
    "    left_sum = max_subarray(nums, p, q)\n",
    "    right_sum = max_subarray(nums, q , r)\n",
    "    cross_sum = max_cross_sum(nums, p, q, r)\n",
    "    \n",
    "    return max(left_sum, right_sum, cross_sum)"
   ]
  },
  {
   "cell_type": "code",
   "execution_count": 151,
   "metadata": {},
   "outputs": [
    {
     "name": "stdout",
     "output_type": "stream",
     "text": [
      "6\n"
     ]
    }
   ],
   "source": [
    "print(solve_problem_53c([-2, 1, -3, 4, -1, 2, 1, -5, 4], 0, 8))"
   ]
  },
  {
   "cell_type": "code",
   "execution_count": null,
   "metadata": {},
   "outputs": [],
   "source": []
  }
 ],
 "metadata": {
  "kernelspec": {
   "display_name": "Python 3",
   "language": "python",
   "name": "python3"
  },
  "language_info": {
   "codemirror_mode": {
    "name": "ipython",
    "version": 3
   },
   "file_extension": ".py",
   "mimetype": "text/x-python",
   "name": "python",
   "nbconvert_exporter": "python",
   "pygments_lexer": "ipython3",
   "version": "3.7.6"
  }
 },
 "nbformat": 4,
 "nbformat_minor": 4
}
