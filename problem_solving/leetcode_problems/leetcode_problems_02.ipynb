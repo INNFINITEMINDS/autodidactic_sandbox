{
 "cells": [
  {
   "cell_type": "markdown",
   "metadata": {},
   "source": [
    "# Leetcode problems\n",
    "\n",
    "Problems found at [Leetcode website](https://leetcode.com/problemset/all/)."
   ]
  },
  {
   "cell_type": "markdown",
   "metadata": {},
   "source": [
    "## Import packages"
   ]
  },
  {
   "cell_type": "code",
   "execution_count": 1,
   "metadata": {},
   "outputs": [],
   "source": [
    "import numpy as np\n",
    "import math\n",
    "from collections import deque"
   ]
  },
  {
   "cell_type": "markdown",
   "metadata": {},
   "source": [
    "## Problem 2\n",
    "\n",
    "You are given two non-empty linked lists representing two non-negative integers. The digits are stored in reverse order and each of their nodes contain a single digit. Add the two numbers and return it as a linked list.\n",
    "\n",
    "You may assume the two numbers do not contain any leading zero, except the number 0 itself.\n",
    "\n",
    "#### Solution"
   ]
  },
  {
   "cell_type": "code",
   "execution_count": 2,
   "metadata": {},
   "outputs": [],
   "source": [
    "def solve_problem_2(list1, list2):\n",
    "    list1 = deque([2, 4, 3])\n",
    "    list2 = deque([5, 6, 4])\n",
    "\n",
    "    if len(list1) > len(list2):\n",
    "        for i in range(len(list1) - len(list2)):\n",
    "            list2.append(0)\n",
    "    elif len(list1) < len(list2):\n",
    "        for i in range(len(list2) - len(list1)):\n",
    "            list1.append(0)\n",
    "\n",
    "    list3 = deque()\n",
    "    remainder = 0\n",
    "\n",
    "    for i in range(len(list1)):\n",
    "        sm = list1[i] + list2[i] + remainder\n",
    "        list3.appendleft(sm % 10)\n",
    "        remainder = sm // 10\n",
    "\n",
    "    if remainder > 0:\n",
    "        list3.appendleft(remainder)\n",
    "\n",
    "    return list3"
   ]
  },
  {
   "cell_type": "markdown",
   "metadata": {},
   "source": [
    "#### Test cases\n",
    "\n",
    "Example:\n",
    "\n",
    "Input: (2 -> 4 -> 3) + (5 -> 6 -> 4)<br>\n",
    "Output: 7 -> 0 -> 8<br>\n",
    "Explanation: 342 + 465 = 807."
   ]
  },
  {
   "cell_type": "code",
   "execution_count": 3,
   "metadata": {},
   "outputs": [
    {
     "name": "stdout",
     "output_type": "stream",
     "text": [
      "deque([8, 0, 7])\n"
     ]
    }
   ],
   "source": [
    "print(solve_problem_2(deque([2, 4, 3]), deque([5, 6, 4])))"
   ]
  }
 ],
 "metadata": {
  "kernelspec": {
   "display_name": "Python 3",
   "language": "python",
   "name": "python3"
  },
  "language_info": {
   "codemirror_mode": {
    "name": "ipython",
    "version": 3
   },
   "file_extension": ".py",
   "mimetype": "text/x-python",
   "name": "python",
   "nbconvert_exporter": "python",
   "pygments_lexer": "ipython3",
   "version": "3.7.6"
  }
 },
 "nbformat": 4,
 "nbformat_minor": 4
}
