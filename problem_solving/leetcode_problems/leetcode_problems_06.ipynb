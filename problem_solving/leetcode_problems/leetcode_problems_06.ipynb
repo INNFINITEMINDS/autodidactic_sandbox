{
 "cells": [
  {
   "cell_type": "markdown",
   "metadata": {},
   "source": [
    "# Leetcode problems\n",
    "\n",
    "Problems found at [Leetcode website](https://leetcode.com/problemset/all/)."
   ]
  },
  {
   "cell_type": "markdown",
   "metadata": {},
   "source": [
    "## Import packages"
   ]
  },
  {
   "cell_type": "code",
   "execution_count": 1,
   "metadata": {},
   "outputs": [],
   "source": [
    "import numpy as np\n",
    "import math\n",
    "from collections import deque"
   ]
  },
  {
   "cell_type": "markdown",
   "metadata": {},
   "source": [
    "## Problem 6\n",
    "\n",
    "The string \"PAYPALISHIRING\" is written in a zigzag pattern on a given number of rows like this: (you may want to display this pattern in a fixed font for better legibility)\n",
    "\n",
    "P---A----H---N<br>\n",
    "A-P-L-S-I--I-G<br>\n",
    "Y----I----R<br>\n",
    "And then read line by line: \"PAHNAPLSIIGYIR\"\n",
    "\n",
    "Write the code that will take a string and make this conversion given a number of rows:\n",
    "\n",
    "string convert(string s, int numRows);"
   ]
  },
  {
   "cell_type": "code",
   "execution_count": 2,
   "metadata": {},
   "outputs": [],
   "source": [
    "s = 'PAYPALISHIRING'\n",
    "nrows = 3"
   ]
  },
  {
   "cell_type": "code",
   "execution_count": 3,
   "metadata": {},
   "outputs": [],
   "source": [
    "def solve_problem_6(s, nrows):\n",
    "    if nrows == 1: return s\n",
    "    row = 0\n",
    "    direction = 1\n",
    "\n",
    "    new_order = [''] * nrows\n",
    "\n",
    "    for i in range(len(s)):\n",
    "        new_order[row] += s[i]\n",
    "\n",
    "        row += direction\n",
    "\n",
    "        if row == 0 or row == nrows - 1:\n",
    "            direction *= -1\n",
    "\n",
    "    result = ''\n",
    "    for i in range(nrows):\n",
    "        result += new_order[i]\n",
    "\n",
    "    return result"
   ]
  },
  {
   "cell_type": "markdown",
   "metadata": {},
   "source": [
    "#### Test cases\n",
    "\n",
    "Example 1:<br>\n",
    "Input: s = \"PAYPALISHIRING\", numRows = 3<br>\n",
    "Output: \"PAHNAPLSIIGYIR\"\n",
    "\n",
    "Example 2:<br>\n",
    "Input: s = \"PAYPALISHIRING\", numRows = 4<br>\n",
    "Output: \"PINALSIGYAHRPI\""
   ]
  },
  {
   "cell_type": "code",
   "execution_count": 4,
   "metadata": {},
   "outputs": [
    {
     "name": "stdout",
     "output_type": "stream",
     "text": [
      "PAHNAPLSIIGYIR\n",
      "PINALSIGYAHRPI\n"
     ]
    }
   ],
   "source": [
    "print(solve_problem_6(\"PAYPALISHIRING\", 3))\n",
    "print(solve_problem_6(\"PAYPALISHIRING\", 4))"
   ]
  }
 ],
 "metadata": {
  "kernelspec": {
   "display_name": "Python 3",
   "language": "python",
   "name": "python3"
  },
  "language_info": {
   "codemirror_mode": {
    "name": "ipython",
    "version": 3
   },
   "file_extension": ".py",
   "mimetype": "text/x-python",
   "name": "python",
   "nbconvert_exporter": "python",
   "pygments_lexer": "ipython3",
   "version": "3.7.6"
  }
 },
 "nbformat": 4,
 "nbformat_minor": 4
}
