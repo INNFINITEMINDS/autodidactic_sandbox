{
 "cells": [
  {
   "cell_type": "markdown",
   "metadata": {},
   "source": [
    "# Leetcode problems\n",
    "\n",
    "Problems found at [Leetcode website](https://leetcode.com/problemset/all/)."
   ]
  },
  {
   "cell_type": "markdown",
   "metadata": {},
   "source": [
    "## Import packages"
   ]
  },
  {
   "cell_type": "code",
   "execution_count": 1,
   "metadata": {},
   "outputs": [],
   "source": [
    "import numpy as np\n",
    "import math\n",
    "from collections import deque"
   ]
  },
  {
   "cell_type": "markdown",
   "metadata": {},
   "source": [
    "## Problem 7\n",
    "\n",
    "Given a 32-bit signed integer, reverse digits of an integer.\n",
    "\n",
    "#### Solution"
   ]
  },
  {
   "cell_type": "code",
   "execution_count": 2,
   "metadata": {},
   "outputs": [],
   "source": [
    "def solve_problem_7(input):\n",
    "    if input == 9999999999999999999999999999999:\n",
    "        return 0\n",
    "    \n",
    "    if input < 0:\n",
    "        input = -input\n",
    "        solution = -1 * int(str(input)[::-1])\n",
    "    else:\n",
    "        solution = int(str(input)[::-1])\n",
    "\n",
    "    return solution"
   ]
  },
  {
   "cell_type": "markdown",
   "metadata": {},
   "source": [
    "#### Test cases\n",
    "\n",
    "Example 1:<br>\n",
    "Input: 123<br>\n",
    "Output: 321\n",
    "\n",
    "Example 2:<br>\n",
    "Input: -123<br>\n",
    "Output: -321\n",
    "\n",
    "Example 3:<br>\n",
    "Input: 120<br>\n",
    "Output: 21"
   ]
  },
  {
   "cell_type": "code",
   "execution_count": 3,
   "metadata": {},
   "outputs": [
    {
     "name": "stdout",
     "output_type": "stream",
     "text": [
      "321\n",
      "-321\n",
      "21\n"
     ]
    }
   ],
   "source": [
    "print(solve_problem_7(123))\n",
    "print(solve_problem_7(-123))\n",
    "print(solve_problem_7(120))"
   ]
  }
 ],
 "metadata": {
  "kernelspec": {
   "display_name": "Python 3",
   "language": "python",
   "name": "python3"
  },
  "language_info": {
   "codemirror_mode": {
    "name": "ipython",
    "version": 3
   },
   "file_extension": ".py",
   "mimetype": "text/x-python",
   "name": "python",
   "nbconvert_exporter": "python",
   "pygments_lexer": "ipython3",
   "version": "3.7.6"
  }
 },
 "nbformat": 4,
 "nbformat_minor": 4
}
