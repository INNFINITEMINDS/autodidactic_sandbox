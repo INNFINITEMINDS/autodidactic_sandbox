{
 "cells": [
  {
   "cell_type": "markdown",
   "metadata": {},
   "source": [
    "# Leetcode problems\n",
    "\n",
    "Problems found at [Leetcode website](https://leetcode.com/problemset/all/)."
   ]
  },
  {
   "cell_type": "markdown",
   "metadata": {},
   "source": [
    "## Problem 8\n",
    "\n",
    "Implement $atoi$ which converts a string to an integer.\n",
    "\n",
    "The function first discards as many whitespace characters as necessary until the first non-whitespace character is found. Then, starting from this character, takes an optional initial plus or minus sign followed by as many numerical digits as possible, and interprets them as a numerical value.\n",
    "\n",
    "The string can contain additional characters after those that form the integral number, which are ignored and have no effect on the behavior of this function.\n",
    "\n",
    "If the first sequence of non-whitespace characters in str is not a valid integral number, or if no such sequence exists because either str is empty or it contains only whitespace characters, no conversion is performed.\n",
    "\n",
    "If no valid conversion could be performed, a zero value is returned.\n",
    "\n",
    "#### Solution"
   ]
  },
  {
   "cell_type": "code",
   "execution_count": 1,
   "metadata": {},
   "outputs": [],
   "source": [
    "def solve_problem_8(input_string):\n",
    "    'Implement atoi.'\n",
    "    \n",
    "    input_list = list(input_string)\n",
    "    \n",
    "    valid_first_char = ['+', '-', '0', '1', '2', '3', '4', '5', '6', '7', '8', '9']\n",
    "    \n",
    "    for i in range(len(input_list)):\n",
    "        if input_list[i] == ' ':\n",
    "            next\n",
    "        elif input_list[i] in valid_first_char:\n",
    "            result = [input_list[i]]\n",
    "            \n",
    "            for j in range(i + 1, len(input_list)):\n",
    "                if input_list[j] in valid_first_char[2:]:\n",
    "                    result.append(input_list[j])\n",
    "                else:\n",
    "                    break\n",
    "            result = int(''.join(result))\n",
    "            return result\n",
    "        else:\n",
    "            return 0"
   ]
  },
  {
   "cell_type": "markdown",
   "metadata": {},
   "source": [
    "## Testing\n",
    "\n",
    "Example 1:\n",
    "\n",
    "Input: '42'<br>\n",
    "Output: 42"
   ]
  },
  {
   "cell_type": "code",
   "execution_count": 2,
   "metadata": {},
   "outputs": [
    {
     "name": "stdout",
     "output_type": "stream",
     "text": [
      "42\n"
     ]
    }
   ],
   "source": [
    "print(solve_problem_8('42'))"
   ]
  },
  {
   "cell_type": "markdown",
   "metadata": {},
   "source": [
    "Example 2:\n",
    "\n",
    "Input: '  -42'<br>\n",
    "Output: -42"
   ]
  },
  {
   "cell_type": "code",
   "execution_count": 3,
   "metadata": {},
   "outputs": [
    {
     "name": "stdout",
     "output_type": "stream",
     "text": [
      "-42\n"
     ]
    }
   ],
   "source": [
    "print(solve_problem_8('  -42'))"
   ]
  },
  {
   "cell_type": "markdown",
   "metadata": {},
   "source": [
    "Example 3:\n",
    "\n",
    "Input: '4193 with words'<br>\n",
    "Output: 4193"
   ]
  },
  {
   "cell_type": "code",
   "execution_count": 4,
   "metadata": {},
   "outputs": [
    {
     "name": "stdout",
     "output_type": "stream",
     "text": [
      "4193\n"
     ]
    }
   ],
   "source": [
    "print(solve_problem_8('4193 with words'))"
   ]
  },
  {
   "cell_type": "markdown",
   "metadata": {},
   "source": [
    "Example 4:\n",
    "\n",
    "Input: 'words and 987'<br>\n",
    "Output: 0"
   ]
  },
  {
   "cell_type": "code",
   "execution_count": 5,
   "metadata": {},
   "outputs": [
    {
     "name": "stdout",
     "output_type": "stream",
     "text": [
      "0\n"
     ]
    }
   ],
   "source": [
    "print(solve_problem_8('words and 987'))"
   ]
  }
 ],
 "metadata": {
  "kernelspec": {
   "display_name": "Python 3",
   "language": "python",
   "name": "python3"
  },
  "language_info": {
   "codemirror_mode": {
    "name": "ipython",
    "version": 3
   },
   "file_extension": ".py",
   "mimetype": "text/x-python",
   "name": "python",
   "nbconvert_exporter": "python",
   "pygments_lexer": "ipython3",
   "version": "3.7.6"
  }
 },
 "nbformat": 4,
 "nbformat_minor": 4
}
