{
 "cells": [
  {
   "cell_type": "markdown",
   "metadata": {},
   "source": [
    "# Leetcode problems\n",
    "\n",
    "Problems found at [Leetcode website](https://leetcode.com/problemset/all/)."
   ]
  },
  {
   "cell_type": "markdown",
   "metadata": {},
   "source": [
    "## Import packages"
   ]
  },
  {
   "cell_type": "code",
   "execution_count": 1,
   "metadata": {},
   "outputs": [],
   "source": [
    "import numpy as np\n",
    "import math\n",
    "from collections import deque"
   ]
  },
  {
   "cell_type": "markdown",
   "metadata": {},
   "source": [
    "## Problem 17\n",
    "\n",
    "Given a string containing digits from 2-9 inclusive, return all possible letter combinations that the number could represent.\n",
    "\n",
    "#### Solution a\n",
    "\n",
    "Recursive solution using a base-case-and-build approach."
   ]
  },
  {
   "cell_type": "code",
   "execution_count": 2,
   "metadata": {},
   "outputs": [],
   "source": [
    "buttons = {\\\n",
    "           '2': ['a', 'b', 'c'],\\\n",
    "           '3': ['d', 'e', 'f'],\\\n",
    "           '4': ['g', 'h', 'i'],\\\n",
    "           '5': ['j', 'k', 'l'],\\\n",
    "           '6': ['m', 'n', 'o'],\\\n",
    "           '7': ['p', 'q', 'r', 's'],\\\n",
    "           '8': ['t', 'u', 'v'],\\\n",
    "           '9': ['w', 'x', 'y', 'z'],\\\n",
    "          }\n",
    "\n",
    "def leetcode_17a(num):\n",
    "    'Return all possible letter combinations that the input number could represent if it were a phone number.'\n",
    "    \n",
    "    if isinstance(num, int) == False: return 'ERRROR: Input must be an integer.'\n",
    "    \n",
    "    num_list = list(str(num))\n",
    "    \n",
    "    if '1' in num_list: return 'ERROR: Input must not have 1 in it.'\n",
    "    \n",
    "    if len(num_list) == 1:\n",
    "        return buttons[num_list[0]]\n",
    "    else:\n",
    "        return leetcode_17a_helper(num_list)\n",
    "\n",
    "def leetcode_17a_helper(num_list):\n",
    "    'Helper function for leetcode_17a().'\n",
    "    \n",
    "    if len(num_list) == 1:\n",
    "        return buttons[num_list[0]]\n",
    "    else:\n",
    "        result = []\n",
    "        for letters in leetcode_17a_helper(num_list[:-1]):\n",
    "            for letter in buttons[num_list[-1]]:\n",
    "                result.append(letters + letter)\n",
    "        return result"
   ]
  },
  {
   "cell_type": "markdown",
   "metadata": {},
   "source": [
    "#### Test cases"
   ]
  },
  {
   "cell_type": "code",
   "execution_count": 3,
   "metadata": {},
   "outputs": [
    {
     "name": "stdout",
     "output_type": "stream",
     "text": [
      "['a', 'b', 'c']\n",
      "['aa', 'ab', 'ac', 'ba', 'bb', 'bc', 'ca', 'cb', 'cc']\n",
      "['aaa', 'aab', 'aac', 'aba', 'abb', 'abc', 'aca', 'acb', 'acc', 'baa', 'bab', 'bac', 'bba', 'bbb', 'bbc', 'bca', 'bcb', 'bcc', 'caa', 'cab', 'cac', 'cba', 'cbb', 'cbc', 'cca', 'ccb', 'ccc']\n",
      "['a', 'b', 'c']\n",
      "['ad', 'ae', 'af', 'bd', 'be', 'bf', 'cd', 'ce', 'cf']\n",
      "['adg', 'adh', 'adi', 'aeg', 'aeh', 'aei', 'afg', 'afh', 'afi', 'bdg', 'bdh', 'bdi', 'beg', 'beh', 'bei', 'bfg', 'bfh', 'bfi', 'cdg', 'cdh', 'cdi', 'ceg', 'ceh', 'cei', 'cfg', 'cfh', 'cfi']\n"
     ]
    }
   ],
   "source": [
    "print(leetcode_17a(2))\n",
    "print(leetcode_17a(22))\n",
    "print(leetcode_17a(222))\n",
    "print(leetcode_17a(2))\n",
    "print(leetcode_17a(23))\n",
    "print(leetcode_17a(234))"
   ]
  }
 ],
 "metadata": {
  "kernelspec": {
   "display_name": "Python 3",
   "language": "python",
   "name": "python3"
  },
  "language_info": {
   "codemirror_mode": {
    "name": "ipython",
    "version": 3
   },
   "file_extension": ".py",
   "mimetype": "text/x-python",
   "name": "python",
   "nbconvert_exporter": "python",
   "pygments_lexer": "ipython3",
   "version": "3.7.6"
  }
 },
 "nbformat": 4,
 "nbformat_minor": 4
}
