{
 "cells": [
  {
   "cell_type": "markdown",
   "metadata": {},
   "source": [
    "# Leetcode problems\n",
    "\n",
    "Problems found at [Leetcode website](https://leetcode.com/problemset/all/)."
   ]
  },
  {
   "cell_type": "markdown",
   "metadata": {},
   "source": [
    "## Import packages"
   ]
  },
  {
   "cell_type": "code",
   "execution_count": 1,
   "metadata": {},
   "outputs": [],
   "source": [
    "import numpy as np\n",
    "import math\n",
    "from collections import deque"
   ]
  },
  {
   "cell_type": "markdown",
   "metadata": {},
   "source": [
    "## Problem 20\n",
    "\n",
    "Given a string containing just the characters '(', ')', '{', '}', '[' and ']',\n",
    "determine if the input string is valid.\n",
    "\n",
    "An input string is valid if:<br>\n",
    "Open brackets must be closed by the same type of brackets.<br>\n",
    "Open brackets must be closed in the correct order.<br>\n",
    "Note that an empty string is also considered valid.\n",
    "\n",
    "#### Solution \n",
    "\n",
    "TODO FIX"
   ]
  },
  {
   "cell_type": "code",
   "execution_count": 2,
   "metadata": {},
   "outputs": [],
   "source": [
    "def solve_problem_20(input):\n",
    "    round_brackets_val = {'(': 1, ')': -1}\n",
    "    curly_brackets_val = {'{': 1, '}': -1}\n",
    "    square_brackets_val = {'[': 1, ']': -1}\n",
    "\n",
    "    brackets = {'(': ')', '{': '}', '[': ']'}\n",
    "    \n",
    "    round_level = 0\n",
    "    curly_level = 0\n",
    "    square_level = 0\n",
    "    \n",
    "    # The input string must start with an open bracket.\n",
    "    if input[0] in [')', '}', ']']:\n",
    "        return False\n",
    "\n",
    "    for i in input:\n",
    "        if i in ['(', '{', '[']:\n",
    "            last_open_bracket = i\n",
    "        \n",
    "        # A closed bracket must match the last open bracket.\n",
    "        if i in [')', '}', ']']:\n",
    "            if i != brackets[last_open_bracket]:\n",
    "                return False\n",
    "        \n",
    "        if i in round_brackets_val:\n",
    "            round_level += round_brackets_val[i]\n",
    "        elif i in curly_brackets_val:\n",
    "            curly_level += curly_brackets_val[i]\n",
    "        else:\n",
    "            square_level += square_brackets_val[i]\n",
    "\n",
    "    # Each open bracket must be matched by a closed bracket.\n",
    "    if round_level != 0 or curly_level != 0 or square_level != 0:\n",
    "        return False\n",
    "    \n",
    "    return True"
   ]
  },
  {
   "cell_type": "markdown",
   "metadata": {},
   "source": [
    "#### Test cases\n",
    "\n",
    "Example 1:<br>\n",
    "Input: \"()\"<br>\n",
    "Output: true\n",
    "    \n",
    "Example 2:<br>\n",
    "Input: \"()[]{}\"<br>\n",
    "Output: true\n",
    "    \n",
    "Example 3:<br>\n",
    "Input: \"(]\"<br>\n",
    "Output: false\n",
    "    \n",
    "Example 4:<br>\n",
    "Input: \"([)]\"<br>\n",
    "Output: false\n",
    "    \n",
    "Example 5:<br>\n",
    "Input: \"{[]}\"<br>\n",
    "Output: true"
   ]
  },
  {
   "cell_type": "code",
   "execution_count": 3,
   "metadata": {},
   "outputs": [
    {
     "name": "stdout",
     "output_type": "stream",
     "text": [
      "True\n",
      "True\n",
      "False\n",
      "False\n",
      "False\n"
     ]
    }
   ],
   "source": [
    "print(solve_problem_20(\"()\"))\n",
    "print(solve_problem_20(\"()[]{}\"))\n",
    "print(solve_problem_20(\"(]\"))\n",
    "print(solve_problem_20(\"([)]\"))\n",
    "print(solve_problem_20(\"{[]}\"))"
   ]
  }
 ],
 "metadata": {
  "kernelspec": {
   "display_name": "Python 3",
   "language": "python",
   "name": "python3"
  },
  "language_info": {
   "codemirror_mode": {
    "name": "ipython",
    "version": 3
   },
   "file_extension": ".py",
   "mimetype": "text/x-python",
   "name": "python",
   "nbconvert_exporter": "python",
   "pygments_lexer": "ipython3",
   "version": "3.7.6"
  }
 },
 "nbformat": 4,
 "nbformat_minor": 4
}
