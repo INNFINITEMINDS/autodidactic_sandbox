{
 "cells": [
  {
   "cell_type": "markdown",
   "metadata": {},
   "source": [
    "# Leetcode problems\n",
    "\n",
    "Problems found at [Leetcode website](https://leetcode.com/problemset/all/)."
   ]
  },
  {
   "cell_type": "markdown",
   "metadata": {},
   "source": [
    "## Import packages"
   ]
  },
  {
   "cell_type": "code",
   "execution_count": 1,
   "metadata": {},
   "outputs": [],
   "source": [
    "import numpy as np\n",
    "import math\n",
    "from collections import deque"
   ]
  },
  {
   "cell_type": "markdown",
   "metadata": {},
   "source": [
    "## Problem 23\n",
    "\n",
    "You are given an array of k linked-lists lists, each linked-list is sorted in ascending order.\n",
    "\n",
    "Merge all the linked-lists into one sorted linked-list and return it.\n",
    "\n",
    "#### Solution\n",
    "\n",
    "Assume linked lists will be given as deque objects. Brute force approach.\n",
    "\n",
    "Time complexity: O(number of lists * maximum length of list)"
   ]
  },
  {
   "cell_type": "code",
   "execution_count": 2,
   "metadata": {},
   "outputs": [],
   "source": [
    "def solve_problem_23a(llists):\n",
    "    '''Merge all given linked-list into one sorted linked-list.'''\n",
    "    \n",
    "    res = deque([])\n",
    "    \n",
    "    while True:\n",
    "        min_index = None\n",
    "        min_value = float('inf')\n",
    "        \n",
    "        for i in range(len(llists)):\n",
    "            if len(llists[i]) != 0:\n",
    "                if llists[i][0] < min_value:\n",
    "                    min_index = i\n",
    "                    min_value = llists[i][0]\n",
    "                    \n",
    "        if min_index != None:\n",
    "            res.append(llists[min_index].popleft())\n",
    "        else:\n",
    "            return res"
   ]
  },
  {
   "cell_type": "code",
   "execution_count": 3,
   "metadata": {},
   "outputs": [
    {
     "name": "stdout",
     "output_type": "stream",
     "text": [
      "deque([1, 1, 2, 3, 4, 4, 5, 6])\n"
     ]
    }
   ],
   "source": [
    "llists = [deque([1,4,5]),deque([1,3,4]),deque([2,6])]\n",
    "print(solve_problem_23a(llists))"
   ]
  },
  {
   "cell_type": "markdown",
   "metadata": {},
   "source": [
    "#### Testing\n",
    "\n",
    "Input: lists = [[1,4,5],[1,3,4],[2,6]]<br>\n",
    "Output: [1,1,2,3,4,4,5,6]"
   ]
  },
  {
   "cell_type": "code",
   "execution_count": 4,
   "metadata": {},
   "outputs": [
    {
     "name": "stdout",
     "output_type": "stream",
     "text": [
      "deque([1, 1, 2, 3, 4, 4, 5, 6])\n"
     ]
    }
   ],
   "source": [
    "a = deque([1,4,5])\n",
    "b = deque([1,3,4])\n",
    "c = deque([2,6])\n",
    "print(solve_problem_23a([a, b, c]))"
   ]
  },
  {
   "cell_type": "markdown",
   "metadata": {},
   "source": [
    "Input: lists = []<br>\n",
    "Output: []"
   ]
  },
  {
   "cell_type": "code",
   "execution_count": 5,
   "metadata": {},
   "outputs": [
    {
     "name": "stdout",
     "output_type": "stream",
     "text": [
      "deque([])\n"
     ]
    }
   ],
   "source": [
    "print(solve_problem_23a([]))"
   ]
  },
  {
   "cell_type": "markdown",
   "metadata": {},
   "source": [
    "Input: lists = [[]]<br>\n",
    "Output: []"
   ]
  },
  {
   "cell_type": "code",
   "execution_count": 6,
   "metadata": {},
   "outputs": [
    {
     "name": "stdout",
     "output_type": "stream",
     "text": [
      "deque([])\n"
     ]
    }
   ],
   "source": [
    "print(solve_problem_23a([[]]))"
   ]
  },
  {
   "cell_type": "code",
   "execution_count": null,
   "metadata": {},
   "outputs": [],
   "source": []
  }
 ],
 "metadata": {
  "kernelspec": {
   "display_name": "Python 3",
   "language": "python",
   "name": "python3"
  },
  "language_info": {
   "codemirror_mode": {
    "name": "ipython",
    "version": 3
   },
   "file_extension": ".py",
   "mimetype": "text/x-python",
   "name": "python",
   "nbconvert_exporter": "python",
   "pygments_lexer": "ipython3",
   "version": "3.7.6"
  }
 },
 "nbformat": 4,
 "nbformat_minor": 4
}
