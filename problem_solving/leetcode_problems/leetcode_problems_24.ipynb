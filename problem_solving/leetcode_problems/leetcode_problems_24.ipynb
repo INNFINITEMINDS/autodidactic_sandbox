{
 "cells": [
  {
   "cell_type": "markdown",
   "metadata": {},
   "source": [
    "# Leetcode problems\n",
    "\n",
    "Problems found at [Leetcode website](https://leetcode.com/problemset/all/)."
   ]
  },
  {
   "cell_type": "markdown",
   "metadata": {},
   "source": [
    "## Import packages"
   ]
  },
  {
   "cell_type": "code",
   "execution_count": 1,
   "metadata": {},
   "outputs": [],
   "source": [
    "import numpy as np\n",
    "import math\n",
    "from collections import deque"
   ]
  },
  {
   "cell_type": "markdown",
   "metadata": {},
   "source": [
    "## Problem 24\n",
    "\n",
    "Given a linked list, swap every two adjacent nodes and return its head.\n",
    "\n",
    "You may not modify the values in the list's nodes. Only nodes itself may be changed.\n",
    "\n",
    "#### Solution"
   ]
  },
  {
   "cell_type": "code",
   "execution_count": 2,
   "metadata": {},
   "outputs": [],
   "source": [
    "def solve_problem_24(llist):\n",
    "    '''Given a linked list, swap every two adjacent nodes and return its head.'''\n",
    "    \n",
    "    # Base case.\n",
    "    if len(llist) == 0: return deque([])\n",
    "    \n",
    "    n = len(llist) // 2\n",
    "    res = deque([])\n",
    "    \n",
    "    # Go through the input list two at a time, except the last one or two.\n",
    "    for i in range(0, n, 2):\n",
    "        res.append(llist[i + 1]) # Append the second element to the result.\n",
    "        res.append(llist[i]) # Then append the first element.\n",
    "    \n",
    "    # Append the last element and, if the input list was even, the second last element.\n",
    "    res.append(llist[-1])\n",
    "    if len(llist) % 2 == 0:\n",
    "        res.append(llist[-2])\n",
    "        \n",
    "    return res"
   ]
  },
  {
   "cell_type": "markdown",
   "metadata": {},
   "source": [
    "#### Testing\n",
    "\n",
    "Input: head = [1,2,3,4]<br>\n",
    "Output: [2,1,4,3]"
   ]
  },
  {
   "cell_type": "code",
   "execution_count": 3,
   "metadata": {},
   "outputs": [
    {
     "name": "stdout",
     "output_type": "stream",
     "text": [
      "deque([2, 1, 4, 3])\n"
     ]
    }
   ],
   "source": [
    "llist = deque([1, 2, 3, 4])\n",
    "print(solve_problem_24(llist))"
   ]
  },
  {
   "cell_type": "markdown",
   "metadata": {},
   "source": [
    "Input: head = []<br>\n",
    "Output: []"
   ]
  },
  {
   "cell_type": "code",
   "execution_count": 4,
   "metadata": {},
   "outputs": [
    {
     "name": "stdout",
     "output_type": "stream",
     "text": [
      "deque([1])\n"
     ]
    }
   ],
   "source": [
    "llist = deque([1])\n",
    "print(solve_problem_24(llist))"
   ]
  },
  {
   "cell_type": "markdown",
   "metadata": {},
   "source": [
    "Input: head = []<br>\n",
    "Output: []"
   ]
  },
  {
   "cell_type": "code",
   "execution_count": 5,
   "metadata": {},
   "outputs": [
    {
     "name": "stdout",
     "output_type": "stream",
     "text": [
      "deque([])\n"
     ]
    }
   ],
   "source": [
    "llist = deque([])\n",
    "print(solve_problem_24(llist))"
   ]
  }
 ],
 "metadata": {
  "kernelspec": {
   "display_name": "Python 3",
   "language": "python",
   "name": "python3"
  },
  "language_info": {
   "codemirror_mode": {
    "name": "ipython",
    "version": 3
   },
   "file_extension": ".py",
   "mimetype": "text/x-python",
   "name": "python",
   "nbconvert_exporter": "python",
   "pygments_lexer": "ipython3",
   "version": "3.7.6"
  }
 },
 "nbformat": 4,
 "nbformat_minor": 4
}
