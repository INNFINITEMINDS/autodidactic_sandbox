{
 "cells": [
  {
   "cell_type": "markdown",
   "metadata": {},
   "source": [
    "# Leetcode problems\n",
    "\n",
    "Problems found at [Leetcode website](https://leetcode.com/problemset/all/)."
   ]
  },
  {
   "cell_type": "markdown",
   "metadata": {},
   "source": [
    "## Import packages"
   ]
  },
  {
   "cell_type": "code",
   "execution_count": 1,
   "metadata": {},
   "outputs": [],
   "source": [
    "import numpy as np\n",
    "import math\n",
    "from collections import deque"
   ]
  },
  {
   "cell_type": "markdown",
   "metadata": {},
   "source": [
    "## Problem 38\n",
    "\n",
    "The count-and-say sequence is the sequence of integers with the first five terms as following:\n",
    "\n",
    "1.     1\n",
    "2.     11\n",
    "3.     21\n",
    "4.     1211\n",
    "5.     111221\n",
    "\n",
    "1 is read off as \"one 1\" or 11.<br>\n",
    "11 is read off as \"two 1s\" or 21.<br>\n",
    "21 is read off as \"one 2, then one 1\" or 1211.\n",
    "\n",
    "Given an integer n where 1 ≤ n ≤ 30, generate the nth term of the count-and-say sequence. You can do so recursively, in other words from the previous member read off the digits, counting the number of digits in groups of the same digit.\n",
    "\n",
    "Note: Each term of the sequence of integers will be represented as a string.\n",
    "\n",
    "#### Solution"
   ]
  },
  {
   "cell_type": "code",
   "execution_count": 2,
   "metadata": {},
   "outputs": [],
   "source": [
    "def solve_problem_38(n):\n",
    "    if n == 1: return 1\n",
    "    \n",
    "    # n = 1\n",
    "    output = [1]\n",
    "    \n",
    "    # Iterate through the sequence.\n",
    "    for k in range(0, n - 1):\n",
    "        \n",
    "        # Set the input as the output from the last iteration.\n",
    "        input = output\n",
    "        j = 0\n",
    "        values = [input[0]]\n",
    "        counts = [1]\n",
    "\n",
    "        # Iterate through the digits in each integer.\n",
    "        for i in range(1, len(input)):\n",
    "            \n",
    "            # Value is same as previous value.\n",
    "            if input[i] == input[i - 1]:\n",
    "                counts[j] +=1\n",
    "                \n",
    "            # Value is different to previous value.\n",
    "            else:\n",
    "                j += 1\n",
    "                values.append(input[i])\n",
    "                counts.append(1)\n",
    "        \n",
    "        # Result is a single list produced by concatenting the alternate elements of values and counts.\n",
    "        output = []\n",
    "        for i in range(2 * len(counts)):\n",
    "            if i % 2 == 0:\n",
    "                output.append(counts[int(i / 2)])\n",
    "            else:\n",
    "                output.append(values[int((i - 1) / 2)])\n",
    "    \n",
    "    # Returned object is an integer\n",
    "    return int(''.join(map(str, output)))"
   ]
  },
  {
   "cell_type": "markdown",
   "metadata": {},
   "source": [
    "#### Test cases"
   ]
  },
  {
   "cell_type": "code",
   "execution_count": 3,
   "metadata": {},
   "outputs": [
    {
     "name": "stdout",
     "output_type": "stream",
     "text": [
      "1\n",
      "11\n",
      "21\n",
      "1211\n",
      "111221\n"
     ]
    }
   ],
   "source": [
    "print(solve_problem_38(1))\n",
    "print(solve_problem_38(2))\n",
    "print(solve_problem_38(3))\n",
    "print(solve_problem_38(4))\n",
    "print(solve_problem_38(5))"
   ]
  }
 ],
 "metadata": {
  "kernelspec": {
   "display_name": "Python 3",
   "language": "python",
   "name": "python3"
  },
  "language_info": {
   "codemirror_mode": {
    "name": "ipython",
    "version": 3
   },
   "file_extension": ".py",
   "mimetype": "text/x-python",
   "name": "python",
   "nbconvert_exporter": "python",
   "pygments_lexer": "ipython3",
   "version": "3.7.6"
  }
 },
 "nbformat": 4,
 "nbformat_minor": 4
}
