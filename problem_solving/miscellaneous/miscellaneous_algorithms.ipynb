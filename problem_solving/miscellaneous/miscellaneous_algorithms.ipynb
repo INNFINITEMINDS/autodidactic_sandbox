{
 "cells": [
  {
   "cell_type": "markdown",
   "metadata": {},
   "source": [
    "# Algorithms "
   ]
  },
  {
   "cell_type": "markdown",
   "metadata": {},
   "source": [
    "####  Import packages"
   ]
  },
  {
   "cell_type": "code",
   "execution_count": 1,
   "metadata": {},
   "outputs": [],
   "source": [
    "import math"
   ]
  },
  {
   "cell_type": "markdown",
   "metadata": {},
   "source": [
    "#### Input data"
   ]
  },
  {
   "cell_type": "code",
   "execution_count": 2,
   "metadata": {},
   "outputs": [],
   "source": [
    "a = [4, 2, 5]\n",
    "b = [1, 5, 2]\n",
    "c = [2, ]\n",
    "d = [0, 1, 2, 3]\n",
    "e = [3, 10, 200, 400]\n",
    "x = 2"
   ]
  },
  {
   "cell_type": "markdown",
   "metadata": {},
   "source": [
    "## Miscellaneous algorithms"
   ]
  },
  {
   "cell_type": "markdown",
   "metadata": {},
   "source": [
    "#### Sum digits"
   ]
  },
  {
   "cell_type": "code",
   "execution_count": 3,
   "metadata": {},
   "outputs": [],
   "source": [
    "def sum_digits(x):\n",
    "    'Calculates the sum of the digits of a number'\n",
    "    total = 0\n",
    "    \n",
    "    while x > 0:\n",
    "        total += x % 10\n",
    "        x = x // 10\n",
    "    \n",
    "    return total"
   ]
  },
  {
   "cell_type": "code",
   "execution_count": 4,
   "metadata": {},
   "outputs": [
    {
     "name": "stdout",
     "output_type": "stream",
     "text": [
      "17\n",
      "6\n",
      "9\n"
     ]
    }
   ],
   "source": [
    "print(sum_digits(4256))\n",
    "print(sum_digits(123))\n",
    "print(sum_digits(45))"
   ]
  },
  {
   "cell_type": "markdown",
   "metadata": {},
   "source": [
    "Time complexity: $O(log(N))$"
   ]
  },
  {
   "cell_type": "markdown",
   "metadata": {},
   "source": [
    "#### Fibonacci sequence"
   ]
  },
  {
   "cell_type": "code",
   "execution_count": 5,
   "metadata": {},
   "outputs": [],
   "source": [
    "def fibonacci(i):\n",
    "    'Returns the ith number in the Fibonacci sequence'\n",
    "    if i == 0 or i == 1:\n",
    "        return 1\n",
    "    else:\n",
    "        return fibonacci(i - 2) + fibonacci(i - 1)"
   ]
  },
  {
   "cell_type": "code",
   "execution_count": 6,
   "metadata": {},
   "outputs": [
    {
     "name": "stdout",
     "output_type": "stream",
     "text": [
      "1\n",
      "1\n",
      "2\n",
      "3\n",
      "5\n",
      "8\n"
     ]
    }
   ],
   "source": [
    "print(fibonacci(0))\n",
    "print(fibonacci(1))\n",
    "print(fibonacci(2))\n",
    "print(fibonacci(3))\n",
    "print(fibonacci(4))\n",
    "print(fibonacci(5))"
   ]
  },
  {
   "cell_type": "markdown",
   "metadata": {},
   "source": [
    "Time complexity: $O(N)$"
   ]
  },
  {
   "cell_type": "code",
   "execution_count": 7,
   "metadata": {},
   "outputs": [],
   "source": [
    "def print_fibonacci_slow(n):\n",
    "    'Prints the first n numbers of the Fibonnaci sequence.'\n",
    "    for i in range(n):\n",
    "        print(fibonacci(i))"
   ]
  },
  {
   "cell_type": "code",
   "execution_count": 8,
   "metadata": {},
   "outputs": [
    {
     "name": "stdout",
     "output_type": "stream",
     "text": [
      "1\n",
      "1\n",
      "2\n",
      "3\n",
      "5\n",
      "8\n"
     ]
    }
   ],
   "source": [
    "print_fibonacci_slow(6)"
   ]
  },
  {
   "cell_type": "markdown",
   "metadata": {},
   "source": [
    "Time complexity: $O(2^N)$"
   ]
  },
  {
   "cell_type": "code",
   "execution_count": 9,
   "metadata": {},
   "outputs": [],
   "source": [
    "def print_fibonacci_fast(n):\n",
    "    'Prints the first n numbers of the Fibonnaci sequence using memoisation.'\n",
    "    print(1)\n",
    "    if n > 1:\n",
    "        print(1)\n",
    "    if n > 2:\n",
    "        x = 1\n",
    "        y = 1\n",
    "        for i in range(0, n - 2):\n",
    "            print(x + y)\n",
    "            temp = x\n",
    "            x = y\n",
    "            y = temp + y"
   ]
  },
  {
   "cell_type": "code",
   "execution_count": 10,
   "metadata": {},
   "outputs": [
    {
     "name": "stdout",
     "output_type": "stream",
     "text": [
      "1\n",
      "1\n",
      "2\n",
      "3\n",
      "5\n",
      "8\n"
     ]
    }
   ],
   "source": [
    "print_fibonacci_fast(6)"
   ]
  },
  {
   "cell_type": "markdown",
   "metadata": {},
   "source": [
    "Time complexity: $O(N)$"
   ]
  },
  {
   "cell_type": "markdown",
   "metadata": {},
   "source": [
    "#### Sequence of powers"
   ]
  },
  {
   "cell_type": "code",
   "execution_count": 11,
   "metadata": {},
   "outputs": [],
   "source": [
    "def powers_of_two(n):\n",
    "    'Print a sequence of the powers of 2 from 1 to n.'\n",
    "    if n < 0:\n",
    "        return 'Undefined'\n",
    "    \n",
    "    print(1)\n",
    "    x = 2\n",
    "    \n",
    "    for i in range(1, n):\n",
    "        print(x)\n",
    "        x *= 2"
   ]
  },
  {
   "cell_type": "code",
   "execution_count": 12,
   "metadata": {},
   "outputs": [
    {
     "name": "stdout",
     "output_type": "stream",
     "text": [
      "1\n",
      "2\n",
      "4\n",
      "8\n",
      "16\n"
     ]
    }
   ],
   "source": [
    "powers_of_two(5)"
   ]
  },
  {
   "cell_type": "markdown",
   "metadata": {},
   "source": [
    "Time complexity: $O(log(N))$"
   ]
  },
  {
   "cell_type": "markdown",
   "metadata": {},
   "source": [
    "#### Factorial"
   ]
  },
  {
   "cell_type": "code",
   "execution_count": 10,
   "metadata": {},
   "outputs": [],
   "source": [
    "def factorial(x):\n",
    "    'Calculates x!'\n",
    "    if x < 0:\n",
    "        return 'Not defined'\n",
    "    elif x == 0:\n",
    "        return 0\n",
    "    elif x == 1:\n",
    "        return 1\n",
    "    else:\n",
    "        return x * factorial(x - 1)"
   ]
  },
  {
   "cell_type": "code",
   "execution_count": 14,
   "metadata": {},
   "outputs": [
    {
     "name": "stdout",
     "output_type": "stream",
     "text": [
      "Not defined\n",
      "0\n",
      "1\n",
      "2\n",
      "6\n",
      "24\n",
      "120\n"
     ]
    }
   ],
   "source": [
    "print(factorial(-1))\n",
    "print(factorial(0))\n",
    "print(factorial(1))\n",
    "print(factorial(2))\n",
    "print(factorial(3))\n",
    "print(factorial(4))\n",
    "print(factorial(5))"
   ]
  },
  {
   "cell_type": "markdown",
   "metadata": {},
   "source": [
    "Time complexity: $O(N)$"
   ]
  },
  {
   "cell_type": "markdown",
   "metadata": {},
   "source": [
    "#### Trigonometry"
   ]
  },
  {
   "cell_type": "code",
   "execution_count": 103,
   "metadata": {},
   "outputs": [],
   "source": [
    "def sin(x, n = 8):\n",
    "    'Rounds to 5 decimal places.'\n",
    "    return round(sin_helper(x, n), 5)\n",
    "\n",
    "def sin_helper(x, n):\n",
    "    'Calculates sine of x by summing the first n terms of the Taylor series expansion of the sine function.'\n",
    "    if n == 1:\n",
    "        return x\n",
    "    else:\n",
    "        power = 2 * n - 1\n",
    "        sign = (-1) ** (n - 1)\n",
    "        new_term = sign * x ** power / factorial(power)\n",
    "        \n",
    "        return sin_helper(x, n - 1) + new_term"
   ]
  },
  {
   "cell_type": "code",
   "execution_count": 116,
   "metadata": {},
   "outputs": [
    {
     "name": "stdout",
     "output_type": "stream",
     "text": [
      "0.0\n",
      "0.0\n",
      "1.0\n",
      "1.0\n",
      "0.00693\n",
      "-0.0\n"
     ]
    }
   ],
   "source": [
    "print(sin(0.0, 5))\n",
    "print(sin(0.0, 10))\n",
    "print(sin(3.1415926535/2, 5))\n",
    "print(sin(3.1415926535/2, 10))\n",
    "print(sin(3.1415926535, 5))\n",
    "print(sin(3.1415926535, 10))"
   ]
  },
  {
   "cell_type": "markdown",
   "metadata": {},
   "source": [
    "Time complexity: $O(N^2)$"
   ]
  },
  {
   "cell_type": "code",
   "execution_count": 111,
   "metadata": {},
   "outputs": [],
   "source": [
    "def cos(x, n = 8):\n",
    "    'Rounds to 5 decimal places.'\n",
    "    return round(cos_helper(x, n), 5)\n",
    "\n",
    "def cos_helper(x, n):\n",
    "    'Calculates cosine of x by summing the first n terms of the Taylor series expansion of the cosine function.'\n",
    "    if n == 1:\n",
    "        return 1\n",
    "    else:\n",
    "        power = 2 * n - 2\n",
    "        sign = (-1) ** (n - 1)\n",
    "        new_term = sign / factorial(power) * x ** power\n",
    "        \n",
    "        return cos_helper(x, n - 1) + new_term"
   ]
  },
  {
   "cell_type": "code",
   "execution_count": 117,
   "metadata": {},
   "outputs": [
    {
     "name": "stdout",
     "output_type": "stream",
     "text": [
      "1.0\n",
      "1.0\n",
      "2e-05\n",
      "0.0\n",
      "-0.97602\n",
      "-1.0\n"
     ]
    }
   ],
   "source": [
    "print(cos(0.0, 5))\n",
    "print(cos(0.0, 10))\n",
    "print(cos(3.1415926535/2, 5))\n",
    "print(cos(3.1415926535/2, 10))\n",
    "print(cos(3.1415926535, 5))\n",
    "print(cos(3.1415926535, 10))"
   ]
  },
  {
   "cell_type": "markdown",
   "metadata": {},
   "source": [
    "Time complexity: $O(N^2)$"
   ]
  },
  {
   "cell_type": "markdown",
   "metadata": {},
   "source": [
    "#### Check if prime"
   ]
  },
  {
   "cell_type": "code",
   "execution_count": 15,
   "metadata": {},
   "outputs": [],
   "source": [
    "def is_prime(x):\n",
    "    'Determines whether a number is prime or not.'\n",
    "    if x == 1 or x == 2:\n",
    "        return 'Prime'\n",
    "    \n",
    "    for i in range(1, math.floor(math.sqrt(x))):\n",
    "        if x % (i + 1) == 0:\n",
    "            return 'Not prime'\n",
    "        \n",
    "    return 'Prime'"
   ]
  },
  {
   "cell_type": "code",
   "execution_count": 16,
   "metadata": {},
   "outputs": [
    {
     "name": "stdout",
     "output_type": "stream",
     "text": [
      "Prime\n",
      "Prime\n",
      "Prime\n",
      "Not prime\n",
      "Prime\n",
      "Not prime\n",
      "Prime\n"
     ]
    }
   ],
   "source": [
    "print(is_prime(1))\n",
    "print(is_prime(2))\n",
    "print(is_prime(3))\n",
    "print(is_prime(4))\n",
    "print(is_prime(5))\n",
    "print(is_prime(6))\n",
    "print(is_prime(7))"
   ]
  },
  {
   "cell_type": "markdown",
   "metadata": {},
   "source": [
    "Time complexity: $O(\\sqrt{N})$"
   ]
  },
  {
   "cell_type": "markdown",
   "metadata": {},
   "source": [
    "#### Sum and product"
   ]
  },
  {
   "cell_type": "code",
   "execution_count": 17,
   "metadata": {},
   "outputs": [],
   "source": [
    "def product(x, y):\n",
    "    'Calculates the product of x and y.'\n",
    "    result = 0\n",
    "    \n",
    "    for i in range(0, x):\n",
    "        result += y\n",
    "    \n",
    "    return result"
   ]
  },
  {
   "cell_type": "code",
   "execution_count": 18,
   "metadata": {},
   "outputs": [
    {
     "name": "stdout",
     "output_type": "stream",
     "text": [
      "24\n",
      "17\n",
      "156\n"
     ]
    }
   ],
   "source": [
    "print(product(4, 6))\n",
    "print(product(1, 17))\n",
    "print(product(12, 13))"
   ]
  },
  {
   "cell_type": "markdown",
   "metadata": {},
   "source": [
    "Time complexity: $O(y)$"
   ]
  },
  {
   "cell_type": "code",
   "execution_count": 19,
   "metadata": {},
   "outputs": [],
   "source": [
    "def exp(x, y):\n",
    "    'Calculates x to the power of y.'\n",
    "    if y == 0:\n",
    "        return 1\n",
    "    \n",
    "    result = 1\n",
    "    for i in range(y):\n",
    "        result *= x\n",
    "    \n",
    "    return result"
   ]
  },
  {
   "cell_type": "code",
   "execution_count": 20,
   "metadata": {},
   "outputs": [
    {
     "name": "stdout",
     "output_type": "stream",
     "text": [
      "16\n",
      "1\n",
      "3\n",
      "125\n"
     ]
    }
   ],
   "source": [
    "print(exp(4, 2))\n",
    "print(exp(2, 0))\n",
    "print(exp(3, 1))\n",
    "print(exp(5, 3))"
   ]
  },
  {
   "cell_type": "markdown",
   "metadata": {},
   "source": [
    "Time complexity: $O(X)$"
   ]
  },
  {
   "cell_type": "code",
   "execution_count": 21,
   "metadata": {},
   "outputs": [],
   "source": [
    "def sum_and_product(array):\n",
    "    'Return the sum and the product of the elements of an array.'\n",
    "    sm = 0\n",
    "    prod = 1\n",
    "    for i in range(len(array)):\n",
    "        sm += array[i]\n",
    "        prod *= array[i]\n",
    "    \n",
    "    return sm, prod"
   ]
  },
  {
   "cell_type": "code",
   "execution_count": 22,
   "metadata": {},
   "outputs": [
    {
     "name": "stdout",
     "output_type": "stream",
     "text": [
      "11 40\n"
     ]
    }
   ],
   "source": [
    "sm, prod = sum_and_product(a)\n",
    "print(sm, prod)"
   ]
  },
  {
   "cell_type": "markdown",
   "metadata": {},
   "source": [
    "Time complexity: $O(N)$"
   ]
  },
  {
   "cell_type": "code",
   "execution_count": 23,
   "metadata": {},
   "outputs": [],
   "source": [
    "def integer_division(x, y):\n",
    "    'Counts the number of times y goes into x.'\n",
    "    count = -1\n",
    "    sm = 0\n",
    "    while sm <= x:\n",
    "        sm += y\n",
    "        count += 1\n",
    "        \n",
    "    return count"
   ]
  },
  {
   "cell_type": "code",
   "execution_count": 24,
   "metadata": {},
   "outputs": [
    {
     "name": "stdout",
     "output_type": "stream",
     "text": [
      "3\n",
      "0\n",
      "3\n",
      "8\n",
      "1\n"
     ]
    }
   ],
   "source": [
    "print(integer_division(23, 7))\n",
    "print(integer_division(7, 23))\n",
    "print(integer_division(24, 8))\n",
    "print(integer_division(24, 3))\n",
    "print(integer_division(5, 5))"
   ]
  },
  {
   "cell_type": "markdown",
   "metadata": {},
   "source": [
    "Time complexity: $O(\\frac{y}{x})$"
   ]
  },
  {
   "cell_type": "markdown",
   "metadata": {},
   "source": [
    "#### Print combinations"
   ]
  },
  {
   "cell_type": "code",
   "execution_count": 25,
   "metadata": {},
   "outputs": [],
   "source": [
    "def print_combinations(array_1, array_2):\n",
    "    'Prints all combinations of the elements of two arrays (one then the other).'\n",
    "    for i in range(len(array_1)):\n",
    "        for j in range(len(array_2)):\n",
    "            print(array_1[i], array_2[j])"
   ]
  },
  {
   "cell_type": "code",
   "execution_count": 26,
   "metadata": {
    "scrolled": true
   },
   "outputs": [
    {
     "name": "stdout",
     "output_type": "stream",
     "text": [
      "4 1\n",
      "4 5\n",
      "4 2\n",
      "2 1\n",
      "2 5\n",
      "2 2\n",
      "5 1\n",
      "5 5\n",
      "5 2\n"
     ]
    }
   ],
   "source": [
    "print_combinations(a, b)"
   ]
  },
  {
   "cell_type": "markdown",
   "metadata": {},
   "source": [
    "Time complexity: $O(N^2)$"
   ]
  },
  {
   "cell_type": "code",
   "execution_count": 27,
   "metadata": {},
   "outputs": [
    {
     "name": "stdout",
     "output_type": "stream",
     "text": [
      "4 2\n",
      "2 2\n",
      "5 2\n"
     ]
    }
   ],
   "source": [
    "print_combinations(a, c)"
   ]
  },
  {
   "cell_type": "markdown",
   "metadata": {},
   "source": [
    "Time complexity = $O(ab)$"
   ]
  },
  {
   "cell_type": "code",
   "execution_count": 28,
   "metadata": {},
   "outputs": [],
   "source": [
    "def print_combinations_plus(array_1, array_2):\n",
    "    'Prints all combinations of the elements of two arrays with index greater than that of the index of a.'\n",
    "    for i in range(len(array_1)):\n",
    "        for j in range(i + 1, len(array_2)):\n",
    "            print(array_1[i], array_2[j])"
   ]
  },
  {
   "cell_type": "code",
   "execution_count": 29,
   "metadata": {
    "scrolled": true
   },
   "outputs": [
    {
     "name": "stdout",
     "output_type": "stream",
     "text": [
      "4 1\n",
      "4 5\n",
      "4 2\n",
      "2 1\n",
      "2 5\n",
      "2 2\n",
      "5 1\n",
      "5 5\n",
      "5 2\n"
     ]
    }
   ],
   "source": [
    "print_combinations(a, b)"
   ]
  },
  {
   "cell_type": "markdown",
   "metadata": {},
   "source": [
    "Time complexity: $O(N^2)$"
   ]
  },
  {
   "cell_type": "code",
   "execution_count": 30,
   "metadata": {},
   "outputs": [],
   "source": [
    "def print_combinations_twice(array_1, array_2):\n",
    "    'Prints all combinations of the elements of two arrays (one then the other) twice each.'\n",
    "    for i in range(len(array_1)):\n",
    "        for j in range(len(array_2)):\n",
    "            for k in range(2):\n",
    "                print(array_1[i], array_2[j])"
   ]
  },
  {
   "cell_type": "code",
   "execution_count": 31,
   "metadata": {},
   "outputs": [
    {
     "name": "stdout",
     "output_type": "stream",
     "text": [
      "4 1\n",
      "4 1\n",
      "4 5\n",
      "4 5\n",
      "4 2\n",
      "4 2\n",
      "2 1\n",
      "2 1\n",
      "2 5\n",
      "2 5\n",
      "2 2\n",
      "2 2\n",
      "5 1\n",
      "5 1\n",
      "5 5\n",
      "5 5\n",
      "5 2\n",
      "5 2\n"
     ]
    }
   ],
   "source": [
    "print_combinations_twice(a, b)"
   ]
  },
  {
   "cell_type": "markdown",
   "metadata": {},
   "source": [
    "Time complexity: $O(N^2)$"
   ]
  },
  {
   "cell_type": "markdown",
   "metadata": {},
   "source": [
    "#### Reverse array"
   ]
  },
  {
   "cell_type": "code",
   "execution_count": 32,
   "metadata": {},
   "outputs": [],
   "source": [
    "def reverse(array):\n",
    "    'Returns an array reversed.'\n",
    "    n = len(array)\n",
    "    \n",
    "    for i in range(n // 2):\n",
    "        temp = array[i]\n",
    "        array[i] = array[n - i - 1]\n",
    "        array[n - i - 1] = temp\n",
    "    \n",
    "    return array"
   ]
  },
  {
   "cell_type": "code",
   "execution_count": 33,
   "metadata": {},
   "outputs": [
    {
     "name": "stdout",
     "output_type": "stream",
     "text": [
      "[5, 2, 4]\n",
      "[3, 2, 1, 0]\n"
     ]
    }
   ],
   "source": [
    "print(reverse(a))\n",
    "print(reverse(d))"
   ]
  },
  {
   "cell_type": "markdown",
   "metadata": {},
   "source": [
    "Time complexity: $O(N)$"
   ]
  },
  {
   "cell_type": "markdown",
   "metadata": {},
   "source": [
    "#### Recursion"
   ]
  },
  {
   "cell_type": "code",
   "execution_count": 10,
   "metadata": {},
   "outputs": [],
   "source": [
    "def fibonacci_2(n):\n",
    "    'Generate the nth number in the Fibonnaci sequence'\n",
    "    \n",
    "    if isinstance(n, int) != True: return 'ERROR: n is not an integer.'\n",
    "    \n",
    "    if n < 0: return 'ERROR: n must be a positive integer.'\n",
    "    elif n == 0: return 0\n",
    "    elif n == 1: return 1\n",
    "    else: return fibonacci_2(n - 1) + fibonacci_2(n - 2)"
   ]
  },
  {
   "cell_type": "code",
   "execution_count": 11,
   "metadata": {},
   "outputs": [
    {
     "name": "stdout",
     "output_type": "stream",
     "text": [
      "ERROR: n must be a positive integer.\n",
      "0\n",
      "1\n",
      "1\n",
      "2\n",
      "3\n",
      "5\n",
      "8\n",
      "13\n"
     ]
    }
   ],
   "source": [
    "print(fibonacci_2(-1))\n",
    "print(fibonacci_2(0))\n",
    "print(fibonacci_2(1))\n",
    "print(fibonacci_2(2))\n",
    "print(fibonacci_2(3))\n",
    "print(fibonacci_2(4))\n",
    "print(fibonacci_2(5))\n",
    "print(fibonacci_2(6))\n",
    "print(fibonacci_2(7))"
   ]
  },
  {
   "cell_type": "markdown",
   "metadata": {},
   "source": [
    "Time complexity: $O(2^N)$"
   ]
  },
  {
   "cell_type": "code",
   "execution_count": 27,
   "metadata": {},
   "outputs": [],
   "source": [
    "def fibonacci_3(n):\n",
    "    'Generate the nth number in the Fibonnaci sequence using memoisation.'\n",
    "    \n",
    "    if isinstance(n, int) == False: return 'ERROR: n is not an integer.'\n",
    "    \n",
    "    if n < 0: return 'ERROR: n must be a positive integer.'\n",
    "    elif n == 0: return 0\n",
    "    elif n == 1: return 1\n",
    "    else:\n",
    "        memo = [-1] * n\n",
    "        return fibonacci_3_helper(n - 1, memo) + fibonacci_3_helper(n - 2, memo)\n",
    "\n",
    "def fibonacci_3_helper(n, memo):\n",
    "    'Generate the nth number in the Fibonnaci sequence'\n",
    "    \n",
    "    if n == 0: return 0\n",
    "    elif n == 1: return 1\n",
    "    \n",
    "    if memo[n] == -1:\n",
    "        memo[n] = fibonacci_3_helper(n - 1, memo) + fibonacci_3_helper(n - 2, memo)\n",
    "\n",
    "    return memo[n]"
   ]
  },
  {
   "cell_type": "code",
   "execution_count": 28,
   "metadata": {},
   "outputs": [
    {
     "name": "stdout",
     "output_type": "stream",
     "text": [
      "ERROR: n must be a positive integer.\n",
      "0\n",
      "1\n",
      "1\n",
      "2\n",
      "3\n",
      "5\n",
      "8\n",
      "13\n"
     ]
    }
   ],
   "source": [
    "print(fibonacci_3(-1))\n",
    "print(fibonacci_3(0))\n",
    "print(fibonacci_3(1))\n",
    "print(fibonacci_3(2))\n",
    "print(fibonacci_3(3))\n",
    "print(fibonacci_3(4))\n",
    "print(fibonacci_3(5))\n",
    "print(fibonacci_3(6))\n",
    "print(fibonacci_3(7))"
   ]
  },
  {
   "cell_type": "markdown",
   "metadata": {},
   "source": [
    "Time complexity: $O(N)$"
   ]
  },
  {
   "cell_type": "markdown",
   "metadata": {},
   "source": [
    "## Search algorithms"
   ]
  },
  {
   "cell_type": "markdown",
   "metadata": {},
   "source": [
    "#### Linear search"
   ]
  },
  {
   "cell_type": "code",
   "execution_count": 34,
   "metadata": {},
   "outputs": [],
   "source": [
    "def linear_search(x, array):\n",
    "    'Searches for the position of the scalar x in an array.'\n",
    "    n = len(array)\n",
    "    \n",
    "    for i in range(n):\n",
    "        if array[i] == x:\n",
    "            return i\n",
    "    \n",
    "    return 'Not found'"
   ]
  },
  {
   "cell_type": "code",
   "execution_count": 35,
   "metadata": {},
   "outputs": [
    {
     "name": "stdout",
     "output_type": "stream",
     "text": [
      "1\n",
      "Not found\n"
     ]
    }
   ],
   "source": [
    "print(linear_search(x, a))\n",
    "print(linear_search(100, a))"
   ]
  },
  {
   "cell_type": "markdown",
   "metadata": {},
   "source": [
    "Time complexity: $O(N)$"
   ]
  },
  {
   "cell_type": "markdown",
   "metadata": {},
   "source": [
    "#### Binary search"
   ]
  },
  {
   "cell_type": "code",
   "execution_count": 36,
   "metadata": {},
   "outputs": [],
   "source": [
    "def binary_search(x, array, low, high):\n",
    "    'Finds the position of the scalar x in the sorted array with indices low to high.'\n",
    "    if low == high:\n",
    "        return low\n",
    "    \n",
    "    mid = (low + high) // 2\n",
    "    \n",
    "    if x == array[mid]:\n",
    "        return mid\n",
    "    \n",
    "    elif x < array[mid]:\n",
    "        return binary_search(x, array, low, mid - 1)\n",
    "    \n",
    "    else:\n",
    "        return binary_search(x, array, mid + 1, high)"
   ]
  },
  {
   "cell_type": "code",
   "execution_count": 37,
   "metadata": {},
   "outputs": [
    {
     "name": "stdout",
     "output_type": "stream",
     "text": [
      "[3, 10, 200, 400]\n",
      "3 : 0\n",
      "200 : 2\n",
      "400 : 3\n"
     ]
    }
   ],
   "source": [
    "print(e)\n",
    "print(3, ':', binary_search(3, e, 0, len(e) - 1))\n",
    "print(200, ':', binary_search(200, e, 0, len(e) - 1))\n",
    "print(400, ':', binary_search(400, e, 0, len(e) - 1))"
   ]
  },
  {
   "cell_type": "markdown",
   "metadata": {},
   "source": [
    "Time complexity: $O(log(N))$"
   ]
  },
  {
   "cell_type": "markdown",
   "metadata": {},
   "source": [
    "#### Square root"
   ]
  },
  {
   "cell_type": "code",
   "execution_count": 38,
   "metadata": {},
   "outputs": [],
   "source": [
    "def linear_sqrt(x):\n",
    "    'Finds the square root of a positive integer x by stepping through all the positive integers less than x.'\n",
    "    if x == 1:\n",
    "        return 1\n",
    "    \n",
    "    for i in range(1, x // 2 + 1):\n",
    "        if i * i == x:\n",
    "            return i\n",
    "    \n",
    "    return -1"
   ]
  },
  {
   "cell_type": "code",
   "execution_count": 39,
   "metadata": {},
   "outputs": [
    {
     "name": "stdout",
     "output_type": "stream",
     "text": [
      "1\n",
      "-1\n",
      "-1\n",
      "2\n",
      "3\n",
      "4\n"
     ]
    }
   ],
   "source": [
    "print(linear_sqrt(1))\n",
    "print(linear_sqrt(2))\n",
    "print(linear_sqrt(3))\n",
    "print(linear_sqrt(4))\n",
    "print(linear_sqrt(9))\n",
    "print(linear_sqrt(16))"
   ]
  },
  {
   "cell_type": "markdown",
   "metadata": {},
   "source": [
    "Time complexity: $O(\\sqrt{N})$"
   ]
  },
  {
   "cell_type": "code",
   "execution_count": 40,
   "metadata": {},
   "outputs": [],
   "source": [
    "def binary_sqrt(x):\n",
    "    return binary_sqrt_helper(x, 1, x)\n",
    "\n",
    "def binary_sqrt_helper(x, low, high):\n",
    "    'Finds the square root of a positive integer via a binary search.'\n",
    "    \n",
    "    if high < low: return -1\n",
    "    \n",
    "    mid = (low + high) // 2\n",
    "    \n",
    "    if mid * mid == x:\n",
    "        return mid\n",
    "    elif mid * mid < x:\n",
    "        return binary_sqrt_helper(x, mid + 1, high)\n",
    "    else:\n",
    "        return binary_sqrt_helper(x, low, mid - 1)"
   ]
  },
  {
   "cell_type": "code",
   "execution_count": 41,
   "metadata": {},
   "outputs": [
    {
     "name": "stdout",
     "output_type": "stream",
     "text": [
      "1\n",
      "-1\n",
      "-1\n",
      "2\n",
      "3\n",
      "4\n"
     ]
    }
   ],
   "source": [
    "print(binary_sqrt(1))\n",
    "print(binary_sqrt(2))\n",
    "print(binary_sqrt(3))\n",
    "print(binary_sqrt(4))\n",
    "print(binary_sqrt(9))\n",
    "print(binary_sqrt(16))"
   ]
  },
  {
   "cell_type": "markdown",
   "metadata": {},
   "source": [
    "Time complexity: $O(log(N))$"
   ]
  }
 ],
 "metadata": {
  "kernelspec": {
   "display_name": "Python 3",
   "language": "python",
   "name": "python3"
  },
  "language_info": {
   "codemirror_mode": {
    "name": "ipython",
    "version": 3
   },
   "file_extension": ".py",
   "mimetype": "text/x-python",
   "name": "python",
   "nbconvert_exporter": "python",
   "pygments_lexer": "ipython3",
   "version": "3.7.6"
  }
 },
 "nbformat": 4,
 "nbformat_minor": 4
}
