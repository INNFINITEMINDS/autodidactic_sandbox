{
 "cells": [
  {
   "cell_type": "markdown",
   "metadata": {},
   "source": [
    "# Eight queens\n",
    "\n",
    "## Problem statement\n",
    "\n",
    "Write an algorithm to print all ways of arranging eight queens on an $8\\times8$ chess board so that none of them share the same row, column, or diagonal. In this case, 'diagonal' means all diagonals, not just the two that bisect the board."
   ]
  },
  {
   "cell_type": "markdown",
   "metadata": {},
   "source": [
    "## Solution 1\n",
    "\n",
    "Recursive brute force solution. Good for smaller boards."
   ]
  },
  {
   "cell_type": "code",
   "execution_count": 57,
   "metadata": {},
   "outputs": [],
   "source": [
    "def eight_queens_1(n):\n",
    "    'Prints all ways of arranging an n*n chess board so that none are sharing the same row, column, or diagonal.'\n",
    "\n",
    "    if isinstance(n, int) == False: return 'ERROR: n must be an integer.'\n",
    "    \n",
    "    if n < 0:\n",
    "        return 'ERROR: n must be a positive integer.'\n",
    "    else:\n",
    "        board = [[0 for i in range(n)] for j in range(n)]\n",
    "        return eight_queens_1_helper(board)\n",
    "    \n",
    "    \n",
    "def eight_queens_1_helper(board):\n",
    "    'Counts the number of ways '\n",
    "    n = len(board) # Length of our board\n",
    "    \n",
    "    for r in range(n): # For every row\n",
    "        for c in range(n): # For every column\n",
    "            if board[r][c] == 0: # We can place if there is no queen in given position\n",
    "                if is_valid(r, c, board): # If empty, check if we can place a queen\n",
    "                    board[r][c] = 1 # If we can, then place it\n",
    "                    eight_queens_1_helper(board) # Pass grid for recursive solution\n",
    "                    # If we end up here, means we searched through all children branches\n",
    "                    if sum(sum(a) for a in board) == n: # If there are 8 queens\n",
    "                        print(board)\n",
    "                        return board # We are successful so return\n",
    "                    board[r][c] = 0 # Remove the previous placed queen\n",
    "\n",
    "    return board # Means we searched the space, we can return our result\n",
    "    \n",
    "    \n",
    "def is_valid(r, c, board):\n",
    "    'Determines whether a queen placed at row r and column c is valid on the board specified.'\n",
    "    \n",
    "    n = len(board)\n",
    "    \n",
    "    # Check row\n",
    "    if sum(board[r][:]) > 0: return False\n",
    "    \n",
    "    # Check column\n",
    "    if sum(board[:][c]) > 0: return False\n",
    "    \n",
    "    # Check diagonals\n",
    "    for i in range(n): # Loop through all rows\n",
    "        for j in range(n): # And columns\n",
    "            if board[i][j] == 1: # If there is a queen\n",
    "                if abs(i - r) == abs(j - c): # And if there is another on a diagonal\n",
    "                    return False # Return false\n",
    "    \n",
    "    return True"
   ]
  },
  {
   "cell_type": "markdown",
   "metadata": {},
   "source": [
    "#### Test cases"
   ]
  },
  {
   "cell_type": "code",
   "execution_count": 58,
   "metadata": {},
   "outputs": [
    {
     "name": "stdout",
     "output_type": "stream",
     "text": [
      "[0, 0, 0, 0, 0, 0, 0, 0]\n",
      "[0, 1, 0, 0, 0, 0, 0, 0]\n",
      "[0, 0, 0, 0, 0, 0, 0, 0]\n",
      "[0, 0, 0, 0, 0, 0, 0, 0]\n",
      "[0, 0, 0, 0, 0, 0, 0, 0]\n",
      "[0, 0, 0, 0, 0, 0, 0, 0]\n",
      "[0, 0, 0, 0, 0, 0, 0, 0]\n",
      "[0, 0, 0, 0, 0, 0, 0, 0]\n",
      "False\n",
      "False\n",
      "False\n",
      "False\n",
      "True\n",
      "True\n"
     ]
    }
   ],
   "source": [
    "test_board = [[0 for i in range(8)] for j in range(8)]\n",
    "test_board[1][1] = 1\n",
    "for i in range(8):\n",
    "    print(test_board[i])\n",
    "print(is_valid(1, 1, test_board))\n",
    "print(is_valid(6, 6, test_board))\n",
    "print(is_valid(6, 1, test_board))\n",
    "print(is_valid(1, 4, test_board))\n",
    "print(is_valid(5, 7, test_board))\n",
    "print(is_valid(3, 4, test_board))"
   ]
  },
  {
   "cell_type": "code",
   "execution_count": 59,
   "metadata": {},
   "outputs": [
    {
     "name": "stdout",
     "output_type": "stream",
     "text": [
      "[[0, 1, 0, 0, 0, 0, 0, 0], [0, 0, 0, 1, 0, 0, 0, 0], [0, 0, 0, 0, 0, 0, 0, 1], [0, 0, 0, 0, 0, 0, 0, 1], [0, 0, 0, 0, 0, 0, 0, 1], [0, 0, 0, 1, 0, 0, 0, 0], [0, 0, 0, 0, 0, 0, 1, 0], [0, 0, 0, 0, 0, 0, 1, 0]]\n",
      "[[0, 1, 0, 0, 0, 0, 0, 0], [0, 0, 0, 1, 0, 0, 0, 0], [0, 0, 0, 0, 0, 0, 0, 1], [0, 0, 0, 0, 0, 0, 0, 1], [0, 0, 0, 0, 0, 0, 0, 1], [0, 0, 0, 1, 0, 0, 0, 0], [0, 0, 0, 0, 0, 0, 1, 0], [0, 0, 0, 0, 0, 0, 1, 0]]\n",
      "[[0, 1, 0, 0, 0, 0, 0, 0], [0, 0, 0, 1, 0, 0, 0, 0], [0, 0, 0, 0, 0, 0, 0, 1], [0, 0, 0, 0, 0, 0, 0, 1], [0, 0, 0, 0, 0, 0, 0, 1], [0, 0, 0, 1, 0, 0, 0, 0], [0, 0, 0, 0, 0, 0, 1, 0], [0, 0, 0, 0, 0, 0, 1, 0]]\n",
      "[[0, 1, 0, 0, 0, 0, 0, 0], [0, 0, 0, 1, 0, 0, 0, 0], [0, 0, 0, 0, 0, 0, 0, 1], [0, 0, 0, 0, 0, 0, 0, 1], [0, 0, 0, 0, 0, 0, 0, 1], [0, 0, 0, 1, 0, 0, 0, 0], [0, 0, 0, 0, 0, 0, 1, 0], [0, 0, 0, 0, 0, 0, 1, 0]]\n",
      "[[0, 1, 0, 0, 0, 0, 0, 0], [0, 0, 0, 1, 0, 0, 0, 0], [0, 0, 0, 0, 0, 0, 0, 1], [0, 0, 0, 0, 0, 0, 0, 1], [0, 0, 0, 0, 0, 0, 0, 1], [0, 0, 0, 1, 0, 0, 0, 0], [0, 0, 0, 0, 0, 0, 1, 0], [0, 0, 0, 0, 0, 0, 1, 0]]\n",
      "[[0, 1, 0, 0, 0, 0, 0, 0], [0, 0, 0, 1, 0, 0, 0, 0], [0, 0, 0, 0, 0, 0, 0, 1], [0, 0, 0, 0, 0, 0, 0, 1], [0, 0, 0, 0, 0, 0, 0, 1], [0, 0, 0, 1, 0, 0, 0, 0], [0, 0, 0, 0, 0, 0, 1, 0], [0, 0, 0, 0, 0, 0, 1, 0]]\n",
      "[[0, 1, 0, 0, 0, 0, 0, 0], [0, 0, 0, 1, 0, 0, 0, 0], [0, 0, 0, 0, 0, 0, 0, 1], [0, 0, 0, 0, 0, 0, 0, 1], [0, 0, 0, 0, 0, 0, 0, 1], [0, 0, 0, 1, 0, 0, 0, 0], [0, 0, 0, 0, 0, 0, 1, 0], [0, 0, 0, 0, 0, 0, 1, 0]]\n",
      "[[0, 1, 0, 0, 0, 0, 0, 0], [0, 0, 0, 1, 0, 0, 0, 0], [0, 0, 0, 0, 0, 0, 0, 1], [0, 0, 0, 0, 0, 0, 0, 1], [0, 0, 0, 0, 0, 0, 0, 1], [0, 0, 0, 1, 0, 0, 0, 0], [0, 0, 0, 0, 0, 0, 1, 0], [0, 0, 0, 0, 0, 0, 1, 0]]\n",
      "[[0, 1, 0, 0, 0, 0, 0, 0], [0, 0, 0, 1, 0, 0, 0, 0], [0, 0, 0, 0, 0, 0, 0, 1], [0, 0, 0, 0, 0, 0, 0, 1], [0, 0, 0, 0, 0, 0, 0, 1], [0, 0, 0, 1, 0, 0, 0, 0], [0, 0, 0, 0, 0, 0, 1, 0], [0, 0, 0, 0, 0, 0, 1, 0]]\n"
     ]
    }
   ],
   "source": [
    "print(eight_queens_1(8))"
   ]
  }
 ],
 "metadata": {
  "kernelspec": {
   "display_name": "Python 3",
   "language": "python",
   "name": "python3"
  },
  "language_info": {
   "codemirror_mode": {
    "name": "ipython",
    "version": 3
   },
   "file_extension": ".py",
   "mimetype": "text/x-python",
   "name": "python",
   "nbconvert_exporter": "python",
   "pygments_lexer": "ipython3",
   "version": "3.7.6"
  }
 },
 "nbformat": 4,
 "nbformat_minor": 4
}
