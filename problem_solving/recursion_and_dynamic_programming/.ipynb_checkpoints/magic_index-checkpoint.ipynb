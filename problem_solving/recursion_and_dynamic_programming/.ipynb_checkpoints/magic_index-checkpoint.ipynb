{
 "cells": [
  {
   "cell_type": "markdown",
   "metadata": {},
   "source": [
    "# Magic index\n",
    "\n",
    "## Problem statement\n",
    "\n",
    "A magic index in an array $A[i, ..., n - 1]$ is defined to be an index such that $A[i] = i$. Given a sorted array of distinct integers, write a method to find a magic index, if one exists, in array A."
   ]
  },
  {
   "cell_type": "markdown",
   "metadata": {},
   "source": [
    "## Solution 1\n",
    "\n",
    "Iterate through each element of A and check whether it is has a magic index.\n",
    "\n",
    "Time complexity: $O(N)$"
   ]
  },
  {
   "cell_type": "code",
   "execution_count": 25,
   "metadata": {},
   "outputs": [],
   "source": [
    "def magic_index_1(A):\n",
    "    'Finds a magic index in array A.'\n",
    "    \n",
    "    list_check = isinstance(A, list)\n",
    "    if list_check == False: return 'ERROR: Input A must be a list.'\n",
    "    \n",
    "    integer_check = all([isinstance(element, int) for element in A])\n",
    "    if integer_check == False: return 'ERROR: At least one element of A is not an integer.'\n",
    "    \n",
    "    for i in range(len(A)):\n",
    "        if A[i] == i:\n",
    "            return i\n",
    "    \n",
    "    return False"
   ]
  },
  {
   "cell_type": "markdown",
   "metadata": {},
   "source": [
    "#### Test cases"
   ]
  },
  {
   "cell_type": "code",
   "execution_count": 28,
   "metadata": {},
   "outputs": [
    {
     "name": "stdout",
     "output_type": "stream",
     "text": [
      "ERROR: Input A must be a list.\n",
      "ERROR: Input A must be a list.\n",
      "ERROR: At least one element of A is not an integer.\n",
      "ERROR: At least one element of A is not an integer.\n",
      "0\n",
      "1\n",
      "2\n",
      "False\n"
     ]
    }
   ],
   "source": [
    "print(magic_index_1((1, 2, 3)))\n",
    "print(magic_index_1(1))\n",
    "print(magic_index_1([1, 1.5, 3]))\n",
    "print(magic_index_1([1, 'a', 3]))\n",
    "print(magic_index_1([0, 100, 100]))\n",
    "print(magic_index_1([100, 1, 100]))\n",
    "print(magic_index_1([100, 100, 2]))\n",
    "print(magic_index_1([100, 100, 100]))"
   ]
  },
  {
   "cell_type": "code",
   "execution_count": null,
   "metadata": {},
   "outputs": [],
   "source": []
  }
 ],
 "metadata": {
  "kernelspec": {
   "display_name": "Python 3",
   "language": "python",
   "name": "python3"
  },
  "language_info": {
   "codemirror_mode": {
    "name": "ipython",
    "version": 3
   },
   "file_extension": ".py",
   "mimetype": "text/x-python",
   "name": "python",
   "nbconvert_exporter": "python",
   "pygments_lexer": "ipython3",
   "version": "3.7.6"
  }
 },
 "nbformat": 4,
 "nbformat_minor": 4
}
