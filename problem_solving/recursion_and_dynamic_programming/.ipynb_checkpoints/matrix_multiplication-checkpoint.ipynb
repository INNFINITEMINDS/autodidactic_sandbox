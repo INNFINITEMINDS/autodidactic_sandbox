{
 "cells": [
  {
   "cell_type": "markdown",
   "metadata": {},
   "source": [
    "# Matrix multiplication"
   ]
  },
  {
   "cell_type": "markdown",
   "metadata": {},
   "source": [
    "## Packages (for checking)"
   ]
  },
  {
   "cell_type": "code",
   "execution_count": 1,
   "metadata": {},
   "outputs": [],
   "source": [
    "import numpy as np"
   ]
  },
  {
   "cell_type": "markdown",
   "metadata": {},
   "source": [
    "## Brute force"
   ]
  },
  {
   "cell_type": "code",
   "execution_count": 2,
   "metadata": {},
   "outputs": [],
   "source": [
    "def multiply_matrices(A, B):\n",
    "    '''Multiply matrix A by matrix B.'''\n",
    "    \n",
    "    l = len(A)\n",
    "    m = len(A[0])\n",
    "    n = len(B)\n",
    "    o = len(B[0])\n",
    "    \n",
    "    assert m == n, 'ERROR: Dimensions don\\'t match'\n",
    "    \n",
    "    C = [[0 for row in range(l)] for col in range(o)]\n",
    "    \n",
    "    for i in range(l):\n",
    "        for j in range(o):\n",
    "            for k in range(m):\n",
    "                C[i][j] += A[i][k] * B[k][j]\n",
    "    \n",
    "    return C"
   ]
  },
  {
   "cell_type": "markdown",
   "metadata": {},
   "source": [
    "### Testing"
   ]
  },
  {
   "cell_type": "code",
   "execution_count": 3,
   "metadata": {},
   "outputs": [
    {
     "name": "stdout",
     "output_type": "stream",
     "text": [
      "[[31, 34], [112, 124]]\n",
      "[[ 31  34]\n",
      " [112 124]]\n"
     ]
    }
   ],
   "source": [
    "A = [[0, 1, 2],\n",
    "     [3, 4, 5]]\n",
    "\n",
    "B = [[7, 8],\n",
    "     [9, 10],\n",
    "     [11, 12]]\n",
    "\n",
    "print(multiply_matrices(A, B))\n",
    "print(np.matmul(A, B))"
   ]
  },
  {
   "cell_type": "markdown",
   "metadata": {},
   "source": [
    "## Strassen's method"
   ]
  },
  {
   "cell_type": "code",
   "execution_count": 4,
   "metadata": {},
   "outputs": [],
   "source": [
    "def add_matrices(A, B):\n",
    "    '''Add two matrices elementwise.'''\n",
    "    \n",
    "    n = len(A)\n",
    "    m = len(A[0])\n",
    "    \n",
    "    C = [[0 for row in range(n)] for col in range(m)]\n",
    "    \n",
    "    for i in range(n):\n",
    "        for j in range(m):\n",
    "            C[i][j] = A[i][j] + B[i][j]\n",
    "            \n",
    "    return C"
   ]
  },
  {
   "cell_type": "code",
   "execution_count": 5,
   "metadata": {},
   "outputs": [],
   "source": [
    "def strassen(A, B):\n",
    "    '''Multiply matrix A by matrix B using Strassen\\'s recursive method.'''\n",
    "    \n",
    "    return strassen_helper(A, B, 0, len(A), 0, len(A[0]), 0, len(B), 0, len(B[0]))\n",
    "    \n",
    "def strassen_helper(A, B,\n",
    "                    A_row_top, A_row_btm, A_col_lft, A_col_rgt,\n",
    "                    B_row_top, B_row_btm, B_col_lft, B_col_rgt):\n",
    "    '''Helper function for strassen().'''\n",
    "    \n",
    "    n = A_row_btm - A_row_top + 1\n",
    "    \n",
    "    if n == 2:\n",
    "        C = A[A_row_top][A_col_lft] * B[B_row_top][B_col_lft]\n",
    "        return [[C]]\n",
    "    else:\n",
    "        A_row_mid = (A_row_top + A_row_btm) // 2\n",
    "        A_col_mid = (A_col_lft + A_col_rgt) // 2\n",
    "        B_row_mid = (B_row_top + B_row_btm) // 2\n",
    "        B_col_mid = (B_col_lft + B_col_rgt) // 2\n",
    "        \n",
    "        C111 = strassen_helper(A, B,\n",
    "                        A_row_top, A_row_mid, A_col_lft, A_col_mid,\n",
    "                        B_row_top, B_row_mid, B_col_lft, B_col_mid)\n",
    "        C112 = strassen_helper(A, B,\n",
    "                        A_row_top, A_row_mid, A_col_mid, A_col_rgt,\n",
    "                        B_row_mid, B_row_btm, B_col_lft, B_col_mid)\n",
    "        C11 = add_matrices(C111, C112)\n",
    "\n",
    "        C121 = strassen_helper(A, B,\n",
    "                        A_row_top, A_row_mid, A_col_lft, A_col_mid,\n",
    "                        B_row_top, B_row_mid, B_col_mid, B_col_rgt)\n",
    "        C122 = strassen_helper(A, B,\n",
    "                        A_row_top, A_row_mid, A_col_mid, A_col_rgt,\n",
    "                        B_row_mid, B_row_btm, B_col_mid, B_col_rgt)\n",
    "        C12 = add_matrices(C121, C122)\n",
    "        \n",
    "        C211 = strassen_helper(A, B,\n",
    "                        A_row_mid, A_row_btm, A_col_lft, A_col_mid,\n",
    "                        B_row_top, B_row_mid, B_col_lft, B_col_mid)\n",
    "        C212 = strassen_helper(A, B,\n",
    "                        A_row_mid, A_row_btm, A_col_mid, A_col_rgt,\n",
    "                        B_row_mid, B_row_btm, B_col_lft, B_col_mid)\n",
    "        C21 = add_matrices(C211, C212)\n",
    "        \n",
    "        C221 = strassen_helper(A, B,\n",
    "                        A_row_mid, A_row_btm, A_col_lft, A_col_mid,\n",
    "                        B_row_top, B_row_mid, B_col_mid, B_col_rgt)\n",
    "        C222 = strassen_helper(A, B,\n",
    "                        A_row_mid, A_row_btm, A_col_mid, A_col_rgt,\n",
    "                        B_row_mid, B_row_btm, B_col_mid, B_col_rgt)\n",
    "        C22 = add_matrices(C221, C222)\n",
    "        \n",
    "        C = [C11[i] + C12[i] for i in range(n // 2)] + [C21[i] + C22[i] for i in range(n // 2)]\n",
    "        \n",
    "        return C"
   ]
  },
  {
   "cell_type": "markdown",
   "metadata": {},
   "source": [
    "### Testing"
   ]
  },
  {
   "cell_type": "code",
   "execution_count": 6,
   "metadata": {},
   "outputs": [
    {
     "name": "stdout",
     "output_type": "stream",
     "text": [
      "[[70]]\n",
      "[[70]]\n"
     ]
    }
   ],
   "source": [
    "A = [[10]]\n",
    "B = [[7]]\n",
    "print(strassen(A, B))\n",
    "print(np.matmul(A, B))"
   ]
  },
  {
   "cell_type": "code",
   "execution_count": 10,
   "metadata": {},
   "outputs": [
    {
     "name": "stdout",
     "output_type": "stream",
     "text": [
      "[[9, 10], [57, 64]]\n",
      "[[ 9 10]\n",
      " [57 64]]\n"
     ]
    }
   ],
   "source": [
    "A = [[0, 1],\n",
    "     [3, 4]]\n",
    "\n",
    "B = [[7, 8],\n",
    "     [9, 10]]\n",
    "\n",
    "print(strassen(A, B))\n",
    "print(np.matmul(A, B))"
   ]
  },
  {
   "cell_type": "code",
   "execution_count": 8,
   "metadata": {},
   "outputs": [
    {
     "name": "stdout",
     "output_type": "stream",
     "text": [
      "[[56, 62, 68, 74], [192, 214, 236, 258], [328, 366, 404, 442], [464, 518, 572, 626]]\n",
      "[[ 56  62  68  74]\n",
      " [192 214 236 258]\n",
      " [328 366 404 442]\n",
      " [464 518 572 626]]\n"
     ]
    }
   ],
   "source": [
    "A = [[0, 1, 2, 3],\n",
    "     [4, 5, 6, 7],\n",
    "     [8, 9, 10, 11],\n",
    "     [12, 13, 14, 15]]\n",
    "\n",
    "B = [[10, 11, 12, 13],\n",
    "     [4, 5, 6, 7],\n",
    "     [8, 9, 10, 11],\n",
    "     [12, 13, 14, 15]]\n",
    "print(strassen(A, B))\n",
    "print(np.matmul(A, B))"
   ]
  }
 ],
 "metadata": {
  "kernelspec": {
   "display_name": "Python 3",
   "language": "python",
   "name": "python3"
  },
  "language_info": {
   "codemirror_mode": {
    "name": "ipython",
    "version": 3
   },
   "file_extension": ".py",
   "mimetype": "text/x-python",
   "name": "python",
   "nbconvert_exporter": "python",
   "pygments_lexer": "ipython3",
   "version": "3.7.6"
  }
 },
 "nbformat": 4,
 "nbformat_minor": 4
}
