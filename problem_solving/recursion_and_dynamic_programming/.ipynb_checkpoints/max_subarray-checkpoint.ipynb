{
 "cells": [
  {
   "cell_type": "markdown",
   "metadata": {},
   "source": [
    "# Max subarray"
   ]
  },
  {
   "cell_type": "markdown",
   "metadata": {},
   "source": [
    "## Brute force"
   ]
  },
  {
   "cell_type": "code",
   "execution_count": 19,
   "metadata": {},
   "outputs": [],
   "source": [
    "def max_subarray_a(array):\n",
    "    \"Find the maximum subarray in the array using a brute force approach.\"\n",
    "    \n",
    "    assert isinstance(array, list) == True, 'ERROR: Array must be a Python list object.'\n",
    "    \n",
    "    n = len(array)\n",
    "    res = float('-inf')\n",
    "    \n",
    "    if n == 1: return array[0]\n",
    "    \n",
    "    for i in range(n):\n",
    "        for j in range(n + 1):\n",
    "            sm = sum(array[i:j])\n",
    "            if sm > res: res = sm\n",
    "    \n",
    "    return res"
   ]
  },
  {
   "cell_type": "markdown",
   "metadata": {},
   "source": [
    "## Testing"
   ]
  },
  {
   "cell_type": "code",
   "execution_count": 26,
   "metadata": {},
   "outputs": [
    {
     "name": "stdout",
     "output_type": "stream",
     "text": [
      "24\n",
      "10\n",
      "10\n",
      "-10\n"
     ]
    }
   ],
   "source": [
    "print(max_subarray_a([0, -4, 6, 8, 2, 5, 3, -3, 1]))\n",
    "print(max_subarray_a([10, -10]))\n",
    "print(max_subarray_a([10]))\n",
    "print(max_subarray_a([-10]))"
   ]
  },
  {
   "cell_type": "code",
   "execution_count": null,
   "metadata": {},
   "outputs": [],
   "source": [
    "#"
   ]
  }
 ],
 "metadata": {
  "kernelspec": {
   "display_name": "Python 3",
   "language": "python",
   "name": "python3"
  },
  "language_info": {
   "codemirror_mode": {
    "name": "ipython",
    "version": 3
   },
   "file_extension": ".py",
   "mimetype": "text/x-python",
   "name": "python",
   "nbconvert_exporter": "python",
   "pygments_lexer": "ipython3",
   "version": "3.7.6"
  }
 },
 "nbformat": 4,
 "nbformat_minor": 4
}
