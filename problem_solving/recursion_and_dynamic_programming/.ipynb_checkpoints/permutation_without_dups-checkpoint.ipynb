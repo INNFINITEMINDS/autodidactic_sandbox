{
 "cells": [
  {
   "cell_type": "markdown",
   "metadata": {},
   "source": [
    "# Permutation without duplication\n",
    "\n",
    "## Problem statement\n",
    "\n",
    "Write a method to compute all permutations of a string of unique characters."
   ]
  },
  {
   "cell_type": "markdown",
   "metadata": {},
   "source": [
    "## Solution 1\n",
    "\n",
    "Start with the first letter. Make a new list by adding the second character before and after the first letter. Then make a new list by adding the third letter before and after each of the letters in each of the strings given by the first list. Do this recursively until you have used all letters in the input string.\n",
    "\n",
    "Time complexity: $O(N!)$"
   ]
  },
  {
   "cell_type": "code",
   "execution_count": 1,
   "metadata": {},
   "outputs": [],
   "source": [
    "def perm_without_dups_1(string):\n",
    "    'Computes all permutations of a string of all unique characters.'\n",
    "    \n",
    "    if isinstance(string, str) == False: return 'ERROR: Input must be a string.'\n",
    "    \n",
    "    n = len(string)\n",
    "    \n",
    "    if n <= 1:\n",
    "        return [string]\n",
    "    else:\n",
    "        return helper_1(string, n)\n",
    "    \n",
    "def helper_1(string, n):\n",
    "    'Computes all permutations of a string of all unique characters.'\n",
    "    \n",
    "    if n == 1:\n",
    "        return string\n",
    "    else:\n",
    "        return insert_char(helper_1(string[:-1], n-1), string[-1])"
   ]
  },
  {
   "cell_type": "code",
   "execution_count": 2,
   "metadata": {},
   "outputs": [],
   "source": [
    "def insert_char(strings, char):\n",
    "    'Inserts character char in all places in all strings.'\n",
    "    \n",
    "    result = []\n",
    "    \n",
    "    for i in range(len(strings)):\n",
    "        result.append(char + str(strings[i]))\n",
    "        for j in range(len(strings[i])):\n",
    "            result.append(strings[i][:j+1] + char + strings[i][j+1:])\n",
    "        \n",
    "    return result"
   ]
  },
  {
   "cell_type": "markdown",
   "metadata": {},
   "source": [
    "#### Test cases"
   ]
  },
  {
   "cell_type": "code",
   "execution_count": 3,
   "metadata": {},
   "outputs": [
    {
     "name": "stdout",
     "output_type": "stream",
     "text": [
      "['ba', 'ab']\n",
      "['cba', 'bca', 'bac', 'cab', 'acb', 'abc']\n",
      "['dcba', 'cdba', 'cbda', 'cbad', 'dbca', 'bdca', 'bcda', 'bcad', 'dbac', 'bdac', 'badc', 'bacd', 'dcab', 'cdab', 'cadb', 'cabd', 'dacb', 'adcb', 'acdb', 'acbd', 'dabc', 'adbc', 'abdc', 'abcd']\n"
     ]
    }
   ],
   "source": [
    "result_1 = insert_char(['a'] , 'b')\n",
    "result_2 = insert_char(result_1 , 'c')\n",
    "result_3 = insert_char(result_2 , 'd')\n",
    "print(result_1)\n",
    "print(result_2)\n",
    "print(result_3)"
   ]
  },
  {
   "cell_type": "code",
   "execution_count": 4,
   "metadata": {},
   "outputs": [
    {
     "name": "stdout",
     "output_type": "stream",
     "text": [
      "ERROR: Input must be a string.\n",
      "ERROR: Input must be a string.\n",
      "['a']\n",
      "['ba', 'ab']\n",
      "['cba', 'bca', 'bac', 'cab', 'acb', 'abc']\n",
      "['dcba', 'cdba', 'cbda', 'cbad', 'dbca', 'bdca', 'bcda', 'bcad', 'dbac', 'bdac', 'badc', 'bacd', 'dcab', 'cdab', 'cadb', 'cabd', 'dacb', 'adcb', 'acdb', 'acbd', 'dabc', 'adbc', 'abdc', 'abcd']\n"
     ]
    }
   ],
   "source": [
    "print(perm_without_dups_1(12345))\n",
    "print(perm_without_dups_1(True))\n",
    "print(perm_without_dups_1('a'))\n",
    "print(perm_without_dups_1('ab'))\n",
    "print(perm_without_dups_1('abc'))\n",
    "print(perm_without_dups_1('abcd'))"
   ]
  }
 ],
 "metadata": {
  "kernelspec": {
   "display_name": "Python 3",
   "language": "python",
   "name": "python3"
  },
  "language_info": {
   "codemirror_mode": {
    "name": "ipython",
    "version": 3
   },
   "file_extension": ".py",
   "mimetype": "text/x-python",
   "name": "python",
   "nbconvert_exporter": "python",
   "pygments_lexer": "ipython3",
   "version": "3.7.6"
  }
 },
 "nbformat": 4,
 "nbformat_minor": 4
}
