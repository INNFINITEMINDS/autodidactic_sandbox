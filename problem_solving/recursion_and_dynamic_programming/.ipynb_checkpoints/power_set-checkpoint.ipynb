{
 "cells": [
  {
   "cell_type": "markdown",
   "metadata": {},
   "source": [
    "# Power set\n",
    "\n",
    "## Problem statement\n",
    "\n",
    "Write a method to return all subsets of a set."
   ]
  },
  {
   "cell_type": "markdown",
   "metadata": {},
   "source": [
    "## Solution 1\n",
    "\n",
    "Assume the input is in the form of a Python list.\n",
    "\n",
    "User recursion. Start with the empty set as the base case. For the nth case, take the set from the n-1th case and make a new set with and without the nth element appended."
   ]
  },
  {
   "cell_type": "code",
   "execution_count": 115,
   "metadata": {},
   "outputs": [],
   "source": [
    "def power_set_1(input):\n",
    "    'Returns all subsets of the input set.'\n",
    "    \n",
    "    if isinstance(input, list) == False: return \"ERROR: Input is not a Python list.\"\n",
    "    \n",
    "    n = len(input)\n",
    "    \n",
    "    if n == 0:\n",
    "        return [[]]\n",
    "    else:\n",
    "        smaller_set = power_set_1(input[:-1])\n",
    "        return smaller_set + [element + [input[n - 1]] for element in smaller_set]"
   ]
  },
  {
   "cell_type": "markdown",
   "metadata": {},
   "source": [
    "## Test cases"
   ]
  },
  {
   "cell_type": "code",
   "execution_count": 119,
   "metadata": {},
   "outputs": [
    {
     "name": "stdout",
     "output_type": "stream",
     "text": [
      "ERROR: Input is not a Python list.\n",
      "[[], [1], [2], [1, 2]]\n",
      "[[], [1], [2], [1, 2], [3], [1, 3], [2, 3], [1, 2, 3]]\n",
      "[[], ['a'], ['b'], ['a', 'b'], ['c'], ['a', 'c'], ['b', 'c'], ['a', 'b', 'c'], ['d'], ['a', 'd'], ['b', 'd'], ['a', 'b', 'd'], ['c', 'd'], ['a', 'c', 'd'], ['b', 'c', 'd'], ['a', 'b', 'c', 'd']]\n"
     ]
    }
   ],
   "source": [
    "print(power_set_1(1))\n",
    "print(power_set_1([1, 2]))\n",
    "print(power_set_1([1, 2, 3]))\n",
    "print(power_set_1(['a', 'b', 'c', 'd']))"
   ]
  }
 ],
 "metadata": {
  "kernelspec": {
   "display_name": "Python 3",
   "language": "python",
   "name": "python3"
  },
  "language_info": {
   "codemirror_mode": {
    "name": "ipython",
    "version": 3
   },
   "file_extension": ".py",
   "mimetype": "text/x-python",
   "name": "python",
   "nbconvert_exporter": "python",
   "pygments_lexer": "ipython3",
   "version": "3.7.6"
  }
 },
 "nbformat": 4,
 "nbformat_minor": 4
}
