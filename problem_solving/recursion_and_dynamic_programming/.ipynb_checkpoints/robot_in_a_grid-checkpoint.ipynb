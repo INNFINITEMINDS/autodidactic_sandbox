{
 "cells": [
  {
   "cell_type": "markdown",
   "metadata": {},
   "source": [
    "# Robot in a grid\n",
    "\n",
    "## Problem statement\n",
    "\n",
    "Imagine a robot sitting in the upper left corner of a grid with $r$ rows and $c$ columns. The robot can move in two directions, right and down, but certain cells are 'off-limits' so the robot cannot step on them. Design an algorithm to find a path for the robot from top left to bottom right."
   ]
  },
  {
   "cell_type": "markdown",
   "metadata": {},
   "source": [
    "## Solution 1\n",
    "\n",
    "Assume the grid is given as an $r \\times c$ list of lists.\n",
    "\n",
    "Start in the bottom right hand corner. Try moving backwards up and left, if the path is not blocked, append the co-orindates to a path list. Recurse through all possible paths until one is found. If a path is not found, return False.\n",
    "\n",
    "Time complexity: $O(2^{rc})$"
   ]
  },
  {
   "cell_type": "code",
   "execution_count": 20,
   "metadata": {},
   "outputs": [],
   "source": [
    "def robot_in_a_grid_1(grid):\n",
    "    'Finds a path from top left to bottom right in a grid where some cells are off-limits.'\n",
    "    \n",
    "    if len(grid) == 0 or len(grid[0]) == 0:\n",
    "        return False\n",
    "    \n",
    "    path = []\n",
    "    \n",
    "    if robot_in_a_grid_1_helper(grid, len(grid) - 1, len(grid[0]) - 1, path):\n",
    "        return path\n",
    "    \n",
    "    return None\n",
    "\n",
    "def robot_in_a_grid_1_helper(grid, row, col, path):\n",
    "    'Finds a path from top left to bottom right in a grid where some cells are off-limits.'\n",
    "    'Returns true if the path is not blocked, false otherwise.'\n",
    "    \n",
    "    if col < 0 or row < 0 or not grid[row][col]:\n",
    "        return False\n",
    "    \n",
    "    is_at_origin = (row == 0) and (col == 0)\n",
    "    \n",
    "    if is_at_origin or robot_in_a_grid_1_helper(grid, row, col - 1, path) or \\\n",
    "    robot_in_a_grid_1_helper(grid, row - 1, col, path):\n",
    "        path.append((row, col))\n",
    "        return True\n",
    "    \n",
    "    return False"
   ]
  },
  {
   "cell_type": "markdown",
   "metadata": {},
   "source": [
    "#### Test cases"
   ]
  },
  {
   "cell_type": "code",
   "execution_count": 21,
   "metadata": {},
   "outputs": [
    {
     "name": "stdout",
     "output_type": "stream",
     "text": [
      "[(0, 0)]\n",
      "[(0, 0), (1, 0), (1, 1)]\n",
      "[(0, 0), (1, 0), (2, 0), (2, 1)]\n",
      "None\n",
      "[(0, 0), (0, 1), (1, 1)]\n",
      "[(0, 0), (0, 1), (1, 1), (2, 1)]\n"
     ]
    }
   ],
   "source": [
    "print(robot_in_a_grid_1([[1]]))\n",
    "print(robot_in_a_grid_1([[1, 1], [1, 1]]))\n",
    "print(robot_in_a_grid_1([[1, 1], [1, 1], [1, 1]]))\n",
    "print(robot_in_a_grid_1([[0]]))\n",
    "print(robot_in_a_grid_1([[1, 1], [0, 1]]))\n",
    "print(robot_in_a_grid_1([[1, 1], [0, 1], [1, 1]]))"
   ]
  },
  {
   "cell_type": "markdown",
   "metadata": {},
   "source": [
    "## Solution 2\n",
    "\n",
    "Same as solution 1 but uses memoisation to save points that don't have a path.\n",
    "\n",
    "Significantly faster. Time complexity: $O(rc)$"
   ]
  },
  {
   "cell_type": "code",
   "execution_count": 26,
   "metadata": {},
   "outputs": [],
   "source": [
    "def robot_in_a_grid_2(grid):\n",
    "    'Finds a path from top left to bottom right in a grid where some cells are off-limits.'\n",
    "    \n",
    "    if len(grid) == 0 or len(grid[0]) == 0:\n",
    "        return False\n",
    "    \n",
    "    path = []\n",
    "    failed_points = []\n",
    "    if robot_in_a_grid_2_helper(grid, len(grid) - 1, len(grid[0]) - 1, path, failed_points):\n",
    "        return path\n",
    "    \n",
    "    return None\n",
    "\n",
    "def robot_in_a_grid_2_helper(grid, row, col, path, failed_points):\n",
    "    'Finds a path from top left to bottom right in a grid where some cells are off-limits.'\n",
    "    'Returns true if the path is not blocked, false otherwise.'\n",
    "    \n",
    "    if col < 0 or row < 0 or not grid[row][col]:\n",
    "        return False\n",
    "    \n",
    "    p = (row, col)\n",
    "    \n",
    "    if p in failed_points:\n",
    "        return False\n",
    "    \n",
    "    is_at_origin = (row == 0) and (col == 0)\n",
    "    \n",
    "    if is_at_origin or \\\n",
    "    robot_in_a_grid_2_helper(grid, row, col - 1, path, failed_points) or \\\n",
    "    robot_in_a_grid_2_helper(grid, row - 1, col, path, failed_points):\n",
    "        path.append((row, col))\n",
    "        return True\n",
    "    \n",
    "    failed_points.append(p)\n",
    "    return False"
   ]
  },
  {
   "cell_type": "markdown",
   "metadata": {},
   "source": [
    "#### Test cases"
   ]
  },
  {
   "cell_type": "code",
   "execution_count": 27,
   "metadata": {},
   "outputs": [
    {
     "name": "stdout",
     "output_type": "stream",
     "text": [
      "[(0, 0)]\n",
      "[(0, 0), (1, 0), (1, 1)]\n",
      "[(0, 0), (1, 0), (2, 0), (2, 1)]\n",
      "None\n",
      "[(0, 0), (0, 1), (1, 1)]\n",
      "[(0, 0), (0, 1), (1, 1), (2, 1)]\n"
     ]
    }
   ],
   "source": [
    "print(robot_in_a_grid_2([[1]]))\n",
    "print(robot_in_a_grid_2([[1, 1], [1, 1]]))\n",
    "print(robot_in_a_grid_2([[1, 1], [1, 1], [1, 1]]))\n",
    "print(robot_in_a_grid_2([[0]]))\n",
    "print(robot_in_a_grid_2([[1, 1], [0, 1]]))\n",
    "print(robot_in_a_grid_2([[1, 1], [0, 1], [1, 1]]))"
   ]
  }
 ],
 "metadata": {
  "kernelspec": {
   "display_name": "Python 3",
   "language": "python",
   "name": "python3"
  },
  "language_info": {
   "codemirror_mode": {
    "name": "ipython",
    "version": 3
   },
   "file_extension": ".py",
   "mimetype": "text/x-python",
   "name": "python",
   "nbconvert_exporter": "python",
   "pygments_lexer": "ipython3",
   "version": "3.7.6"
  }
 },
 "nbformat": 4,
 "nbformat_minor": 4
}
