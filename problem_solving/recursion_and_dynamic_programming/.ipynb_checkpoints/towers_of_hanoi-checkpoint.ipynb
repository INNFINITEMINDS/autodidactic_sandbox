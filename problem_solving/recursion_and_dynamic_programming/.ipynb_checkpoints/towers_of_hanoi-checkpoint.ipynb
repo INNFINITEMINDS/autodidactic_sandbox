{
 "cells": [
  {
   "cell_type": "markdown",
   "metadata": {},
   "source": [
    "# Towers of hanoi\n",
    "\n",
    "## Problem statement\n",
    "\n",
    "In the classic problem of the Towers of Hanoi, you have three towers and $N$ disks of different sizes which can slide onto any tower. The puzzle starts with disks sorted in ascending order of size from top to bottom. You have the following constraints.\n",
    "\n",
    "- Only one disk can be moved at a time.\n",
    "- A disk is slid off the top of one tower and onto another.\n",
    "- A disk cannot be placed on top of a smaller disk.\n",
    "\n",
    "Write a program to move the disks from the first tower to the last using stacks."
   ]
  },
  {
   "cell_type": "markdown",
   "metadata": {},
   "source": [
    "## Solution 1\n",
    "\n",
    "Recursion."
   ]
  },
  {
   "cell_type": "code",
   "execution_count": 77,
   "metadata": {},
   "outputs": [],
   "source": [
    "def towers_1(n):\n",
    "    'Moves the disks of the Towers of Hanoi from the first tower to the last tower.'\n",
    "\n",
    "    if isinstance(n, int) == False: return 'ERROR: n is not an integer.'\n",
    "    if n <= 0: return 'ERROR: n must be positive integer greater than zero.'\n",
    "    \n",
    "    # Initialise the tower structure as a list of lists.\n",
    "    tower = [[i for i in range(n)], [], []]\n",
    "    \n",
    "    if n == 1:\n",
    "        return move_disk_1(tower, 0, 2)\n",
    "    else:\n",
    "        return move_tower_1(tower, n, 0, 1, 2)\n",
    "    \n",
    "def move_tower_1(tower, m, start, buffer, end):\n",
    "    if m == 2:\n",
    "        tower = move_disk_1(tower, start, buffer)\n",
    "        tower = move_disk_1(tower, start, end)\n",
    "        tower = move_disk_1(tower, buffer, end)\n",
    "        return tower\n",
    "    else:\n",
    "        tower = move_tower_1(tower, m - 1, start, end, buffer)\n",
    "        tower = move_disk_1(tower, start, end)\n",
    "        tower = move_tower_1(tower, m - 1, buffer, start, end)\n",
    "        return tower\n",
    "\n",
    "def move_disk_1(tower, start, end):\n",
    "    'Moves a disk from start tower to end tower.'\n",
    "    tower[end].append(tower[start][-1])\n",
    "    tower[start].pop(-1)\n",
    "    \n",
    "    return tower"
   ]
  },
  {
   "cell_type": "markdown",
   "metadata": {},
   "source": [
    "#### Test cases"
   ]
  },
  {
   "cell_type": "code",
   "execution_count": 78,
   "metadata": {},
   "outputs": [
    {
     "name": "stdout",
     "output_type": "stream",
     "text": [
      "ERROR: n is not an integer.\n",
      "ERROR: n is not an integer.\n",
      "ERROR: n must be positive integer greater than zero.\n",
      "ERROR: n must be positive integer greater than zero.\n",
      "[[], [], [0]]\n",
      "[[], [], [0, 1]]\n",
      "[[], [], [0, 1, 2]]\n",
      "[[], [], [0, 1, 2, 3]]\n",
      "[[], [], [0, 1, 2, 3, 4]]\n"
     ]
    }
   ],
   "source": [
    "print(towers_1('a'))\n",
    "print(towers_1(1.5))\n",
    "print(towers_1(-1))\n",
    "print(towers_1(0))\n",
    "print(towers_1(1))\n",
    "print(towers_1(2))\n",
    "print(towers_1(3))\n",
    "print(towers_1(4))\n",
    "print(towers_1(5))"
   ]
  },
  {
   "cell_type": "code",
   "execution_count": null,
   "metadata": {},
   "outputs": [],
   "source": []
  }
 ],
 "metadata": {
  "kernelspec": {
   "display_name": "Python 3",
   "language": "python",
   "name": "python3"
  },
  "language_info": {
   "codemirror_mode": {
    "name": "ipython",
    "version": 3
   },
   "file_extension": ".py",
   "mimetype": "text/x-python",
   "name": "python",
   "nbconvert_exporter": "python",
   "pygments_lexer": "ipython3",
   "version": "3.7.6"
  }
 },
 "nbformat": 4,
 "nbformat_minor": 4
}
