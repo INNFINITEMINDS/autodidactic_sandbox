{
 "cells": [
  {
   "cell_type": "markdown",
   "metadata": {},
   "source": [
    "# Triple step\n",
    "\n",
    "## Problem statement\n",
    "\n",
    "A child is running up a staircase with $n$ steps and can hop either 1 step, 2 steps, or 3 steps at a time. Implement a method to count how many possible ways the child can run up the stairs."
   ]
  },
  {
   "cell_type": "markdown",
   "metadata": {},
   "source": [
    "## Solution 1\n",
    "\n",
    "Relate the number of possible paths to get to the nth steps to the number of possible paths to get to the steps immediately before.\n",
    "\n",
    "Brute force with no memoisation. Time complexity: $O(3^N)$"
   ]
  },
  {
   "cell_type": "code",
   "execution_count": 15,
   "metadata": {},
   "outputs": [],
   "source": [
    "def triple_step_1(n):\n",
    "    'Counts how many possible ways you can take n steps in total when you can only take 1, 2, or 2 steps at a time.'\n",
    "    \n",
    "    if isinstance(n, int) != True: return 'ERROR: Input is not an integer.'\n",
    "    \n",
    "    if n < 0:\n",
    "        return 0\n",
    "    elif n == 0:\n",
    "        return 1\n",
    "    else:\n",
    "        return triple_step_1(n - 3) + triple_step_1(n - 2) + triple_step_1(n - 1)"
   ]
  },
  {
   "cell_type": "markdown",
   "metadata": {},
   "source": [
    "#### Test cases"
   ]
  },
  {
   "cell_type": "code",
   "execution_count": 16,
   "metadata": {},
   "outputs": [
    {
     "name": "stdout",
     "output_type": "stream",
     "text": [
      "ERROR: Input is not an integer.\n",
      "1\n",
      "2\n",
      "4\n",
      "7\n",
      "13\n"
     ]
    }
   ],
   "source": [
    "print(triple_step_1('a'))\n",
    "print(triple_step_1(1))\n",
    "print(triple_step_1(2))\n",
    "print(triple_step_1(3))\n",
    "print(triple_step_1(4))\n",
    "print(triple_step_1(5))"
   ]
  },
  {
   "cell_type": "code",
   "execution_count": null,
   "metadata": {},
   "outputs": [],
   "source": []
  }
 ],
 "metadata": {
  "kernelspec": {
   "display_name": "Python 3",
   "language": "python",
   "name": "python3"
  },
  "language_info": {
   "codemirror_mode": {
    "name": "ipython",
    "version": 3
   },
   "file_extension": ".py",
   "mimetype": "text/x-python",
   "name": "python",
   "nbconvert_exporter": "python",
   "pygments_lexer": "ipython3",
   "version": "3.7.6"
  }
 },
 "nbformat": 4,
 "nbformat_minor": 4
}
