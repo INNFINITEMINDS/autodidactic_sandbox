{
 "cells": [
  {
   "cell_type": "markdown",
   "metadata": {},
   "source": [
    "# Coins\n",
    "\n",
    "## Problem statement\n",
    "\n",
    "Given an infinite number of quarters (25 cents), dimes (10 cents), nickels (5 cents), and pennies (1 cent), write code to calculate the number of ways of representing $n$ cents."
   ]
  },
  {
   "cell_type": "markdown",
   "metadata": {},
   "source": [
    "## Solution 1\n",
    "\n",
    "Implement a recursive solution using a top-down approach."
   ]
  },
  {
   "cell_type": "code",
   "execution_count": 1,
   "metadata": {},
   "outputs": [],
   "source": [
    "def coins_1(n):\n",
    "    'Count the number of ways of representing n cents out of quarters, dimes, nickels, and pennies.'\n",
    "    \n",
    "    if isinstance(n, int) == False: return 'ERROR: n must be an integer.'\n",
    "    \n",
    "    if n < 0:\n",
    "        return 'ERROR: n must be a positive integer.'\n",
    "    elif n == 0:\n",
    "        return 0\n",
    "    else:\n",
    "        denoms = [25, 10, 5, 1]\n",
    "        return coins_1_helper(n, denoms)\n",
    "\n",
    "def coins_1_helper(n, denoms):\n",
    "    'Helper function for coins_1().'\n",
    "    \n",
    "    if len(denoms) == 1:\n",
    "        return 1\n",
    "    else:\n",
    "        num_coins = n // denoms[0]\n",
    "        if num_coins == 0:\n",
    "            count = coins_1_helper(n, denoms[1:])\n",
    "        else:\n",
    "            count = 1\n",
    "            for i in range(num_coins):\n",
    "                count += coins_1_helper(n - i * denoms[0], denoms[1:])\n",
    "        return count"
   ]
  },
  {
   "cell_type": "markdown",
   "metadata": {},
   "source": [
    "#### Test cases"
   ]
  },
  {
   "cell_type": "code",
   "execution_count": 2,
   "metadata": {},
   "outputs": [
    {
     "name": "stdout",
     "output_type": "stream",
     "text": [
      "ERROR: n must be an integer.\n",
      "0 0\n",
      "1 1\n",
      "2 1\n",
      "3 1\n",
      "4 1\n",
      "5 2\n",
      "6 2\n",
      "7 2\n",
      "8 2\n",
      "9 2\n",
      "10 4\n",
      "11 4\n",
      "12 4\n",
      "13 4\n",
      "14 4\n",
      "15 5\n",
      "16 5\n",
      "17 5\n",
      "18 5\n",
      "19 5\n",
      "20 9\n"
     ]
    }
   ],
   "source": [
    "print(coins_1(1.5))\n",
    "for i in range(0, 21):\n",
    "    print(i, coins_1(i))"
   ]
  },
  {
   "cell_type": "markdown",
   "metadata": {},
   "source": [
    "## Solution 2\n",
    "\n",
    "Use memoisation to store the results of helper function calls to save time. Increase space complexity but reduces time complexity."
   ]
  },
  {
   "cell_type": "code",
   "execution_count": 29,
   "metadata": {},
   "outputs": [],
   "source": [
    "def coins_2(n):\n",
    "    'Count the number of ways of representing n cents out of quarters, dimes, nickels, and pennies.'\n",
    "    \n",
    "    if isinstance(n, int) == False: return 'ERROR: n must be an integer.'\n",
    "    \n",
    "    if n < 0:\n",
    "        return 'ERROR: n must be a positive integer.'\n",
    "    elif n == 0:\n",
    "        return 0\n",
    "    else:\n",
    "        denoms = [25, 10, 5, 1]\n",
    "        results = [[-1 for i in range(len(denoms))] for j in range(n)]\n",
    "        return coins_2_helper(n, denoms, results)\n",
    "\n",
    "def coins_2_helper(n, denoms, results):\n",
    "    'Helper function for coins_1().'\n",
    "    \n",
    "    if results[n - 1][len(denoms) - 1] > 0:\n",
    "        return results[n - 1][len(denoms) - 1]\n",
    "    \n",
    "    if len(denoms) == 1:\n",
    "        return 1\n",
    "    else:\n",
    "        num_coins = n // denoms[0]\n",
    "        if num_coins == 0:\n",
    "            count = coins_2_helper(n, denoms[1:], results)\n",
    "        else:\n",
    "            count = 1\n",
    "            for i in range(num_coins):\n",
    "                count += coins_2_helper(n - i * denoms[0], denoms[1:], results)\n",
    "        results[n - 1][len(denoms) - 1] = count\n",
    "        return count"
   ]
  },
  {
   "cell_type": "markdown",
   "metadata": {},
   "source": [
    "#### Test cases"
   ]
  },
  {
   "cell_type": "code",
   "execution_count": 30,
   "metadata": {},
   "outputs": [
    {
     "name": "stdout",
     "output_type": "stream",
     "text": [
      "ERROR: n must be an integer.\n",
      "0 0\n",
      "1 1\n",
      "2 1\n",
      "3 1\n",
      "4 1\n",
      "5 2\n",
      "6 2\n",
      "7 2\n",
      "8 2\n",
      "9 2\n",
      "10 4\n",
      "11 4\n",
      "12 4\n",
      "13 4\n",
      "14 4\n",
      "15 5\n",
      "16 5\n",
      "17 5\n",
      "18 5\n",
      "19 5\n",
      "20 9\n"
     ]
    }
   ],
   "source": [
    "print(coins_2(1.5))\n",
    "for i in range(0, 21):\n",
    "    print(i, coins_2(i))"
   ]
  }
 ],
 "metadata": {
  "kernelspec": {
   "display_name": "Python 3",
   "language": "python",
   "name": "python3"
  },
  "language_info": {
   "codemirror_mode": {
    "name": "ipython",
    "version": 3
   },
   "file_extension": ".py",
   "mimetype": "text/x-python",
   "name": "python",
   "nbconvert_exporter": "python",
   "pygments_lexer": "ipython3",
   "version": "3.7.6"
  }
 },
 "nbformat": 4,
 "nbformat_minor": 4
}
