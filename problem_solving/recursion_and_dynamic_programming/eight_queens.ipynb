{
 "cells": [
  {
   "cell_type": "markdown",
   "metadata": {},
   "source": [
    "# Eight queens\n",
    "\n",
    "## Problem statement\n",
    "\n",
    "Write an algorithm to print all ways of arranging eight queens on an $8\\times8$ chess board so that none of them share the same row, column, or diagonal. In this case, 'diagonal' means all diagonals, not just the two that bisect the board."
   ]
  },
  {
   "cell_type": "markdown",
   "metadata": {},
   "source": [
    "## Solution 1\n",
    "\n",
    "Brute force. Good for smaller boards."
   ]
  },
  {
   "cell_type": "code",
   "execution_count": 18,
   "metadata": {},
   "outputs": [],
   "source": [
    "def eight_queens_1(n):\n",
    "    'Prints all ways of arranging an n*n chess board so that none are sharing the same row, column, or diagonal.'\n",
    "    \n",
    "    \n",
    "    \n",
    "def is_valid(r, c, board):\n",
    "    'Determines whether a queen placed at row r and column c is valid on the board specified.'\n",
    "    \n",
    "    # Check row\n",
    "    if sum(board[r][:]) > 0: return False\n",
    "    \n",
    "    # Check column\n",
    "    if sum(board[:][c]) > 0: return False\n",
    "    \n",
    "    # Check up-left diagonal\n",
    "    r_check = r - 1\n",
    "    c_check = c - 1\n",
    "    while r_check >= 0 and c_check >= 0:\n",
    "        if board[r_check][c_check] > 0 : return False\n",
    "        r_check -= 1\n",
    "        c_check -= 1\n",
    "        \n",
    "    # Check up-right diagonal\n",
    "    r_check = r - 1\n",
    "    c_check = c + 1\n",
    "    while r_check >= 0 and c_check <= len(board[0]) - 1:\n",
    "        if board[r_check][c_check] > 0 : return False\n",
    "        r_check -= 1\n",
    "        c_check += 1\n",
    "        \n",
    "    # Check down-left diagonal\n",
    "    r_check = r + 1\n",
    "    c_check = c - 1\n",
    "    while r_check <= len(board) - 1 and c_check >= 0:\n",
    "        if board[r_check][c_check] > 0 : return False\n",
    "        r_check += 1\n",
    "        c_check -= 1\n",
    "        \n",
    "    # Check down-right diagonal\n",
    "    r_check = r + 1\n",
    "    c_check = c + 1\n",
    "    while r_check <= len(board) - 1 and c_check <= len(board[0]) - 1:\n",
    "        if board[r_check][c_check] > 0 : return False\n",
    "        r_check += 1\n",
    "        c_check += 1\n",
    "    \n",
    "    return True"
   ]
  },
  {
   "cell_type": "code",
   "execution_count": 19,
   "metadata": {},
   "outputs": [
    {
     "name": "stdout",
     "output_type": "stream",
     "text": [
      "False\n",
      "False\n",
      "False\n",
      "False\n",
      "True\n",
      "True\n"
     ]
    }
   ],
   "source": [
    "#### Test cases\n",
    "test_board = [[0 for i in range(8)] for j in range(8)]\n",
    "test_board[1][1] = 1\n",
    "print(is_valid(1, 1, test_board))\n",
    "print(is_valid(6, 6, test_board))\n",
    "print(is_valid(6, 1, test_board))\n",
    "print(is_valid(1, 4, test_board))\n",
    "print(is_valid(5, 7, test_board))\n",
    "print(is_valid(3, 4, test_board))"
   ]
  },
  {
   "cell_type": "code",
   "execution_count": null,
   "metadata": {},
   "outputs": [],
   "source": []
  }
 ],
 "metadata": {
  "kernelspec": {
   "display_name": "Python 3",
   "language": "python",
   "name": "python3"
  },
  "language_info": {
   "codemirror_mode": {
    "name": "ipython",
    "version": 3
   },
   "file_extension": ".py",
   "mimetype": "text/x-python",
   "name": "python",
   "nbconvert_exporter": "python",
   "pygments_lexer": "ipython3",
   "version": "3.7.6"
  }
 },
 "nbformat": 4,
 "nbformat_minor": 4
}
