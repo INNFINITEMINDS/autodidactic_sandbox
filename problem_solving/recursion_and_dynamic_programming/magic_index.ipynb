{
 "cells": [
  {
   "cell_type": "markdown",
   "metadata": {},
   "source": [
    "# Magic index\n",
    "\n",
    "## Problem statement\n",
    "\n",
    "A magic index in an array $A[i, ..., n - 1]$ is defined to be an index such that $A[i] = i$. Given a sorted array of distinct integers, write a method to find a magic index, if one exists, in array A."
   ]
  },
  {
   "cell_type": "markdown",
   "metadata": {},
   "source": [
    "## Solution 1\n",
    "\n",
    "Iterate through each element of A and check whether it is has a magic index.\n",
    "\n",
    "Time complexity: $O(N)$"
   ]
  },
  {
   "cell_type": "code",
   "execution_count": 38,
   "metadata": {},
   "outputs": [],
   "source": [
    "def magic_index_1(A):\n",
    "    'Finds a magic index in array A.'\n",
    "    \n",
    "    list_check = isinstance(A, list)\n",
    "    if list_check == False: return 'ERROR: Input A must be a list.'\n",
    "    \n",
    "    integer_check = all([isinstance(element, int) for element in A])\n",
    "    if integer_check == False: return 'ERROR: At least one element of A is not an integer.'\n",
    "    \n",
    "    for i in range(len(A)):\n",
    "        if A[i] == i:\n",
    "            return i\n",
    "    \n",
    "    return -1"
   ]
  },
  {
   "cell_type": "markdown",
   "metadata": {},
   "source": [
    "#### Test cases"
   ]
  },
  {
   "cell_type": "code",
   "execution_count": 39,
   "metadata": {},
   "outputs": [
    {
     "name": "stdout",
     "output_type": "stream",
     "text": [
      "ERROR: Input A must be a list.\n",
      "ERROR: Input A must be a list.\n",
      "ERROR: At least one element of A is not an integer.\n",
      "ERROR: At least one element of A is not an integer.\n",
      "0\n",
      "1\n",
      "2\n",
      "-1\n"
     ]
    }
   ],
   "source": [
    "print(magic_index_1((1, 2, 3)))\n",
    "print(magic_index_1(1))\n",
    "print(magic_index_1([1, 1.5, 3]))\n",
    "print(magic_index_1([1, 'a', 3]))\n",
    "print(magic_index_1([0, 100, 200]))\n",
    "print(magic_index_1([-100, 1, 100]))\n",
    "print(magic_index_1([-200, -100, 2]))\n",
    "print(magic_index_1([100, 200, 300]))"
   ]
  },
  {
   "cell_type": "markdown",
   "metadata": {},
   "source": [
    "## Solution 2\n",
    "\n",
    "Do a binary search of the array. Check if the array-element is greater or less than its index. Use this to tell which half to search next.\n",
    "\n",
    "Time complexity: $O(log(N))$"
   ]
  },
  {
   "cell_type": "code",
   "execution_count": 40,
   "metadata": {},
   "outputs": [],
   "source": [
    "def magic_index_2(A):\n",
    "    'Finds a magic index in array A.'\n",
    "    \n",
    "    list_check = isinstance(A, list)\n",
    "    if list_check == False: return 'ERROR: Input A must be a list.'\n",
    "    \n",
    "    integer_check = all([isinstance(element, int) for element in A])\n",
    "    if integer_check == False: return 'ERROR: At least one element of A is not an integer.'\n",
    "    \n",
    "    return magic_index_2_helper(A, 0, len(A) - 1)\n",
    "\n",
    "def magic_index_2_helper(A, low, high):\n",
    "    \n",
    "    if low == high:\n",
    "        if A[low] == low:\n",
    "            return low\n",
    "        else:\n",
    "            return -1\n",
    "    \n",
    "    mid = (low + high) // 2\n",
    "\n",
    "    if A[mid] == mid:\n",
    "        return mid\n",
    "    elif A[mid] > mid:\n",
    "        return magic_index_2_helper(A, low, mid - 1)\n",
    "    else:\n",
    "        return magic_index_2_helper(A, mid + 1, high)"
   ]
  },
  {
   "cell_type": "markdown",
   "metadata": {},
   "source": [
    "#### Test cases"
   ]
  },
  {
   "cell_type": "code",
   "execution_count": 41,
   "metadata": {},
   "outputs": [
    {
     "name": "stdout",
     "output_type": "stream",
     "text": [
      "ERROR: Input A must be a list.\n",
      "ERROR: Input A must be a list.\n",
      "ERROR: At least one element of A is not an integer.\n",
      "ERROR: At least one element of A is not an integer.\n",
      "0\n",
      "1\n",
      "2\n",
      "-1\n"
     ]
    }
   ],
   "source": [
    "print(magic_index_2((1, 2, 3)))\n",
    "print(magic_index_2(1))\n",
    "print(magic_index_2([1, 1.5, 3]))\n",
    "print(magic_index_2([1, 'a', 3]))\n",
    "print(magic_index_2([0, 100, 200]))\n",
    "print(magic_index_2([-100, 1, 100]))\n",
    "print(magic_index_2([-200, -100, 2]))\n",
    "print(magic_index_2([100, 200, 300]))"
   ]
  }
 ],
 "metadata": {
  "kernelspec": {
   "display_name": "Python 3",
   "language": "python",
   "name": "python3"
  },
  "language_info": {
   "codemirror_mode": {
    "name": "ipython",
    "version": 3
   },
   "file_extension": ".py",
   "mimetype": "text/x-python",
   "name": "python",
   "nbconvert_exporter": "python",
   "pygments_lexer": "ipython3",
   "version": "3.7.6"
  }
 },
 "nbformat": 4,
 "nbformat_minor": 4
}
