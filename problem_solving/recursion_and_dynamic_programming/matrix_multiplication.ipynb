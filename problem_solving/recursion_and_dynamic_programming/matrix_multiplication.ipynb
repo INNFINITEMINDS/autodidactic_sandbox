{
 "cells": [
  {
   "cell_type": "markdown",
   "metadata": {},
   "source": [
    "# Matrix multiplication"
   ]
  },
  {
   "cell_type": "markdown",
   "metadata": {},
   "source": [
    "## Brute force"
   ]
  },
  {
   "cell_type": "code",
   "execution_count": 1,
   "metadata": {},
   "outputs": [],
   "source": [
    "def multiply_matrices(A, B):\n",
    "    '''Multiply matrix A by matrix B.'''\n",
    "    \n",
    "    l = len(A)\n",
    "    m = len(A[0])\n",
    "    n = len(B)\n",
    "    o = len(B[0])\n",
    "    \n",
    "    assert m == n, 'ERROR: Dimensions don\\'t match'\n",
    "    \n",
    "    C = [[0 for row in range(l)] for col in range(o)]\n",
    "    \n",
    "    for i in range(l):\n",
    "        for j in range(o):\n",
    "            for k in range(m):\n",
    "                C[i][j] += A[i][k] * B[k][j]\n",
    "    \n",
    "    return C"
   ]
  },
  {
   "cell_type": "markdown",
   "metadata": {},
   "source": [
    "### Testing"
   ]
  },
  {
   "cell_type": "code",
   "execution_count": 2,
   "metadata": {},
   "outputs": [
    {
     "name": "stdout",
     "output_type": "stream",
     "text": [
      "[[31, 34], [112, 124]]\n"
     ]
    }
   ],
   "source": [
    "A = [[0, 1, 2],\n",
    "     [3, 4, 5]]\n",
    "\n",
    "B = [[7, 8],\n",
    "     [9, 10],\n",
    "     [11, 12]]\n",
    "\n",
    "print(multiply_matrices(A, B))"
   ]
  },
  {
   "cell_type": "markdown",
   "metadata": {},
   "source": [
    "## Strassen's method"
   ]
  },
  {
   "cell_type": "code",
   "execution_count": null,
   "metadata": {},
   "outputs": [],
   "source": [
    "def strassen(A, B):\n",
    "    '''Multiply matrix A by matrix B using Strassen\\'s recursive method.'''\n",
    "    \n",
    "    return strassen_helper(A, B, 0, len(A) - 1, 0, len(A[0]) - 1, 0, len(B) - 1, 0, len(B[0]) - 1)\n",
    "    \n",
    "def strassen_helper(A, B,\n",
    "                    A_row_top, A_row_btm, A_col_lft, A_col_rgt,\n",
    "                    B_row_top, B_row_btm, B_col_lft, B_col_rgt):\n",
    "    '''Helper function for strassen().'''\n",
    "    \n",
    "    print(A_row_top, A_row_btm, A_col_lft, A_col_rgt, B_row_top, B_row_btm, B_col_lft, B_col_rgt)\n",
    "    \n",
    "    n = A_row_btm - A_row_top\n",
    "    \n",
    "    if n == 0:\n",
    "        C = A[A_row_top][A_col_lft] * B[B_row_top][B_col_lft]\n",
    "        return [[C]]\n",
    "    else:\n",
    "        A_row_mid = (A_row_top + A_row_btm) // 2\n",
    "        A_col_mid = (A_col_lft + A_col_rgt) // 2\n",
    "        B_row_mid = (B_row_top + B_row_btm) // 2\n",
    "        B_col_mid = (B_row_top + B_row_btm) // 2\n",
    "        #print(A_row_mid, A_col_mid, B_row_mid, B_col_mid)\n",
    "        \n",
    "        C11 = \\\n",
    "        strassen_helper(A, B,\n",
    "                        A_row_top, A_row_mid - 1, A_col_lft, A_col_mid - 1,\n",
    "                        B_row_top, B_row_mid - 1, B_col_lft, B_col_mid - 1) +\\\n",
    "        strassen_helper(A, B,\n",
    "                        A_row_top, A_row_mid - 1, A_col_mid + 1, A_col_rgt,\n",
    "                        B_row_mid + 1, B_row_btm, B_col_lft, B_col_mid - 1)\n",
    "        \n",
    "        C12 = \\\n",
    "        strassen_helper(A, B,\n",
    "                        A_row_top, A_row_mid - 1, A_col_lft, A_col_mid - 1,\n",
    "                        B_row_top, B_row_mid - 1, B_col_mid + 1, B_col_rgt) +\\\n",
    "        strassen_helper(A, B,\n",
    "                        A_row_top, A_row_mid - 1, A_col_mid + 1, A_col_rgt,\n",
    "                        B_row_mid + 1, B_row_btm, B_col_mid + 1, B_col_rgt)\n",
    "        \n",
    "        C21 = \\\n",
    "        strassen_helper(A, B,\n",
    "                        A_row_mid + 1, A_row_btm, A_col_lft, A_col_mid - 1,\n",
    "                        B_row_top, B_row_mid - 1, B_col_lft, B_col_mid - 1) +\\\n",
    "        strassen_helper(A, B,\n",
    "                        A_row_mid + 1, A_row_btm, A_col_mid + 1, A_col_rgt,\n",
    "                        B_row_mid + 1, B_row_btm, B_col_lft, B_col_mid - 1)\n",
    "        \n",
    "        C22 = \\\n",
    "        strassen_helper(A, B,\n",
    "                        A_row_mid + 1, A_row_btm, A_col_lft, A_col_mid - 1,\n",
    "                        B_row_top, B_row_mid - 1, B_col_mid + 1, B_col_rgt) +\\\n",
    "        strassen_helper(A, B,\n",
    "                        A_row_mid + 1, A_row_btm, A_col_mid + 1, A_col_rgt,\n",
    "                        B_row_mid + 1, B_row_btm, B_col_mid + 1, B_col_rgt)\n",
    "        \n",
    "        C = [C11[i] + C12[i] for i in range(n)] + [C21[i] + C22[i] for i in range(n)]\n",
    "        #print(C)\n",
    "        return C"
   ]
  },
  {
   "cell_type": "code",
   "execution_count": 77,
   "metadata": {},
   "outputs": [
    {
     "name": "stdout",
     "output_type": "stream",
     "text": [
      "[[0, 1, 5, 6], [3, 4, 7, 8], [0, 1, 5, 6], [3, 4, 7, 8]]\n"
     ]
    }
   ],
   "source": [
    "A = [[0, 1],\n",
    "     [3, 4]]\n",
    "B = [[5, 6],\n",
    "     [7, 8]]\n",
    "n = 2\n",
    "\n",
    "C = [A[i] + B[i] for i in range(n)] + [A[i] + B[i] for i in range(n)]\n",
    "print(C)"
   ]
  },
  {
   "cell_type": "code",
   "execution_count": null,
   "metadata": {},
   "outputs": [],
   "source": [
    "A = [[0, 1, 2, 3],\n",
    "     [4, 5, 6, 7],\n",
    "     [8, 9, 10, 11],\n",
    "     [12, 13, 14, 15]]\n",
    "\n",
    "B = [[10, 11, 12, 13],\n",
    "     [4, 5, 6, 7],\n",
    "     [8, 9, 10, 11],\n",
    "     [12, 13, 14, 15]]\n",
    "print(strassen(A, B))"
   ]
  },
  {
   "cell_type": "code",
   "execution_count": 70,
   "metadata": {
    "collapsed": true
   },
   "outputs": [
    {
     "name": "stdout",
     "output_type": "stream",
     "text": [
      "0 1 0 1 0 1 0 1\n",
      "0 -1 0 -1 0 -1 0 -1\n",
      "0 -1 1 1 1 1 0 -1\n",
      "0 -1 0 -1 0 -1 1 1\n",
      "0 -1 1 1 1 1 1 1\n",
      "1 1 0 -1 0 -1 0 -1\n",
      "1 0 0 -2 0 -2 0 -2\n",
      "1 0 0 -1 0 -1 0 -2\n",
      "1 0 0 -2 0 -2 0 -1\n",
      "1 0 0 -1 0 -1 0 -1\n",
      "2 1 0 -2 0 -2 0 -2\n"
     ]
    },
    {
     "ename": "IndexError",
     "evalue": "list index out of range",
     "output_type": "error",
     "traceback": [
      "\u001b[0;31m---------------------------------------------------------------------------\u001b[0m",
      "\u001b[0;31mIndexError\u001b[0m                                Traceback (most recent call last)",
      "\u001b[0;32m<ipython-input-70-e7a660f1b59f>\u001b[0m in \u001b[0;36m<module>\u001b[0;34m\u001b[0m\n\u001b[1;32m      5\u001b[0m      [9, 10]]\n\u001b[1;32m      6\u001b[0m \u001b[0;34m\u001b[0m\u001b[0m\n\u001b[0;32m----> 7\u001b[0;31m \u001b[0mprint\u001b[0m\u001b[0;34m(\u001b[0m\u001b[0mstrassen\u001b[0m\u001b[0;34m(\u001b[0m\u001b[0mA\u001b[0m\u001b[0;34m,\u001b[0m \u001b[0mB\u001b[0m\u001b[0;34m)\u001b[0m\u001b[0;34m)\u001b[0m\u001b[0;34m\u001b[0m\u001b[0;34m\u001b[0m\u001b[0m\n\u001b[0m",
      "\u001b[0;32m<ipython-input-68-1018c9c46a21>\u001b[0m in \u001b[0;36mstrassen\u001b[0;34m(A, B)\u001b[0m\n\u001b[1;32m      2\u001b[0m     \u001b[0;34m'''Multiply matrix A by matrix B using Strassen\\'s recursive method.'''\u001b[0m\u001b[0;34m\u001b[0m\u001b[0;34m\u001b[0m\u001b[0m\n\u001b[1;32m      3\u001b[0m \u001b[0;34m\u001b[0m\u001b[0m\n\u001b[0;32m----> 4\u001b[0;31m     \u001b[0;32mreturn\u001b[0m \u001b[0mstrassen_helper\u001b[0m\u001b[0;34m(\u001b[0m\u001b[0mA\u001b[0m\u001b[0;34m,\u001b[0m \u001b[0mB\u001b[0m\u001b[0;34m,\u001b[0m \u001b[0;36m0\u001b[0m\u001b[0;34m,\u001b[0m \u001b[0mlen\u001b[0m\u001b[0;34m(\u001b[0m\u001b[0mA\u001b[0m\u001b[0;34m)\u001b[0m \u001b[0;34m-\u001b[0m \u001b[0;36m1\u001b[0m\u001b[0;34m,\u001b[0m \u001b[0;36m0\u001b[0m\u001b[0;34m,\u001b[0m \u001b[0mlen\u001b[0m\u001b[0;34m(\u001b[0m\u001b[0mA\u001b[0m\u001b[0;34m[\u001b[0m\u001b[0;36m0\u001b[0m\u001b[0;34m]\u001b[0m\u001b[0;34m)\u001b[0m \u001b[0;34m-\u001b[0m \u001b[0;36m1\u001b[0m\u001b[0;34m,\u001b[0m \u001b[0;36m0\u001b[0m\u001b[0;34m,\u001b[0m \u001b[0mlen\u001b[0m\u001b[0;34m(\u001b[0m\u001b[0mB\u001b[0m\u001b[0;34m)\u001b[0m \u001b[0;34m-\u001b[0m \u001b[0;36m1\u001b[0m\u001b[0;34m,\u001b[0m \u001b[0;36m0\u001b[0m\u001b[0;34m,\u001b[0m \u001b[0mlen\u001b[0m\u001b[0;34m(\u001b[0m\u001b[0mB\u001b[0m\u001b[0;34m[\u001b[0m\u001b[0;36m0\u001b[0m\u001b[0;34m]\u001b[0m\u001b[0;34m)\u001b[0m \u001b[0;34m-\u001b[0m \u001b[0;36m1\u001b[0m\u001b[0;34m)\u001b[0m\u001b[0;34m\u001b[0m\u001b[0;34m\u001b[0m\u001b[0m\n\u001b[0m\u001b[1;32m      5\u001b[0m \u001b[0;34m\u001b[0m\u001b[0m\n\u001b[1;32m      6\u001b[0m def strassen_helper(A, B,\n",
      "\u001b[0;32m<ipython-input-68-1018c9c46a21>\u001b[0m in \u001b[0;36mstrassen_helper\u001b[0;34m(A, B, A_row_top, A_row_btm, A_col_lft, A_col_rgt, B_row_top, B_row_btm, B_col_lft, B_col_rgt)\u001b[0m\n\u001b[1;32m     42\u001b[0m         strassen_helper(A, B,\n\u001b[1;32m     43\u001b[0m                         \u001b[0mA_row_mid\u001b[0m \u001b[0;34m+\u001b[0m \u001b[0;36m1\u001b[0m\u001b[0;34m,\u001b[0m \u001b[0mA_row_btm\u001b[0m\u001b[0;34m,\u001b[0m \u001b[0mA_col_lft\u001b[0m\u001b[0;34m,\u001b[0m \u001b[0mA_col_mid\u001b[0m \u001b[0;34m-\u001b[0m \u001b[0;36m1\u001b[0m\u001b[0;34m,\u001b[0m\u001b[0;34m\u001b[0m\u001b[0;34m\u001b[0m\u001b[0m\n\u001b[0;32m---> 44\u001b[0;31m                         B_row_top, B_row_mid - 1, B_col_lft, B_col_mid - 1) +\\\n\u001b[0m\u001b[1;32m     45\u001b[0m         strassen_helper(A, B,\n\u001b[1;32m     46\u001b[0m                         \u001b[0mA_row_mid\u001b[0m \u001b[0;34m+\u001b[0m \u001b[0;36m1\u001b[0m\u001b[0;34m,\u001b[0m \u001b[0mA_row_btm\u001b[0m\u001b[0;34m,\u001b[0m \u001b[0mA_col_mid\u001b[0m \u001b[0;34m+\u001b[0m \u001b[0;36m1\u001b[0m\u001b[0;34m,\u001b[0m \u001b[0mA_col_rgt\u001b[0m\u001b[0;34m,\u001b[0m\u001b[0;34m\u001b[0m\u001b[0;34m\u001b[0m\u001b[0m\n",
      "\u001b[0;32m<ipython-input-68-1018c9c46a21>\u001b[0m in \u001b[0;36mstrassen_helper\u001b[0;34m(A, B, A_row_top, A_row_btm, A_col_lft, A_col_rgt, B_row_top, B_row_btm, B_col_lft, B_col_rgt)\u001b[0m\n\u001b[1;32m     42\u001b[0m         strassen_helper(A, B,\n\u001b[1;32m     43\u001b[0m                         \u001b[0mA_row_mid\u001b[0m \u001b[0;34m+\u001b[0m \u001b[0;36m1\u001b[0m\u001b[0;34m,\u001b[0m \u001b[0mA_row_btm\u001b[0m\u001b[0;34m,\u001b[0m \u001b[0mA_col_lft\u001b[0m\u001b[0;34m,\u001b[0m \u001b[0mA_col_mid\u001b[0m \u001b[0;34m-\u001b[0m \u001b[0;36m1\u001b[0m\u001b[0;34m,\u001b[0m\u001b[0;34m\u001b[0m\u001b[0;34m\u001b[0m\u001b[0m\n\u001b[0;32m---> 44\u001b[0;31m                         B_row_top, B_row_mid - 1, B_col_lft, B_col_mid - 1) +\\\n\u001b[0m\u001b[1;32m     45\u001b[0m         strassen_helper(A, B,\n\u001b[1;32m     46\u001b[0m                         \u001b[0mA_row_mid\u001b[0m \u001b[0;34m+\u001b[0m \u001b[0;36m1\u001b[0m\u001b[0;34m,\u001b[0m \u001b[0mA_row_btm\u001b[0m\u001b[0;34m,\u001b[0m \u001b[0mA_col_mid\u001b[0m \u001b[0;34m+\u001b[0m \u001b[0;36m1\u001b[0m\u001b[0;34m,\u001b[0m \u001b[0mA_col_rgt\u001b[0m\u001b[0;34m,\u001b[0m\u001b[0;34m\u001b[0m\u001b[0;34m\u001b[0m\u001b[0m\n",
      "\u001b[0;32m<ipython-input-68-1018c9c46a21>\u001b[0m in \u001b[0;36mstrassen_helper\u001b[0;34m(A, B, A_row_top, A_row_btm, A_col_lft, A_col_rgt, B_row_top, B_row_btm, B_col_lft, B_col_rgt)\u001b[0m\n\u001b[1;32m     14\u001b[0m \u001b[0;34m\u001b[0m\u001b[0m\n\u001b[1;32m     15\u001b[0m     \u001b[0;32mif\u001b[0m \u001b[0mn\u001b[0m \u001b[0;34m<\u001b[0m \u001b[0;36m0\u001b[0m\u001b[0;34m:\u001b[0m\u001b[0;34m\u001b[0m\u001b[0;34m\u001b[0m\u001b[0m\n\u001b[0;32m---> 16\u001b[0;31m         \u001b[0mC\u001b[0m \u001b[0;34m=\u001b[0m \u001b[0mA\u001b[0m\u001b[0;34m[\u001b[0m\u001b[0mA_row_top\u001b[0m\u001b[0;34m]\u001b[0m\u001b[0;34m[\u001b[0m\u001b[0mA_col_lft\u001b[0m\u001b[0;34m]\u001b[0m \u001b[0;34m*\u001b[0m \u001b[0mB\u001b[0m\u001b[0;34m[\u001b[0m\u001b[0mB_row_top\u001b[0m\u001b[0;34m]\u001b[0m\u001b[0;34m[\u001b[0m\u001b[0mB_col_lft\u001b[0m\u001b[0;34m]\u001b[0m\u001b[0;34m\u001b[0m\u001b[0;34m\u001b[0m\u001b[0m\n\u001b[0m\u001b[1;32m     17\u001b[0m         \u001b[0;32mreturn\u001b[0m \u001b[0;34m[\u001b[0m\u001b[0;34m[\u001b[0m\u001b[0mC\u001b[0m\u001b[0;34m]\u001b[0m\u001b[0;34m]\u001b[0m\u001b[0;34m\u001b[0m\u001b[0;34m\u001b[0m\u001b[0m\n\u001b[1;32m     18\u001b[0m     \u001b[0;32melse\u001b[0m\u001b[0;34m:\u001b[0m\u001b[0;34m\u001b[0m\u001b[0;34m\u001b[0m\u001b[0m\n",
      "\u001b[0;31mIndexError\u001b[0m: list index out of range"
     ]
    }
   ],
   "source": [
    "A = [[0, 1],\n",
    "     [3, 4]]\n",
    "\n",
    "B = [[7, 8],\n",
    "     [9, 10]]\n",
    "\n",
    "print(strassen(A, B))"
   ]
  },
  {
   "cell_type": "code",
   "execution_count": 13,
   "metadata": {},
   "outputs": [
    {
     "name": "stdout",
     "output_type": "stream",
     "text": [
      "0 0 0 0 0 0 0 0\n",
      "100\n"
     ]
    }
   ],
   "source": [
    "A = [[10]]\n",
    "\n",
    "B = [[10]]\n",
    "\n",
    "print(strassen(A, B))"
   ]
  },
  {
   "cell_type": "code",
   "execution_count": 19,
   "metadata": {},
   "outputs": [
    {
     "data": {
      "text/plain": [
       "[[0, 1, 2, 3],\n",
       " [4, 5, 6, 7],\n",
       " [8, 9, 10, 11],\n",
       " [12, 13, 14, 15],\n",
       " [10, 11, 12, 13],\n",
       " [4, 5, 6, 7],\n",
       " [8, 9, 10, 11],\n",
       " [12, 13, 14, 15]]"
      ]
     },
     "execution_count": 19,
     "metadata": {},
     "output_type": "execute_result"
    }
   ],
   "source": [
    "A + B"
   ]
  },
  {
   "cell_type": "code",
   "execution_count": 26,
   "metadata": {},
   "outputs": [
    {
     "data": {
      "text/plain": [
       "[0, 1, 2, 3, 4, 5, 6, 7]"
      ]
     },
     "execution_count": 26,
     "metadata": {},
     "output_type": "execute_result"
    }
   ],
   "source": [
    "A[0] + A[1]"
   ]
  },
  {
   "cell_type": "code",
   "execution_count": null,
   "metadata": {},
   "outputs": [],
   "source": []
  }
 ],
 "metadata": {
  "kernelspec": {
   "display_name": "Python 3",
   "language": "python",
   "name": "python3"
  },
  "language_info": {
   "codemirror_mode": {
    "name": "ipython",
    "version": 3
   },
   "file_extension": ".py",
   "mimetype": "text/x-python",
   "name": "python",
   "nbconvert_exporter": "python",
   "pygments_lexer": "ipython3",
   "version": "3.7.6"
  }
 },
 "nbformat": 4,
 "nbformat_minor": 4
}
