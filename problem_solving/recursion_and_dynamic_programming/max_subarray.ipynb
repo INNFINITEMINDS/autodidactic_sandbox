{
 "cells": [
  {
   "cell_type": "markdown",
   "metadata": {},
   "source": [
    "# Max subarray"
   ]
  },
  {
   "cell_type": "markdown",
   "metadata": {},
   "source": [
    "## Brute force"
   ]
  },
  {
   "cell_type": "code",
   "execution_count": 1,
   "metadata": {},
   "outputs": [],
   "source": [
    "def find_max_subarray_a(array):\n",
    "    \"Find the maximum subarray in the array using a brute force approach.\"\n",
    "    \n",
    "    assert isinstance(array, list) == True, 'ERROR: Array must be a Python list object.'\n",
    "    \n",
    "    n = len(array)\n",
    "    res = float('-inf')\n",
    "    \n",
    "    if n == 1: return array[0]\n",
    "    \n",
    "    for i in range(n):\n",
    "        for j in range(n + 1):\n",
    "            sm = sum(array[i:j])\n",
    "            if sm > res: res = sm\n",
    "    \n",
    "    return res"
   ]
  },
  {
   "cell_type": "markdown",
   "metadata": {},
   "source": [
    "## Testing"
   ]
  },
  {
   "cell_type": "code",
   "execution_count": 2,
   "metadata": {},
   "outputs": [],
   "source": [
    "print(find_max_subarray_a([0, -4, 6, 8, 2, 5, 3, -3, 1]))\n",
    "print(find_max_subarray_a([10, -10]))\n",
    "print(find_max_subarray_a([10]))\n",
    "print(find_max_subarray_a([-10]))"
   ]
  },
  {
   "cell_type": "markdown",
   "metadata": {},
   "source": [
    "## Divide and conquer"
   ]
  },
  {
   "cell_type": "code",
   "execution_count": 3,
   "metadata": {},
   "outputs": [],
   "source": [
    "def find_max_subarray_b(array):\n",
    "    \"Find the maximum subarray in the array using a brute force approach.\"\n",
    "    \n",
    "    assert isinstance(array, list) == True, 'ERROR: Array must be a Python list object.'\n",
    "    \n",
    "    n = len(array)\n",
    "    \n",
    "    return find_max_subarray_b_helper(array, 0, n - 1)\n",
    "    \n",
    "def find_max_subarray_b_helper(array, start, end):\n",
    "    \"Helper function for find_max_subarray_b().\"\n",
    "    \n",
    "    if end == start: return array[start]\n",
    "    \n",
    "    mid = (start + end) // 2\n",
    "    \n",
    "    max_left = find_max_subarray_b_helper(array, start, mid)\n",
    "    max_right = find_max_subarray_b_helper(array, mid + 1, end)\n",
    "    max_cross = find_max_cross_subarray(array, start, mid, end)\n",
    "    \n",
    "    return max(max_left, max_right, max_cross)\n",
    "\n",
    "def find_max_cross_subarray(array, start, mid, end):\n",
    "    \n",
    "    max_left = float('-inf')\n",
    "    max_right = float('-inf')\n",
    "    for i in range(start, mid + 1):\n",
    "        sm = sum(array[i : mid + 1])\n",
    "        if sm > max_left: max_left = sm\n",
    "    \n",
    "    for i in range(mid + 1, end + 2):\n",
    "        sm = sum(array[mid + 1 : i])\n",
    "        if sm > max_right: max_right = sm\n",
    "    \n",
    "    return max(max_left, max_right, max_left + max_right)"
   ]
  },
  {
   "cell_type": "markdown",
   "metadata": {},
   "source": [
    "### Testing"
   ]
  },
  {
   "cell_type": "code",
   "execution_count": 4,
   "metadata": {},
   "outputs": [],
   "source": [
    "array = [10]\n",
    "print(find_max_subarray_b(array))"
   ]
  },
  {
   "cell_type": "code",
   "execution_count": 5,
   "metadata": {},
   "outputs": [
    {
     "name": "stdout",
     "output_type": "stream",
     "text": [
      "-10\n"
     ]
    }
   ],
   "source": [
    "array = [-10]\n",
    "print(find_max_subarray_b(array))"
   ]
  },
  {
   "cell_type": "code",
   "execution_count": 6,
   "metadata": {},
   "outputs": [
    {
     "name": "stdout",
     "output_type": "stream",
     "text": [
      "40\n"
     ]
    }
   ],
   "source": [
    "array = [10, 10, 10, 10]\n",
    "print(find_max_subarray_b(array))"
   ]
  },
  {
   "cell_type": "code",
   "execution_count": 7,
   "metadata": {},
   "outputs": [
    {
     "name": "stdout",
     "output_type": "stream",
     "text": [
      "110\n"
     ]
    }
   ],
   "source": [
    "array = [10, 100, -10, 10]\n",
    "print(find_max_subarray_b(array))"
   ]
  }
 ],
 "metadata": {
  "kernelspec": {
   "display_name": "Python 3",
   "language": "python",
   "name": "python3"
  },
  "language_info": {
   "codemirror_mode": {
    "name": "ipython",
    "version": 3
   },
   "file_extension": ".py",
   "mimetype": "text/x-python",
   "name": "python",
   "nbconvert_exporter": "python",
   "pygments_lexer": "ipython3",
   "version": "3.7.6"
  }
 },
 "nbformat": 4,
 "nbformat_minor": 4
}
