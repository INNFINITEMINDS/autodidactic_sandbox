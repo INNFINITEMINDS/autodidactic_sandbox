{
 "cells": [
  {
   "cell_type": "markdown",
   "metadata": {},
   "source": [
    "# Paint fill\n",
    "\n",
    "## Problem statement\n",
    "\n",
    "Implement a 'paint fill' function that one might see on many image editing programs. That is, given a screen (represented by a 2D array of colours), a point and a new colour, fill in the surrounding area until the colour changes from the original colour."
   ]
  },
  {
   "cell_type": "markdown",
   "metadata": {},
   "source": [
    "# Solution 1\n",
    "\n",
    "Implement a recursive solution bleeding out from the fill-point."
   ]
  },
  {
   "cell_type": "code",
   "execution_count": 7,
   "metadata": {},
   "outputs": [],
   "source": [
    "def paint_fill_1(screen, r, c, new_colour):\n",
    "    'Executes a paint fill from the point in the screen with the new colour.'\n",
    "\n",
    "    old_colour = screen[r][c]\n",
    "    \n",
    "    if old_colour == new_colour: return False\n",
    "    \n",
    "    return paint_fill_1_helper(screen, r, c, old_colour, new_colour)\n",
    "    \n",
    "def paint_fill_1_helper(screen, r, c, old_colour, new_colour):\n",
    "    'Helper functions for paint_fill_1().'\n",
    "    \n",
    "    if r < 0 or r >= len(screen) or c < 0 or c >= len(screen):\n",
    "        return False\n",
    "    \n",
    "    if screen[r][c] == old_colour:\n",
    "        screen[r][c] = new_colour\n",
    "        paint_fill_1_helper(screen, r - 1, c, old_colour, new_colour)\n",
    "        paint_fill_1_helper(screen, r + 1, c, old_colour, new_colour)\n",
    "        paint_fill_1_helper(screen, r, c - 1, old_colour, new_colour)\n",
    "        paint_fill_1_helper(screen, r, c + 1, old_colour, new_colour)\n",
    "    \n",
    "    return True"
   ]
  },
  {
   "cell_type": "markdown",
   "metadata": {},
   "source": [
    "#### Test cases"
   ]
  },
  {
   "cell_type": "code",
   "execution_count": 11,
   "metadata": {},
   "outputs": [
    {
     "name": "stdout",
     "output_type": "stream",
     "text": [
      "True\n"
     ]
    },
    {
     "data": {
      "text/plain": [
       "[['green', 'green', 'green', 'green'],\n",
       " ['green', 'blue', 'blue', 'green'],\n",
       " ['green', 'blue', 'blue', 'green'],\n",
       " ['green', 'green', 'green', 'green']]"
      ]
     },
     "execution_count": 11,
     "metadata": {},
     "output_type": "execute_result"
    }
   ],
   "source": [
    "screen = [\\\n",
    "          ['green', 'green', 'green', 'green'],\\\n",
    "          ['green', 'red', 'red', 'green'],\\\n",
    "          ['green', 'red', 'red', 'green'],\\\n",
    "          ['green', 'green', 'green', 'green']\\\n",
    "         ]\n",
    "    \n",
    "print(paint_fill_1(screen, 1, 1, 'blue'))\n",
    "screen"
   ]
  },
  {
   "cell_type": "code",
   "execution_count": 12,
   "metadata": {},
   "outputs": [
    {
     "name": "stdout",
     "output_type": "stream",
     "text": [
      "True\n"
     ]
    },
    {
     "data": {
      "text/plain": [
       "[['blue', 'blue', 'blue', 'red'],\n",
       " ['blue', 'blue', 'blue', 'red'],\n",
       " ['blue', 'blue', 'blue', 'red'],\n",
       " ['blue', 'blue', 'blue', 'red']]"
      ]
     },
     "execution_count": 12,
     "metadata": {},
     "output_type": "execute_result"
    }
   ],
   "source": [
    "screen = [\\\n",
    "          ['green', 'green', 'green', 'red'],\\\n",
    "          ['green', 'green', 'green', 'red'],\\\n",
    "          ['green', 'green', 'green', 'red'],\\\n",
    "          ['green', 'green', 'green', 'red']\\\n",
    "         ]\n",
    "    \n",
    "print(paint_fill_1(screen, 1, 1, 'blue'))\n",
    "screen"
   ]
  }
 ],
 "metadata": {
  "kernelspec": {
   "display_name": "Python 3",
   "language": "python",
   "name": "python3"
  },
  "language_info": {
   "codemirror_mode": {
    "name": "ipython",
    "version": 3
   },
   "file_extension": ".py",
   "mimetype": "text/x-python",
   "name": "python",
   "nbconvert_exporter": "python",
   "pygments_lexer": "ipython3",
   "version": "3.7.6"
  }
 },
 "nbformat": 4,
 "nbformat_minor": 4
}
