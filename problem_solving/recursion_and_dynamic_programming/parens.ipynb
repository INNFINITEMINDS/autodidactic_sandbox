{
 "cells": [
  {
   "cell_type": "markdown",
   "metadata": {},
   "source": [
    "# Parens\n",
    "\n",
    "## Problem statement\n",
    "\n",
    "Implement an algorithm to print all valid (e.g., properly opened and closed) combinations of $n$ pairs of parentheses."
   ]
  },
  {
   "cell_type": "markdown",
   "metadata": {},
   "source": [
    "## Solution 1\n",
    "\n",
    "Implement a recursive solution using a base case and build approach. In the recursive step, add a pair of brackets before and after every bracket in the $n-1$ case. Check for duplicates before returning. Quite inefficient because many duplicates are produced.\n",
    "\n",
    "Assume only round brackets are required."
   ]
  },
  {
   "cell_type": "code",
   "execution_count": 9,
   "metadata": {},
   "outputs": [],
   "source": [
    "def parens_1(n):\n",
    "    'Find all valid combinations of n pairs of parentheses.'\n",
    "    \n",
    "    if isinstance(n, int) == False: return 'Error: n must be an integer.'\n",
    "    \n",
    "    if n < 0:\n",
    "        return 'Error: n must be a positive integer.'\n",
    "    elif n == 0:\n",
    "        return None\n",
    "    else:\n",
    "        return parens_1_helper(n)\n",
    "                \n",
    "def parens_1_helper(n):\n",
    "    'Helper function for parens_1().'\n",
    "    \n",
    "    if n == 1:\n",
    "        return ['()']\n",
    "    else:\n",
    "        result = []\n",
    "        for combo in parens_1_helper(n - 1):\n",
    "                for i in range((n - 1) * 2):\n",
    "                    temp = combo[:i + 1] + '()' + combo[i+1:]\n",
    "                    if not(temp in result):\n",
    "                        result.append(temp)\n",
    "        return result"
   ]
  },
  {
   "cell_type": "markdown",
   "metadata": {},
   "source": [
    "#### Test cases"
   ]
  },
  {
   "cell_type": "code",
   "execution_count": 10,
   "metadata": {},
   "outputs": [
    {
     "name": "stdout",
     "output_type": "stream",
     "text": [
      "Error: n must be an integer.\n",
      "Error: n must be a positive integer.\n",
      "None\n",
      "['()']\n",
      "['(())', '()()']\n",
      "['(()())', '((()))', '(())()', '()()()', '()(())']\n",
      "['(()()())', '((())())', '(()(()))', '(()())()', '((()()))', '(((())))', '((()))()', '(())()()', '(())(())', '()()()()', '()(())()', '()()(())', '()(()())', '()((()))']\n"
     ]
    }
   ],
   "source": [
    "print(parens_1(1.5))\n",
    "print(parens_1(-1))\n",
    "print(parens_1(0))\n",
    "print(parens_1(1))\n",
    "print(parens_1(2))\n",
    "print(parens_1(3))\n",
    "print(parens_1(4))"
   ]
  }
 ],
 "metadata": {
  "kernelspec": {
   "display_name": "Python 3",
   "language": "python",
   "name": "python3"
  },
  "language_info": {
   "codemirror_mode": {
    "name": "ipython",
    "version": 3
   },
   "file_extension": ".py",
   "mimetype": "text/x-python",
   "name": "python",
   "nbconvert_exporter": "python",
   "pygments_lexer": "ipython3",
   "version": "3.7.6"
  }
 },
 "nbformat": 4,
 "nbformat_minor": 4
}
