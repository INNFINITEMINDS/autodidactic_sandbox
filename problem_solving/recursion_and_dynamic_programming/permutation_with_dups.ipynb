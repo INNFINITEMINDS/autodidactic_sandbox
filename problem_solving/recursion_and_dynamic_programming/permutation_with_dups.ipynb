{
 "cells": [
  {
   "cell_type": "markdown",
   "metadata": {},
   "source": [
    "# Permutation with duplicates\n",
    "\n",
    "## Problem statement\n",
    "\n",
    "Write a method to compute all permutations of a string whose characters are not necessarily unique. The list of permutations should not have duplicates."
   ]
  },
  {
   "cell_type": "markdown",
   "metadata": {},
   "source": [
    "## Solution\n",
    "\n",
    "Base case and build approach. "
   ]
  },
  {
   "cell_type": "code",
   "execution_count": 1,
   "metadata": {},
   "outputs": [],
   "source": [
    "def perm_with_dups(string):\n",
    "    'Computes all permutations of a string whose characters are not necessarily unique.'\n",
    "    \n",
    "    if isinstance(string, str) == False: return 'ERROR: Input is not a string.'\n",
    "    \n",
    "    string_dict = dict(zip(list(string), [0] * len(string)))\n",
    "    \n",
    "    for char in string:\n",
    "        string_dict[char] += 1\n",
    "    \n",
    "    return perm_with_dups_helper(string_dict)"
   ]
  },
  {
   "cell_type": "code",
   "execution_count": 2,
   "metadata": {},
   "outputs": [],
   "source": [
    "def perm_with_dups_helper(string_dict):\n",
    "    'Helper function for perm_with_dups().'\n",
    "    \n",
    "    # Base case\n",
    "    if sum(string_dict.values()) == 1:\n",
    "        for char in string_dict:\n",
    "            if string_dict[char] == 1:\n",
    "                return [char]\n",
    "    \n",
    "    # Recursive step\n",
    "    else:\n",
    "        result = []\n",
    "        for char in string_dict:\n",
    "            if string_dict[char] > 0:\n",
    "                string_dict[char] -= 1\n",
    "                for sub_string in perm_with_dups_helper(string_dict):\n",
    "                    result.append(char + sub_string)\n",
    "                string_dict[char] += 1\n",
    "        return result"
   ]
  },
  {
   "cell_type": "markdown",
   "metadata": {},
   "source": [
    "#### Test cases"
   ]
  },
  {
   "cell_type": "code",
   "execution_count": 3,
   "metadata": {},
   "outputs": [
    {
     "name": "stdout",
     "output_type": "stream",
     "text": [
      "['a']\n",
      "['aa']\n",
      "['ab', 'ba']\n",
      "['aab', 'aba', 'baa']\n",
      "['abc', 'acb', 'bac', 'bca', 'cab', 'cba']\n",
      "['aaabbc', 'aaabcb', 'aaacbb', 'aababc', 'aabacb', 'aabbac', 'aabbca', 'aabcab', 'aabcba', 'aacabb', 'aacbab', 'aacbba', 'abaabc', 'abaacb', 'ababac', 'ababca', 'abacab', 'abacba', 'abbaac', 'abbaca', 'abbcaa', 'abcaab', 'abcaba', 'abcbaa', 'acaabb', 'acabab', 'acabba', 'acbaab', 'acbaba', 'acbbaa', 'baaabc', 'baaacb', 'baabac', 'baabca', 'baacab', 'baacba', 'babaac', 'babaca', 'babcaa', 'bacaab', 'bacaba', 'bacbaa', 'bbaaac', 'bbaaca', 'bbacaa', 'bbcaaa', 'bcaaab', 'bcaaba', 'bcabaa', 'bcbaaa', 'caaabb', 'caabab', 'caabba', 'cabaab', 'cababa', 'cabbaa', 'cbaaab', 'cbaaba', 'cbabaa', 'cbbaaa']\n"
     ]
    }
   ],
   "source": [
    "print(perm_with_dups('a'))\n",
    "print(perm_with_dups('aa'))\n",
    "print(perm_with_dups('ab'))\n",
    "print(perm_with_dups('aab'))\n",
    "print(perm_with_dups('abc'))\n",
    "print(perm_with_dups('aaabbc'))"
   ]
  }
 ],
 "metadata": {
  "kernelspec": {
   "display_name": "Python 3",
   "language": "python",
   "name": "python3"
  },
  "language_info": {
   "codemirror_mode": {
    "name": "ipython",
    "version": 3
   },
   "file_extension": ".py",
   "mimetype": "text/x-python",
   "name": "python",
   "nbconvert_exporter": "python",
   "pygments_lexer": "ipython3",
   "version": "3.7.6"
  }
 },
 "nbformat": 4,
 "nbformat_minor": 4
}
