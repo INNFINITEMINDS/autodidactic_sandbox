{
 "cells": [
  {
   "cell_type": "markdown",
   "metadata": {},
   "source": [
    "# Recursive multiplier\n",
    "\n",
    "## Problem statement\n",
    "\n",
    "Write a recursive function to multiply two integers without using the * operator. You can use addition, subtraction, and bit shifting, but you should minimise the number of those operations."
   ]
  },
  {
   "cell_type": "markdown",
   "metadata": {},
   "source": [
    "## Solution 1\n",
    "\n",
    "Assume both inputs are positive or both are negative. Recursively add x to itself y times.\n",
    "\n",
    "As an optimisation, only do the above where y is the smaller number, but reverse x and y where x is the smaller number. This minimises the number of recursions hence minimises time complexity.\n",
    "\n",
    "Where either x or y is negative, do the above but take the negative of the result.\n",
    "\n",
    "Time complexity: $O(y)$"
   ]
  },
  {
   "cell_type": "code",
   "execution_count": 103,
   "metadata": {},
   "outputs": [],
   "source": [
    "def recursive_multiplier_1(x, y):\n",
    "    'Multiplies x and y.'\n",
    "    \n",
    "    is_x_int = isinstance(x, int)\n",
    "    is_y_int = isinstance(y, int)\n",
    "    if is_x_int + is_y_int != 2: return 'ERROR: x and/or y is not an integer.'\n",
    "    \n",
    "    if x == 0 or y == 0: return 0\n",
    "    \n",
    "    # The case where the product will be positive.\n",
    "    if (x > 0 and y > 0) or (x < 0 and y < 0):\n",
    "        return recursive_multiplier_1_helper(x, y)\n",
    "    \n",
    "    # The case where the product will be negative.\n",
    "    else:\n",
    "        return -recursive_multiplier_1_helper(abs(x), abs(y))\n",
    "\n",
    "def recursive_multiplier_1_helper(x, y):\n",
    "    'Multiplies a and b.'\n",
    "    \n",
    "    if y == 1:\n",
    "        return x\n",
    "    else:\n",
    "        return x + recursive_multiplier_1_helper(x, y - 1)"
   ]
  },
  {
   "cell_type": "markdown",
   "metadata": {},
   "source": [
    "#### Test cases"
   ]
  },
  {
   "cell_type": "code",
   "execution_count": 102,
   "metadata": {},
   "outputs": [
    {
     "name": "stdout",
     "output_type": "stream",
     "text": [
      "ERROR: x and/or y is not an integer.\n",
      "ERROR: x and/or y is not an integer.\n",
      "0\n",
      "7\n",
      "14\n",
      "21\n",
      "-21\n",
      "0\n",
      "7\n",
      "14\n",
      "21\n",
      "-21\n"
     ]
    }
   ],
   "source": [
    "print(recursive_multiplier_1('a', 'b'))\n",
    "print(recursive_multiplier_1(1.5, 1))\n",
    "print(recursive_multiplier_1(7, 0))\n",
    "print(recursive_multiplier_1(7, 1))\n",
    "print(recursive_multiplier_1(7, 2))\n",
    "print(recursive_multiplier_1(7, 3))\n",
    "print(recursive_multiplier_1(7, -3))\n",
    "print(recursive_multiplier_1(0, 7))\n",
    "print(recursive_multiplier_1(1, 7))\n",
    "print(recursive_multiplier_1(2, 7))\n",
    "print(recursive_multiplier_1(3, 7))\n",
    "print(recursive_multiplier_1(-3, 7))"
   ]
  },
  {
   "cell_type": "markdown",
   "metadata": {},
   "source": [
    "## Solution 2\n",
    "\n",
    "As an optimisation, only do the above where y is the smaller number, but reverse x and y where x is the smaller number. This minimises the number of recursions hence minimises time complexity.\n",
    "\n",
    "Time complexity: $O(min(x, y))$"
   ]
  },
  {
   "cell_type": "code",
   "execution_count": 142,
   "metadata": {},
   "outputs": [],
   "source": [
    "def recursive_multiplier_2(x, y):\n",
    "    'Multiplies x and y.'\n",
    "    \n",
    "    is_x_int = isinstance(x, int)\n",
    "    is_y_int = isinstance(y, int)\n",
    "    if is_x_int + is_y_int != 2: return 'ERROR: x and/or y is not an integer.'\n",
    "    \n",
    "    if x == 0 or y == 0: return 0\n",
    "    \n",
    "    # The case where the product will be positive.\n",
    "    if (x > 0 and y > 0) or (x < 0 and y < 0):\n",
    "        # Reduce number of recursions, reducing time complexity.\n",
    "        a = max(x, y)\n",
    "        b = min(x, y)\n",
    "        return recursive_multiplier_2_helper(a, b)\n",
    "    \n",
    "    # The case where the product will be negative.\n",
    "    else:\n",
    "        # Reduce number of recursions, reducing time complexity.\n",
    "        a = max(abs(x), abs(y))\n",
    "        b = min(abs(x), abs(y))\n",
    "        return -recursive_multiplier_2_helper(a, b)\n",
    "\n",
    "def recursive_multiplier_2_helper(a, b):\n",
    "    'Multiplies a and b.'\n",
    "    \n",
    "    if b == 1:\n",
    "        return a\n",
    "    else:\n",
    "        return a + recursive_multiplier_2_helper(a, b - 1)"
   ]
  },
  {
   "cell_type": "markdown",
   "metadata": {},
   "source": [
    "#### Test cases"
   ]
  },
  {
   "cell_type": "code",
   "execution_count": 145,
   "metadata": {},
   "outputs": [
    {
     "name": "stdout",
     "output_type": "stream",
     "text": [
      "ERROR: x and/or y is not an integer.\n",
      "ERROR: x and/or y is not an integer.\n",
      "0\n",
      "7\n",
      "14\n",
      "21\n",
      "-21\n",
      "0\n",
      "7\n",
      "14\n",
      "21\n",
      "-21\n"
     ]
    }
   ],
   "source": [
    "print(recursive_multiplier_2('a', 'b'))\n",
    "print(recursive_multiplier_2(1.5, 1))\n",
    "print(recursive_multiplier_2(7, 0))\n",
    "print(recursive_multiplier_2(7, 1))\n",
    "print(recursive_multiplier_2(7, 2))\n",
    "print(recursive_multiplier_2(7, 3))\n",
    "print(recursive_multiplier_2(7, -3))\n",
    "print(recursive_multiplier_2(0, 7))\n",
    "print(recursive_multiplier_2(1, 7))\n",
    "print(recursive_multiplier_2(2, 7))\n",
    "print(recursive_multiplier_2(3, 7))\n",
    "print(recursive_multiplier_2(-3, 7))"
   ]
  }
 ],
 "metadata": {
  "kernelspec": {
   "display_name": "Python 3",
   "language": "python",
   "name": "python3"
  },
  "language_info": {
   "codemirror_mode": {
    "name": "ipython",
    "version": 3
   },
   "file_extension": ".py",
   "mimetype": "text/x-python",
   "name": "python",
   "nbconvert_exporter": "python",
   "pygments_lexer": "ipython3",
   "version": "3.7.6"
  }
 },
 "nbformat": 4,
 "nbformat_minor": 4
}
