{
 "cells": [
  {
   "cell_type": "markdown",
   "metadata": {},
   "source": [
    "# Towers of Hanoi\n",
    "\n",
    "## Problem statement\n",
    "\n",
    "In the classic problem of the Towers of Hanoi, you have three towers and $N$ disks of different sizes which can slide onto any tower. The puzzle starts with disks sorted in ascending order of size from top to bottom. You have the following constraints.\n",
    "\n",
    "- Only one disk can be moved at a time.\n",
    "- A disk is slid off the top of one tower and onto another.\n",
    "- A disk cannot be placed on top of a smaller disk.\n",
    "\n",
    "Write a program to move the disks from the first tower to the last using stacks."
   ]
  },
  {
   "cell_type": "markdown",
   "metadata": {},
   "source": [
    "## Solution 1\n",
    "\n",
    "Move all disks except the bottom one to the buffer tower. Move the bottom disk to the end tower. Move all disks to the end tower. Do this recursively."
   ]
  },
  {
   "cell_type": "code",
   "execution_count": 1,
   "metadata": {},
   "outputs": [],
   "source": [
    "def towers_1(n):\n",
    "    'Move the disks of the Towers of Hanoi from the first tower to the last tower.'\n",
    "\n",
    "    if isinstance(n, int) == False: return 'ERROR: n is not an integer.'\n",
    "    if n < 0: return 'ERROR: n must be positive integer.'\n",
    "    \n",
    "    # Initialise the tower structure as a list of lists.\n",
    "    tower = [[i for i in range(n)], [], []]\n",
    "    \n",
    "    if n == 0:\n",
    "        return tower\n",
    "    elif n == 1:\n",
    "        return move_disk_1(tower, 0, 2)\n",
    "    else:\n",
    "        return move_tower_1(tower, n, 0, 1, 2)\n",
    "    \n",
    "def move_tower_1(tower, m, start, buffer, end):\n",
    "    'Move a tower from start to end, using the other tower as a buffer.'\n",
    "    if m == 2:\n",
    "        tower = move_disk_1(tower, start, buffer)\n",
    "        tower = move_disk_1(tower, start, end)\n",
    "        tower = move_disk_1(tower, buffer, end)\n",
    "        return tower\n",
    "    else:\n",
    "        tower = move_tower_1(tower, m - 1, start, end, buffer)\n",
    "        tower = move_disk_1(tower, start, end)\n",
    "        tower = move_tower_1(tower, m - 1, buffer, start, end)\n",
    "        return tower\n",
    "\n",
    "def move_disk_1(tower, start, end):\n",
    "    'Move a disk from start tower to end tower.'\n",
    "    tower[end].append(tower[start][-1])\n",
    "    tower[start].pop(-1)\n",
    "    \n",
    "    return tower"
   ]
  },
  {
   "cell_type": "markdown",
   "metadata": {},
   "source": [
    "#### Test cases"
   ]
  },
  {
   "cell_type": "code",
   "execution_count": 2,
   "metadata": {},
   "outputs": [
    {
     "name": "stdout",
     "output_type": "stream",
     "text": [
      "ERROR: n is not an integer.\n",
      "ERROR: n is not an integer.\n",
      "ERROR: n must be positive integer.\n",
      "[[], [], []]\n",
      "[[], [], [0]]\n",
      "[[], [], [0, 1]]\n",
      "[[], [], [0, 1, 2]]\n",
      "[[], [], [0, 1, 2, 3]]\n",
      "[[], [], [0, 1, 2, 3, 4]]\n"
     ]
    }
   ],
   "source": [
    "print(towers_1('a'))\n",
    "print(towers_1(1.5))\n",
    "print(towers_1(-1))\n",
    "print(towers_1(0))\n",
    "print(towers_1(1))\n",
    "print(towers_1(2))\n",
    "print(towers_1(3))\n",
    "print(towers_1(4))\n",
    "print(towers_1(5))"
   ]
  },
  {
   "cell_type": "markdown",
   "metadata": {},
   "source": [
    "## Problem statement\n",
    "\n",
    "Write a method to calculate how many times you would have to move a disk to solve the Towers of Hanoi problem with $n$ disks."
   ]
  },
  {
   "cell_type": "markdown",
   "metadata": {},
   "source": [
    "## Solution 2\n",
    "\n",
    "Use solution 1 and increment the count whenever you move a disk. Inefficient because unnecessary work is being done to push and pop from the stacks."
   ]
  },
  {
   "cell_type": "code",
   "execution_count": 3,
   "metadata": {},
   "outputs": [],
   "source": [
    "def towers_2(n):\n",
    "    'Move the disks of the Towers of Hanoi from the first tower to the last tower.'\n",
    "\n",
    "    if isinstance(n, int) == False: return 'ERROR: n is not an integer.'\n",
    "    if n < 0: return 'ERROR: n must be positive integer.'\n",
    "    \n",
    "    # Initialise the tower structure as a list of lists.\n",
    "    tower = [[i for i in range(n)], [], []]\n",
    "    count = 0\n",
    "    \n",
    "    if n == 0:\n",
    "        return count\n",
    "    elif n == 1:\n",
    "        tower, count = move_disk_2(tower, 0, 2, count)\n",
    "        return count\n",
    "    else:\n",
    "        tower, count = move_tower_2(tower, n, 0, 1, 2, count)\n",
    "        return count\n",
    "    \n",
    "def move_tower_2(tower, m, start, buffer, end, count):\n",
    "    'Move a tower from start to end, using the other tower as a buffer.'\n",
    "    if m == 2:\n",
    "        tower, count = move_disk_2(tower, start, buffer, count)\n",
    "        tower, count = move_disk_2(tower, start, end, count)\n",
    "        tower, count = move_disk_2(tower, buffer, end, count)\n",
    "        return tower, count\n",
    "    else:\n",
    "        tower, count = move_tower_2(tower, m - 1, start, end, buffer, count)\n",
    "        tower, count = move_disk_2(tower, start, end, count)\n",
    "        tower, count = move_tower_2(tower, m - 1, buffer, start, end, count)\n",
    "        return tower, count\n",
    "\n",
    "def move_disk_2(tower, start, end, count):\n",
    "    'Move a disk from start tower to end tower.'\n",
    "    tower[end].append(tower[start][-1])\n",
    "    tower[start].pop(-1)\n",
    "    count += 1\n",
    "    return tower, count"
   ]
  },
  {
   "cell_type": "markdown",
   "metadata": {},
   "source": [
    "#### Test cases"
   ]
  },
  {
   "cell_type": "code",
   "execution_count": 4,
   "metadata": {},
   "outputs": [
    {
     "name": "stdout",
     "output_type": "stream",
     "text": [
      "ERROR: n is not an integer.\n",
      "ERROR: n is not an integer.\n",
      "ERROR: n must be positive integer.\n",
      "0 0\n",
      "1 1\n",
      "3 3\n",
      "7 7\n",
      "15 15\n",
      "31 31\n"
     ]
    }
   ],
   "source": [
    "print(towers_2('a'))\n",
    "print(towers_2(1.5))\n",
    "print(towers_2(-1))\n",
    "print(towers_2(0), 2**0 - 1)\n",
    "print(towers_2(1), 2**1 - 1)\n",
    "print(towers_2(2), 2**2 - 1)\n",
    "print(towers_2(3), 2**3 - 1)\n",
    "print(towers_2(4), 2**4 - 1)\n",
    "print(towers_2(5), 2**5 - 1)"
   ]
  },
  {
   "cell_type": "markdown",
   "metadata": {},
   "source": [
    "## Solution 3\n",
    "\n",
    "Just count the steps recursively."
   ]
  },
  {
   "cell_type": "code",
   "execution_count": 5,
   "metadata": {},
   "outputs": [],
   "source": [
    "def towers_3(n):\n",
    "    'Move the disks of the Towers of Hanoi from the first tower to the last tower.'\n",
    "\n",
    "    if isinstance(n, int) == False: return 'ERROR: n is not an integer.'\n",
    "    if n < 0: return 'ERROR: n must be positive integer.'\n",
    "    \n",
    "    if n == 0:\n",
    "        return 0\n",
    "    elif n == 1:\n",
    "        return 1\n",
    "    else:\n",
    "        return count_steps(n)\n",
    "    \n",
    "def count_steps(n):\n",
    "    'Move a tower from start to end, using the other tower as a buffer.'\n",
    "    if n == 2:\n",
    "        return 3\n",
    "    else:\n",
    "        return count_steps(n - 1) * 2 + 1"
   ]
  },
  {
   "cell_type": "markdown",
   "metadata": {},
   "source": [
    "#### Test cases"
   ]
  },
  {
   "cell_type": "code",
   "execution_count": 6,
   "metadata": {},
   "outputs": [
    {
     "name": "stdout",
     "output_type": "stream",
     "text": [
      "ERROR: n is not an integer.\n",
      "ERROR: n is not an integer.\n",
      "ERROR: n must be positive integer.\n",
      "0 0\n",
      "1 1\n",
      "3 3\n",
      "7 7\n",
      "15 15\n",
      "31 31\n"
     ]
    }
   ],
   "source": [
    "print(towers_3('a'))\n",
    "print(towers_3(1.5))\n",
    "print(towers_3(-1))\n",
    "print(towers_3(0), 2**0 - 1)\n",
    "print(towers_3(1), 2**1 - 1)\n",
    "print(towers_3(2), 2**2 - 1)\n",
    "print(towers_3(3), 2**3 - 1)\n",
    "print(towers_3(4), 2**4 - 1)\n",
    "print(towers_3(5), 2**5 - 1)"
   ]
  }
 ],
 "metadata": {
  "kernelspec": {
   "display_name": "Python 3",
   "language": "python",
   "name": "python3"
  },
  "language_info": {
   "codemirror_mode": {
    "name": "ipython",
    "version": 3
   },
   "file_extension": ".py",
   "mimetype": "text/x-python",
   "name": "python",
   "nbconvert_exporter": "python",
   "pygments_lexer": "ipython3",
   "version": "3.7.6"
  }
 },
 "nbformat": 4,
 "nbformat_minor": 4
}
