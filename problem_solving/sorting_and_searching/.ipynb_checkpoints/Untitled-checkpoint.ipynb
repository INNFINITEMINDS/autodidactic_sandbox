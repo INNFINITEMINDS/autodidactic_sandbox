{
 "cells": [
  {
   "cell_type": "markdown",
   "metadata": {},
   "source": [
    "# Merge sort"
   ]
  },
  {
   "cell_type": "code",
   "execution_count": 61,
   "metadata": {},
   "outputs": [],
   "source": [
    "def merge(array, p, q, r):\n",
    "    'Merges two ordered arrays together in ascending order.'\n",
    "    \n",
    "    nLeft = q - p + 1\n",
    "    nRight = r - q\n",
    "    \n",
    "    left = array[p : q + 1]\n",
    "    right = array[q + 1 : r + 1]\n",
    "    left.append(float('inf'))\n",
    "    right.append(float('inf'))\n",
    "    i = j = 0\n",
    "    \n",
    "    for k in range(p, r + 1):\n",
    "        if left[i] < right[j]:\n",
    "            array[k] = left[i]\n",
    "            i += 1\n",
    "        else:\n",
    "            array[k] = right[j]\n",
    "            j += 1\n",
    "    \n",
    "    return array"
   ]
  },
  {
   "cell_type": "code",
   "execution_count": 62,
   "metadata": {},
   "outputs": [
    {
     "data": {
      "text/plain": [
       "[0, 0, 1, 1, 3, 4]"
      ]
     },
     "execution_count": 62,
     "metadata": {},
     "output_type": "execute_result"
    }
   ],
   "source": [
    "merge([0, 1, 4, 0, 1, 3], 0, 2, 5)"
   ]
  },
  {
   "cell_type": "code",
   "execution_count": 36,
   "metadata": {},
   "outputs": [
    {
     "data": {
      "text/plain": [
       "0"
      ]
     },
     "execution_count": 36,
     "metadata": {},
     "output_type": "execute_result"
    }
   ],
   "source": [
    "k"
   ]
  },
  {
   "cell_type": "code",
   "execution_count": null,
   "metadata": {},
   "outputs": [],
   "source": []
  }
 ],
 "metadata": {
  "kernelspec": {
   "display_name": "Python 3",
   "language": "python",
   "name": "python3"
  },
  "language_info": {
   "codemirror_mode": {
    "name": "ipython",
    "version": 3
   },
   "file_extension": ".py",
   "mimetype": "text/x-python",
   "name": "python",
   "nbconvert_exporter": "python",
   "pygments_lexer": "ipython3",
   "version": "3.7.6"
  }
 },
 "nbformat": 4,
 "nbformat_minor": 4
}
