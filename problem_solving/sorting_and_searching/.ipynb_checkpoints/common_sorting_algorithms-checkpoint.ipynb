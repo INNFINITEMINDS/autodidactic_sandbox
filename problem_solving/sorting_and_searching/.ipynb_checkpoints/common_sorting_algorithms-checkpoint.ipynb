{
 "cells": [
  {
   "cell_type": "markdown",
   "metadata": {},
   "source": [
    "# Common sorting algorithms\n"
   ]
  },
  {
   "cell_type": "markdown",
   "metadata": {},
   "source": [
    "## Bubble sort"
   ]
  },
  {
   "cell_type": "code",
   "execution_count": 1,
   "metadata": {},
   "outputs": [],
   "source": [
    "def bubble_sort(in_list):\n",
    "    'Sorts the input list using the Bubble Sort algorithm.'\n",
    "    \n",
    "    assert isinstance(in_list, list) == True, 'ERROR: Input must be a list.'\n",
    "    \n",
    "    n = len(in_list)\n",
    "    \n",
    "    # Boolean to indicate if the list is sorted or not.\n",
    "    sort_done = False\n",
    "    \n",
    "    while sort_done == False:\n",
    "        sort_done = True\n",
    "        for i in range(0, n - 1):\n",
    "            # Check if two elements need swapping.\n",
    "            if in_list[i] > in_list[i + 1]:\n",
    "                # Swap two elements.\n",
    "                temp = in_list[i]\n",
    "                in_list[i] = in_list[i + 1]\n",
    "                in_list[i + 1] = temp\n",
    "                sort_done = False"
   ]
  },
  {
   "cell_type": "markdown",
   "metadata": {},
   "source": [
    "#### Test cases"
   ]
  },
  {
   "cell_type": "code",
   "execution_count": 2,
   "metadata": {},
   "outputs": [
    {
     "name": "stdout",
     "output_type": "stream",
     "text": [
      "[1, 2, 3, 4, 5, 6]\n"
     ]
    }
   ],
   "source": [
    "a = [4, 5, 1, 2, 3, 6]\n",
    "bubble_sort(a)\n",
    "print(a)"
   ]
  },
  {
   "cell_type": "code",
   "execution_count": 3,
   "metadata": {},
   "outputs": [
    {
     "name": "stdout",
     "output_type": "stream",
     "text": [
      "[1, 2, 3, 4, 5, 6]\n"
     ]
    }
   ],
   "source": [
    "a = [6, 5, 4, 3, 2, 1]\n",
    "bubble_sort(a)\n",
    "print(a)"
   ]
  },
  {
   "cell_type": "code",
   "execution_count": 4,
   "metadata": {},
   "outputs": [
    {
     "name": "stdout",
     "output_type": "stream",
     "text": [
      "[4]\n"
     ]
    }
   ],
   "source": [
    "a = [4]\n",
    "bubble_sort(a)\n",
    "print(a)"
   ]
  },
  {
   "cell_type": "code",
   "execution_count": 5,
   "metadata": {},
   "outputs": [
    {
     "name": "stdout",
     "output_type": "stream",
     "text": [
      "[]\n"
     ]
    }
   ],
   "source": [
    "a = []\n",
    "bubble_sort(a)\n",
    "print(a)"
   ]
  },
  {
   "cell_type": "markdown",
   "metadata": {},
   "source": [
    "## Selection sort"
   ]
  },
  {
   "cell_type": "code",
   "execution_count": 6,
   "metadata": {},
   "outputs": [],
   "source": [
    "def selection_sort(in_list):\n",
    "    'Sorts the input list using the Selection Sort algorithm.'\n",
    "    \n",
    "    assert isinstance(in_list, list) == True, 'ERROR: Input must be a list.'\n",
    "    \n",
    "    n = len(in_list)\n",
    "    \n",
    "    for i in range(n - 1):\n",
    "        # The index of the smallest element \n",
    "        index_min = min(range(len(in_list[i + 1:])), key=in_list[i + 1:].__getitem__) + i + 1\n",
    "        if in_list[i] > in_list[index_min]:\n",
    "            # Swap ith element with smallest element after it.\n",
    "            temp = in_list[i]\n",
    "            in_list[i] = in_list[index_min]\n",
    "            in_list[index_min] = temp"
   ]
  },
  {
   "cell_type": "markdown",
   "metadata": {},
   "source": [
    "#### Test cases"
   ]
  },
  {
   "cell_type": "code",
   "execution_count": 7,
   "metadata": {},
   "outputs": [
    {
     "name": "stdout",
     "output_type": "stream",
     "text": [
      "[1, 2, 3, 4, 5, 6]\n"
     ]
    }
   ],
   "source": [
    "a = [4, 5, 1, 2, 3, 6]\n",
    "selection_sort(a)\n",
    "print(a)"
   ]
  },
  {
   "cell_type": "code",
   "execution_count": 8,
   "metadata": {},
   "outputs": [
    {
     "name": "stdout",
     "output_type": "stream",
     "text": [
      "[1, 2, 3, 4, 5, 6]\n"
     ]
    }
   ],
   "source": [
    "a = [6, 5, 4, 3, 2, 1]\n",
    "selection_sort(a)\n",
    "print(a)"
   ]
  },
  {
   "cell_type": "code",
   "execution_count": 9,
   "metadata": {},
   "outputs": [
    {
     "name": "stdout",
     "output_type": "stream",
     "text": [
      "[4]\n"
     ]
    }
   ],
   "source": [
    "a = [4]\n",
    "selection_sort(a)\n",
    "print(a)"
   ]
  },
  {
   "cell_type": "code",
   "execution_count": 10,
   "metadata": {},
   "outputs": [
    {
     "name": "stdout",
     "output_type": "stream",
     "text": [
      "[]\n"
     ]
    }
   ],
   "source": [
    "a = []\n",
    "selection_sort(a)\n",
    "print(a)"
   ]
  },
  {
   "cell_type": "markdown",
   "metadata": {},
   "source": [
    "## Merge sort"
   ]
  },
  {
   "cell_type": "code",
   "execution_count": 11,
   "metadata": {},
   "outputs": [],
   "source": [
    "def merge_sort(in_list):\n",
    "    'Sorts the input list using the Merge Sort algorithm.'\n",
    "    \n",
    "    assert isinstance(in_list, list) == True, 'ERROR: Input must be a list.'\n",
    "    \n",
    "    n = len(in_list)\n",
    "    \n",
    "    helper = [-10] * n\n",
    "    \n",
    "    merge_sort_helper(in_list, helper, 0, n - 1)\n",
    "\n",
    "def merge_sort_helper(in_list, helper, low, high):\n",
    "    'Helper function for merge_sort()'\n",
    "    if low < high:\n",
    "        mid = low + (high - low) // 2\n",
    "        merge_sort_helper(in_list, helper, low, mid)\n",
    "        merge_sort_helper(in_list, helper, mid + 1, high)\n",
    "        merge(in_list, helper, low, mid, high)\n",
    "\n",
    "def merge(in_list, helper, low, mid, high):\n",
    "    'Merges the two halves together.'\n",
    "\n",
    "    helper[low:high + 1] = in_list[low:high + 1]\n",
    "\n",
    "    helper_left = low\n",
    "    helper_right = mid + 1\n",
    "    current = low\n",
    "    \n",
    "    while (helper_left <= mid) & (helper_right <= high):\n",
    "        if helper[helper_left] <= helper[helper_right]:\n",
    "            in_list[current] = helper[helper_left]\n",
    "            helper_left += 1\n",
    "        else:\n",
    "            in_list[current] = helper[helper_right]\n",
    "            helper_right += 1\n",
    "        current += 1\n",
    "        \n",
    "    remaining = mid - helper_left\n",
    "    for i in range(0, remaining + 1):\n",
    "        in_list[current + i] = helper[helper_left + i]"
   ]
  },
  {
   "cell_type": "markdown",
   "metadata": {},
   "source": [
    "#### Test cases"
   ]
  },
  {
   "cell_type": "code",
   "execution_count": 12,
   "metadata": {},
   "outputs": [
    {
     "name": "stdout",
     "output_type": "stream",
     "text": [
      "[1, 2, 3, 4, 5, 6]\n"
     ]
    }
   ],
   "source": [
    "a = [4, 5, 1, 2, 3, 6]\n",
    "merge_sort(a)\n",
    "print(a)"
   ]
  },
  {
   "cell_type": "code",
   "execution_count": 13,
   "metadata": {},
   "outputs": [
    {
     "name": "stdout",
     "output_type": "stream",
     "text": [
      "[1, 2, 3, 4, 5, 6]\n"
     ]
    }
   ],
   "source": [
    "a = [6, 5, 4, 3, 2, 1]\n",
    "merge_sort(a)\n",
    "print(a)"
   ]
  },
  {
   "cell_type": "code",
   "execution_count": 14,
   "metadata": {},
   "outputs": [
    {
     "name": "stdout",
     "output_type": "stream",
     "text": [
      "[4]\n"
     ]
    }
   ],
   "source": [
    "a = [4]\n",
    "merge_sort(a)\n",
    "print(a)"
   ]
  },
  {
   "cell_type": "code",
   "execution_count": 15,
   "metadata": {},
   "outputs": [
    {
     "name": "stdout",
     "output_type": "stream",
     "text": [
      "[]\n"
     ]
    }
   ],
   "source": [
    "a = []\n",
    "merge_sort(a)\n",
    "print(a)"
   ]
  }
 ],
 "metadata": {
  "kernelspec": {
   "display_name": "Python 3",
   "language": "python",
   "name": "python3"
  },
  "language_info": {
   "codemirror_mode": {
    "name": "ipython",
    "version": 3
   },
   "file_extension": ".py",
   "mimetype": "text/x-python",
   "name": "python",
   "nbconvert_exporter": "python",
   "pygments_lexer": "ipython3",
   "version": "3.7.6"
  }
 },
 "nbformat": 4,
 "nbformat_minor": 4
}
