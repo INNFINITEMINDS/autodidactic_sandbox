{
 "cells": [
  {
   "cell_type": "markdown",
   "metadata": {},
   "source": [
    "# Group anagrams\n",
    "\n",
    "## Problem statement\n",
    "\n",
    "Write a method to sort an array of strings so that all the anagrams are next to each other."
   ]
  },
  {
   "cell_type": "markdown",
   "metadata": {},
   "source": [
    "## Solution 1\n",
    "\n",
    "Take the first element, go through the remainder of the list and determine which elements are anagrams of it. Create a new array and start filling this in with those elements. Then move onto a string which is not an anagram of the first string, and repeat the process until you have filled the second array. The second array, once filled, is the result."
   ]
  },
  {
   "cell_type": "code",
   "execution_count": 1,
   "metadata": {},
   "outputs": [],
   "source": [
    "def group_anagrams(array):\n",
    "    'Groups together elements of array so that all the anagrams are next to each other.'\n",
    "    \n",
    "    \n",
    "def is_anagram(string_1, string_2):\n",
    "    'Determines whether the two strings are anagrams of each other.'\n",
    "    \n",
    "    assert isinstance(string_1, str), 'string_1 must be a string.'\n",
    "    assert isinstance(string_2, str), 'string_2 must be a string.'\n",
    "    \n",
    "    n = len(string_1)\n",
    "    if n != len(string_2): return False\n",
    "    \n",
    "    if string_1 == string_2: return True\n",
    "    \n",
    "    char_counts_1 = dict(zip(list(string_1), [0] * n))\n",
    "    char_counts_2 = dict(zip(list(string_2), [0] * n))\n",
    "    \n",
    "    for i in range(n):\n",
    "        char_counts_1[string_1[i]] += 1\n",
    "        char_counts_2[string_2[i]] += 1\n",
    "    \n",
    "    if char_counts_1 == char_counts_2:\n",
    "        return True\n",
    "    else:\n",
    "        return False"
   ]
  },
  {
   "cell_type": "markdown",
   "metadata": {},
   "source": [
    "## Testing"
   ]
  },
  {
   "cell_type": "code",
   "execution_count": 6,
   "metadata": {},
   "outputs": [
    {
     "name": "stdout",
     "output_type": "stream",
     "text": [
      "True\n",
      "True\n",
      "True\n"
     ]
    }
   ],
   "source": [
    "print(is_anagram('abc', 'cab'))\n",
    "print(is_anagram('abc', 'cba'))\n",
    "print(is_anagram('bac', 'cab'))"
   ]
  },
  {
   "cell_type": "code",
   "execution_count": 7,
   "metadata": {},
   "outputs": [
    {
     "name": "stdout",
     "output_type": "stream",
     "text": [
      "False\n",
      "False\n",
      "False\n"
     ]
    }
   ],
   "source": [
    "print(is_anagram('abc', 'cabd'))\n",
    "print(is_anagram('abc', 'pqr'))\n",
    "print(is_anagram('abc', 'aaa'))"
   ]
  }
 ],
 "metadata": {
  "kernelspec": {
   "display_name": "Python 3",
   "language": "python",
   "name": "python3"
  },
  "language_info": {
   "codemirror_mode": {
    "name": "ipython",
    "version": 3
   },
   "file_extension": ".py",
   "mimetype": "text/x-python",
   "name": "python",
   "nbconvert_exporter": "python",
   "pygments_lexer": "ipython3",
   "version": "3.7.6"
  }
 },
 "nbformat": 4,
 "nbformat_minor": 4
}
