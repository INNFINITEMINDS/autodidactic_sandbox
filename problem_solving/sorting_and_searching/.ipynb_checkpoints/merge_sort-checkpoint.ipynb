{
 "cells": [
  {
   "cell_type": "markdown",
   "metadata": {},
   "source": [
    "# Merge sort"
   ]
  },
  {
   "cell_type": "code",
   "execution_count": 1,
   "metadata": {},
   "outputs": [],
   "source": [
    "def merge_sort(array):\n",
    "    'Sorts the input list using the Merge Sort algorithm.'\n",
    "    \n",
    "    assert isinstance(array, list) == True, 'ERROR: Input must be a list.'\n",
    "    \n",
    "    n = len(array)\n",
    "    \n",
    "    helper = [-10] * n\n",
    "    \n",
    "    merge_sort_helper(array, helper, 0, n - 1)\n",
    "\n",
    "def merge_sort_helper(array, helper, low, high):\n",
    "    'Helper function for merge_sort()'\n",
    "    if low < high:\n",
    "        mid = low + (high - low) // 2\n",
    "        merge_sort_helper(array, helper, low, mid)\n",
    "        merge_sort_helper(array, helper, mid + 1, high)\n",
    "        merge(array, helper, low, mid, high)\n",
    "\n",
    "def merge(array, helper, low, mid, high):\n",
    "    'Merges the two halves together.'\n",
    "\n",
    "    helper[low:high + 1] = array[low:high + 1]\n",
    "\n",
    "    helper_left = low\n",
    "    helper_right = mid + 1\n",
    "    current = low\n",
    "    \n",
    "    while (helper_left <= mid) & (helper_right <= high):\n",
    "        if helper[helper_left] <= helper[helper_right]:\n",
    "            array[current] = helper[helper_left]\n",
    "            helper_left += 1\n",
    "        else:\n",
    "            array[current] = helper[helper_right]\n",
    "            helper_right += 1\n",
    "        current += 1\n",
    "        \n",
    "    remaining = mid - helper_left\n",
    "    for i in range(0, remaining + 1):\n",
    "        array[current + i] = helper[helper_left + i]"
   ]
  },
  {
   "cell_type": "markdown",
   "metadata": {},
   "source": [
    "## Testing"
   ]
  },
  {
   "cell_type": "code",
   "execution_count": 2,
   "metadata": {},
   "outputs": [
    {
     "name": "stdout",
     "output_type": "stream",
     "text": [
      "[1, 2, 3, 4, 5, 6]\n"
     ]
    }
   ],
   "source": [
    "a = [4, 5, 1, 2, 3, 6]\n",
    "merge_sort(a)\n",
    "print(a)"
   ]
  },
  {
   "cell_type": "code",
   "execution_count": 3,
   "metadata": {},
   "outputs": [
    {
     "name": "stdout",
     "output_type": "stream",
     "text": [
      "[1, 2, 3, 4, 5, 6]\n"
     ]
    }
   ],
   "source": [
    "a = [6, 5, 4, 3, 2, 1]\n",
    "merge_sort(a)\n",
    "print(a)"
   ]
  },
  {
   "cell_type": "code",
   "execution_count": 4,
   "metadata": {},
   "outputs": [
    {
     "name": "stdout",
     "output_type": "stream",
     "text": [
      "[4]\n"
     ]
    }
   ],
   "source": [
    "a = [4]\n",
    "merge_sort(a)\n",
    "print(a)"
   ]
  }
 ],
 "metadata": {
  "kernelspec": {
   "display_name": "Python 3",
   "language": "python",
   "name": "python3"
  },
  "language_info": {
   "codemirror_mode": {
    "name": "ipython",
    "version": 3
   },
   "file_extension": ".py",
   "mimetype": "text/x-python",
   "name": "python",
   "nbconvert_exporter": "python",
   "pygments_lexer": "ipython3",
   "version": "3.7.6"
  }
 },
 "nbformat": 4,
 "nbformat_minor": 4
}
