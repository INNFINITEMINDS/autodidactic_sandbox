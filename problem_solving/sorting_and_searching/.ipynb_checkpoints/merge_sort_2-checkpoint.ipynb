{
 "cells": [
  {
   "cell_type": "markdown",
   "metadata": {},
   "source": [
    "# Merge sort"
   ]
  },
  {
   "cell_type": "code",
   "execution_count": 1,
   "metadata": {},
   "outputs": [],
   "source": [
    "def merge_sort(array):\n",
    "    'Sort an array using the merge sort algorithm.'\n",
    "    \n",
    "    merge_helper(array, 0, len(array) - 1)\n",
    "    \n",
    "def merge_helper(array, start, end):\n",
    "    'Helper function for merge_sort().'\n",
    "    if end - start == 0:\n",
    "        return start\n",
    "    \n",
    "    mid = (start + end) // 2\n",
    "    merge_helper(array, start, mid)\n",
    "    merge_helper(array, mid + 1, end)\n",
    "    merge(array, start, mid, end)\n",
    "\n",
    "def merge(array, p, q, r):\n",
    "    'Merge two ordered arrays together in ascending order.'\n",
    "    \n",
    "    left = array[p : q + 1]\n",
    "    right = array[q + 1 : r + 1]\n",
    "    left.append(float('inf'))\n",
    "    right.append(float('inf'))\n",
    "    i = j = 0\n",
    "    \n",
    "    for k in range(p, r + 1):\n",
    "        if left[i] < right[j]:\n",
    "            array[k] = left[i]\n",
    "            i += 1\n",
    "        else:\n",
    "            array[k] = right[j]\n",
    "            j += 1"
   ]
  },
  {
   "cell_type": "markdown",
   "metadata": {},
   "source": [
    "## Testing"
   ]
  },
  {
   "cell_type": "code",
   "execution_count": 2,
   "metadata": {},
   "outputs": [],
   "source": [
    "array = [0, 1, 2, 7, 1, 3]\n",
    "merge_sort(array)\n",
    "print(array)"
   ]
  },
  {
   "cell_type": "code",
   "execution_count": 3,
   "metadata": {},
   "outputs": [],
   "source": [
    "array = [5, 4, 3, 2, 1, 0]\n",
    "merge_sort(array)\n",
    "print(array)"
   ]
  },
  {
   "cell_type": "code",
   "execution_count": 4,
   "metadata": {},
   "outputs": [
    {
     "name": "stdout",
     "output_type": "stream",
     "text": [
      "[0]\n"
     ]
    }
   ],
   "source": [
    "array = [0]\n",
    "merge_sort(array)\n",
    "print(array)"
   ]
  }
 ],
 "metadata": {
  "kernelspec": {
   "display_name": "Python 3",
   "language": "python",
   "name": "python3"
  },
  "language_info": {
   "codemirror_mode": {
    "name": "ipython",
    "version": 3
   },
   "file_extension": ".py",
   "mimetype": "text/x-python",
   "name": "python",
   "nbconvert_exporter": "python",
   "pygments_lexer": "ipython3",
   "version": "3.7.6"
  }
 },
 "nbformat": 4,
 "nbformat_minor": 4
}
