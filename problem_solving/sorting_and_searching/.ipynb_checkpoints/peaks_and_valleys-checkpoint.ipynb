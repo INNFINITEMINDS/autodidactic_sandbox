{
 "cells": [
  {
   "cell_type": "markdown",
   "metadata": {},
   "source": [
    "# Peaks and valleys\n",
    "\n",
    "## Problem statement\n",
    "\n",
    "In an array of integers, a 'peak' is an element that is greater than or equal to its adjacent integers and a 'valley' is an element is less than or equal to its adjacent integers. For example, in the array [5, 8, 6, 2, 3, 4, 6], [8, 6] are peaks and [5, 2] are valleys. Given an array of integers, sort the array into an alternating sequence of peaks and valleys.\n",
    "\n",
    "## Solution 1\n",
    "\n"
   ]
  },
  {
   "cell_type": "code",
   "execution_count": 8,
   "metadata": {},
   "outputs": [],
   "source": [
    "def solution_1(array):\n",
    "    'Sorts the array into an alterntive sequence of peaks and valleys.'\n",
    "    \n",
    "    quick_sort(array)\n",
    "    \n",
    "    n = len(array)\n",
    "    result = []\n",
    "    for i in range(n):\n",
    "        if i % 2 == 0:\n",
    "            result.append(array[i // 2])\n",
    "        else:\n",
    "            result.append(array[-1 + n - i // 2])\n",
    "    \n",
    "    return result\n",
    "    "
   ]
  },
  {
   "cell_type": "code",
   "execution_count": 1,
   "metadata": {},
   "outputs": [],
   "source": [
    "def quick_sort(array):\n",
    "    'Sorts the input list using the Quick Sort algorithm.'\n",
    "    \n",
    "    assert isinstance(array, list) == True, 'ERROR: Input must be a list.'\n",
    "    \n",
    "    n = len(array)\n",
    "    \n",
    "    quick_sort_helper(array, 0, n - 1)\n",
    "    \n",
    "def quick_sort_helper(array, left, right):\n",
    "    'Helper function for quick_sort().'\n",
    "    \n",
    "    index = partition(array, left, right)\n",
    "    \n",
    "    if left < index - 1: # Sort the left side.\n",
    "        quick_sort_helper(array, left, index - 1)\n",
    "    if index < right: # Sort the right side.\n",
    "        quick_sort_helper(array, index, right)\n",
    "        \n",
    "def partition(array, left, right):\n",
    "    '''Partition the array such all numbers less than the partitioning element come before\n",
    "    and all other numbers come after it.'''\n",
    "    \n",
    "    pivot = array[(left + right) // 2]\n",
    "    while left <= right:\n",
    "        while array[left] < pivot:\n",
    "            left += 1\n",
    "        while array[right] > pivot:\n",
    "            right -= 1\n",
    "        if left <= right:\n",
    "            # Swap the two elements.\n",
    "            temp = array[left]\n",
    "            array[left] = array[right]\n",
    "            array[right] = temp\n",
    "            left += 1\n",
    "            right -= 1\n",
    "    \n",
    "    return left"
   ]
  },
  {
   "cell_type": "markdown",
   "metadata": {},
   "source": [
    "## Testing\n",
    "\n",
    "Input: [5, 3, 1, 2, 3]<br>\n",
    "Output: [5, 1, 3, 2, 3]"
   ]
  },
  {
   "cell_type": "code",
   "execution_count": 9,
   "metadata": {},
   "outputs": [
    {
     "name": "stdout",
     "output_type": "stream",
     "text": [
      "[1, 5, 2, 3, 3]\n"
     ]
    }
   ],
   "source": [
    "print(solution_1([5, 3, 1, 2, 3]))"
   ]
  },
  {
   "cell_type": "code",
   "execution_count": 11,
   "metadata": {},
   "outputs": [
    {
     "name": "stdout",
     "output_type": "stream",
     "text": [
      "[0, 8, 3, 7, 3, 6, 5]\n"
     ]
    }
   ],
   "source": [
    "print(solution_1([0, 3, 6, 3, 5, 7, 8]))"
   ]
  },
  {
   "cell_type": "code",
   "execution_count": null,
   "metadata": {},
   "outputs": [],
   "source": []
  }
 ],
 "metadata": {
  "kernelspec": {
   "display_name": "Python 3",
   "language": "python",
   "name": "python3"
  },
  "language_info": {
   "codemirror_mode": {
    "name": "ipython",
    "version": 3
   },
   "file_extension": ".py",
   "mimetype": "text/x-python",
   "name": "python",
   "nbconvert_exporter": "python",
   "pygments_lexer": "ipython3",
   "version": "3.7.6"
  }
 },
 "nbformat": 4,
 "nbformat_minor": 4
}
