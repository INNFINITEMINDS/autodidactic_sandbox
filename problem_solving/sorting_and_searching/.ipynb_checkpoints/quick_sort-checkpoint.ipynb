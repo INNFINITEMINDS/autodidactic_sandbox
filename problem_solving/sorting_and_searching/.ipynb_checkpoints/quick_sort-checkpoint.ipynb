{
 "cells": [
  {
   "cell_type": "markdown",
   "metadata": {},
   "source": [
    "# Quick sort"
   ]
  },
  {
   "cell_type": "code",
   "execution_count": 1,
   "metadata": {},
   "outputs": [],
   "source": [
    "def quick_sort(array):\n",
    "    'Sorts the input list using the Quick Sort algorithm.'\n",
    "    \n",
    "    assert isinstance(array, list) == True, 'ERROR: Input must be a list.'\n",
    "    \n",
    "    n = len(array)\n",
    "    \n",
    "    quick_sort_helper(array, 0, n - 1)\n",
    "    \n",
    "def quick_sort_helper(array, left, right):\n",
    "    'Helper function for quick_sort().'\n",
    "    \n",
    "    index = partition(array, left, right)\n",
    "    \n",
    "    if left < index - 1: # Sort the left side.\n",
    "        quick_sort_helper(array, left, index - 1)\n",
    "    if index < right: # Sort the right side.\n",
    "        quick_sort_helper(array, index, right)\n",
    "        \n",
    "def partition(array, left, right):\n",
    "    '''Partition the array such all numbers less than the partitioning element come before\n",
    "    and all other numbers come after it.'''\n",
    "    \n",
    "    pivot = array[(left + right) // 2]\n",
    "    while left <= right:\n",
    "        while array[left] < pivot:\n",
    "            left += 1\n",
    "        while array[right] > pivot:\n",
    "            right -= 1\n",
    "        if left <= right:\n",
    "            # Swap the two elements.\n",
    "            temp = array[left]\n",
    "            array[left] = array[right]\n",
    "            array[right] = temp\n",
    "            left += 1\n",
    "            right -= 1\n",
    "    \n",
    "    return left"
   ]
  },
  {
   "cell_type": "markdown",
   "metadata": {},
   "source": [
    "## Testing"
   ]
  },
  {
   "cell_type": "code",
   "execution_count": 2,
   "metadata": {},
   "outputs": [
    {
     "name": "stdout",
     "output_type": "stream",
     "text": [
      "[1, 2, 3, 4, 5, 6]\n"
     ]
    }
   ],
   "source": [
    "a = [4, 5, 1, 2, 3, 6]\n",
    "quick_sort(a)\n",
    "print(a)"
   ]
  },
  {
   "cell_type": "code",
   "execution_count": 3,
   "metadata": {},
   "outputs": [
    {
     "name": "stdout",
     "output_type": "stream",
     "text": [
      "[1, 2, 3, 4, 5, 6]\n"
     ]
    }
   ],
   "source": [
    "a = [6, 5, 4, 3, 2, 1]\n",
    "quick_sort(a)\n",
    "print(a)"
   ]
  },
  {
   "cell_type": "code",
   "execution_count": 4,
   "metadata": {},
   "outputs": [
    {
     "name": "stdout",
     "output_type": "stream",
     "text": [
      "[4]\n"
     ]
    }
   ],
   "source": [
    "a = [4]\n",
    "quick_sort(a)\n",
    "print(a)"
   ]
  }
 ],
 "metadata": {
  "kernelspec": {
   "display_name": "Python 3",
   "language": "python",
   "name": "python3"
  },
  "language_info": {
   "codemirror_mode": {
    "name": "ipython",
    "version": 3
   },
   "file_extension": ".py",
   "mimetype": "text/x-python",
   "name": "python",
   "nbconvert_exporter": "python",
   "pygments_lexer": "ipython3",
   "version": "3.7.6"
  }
 },
 "nbformat": 4,
 "nbformat_minor": 4
}
