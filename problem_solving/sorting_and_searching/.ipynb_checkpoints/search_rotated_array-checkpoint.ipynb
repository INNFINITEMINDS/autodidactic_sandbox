{
 "cells": [
  {
   "cell_type": "markdown",
   "metadata": {},
   "source": [
    "# Search in a rotated array\n",
    "\n",
    "## Problem statement\n",
    "\n",
    "Given a sorted array of $n$ integers that has been rotated an unknown number of times, write code to find an element in the array. You may assume that the array was originally sorted in ascending order."
   ]
  },
  {
   "cell_type": "markdown",
   "metadata": {},
   "source": [
    "## Solution 1\n",
    "\n",
    "Find the index of the smallest value in the array. This tells you which part to search for the element in. Then binary search again in the part of the array that contains the element you are trying to find."
   ]
  },
  {
   "cell_type": "code",
   "execution_count": 21,
   "metadata": {},
   "outputs": [],
   "source": [
    "def search_rotated_array_1(x, array):\n",
    "    'Finds the position of x in the array.'\n",
    "    \n",
    "    assert x in array, 'x is not found in the array.'\n",
    "    assert isinstance(array, list), 'The input array must be a Python list object.'\n",
    "    \n",
    "    n = len(array)\n",
    "    \n",
    "    index_min = min(range(n), key = array.__getitem__)\n",
    "    \n",
    "    if x >= array[0]:\n",
    "        return binary_search(array, x, 0, index_min - 1)\n",
    "    else:\n",
    "        return binary_search(array, x, index_min, n - 1)"
   ]
  },
  {
   "cell_type": "code",
   "execution_count": 22,
   "metadata": {},
   "outputs": [],
   "source": [
    "def binary_search(array, x, low, high):\n",
    "    'Finds the index of x in the array if it exists using a binary search algorithm.'\n",
    "\n",
    "    if low <= high:\n",
    "        mid = (low + high) // 2\n",
    "        if array[mid] == x:\n",
    "            return mid\n",
    "        elif x < array[mid]:\n",
    "            return binary_search(array, x, low, mid - 1)\n",
    "        else:\n",
    "            return binary_search(array, x, mid + 1, high)\n",
    "    else:\n",
    "        return -1"
   ]
  },
  {
   "cell_type": "markdown",
   "metadata": {},
   "source": [
    "## Testing"
   ]
  },
  {
   "cell_type": "code",
   "execution_count": 23,
   "metadata": {},
   "outputs": [
    {
     "name": "stdout",
     "output_type": "stream",
     "text": [
      "1\n"
     ]
    }
   ],
   "source": [
    "print(search_rotated_array_1(4, [3, 4, 5, 0, 1, 2]))"
   ]
  },
  {
   "cell_type": "code",
   "execution_count": 24,
   "metadata": {},
   "outputs": [
    {
     "name": "stdout",
     "output_type": "stream",
     "text": [
      "4\n"
     ]
    }
   ],
   "source": [
    "print(search_rotated_array_1(1, [3, 4, 5, 0, 1, 2]))"
   ]
  },
  {
   "cell_type": "code",
   "execution_count": 25,
   "metadata": {},
   "outputs": [
    {
     "name": "stdout",
     "output_type": "stream",
     "text": [
      "0\n"
     ]
    }
   ],
   "source": [
    "print(search_rotated_array_1(3, [3, 4, 5, 0, 1, 2]))"
   ]
  },
  {
   "cell_type": "code",
   "execution_count": 26,
   "metadata": {},
   "outputs": [
    {
     "name": "stdout",
     "output_type": "stream",
     "text": [
      "5\n"
     ]
    }
   ],
   "source": [
    "print(search_rotated_array_1(2, [3, 4, 5, 0, 1, 2]))"
   ]
  },
  {
   "cell_type": "markdown",
   "metadata": {},
   "source": [
    "## Solution 2\n",
    "\n",
    "Look at the mid point. If the first element is less than the mid-point and x is not in that range, search the right half. Otherwise, search the other half (recursively).\n",
    "\n",
    "Allow for the special cases where the first element is equal to the middle element and the middle element is equal to the last element."
   ]
  },
  {
   "cell_type": "code",
   "execution_count": 70,
   "metadata": {},
   "outputs": [],
   "source": [
    "def search_rotated_array_2(x, array):\n",
    "    'Finds the position of x in the array.'\n",
    "    \n",
    "    assert x in array, 'x is not found in the array.'\n",
    "    assert isinstance(array, list), 'The input array must be a Python list object.'\n",
    "    \n",
    "    n = len(array)\n",
    "    \n",
    "    return search_rotated_array_2_helper(x, array, 0, n - 1)\n",
    "    \n",
    "def search_rotated_array_2_helper(x, array, low, high):\n",
    "    'Helper function for search_rotated_array_2(x, array).'\n",
    "    \n",
    "    if high < low:\n",
    "        return -1\n",
    "    else:\n",
    "        mid = (low + high) // 2\n",
    "        if array[mid] == x:\n",
    "            return mid\n",
    "        \n",
    "        if array[low] < array[mid]:\n",
    "            if array[low] <= x < array[mid]:\n",
    "                return search_rotated_array_2_helper(x, array, low, mid - 1)\n",
    "            else:\n",
    "                return search_rotated_array_2_helper(x, array, mid + 1, high)\n",
    "        \n",
    "        elif array[mid] < array[high]:\n",
    "            if array[mid] < x <= array[high]:\n",
    "                return search_rotated_array_2_helper(x, array, mid + 1, high)\n",
    "            else:\n",
    "                return search_rotated_array_2_helper(x, array, low, mid - 1)\n",
    "        \n",
    "        else:\n",
    "            location = -1\n",
    "            if array[low] == array[mid]:\n",
    "                location = search_rotated_array_2_helper(x, array, mid + 1, high)\n",
    "            if location == -1 and array[mid] == array[high]:\n",
    "                location = search_rotated_array_2_helper(x, array, low, mid - 1)\n",
    "            return location"
   ]
  },
  {
   "cell_type": "markdown",
   "metadata": {},
   "source": [
    "## Testing"
   ]
  },
  {
   "cell_type": "code",
   "execution_count": 72,
   "metadata": {},
   "outputs": [
    {
     "name": "stdout",
     "output_type": "stream",
     "text": [
      "1\n"
     ]
    }
   ],
   "source": [
    "print(search_rotated_array_2(4, [3, 4, 5, 0, 1, 2]))"
   ]
  },
  {
   "cell_type": "code",
   "execution_count": 73,
   "metadata": {},
   "outputs": [
    {
     "name": "stdout",
     "output_type": "stream",
     "text": [
      "4\n"
     ]
    }
   ],
   "source": [
    "print(search_rotated_array_2(1, [3, 4, 5, 0, 1, 2]))"
   ]
  },
  {
   "cell_type": "code",
   "execution_count": 74,
   "metadata": {},
   "outputs": [
    {
     "name": "stdout",
     "output_type": "stream",
     "text": [
      "0\n"
     ]
    }
   ],
   "source": [
    "print(search_rotated_array_2(3, [3, 4, 5, 0, 1, 2]))"
   ]
  },
  {
   "cell_type": "code",
   "execution_count": 75,
   "metadata": {},
   "outputs": [
    {
     "name": "stdout",
     "output_type": "stream",
     "text": [
      "5\n"
     ]
    }
   ],
   "source": [
    "print(search_rotated_array_2(2, [3, 4, 5, 0, 1, 2]))"
   ]
  },
  {
   "cell_type": "code",
   "execution_count": 78,
   "metadata": {},
   "outputs": [
    {
     "name": "stdout",
     "output_type": "stream",
     "text": [
      "5\n"
     ]
    }
   ],
   "source": [
    "print(search_rotated_array_2(2, [3, 3, 3, 0, 1, 2]))"
   ]
  }
 ],
 "metadata": {
  "kernelspec": {
   "display_name": "Python 3",
   "language": "python",
   "name": "python3"
  },
  "language_info": {
   "codemirror_mode": {
    "name": "ipython",
    "version": 3
   },
   "file_extension": ".py",
   "mimetype": "text/x-python",
   "name": "python",
   "nbconvert_exporter": "python",
   "pygments_lexer": "ipython3",
   "version": "3.7.6"
  }
 },
 "nbformat": 4,
 "nbformat_minor": 4
}
