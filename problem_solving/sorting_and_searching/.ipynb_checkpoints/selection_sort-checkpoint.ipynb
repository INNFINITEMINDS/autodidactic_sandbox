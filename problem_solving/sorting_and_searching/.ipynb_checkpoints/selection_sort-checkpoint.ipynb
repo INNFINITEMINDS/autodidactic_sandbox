{
 "cells": [
  {
   "cell_type": "markdown",
   "metadata": {},
   "source": [
    "# Selection sort"
   ]
  },
  {
   "cell_type": "code",
   "execution_count": 1,
   "metadata": {},
   "outputs": [],
   "source": [
    "def selection_sort(array):\n",
    "    'Sorts the input list using the Selection Sort algorithm.'\n",
    "    \n",
    "    assert isinstance(array, list) == True, 'ERROR: Input must be a list.'\n",
    "    \n",
    "    n = len(array)\n",
    "    \n",
    "    for i in range(n - 1):\n",
    "        # The index of the smallest element \n",
    "        index_min = min(range(len(array[i + 1:])), key=array[i + 1:].__getitem__) + i + 1\n",
    "        if array[i] > array[index_min]:\n",
    "            # Swap ith element with smallest element after it.\n",
    "            temp = array[i]\n",
    "            array[i] = array[index_min]\n",
    "            array[index_min] = temp"
   ]
  },
  {
   "cell_type": "markdown",
   "metadata": {},
   "source": [
    "## Testing"
   ]
  },
  {
   "cell_type": "code",
   "execution_count": 2,
   "metadata": {},
   "outputs": [
    {
     "name": "stdout",
     "output_type": "stream",
     "text": [
      "[1, 2, 3, 4, 5, 6]\n"
     ]
    }
   ],
   "source": [
    "a = [4, 5, 1, 2, 3, 6]\n",
    "selection_sort(a)\n",
    "print(a)"
   ]
  },
  {
   "cell_type": "code",
   "execution_count": 3,
   "metadata": {},
   "outputs": [
    {
     "name": "stdout",
     "output_type": "stream",
     "text": [
      "[1, 2, 3, 4, 5, 6]\n"
     ]
    }
   ],
   "source": [
    "a = [6, 5, 4, 3, 2, 1]\n",
    "selection_sort(a)\n",
    "print(a)"
   ]
  },
  {
   "cell_type": "code",
   "execution_count": 4,
   "metadata": {},
   "outputs": [
    {
     "name": "stdout",
     "output_type": "stream",
     "text": [
      "[4]\n"
     ]
    }
   ],
   "source": [
    "a = [4]\n",
    "selection_sort(a)\n",
    "print(a)"
   ]
  }
 ],
 "metadata": {
  "kernelspec": {
   "display_name": "Python 3",
   "language": "python",
   "name": "python3"
  },
  "language_info": {
   "codemirror_mode": {
    "name": "ipython",
    "version": 3
   },
   "file_extension": ".py",
   "mimetype": "text/x-python",
   "name": "python",
   "nbconvert_exporter": "python",
   "pygments_lexer": "ipython3",
   "version": "3.7.6"
  }
 },
 "nbformat": 4,
 "nbformat_minor": 4
}
