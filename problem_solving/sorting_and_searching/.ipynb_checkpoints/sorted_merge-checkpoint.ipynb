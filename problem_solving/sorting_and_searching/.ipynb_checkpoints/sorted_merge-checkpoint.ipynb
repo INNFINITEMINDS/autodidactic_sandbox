{
 "cells": [
  {
   "cell_type": "markdown",
   "metadata": {},
   "source": [
    "# Sorted merge"
   ]
  },
  {
   "cell_type": "markdown",
   "metadata": {},
   "source": [
    "## Problem statement\n",
    "\n",
    "You are given two sorted arrays, $A$ and $B$, where $A$ has a large enough buffer at the end to hold $B$. Write a method to merge $B$ into $A$ in sorted order."
   ]
  },
  {
   "cell_type": "markdown",
   "metadata": {},
   "source": [
    "## Solution 1\n",
    "\n",
    "Start from the end of b and fill it in backwards one element at a time. Use two pointers, one to go through $A$, and one to go through $B$.\n",
    "\n",
    "Time complexity: $O(A)$"
   ]
  },
  {
   "cell_type": "code",
   "execution_count": 1,
   "metadata": {},
   "outputs": [],
   "source": [
    "def sorted_merge_1(A, B):\n",
    "    'Merge B into A in sorted order.'\n",
    "    \n",
    "    assert isinstance(A, list), 'A must be a list.'\n",
    "    assert isinstance(B, list), 'B must be a list.'\n",
    "    \n",
    "    n = len(A)\n",
    "    i = len(B) - 1 # Pointer which will go through B.\n",
    "    j = n - i - 2 # Pointer which will go through A.\n",
    "    \n",
    "    # Go through array A backwards.\n",
    "    for k in range(n - 1, 0, -1):\n",
    "        \n",
    "        if i < 0:\n",
    "            A[k] = A[j]\n",
    "            j -= 1\n",
    "        elif j < 0:\n",
    "            A[k] = B[i]\n",
    "            i -= 1\n",
    "        else:    \n",
    "            if A[j] > B[i]:\n",
    "                A[k] = A[j]\n",
    "                j -= 1\n",
    "            else:\n",
    "                A[k] = B[i]\n",
    "                i -= 1\n",
    "            \n",
    "    return A"
   ]
  },
  {
   "cell_type": "markdown",
   "metadata": {},
   "source": [
    "### Testing"
   ]
  },
  {
   "cell_type": "code",
   "execution_count": 2,
   "metadata": {},
   "outputs": [
    {
     "data": {
      "text/plain": [
       "[1, 2, 3, 5, 6]"
      ]
     },
     "execution_count": 2,
     "metadata": {},
     "output_type": "execute_result"
    }
   ],
   "source": [
    "sorted_merge_1([1, 3, 5, None, None], [2, 6])"
   ]
  },
  {
   "cell_type": "code",
   "execution_count": 3,
   "metadata": {},
   "outputs": [
    {
     "data": {
      "text/plain": [
       "[1, 2, 3, 4, 5, 6]"
      ]
     },
     "execution_count": 3,
     "metadata": {},
     "output_type": "execute_result"
    }
   ],
   "source": [
    "sorted_merge_1([1, 3, 5, None, None, None], [2, 4, 6])"
   ]
  },
  {
   "cell_type": "code",
   "execution_count": 4,
   "metadata": {},
   "outputs": [
    {
     "data": {
      "text/plain": [
       "[1, 3, 5, 7, 8, 9]"
      ]
     },
     "execution_count": 4,
     "metadata": {},
     "output_type": "execute_result"
    }
   ],
   "source": [
    "sorted_merge_1([1, 3, 5, None, None, None], [7, 8, 9])"
   ]
  }
 ],
 "metadata": {
  "kernelspec": {
   "display_name": "Python 3",
   "language": "python",
   "name": "python3"
  },
  "language_info": {
   "codemirror_mode": {
    "name": "ipython",
    "version": 3
   },
   "file_extension": ".py",
   "mimetype": "text/x-python",
   "name": "python",
   "nbconvert_exporter": "python",
   "pygments_lexer": "ipython3",
   "version": "3.7.6"
  }
 },
 "nbformat": 4,
 "nbformat_minor": 4
}
