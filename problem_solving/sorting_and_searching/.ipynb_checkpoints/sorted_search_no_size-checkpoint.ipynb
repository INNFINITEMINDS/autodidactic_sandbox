{
 "cells": [
  {
   "cell_type": "markdown",
   "metadata": {},
   "source": [
    "# Sorted search, no size\n",
    "\n",
    "## Problem statement\n",
    "\n",
    "You have an array-like data structure listy that has no size method. It does, however, have an element_at(i) method that returns the element at index i in O(1) time. If i is beyond the bounds of the data structure, it returns 1. (For this reason, the data structure only supports positive integers.) Given a listy that contains sorted, positive integers, find the index at which an element x occurs. If x occurs multiple times, you may return any index."
   ]
  },
  {
   "cell_type": "markdown",
   "metadata": {},
   "source": [
    "## Solution 1"
   ]
  },
  {
   "cell_type": "code",
   "execution_count": 12,
   "metadata": {},
   "outputs": [],
   "source": [
    "def sorted_search_no_size(x, listy):\n",
    "    'Finds the index at which x occurs in listy.'\n",
    "    \n",
    "    n = 1\n",
    "    while listy[n] != -1 and listy[n] < x:\n",
    "        n *= 2\n",
    "    return binary_search(x, listy, n // 2, n)\n",
    "    \n",
    "def binary_search(x, listy, low, high):\n",
    "    'Finds the index of x in listy, if it exists.'\n",
    "    \n",
    "    if high < low:\n",
    "        return -1\n",
    "    else:\n",
    "        mid = (low + high) // 2\n",
    "        if listy[mid] == x:\n",
    "            return mid\n",
    "        elif x < listy[mid] or listy[mid] == -1:\n",
    "            return binary_search(x, listy, low, mid - 1)\n",
    "        else:\n",
    "            return binary_search(x, listy, mid + 1, high)"
   ]
  },
  {
   "cell_type": "markdown",
   "metadata": {},
   "source": [
    "## Testing"
   ]
  },
  {
   "cell_type": "code",
   "execution_count": 13,
   "metadata": {},
   "outputs": [
    {
     "name": "stdout",
     "output_type": "stream",
     "text": [
      "0\n"
     ]
    }
   ],
   "source": [
    "print(sorted_search_no_size(1, [1, 3, 5, 7, 9]))"
   ]
  },
  {
   "cell_type": "code",
   "execution_count": 14,
   "metadata": {},
   "outputs": [
    {
     "name": "stdout",
     "output_type": "stream",
     "text": [
      "1\n"
     ]
    }
   ],
   "source": [
    "print(sorted_search_no_size(3, [1, 3, 5, 7, 9]))"
   ]
  },
  {
   "cell_type": "code",
   "execution_count": 15,
   "metadata": {},
   "outputs": [
    {
     "name": "stdout",
     "output_type": "stream",
     "text": [
      "2\n"
     ]
    }
   ],
   "source": [
    "print(sorted_search_no_size(5, [1, 3, 5, 7, 9]))"
   ]
  },
  {
   "cell_type": "code",
   "execution_count": 16,
   "metadata": {},
   "outputs": [
    {
     "name": "stdout",
     "output_type": "stream",
     "text": [
      "4\n"
     ]
    }
   ],
   "source": [
    "print(sorted_search_no_size(9, [1, 3, 5, 7, 9]))"
   ]
  }
 ],
 "metadata": {
  "kernelspec": {
   "display_name": "Python 3",
   "language": "python",
   "name": "python3"
  },
  "language_info": {
   "codemirror_mode": {
    "name": "ipython",
    "version": 3
   },
   "file_extension": ".py",
   "mimetype": "text/x-python",
   "name": "python",
   "nbconvert_exporter": "python",
   "pygments_lexer": "ipython3",
   "version": "3.7.6"
  }
 },
 "nbformat": 4,
 "nbformat_minor": 4
}
