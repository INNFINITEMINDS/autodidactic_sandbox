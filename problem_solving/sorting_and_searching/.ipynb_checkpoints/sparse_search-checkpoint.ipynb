{
 "cells": [
  {
   "cell_type": "markdown",
   "metadata": {},
   "source": [
    "# Sparse search\n",
    "\n",
    "## Problem statement\n",
    "\n",
    "Given a sorted array of strings that is interspersed with empty strings, write a method to find the location of a given string."
   ]
  },
  {
   "cell_type": "markdown",
   "metadata": {},
   "source": [
    "## Solution 1\n",
    "\n",
    "Execute a binary search for the given string, but ensure the mid-point is not an empty string."
   ]
  },
  {
   "cell_type": "code",
   "execution_count": 1,
   "metadata": {},
   "outputs": [],
   "source": [
    "def sparse_search(x, array):\n",
    "    'Finds the location of x in the sparse array.'\n",
    "    \n",
    "    assert isinstance(x, str), 'x must be a string.'\n",
    "    assert isinstance(array, list), 'array must be a list.'\n",
    "    \n",
    "    return sparse_search_helper(x, array, 0, len(array) - 1)\n",
    "\n",
    "def sparse_search_helper(x, array, low, high):\n",
    "    'Helper funtion for sparse_search().'\n",
    "    \n",
    "    mid = find_mid(array, low, high)\n",
    "    if mid == -1 or array[mid] == x:\n",
    "        return mid\n",
    "    \n",
    "    if high < low:\n",
    "        return -1\n",
    "    else:\n",
    "        if x < array[mid]:\n",
    "            return sparse_search_helper(x, array, low, mid - 1)\n",
    "        else:\n",
    "            return sparse_search_helper(x, array, mid + 1, high)\n",
    "    \n",
    "def find_mid(array, low, high):\n",
    "    'Finds a non-empty mid-point of the array.'\n",
    "    \n",
    "    mid = (low + high) // 2\n",
    "\n",
    "    if array[mid] != '':\n",
    "        return mid\n",
    "    else:\n",
    "        i = 1\n",
    "        while mid - i >= low or mid + i <= high:\n",
    "            if array[mid - i] != '': return mid - i\n",
    "            if array[mid + i] != '': return mid + i\n",
    "            i += 1\n",
    "    return -1"
   ]
  },
  {
   "cell_type": "markdown",
   "metadata": {},
   "source": [
    "## Testing"
   ]
  },
  {
   "cell_type": "code",
   "execution_count": 2,
   "metadata": {},
   "outputs": [
    {
     "name": "stdout",
     "output_type": "stream",
     "text": [
      "0\n"
     ]
    }
   ],
   "source": [
    "print(sparse_search('apple', ['apple', '', '', '', 'banana', 'chocolate', '']))"
   ]
  },
  {
   "cell_type": "code",
   "execution_count": 6,
   "metadata": {},
   "outputs": [
    {
     "name": "stdout",
     "output_type": "stream",
     "text": [
      "4\n"
     ]
    }
   ],
   "source": [
    "print(sparse_search('banana', ['apple', '', '', '', 'banana', 'chocolate']))"
   ]
  },
  {
   "cell_type": "code",
   "execution_count": 4,
   "metadata": {},
   "outputs": [
    {
     "name": "stdout",
     "output_type": "stream",
     "text": [
      "5\n"
     ]
    }
   ],
   "source": [
    "print(sparse_search('chocolate', ['apple', '', '', '', 'banana', 'chocolate', '']))"
   ]
  },
  {
   "cell_type": "code",
   "execution_count": 5,
   "metadata": {},
   "outputs": [
    {
     "name": "stdout",
     "output_type": "stream",
     "text": [
      "6\n"
     ]
    }
   ],
   "source": [
    "print(sparse_search('pear', ['apple', '', '', '', 'banana', 'chocolate', 'pear']))"
   ]
  }
 ],
 "metadata": {
  "kernelspec": {
   "display_name": "Python 3",
   "language": "python",
   "name": "python3"
  },
  "language_info": {
   "codemirror_mode": {
    "name": "ipython",
    "version": 3
   },
   "file_extension": ".py",
   "mimetype": "text/x-python",
   "name": "python",
   "nbconvert_exporter": "python",
   "pygments_lexer": "ipython3",
   "version": "3.7.6"
  }
 },
 "nbformat": 4,
 "nbformat_minor": 4
}
