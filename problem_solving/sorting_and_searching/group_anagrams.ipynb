{
 "cells": [
  {
   "cell_type": "markdown",
   "metadata": {},
   "source": [
    "# Group anagrams\n",
    "\n",
    "## Problem statement\n",
    "\n",
    "Write a method to sort an array of strings so that all the anagrams are next to each other."
   ]
  },
  {
   "cell_type": "markdown",
   "metadata": {},
   "source": [
    "## Import packages"
   ]
  },
  {
   "cell_type": "code",
   "execution_count": 1,
   "metadata": {},
   "outputs": [],
   "source": [
    "import numpy as np"
   ]
  },
  {
   "cell_type": "markdown",
   "metadata": {},
   "source": [
    "Get quick_sort() from separate notebook. Ignore output."
   ]
  },
  {
   "cell_type": "code",
   "execution_count": 2,
   "metadata": {},
   "outputs": [
    {
     "name": "stdout",
     "output_type": "stream",
     "text": [
      "[1, 2, 3, 4, 5, 6]\n",
      "[1, 2, 3, 4, 5, 6]\n",
      "[4]\n"
     ]
    }
   ],
   "source": [
    "%run quick_sort.ipynb"
   ]
  },
  {
   "cell_type": "markdown",
   "metadata": {},
   "source": [
    "## Solution 1\n",
    "\n",
    "Take the first element, go through the remainder of the list and determine which elements are anagrams of it. Create a new array and start filling this in with those elements. Then move onto a string which is not an anagram of the first string, and repeat the process until you have filled the second array. The second array, once filled, is the result."
   ]
  },
  {
   "cell_type": "code",
   "execution_count": 3,
   "metadata": {},
   "outputs": [],
   "source": [
    "def group_anagrams(array):\n",
    "    'Groups together elements of array so that all the anagrams are next to each other.'\n",
    "    \n",
    "    n = len(array)\n",
    "    \n",
    "    # Give a unique code to all the anagrams in every group of anagrams.\n",
    "    anagrams = [-1] * n\n",
    "    i = 0\n",
    "    unique_anagrams = []\n",
    "    for j in range(0, n):\n",
    "        if anagrams[j] == -1:\n",
    "            unique_anagrams.append(array[j])\n",
    "            anagrams[j] = i\n",
    "            for k in range(j + 1, n):\n",
    "                if is_anagram(array[j], array[k]):\n",
    "                    anagrams[k] = i\n",
    "            i += 1\n",
    "\n",
    "    quick_sort(anagrams)\n",
    "    \n",
    "    return [unique_anagrams[code] for code in anagrams]\n",
    "    \n",
    "def is_anagram(string_1, string_2):\n",
    "    'Determines whether the two strings are anagrams of each other.'\n",
    "    \n",
    "    assert isinstance(string_1, str), 'string_1 must be a string.'\n",
    "    assert isinstance(string_2, str), 'string_2 must be a string.'\n",
    "    \n",
    "    n = len(string_1)\n",
    "    if n != len(string_2): return False\n",
    "    \n",
    "    if string_1 == string_2: return True\n",
    "    \n",
    "    # Convert the characters in each string to integers representing their unicode characters.\n",
    "    list_1 = [ord(char) for char in list(string_1)]\n",
    "    list_2 = [ord(char) for char in list(string_2)]\n",
    "    \n",
    "    quick_sort(list_1)\n",
    "    quick_sort(list_2)\n",
    "    \n",
    "    if list_1 == list_2:\n",
    "        return True\n",
    "    else:\n",
    "        return False"
   ]
  },
  {
   "cell_type": "markdown",
   "metadata": {},
   "source": [
    "## Testing"
   ]
  },
  {
   "cell_type": "code",
   "execution_count": 4,
   "metadata": {},
   "outputs": [
    {
     "name": "stdout",
     "output_type": "stream",
     "text": [
      "True\n",
      "True\n",
      "True\n"
     ]
    }
   ],
   "source": [
    "print(is_anagram('abc', 'cab'))\n",
    "print(is_anagram('abc', 'cba'))\n",
    "print(is_anagram('bac', 'cab'))"
   ]
  },
  {
   "cell_type": "code",
   "execution_count": 5,
   "metadata": {},
   "outputs": [
    {
     "name": "stdout",
     "output_type": "stream",
     "text": [
      "False\n",
      "False\n",
      "False\n"
     ]
    }
   ],
   "source": [
    "print(is_anagram('abc', 'cabd'))\n",
    "print(is_anagram('abc', 'pqr'))\n",
    "print(is_anagram('abc', 'aaa'))"
   ]
  },
  {
   "cell_type": "code",
   "execution_count": 8,
   "metadata": {},
   "outputs": [
    {
     "name": "stdout",
     "output_type": "stream",
     "text": [
      "['abc', 'abc', 'abc', 'def', 'ghi']\n"
     ]
    }
   ],
   "source": [
    "print(group_anagrams(['abc', 'def', 'abc', 'def', 'ghi']))"
   ]
  },
  {
   "cell_type": "code",
   "execution_count": 7,
   "metadata": {},
   "outputs": [
    {
     "name": "stdout",
     "output_type": "stream",
     "text": [
      "['abc', 'def', 'ghi']\n"
     ]
    }
   ],
   "source": [
    "print(group_anagrams(['abc', 'def', 'ghi']))"
   ]
  }
 ],
 "metadata": {
  "kernelspec": {
   "display_name": "Python 3",
   "language": "python",
   "name": "python3"
  },
  "language_info": {
   "codemirror_mode": {
    "name": "ipython",
    "version": 3
   },
   "file_extension": ".py",
   "mimetype": "text/x-python",
   "name": "python",
   "nbconvert_exporter": "python",
   "pygments_lexer": "ipython3",
   "version": "3.7.6"
  }
 },
 "nbformat": 4,
 "nbformat_minor": 4
}
