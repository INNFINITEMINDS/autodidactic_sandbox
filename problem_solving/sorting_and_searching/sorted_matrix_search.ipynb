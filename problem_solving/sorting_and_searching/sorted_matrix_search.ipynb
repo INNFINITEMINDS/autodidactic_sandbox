{
 "cells": [
  {
   "cell_type": "markdown",
   "metadata": {},
   "source": [
    "# Sorted matrix search\n",
    "\n",
    "## Problem statement\n",
    "\n",
    "Given an $M \\times N$ matrix in which each row and each column is sorted in ascending order, write a method to find an element."
   ]
  },
  {
   "cell_type": "markdown",
   "metadata": {},
   "source": [
    "## Solution 1\n",
    "\n",
    "Assume the input matrix is given as a list of lists. Assume x and all the elements of the matrix are integers."
   ]
  },
  {
   "cell_type": "code",
   "execution_count": 1,
   "metadata": {},
   "outputs": [],
   "source": [
    "def sorted_matrix_search(x, matrix):\n",
    "    'Finds the position of x in the matrix, if it exists.'\n",
    "    \n",
    "    return sorted_matrix_search_helper(x, matrix, 0, len(matrix) - 1, 0, len(matrix[0]) - 1)\n",
    "\n",
    "def sorted_matrix_search_helper(x, matrix, top, bottom, left, right):\n",
    "    'Helper function for sorted_matrix_search().'\n",
    "    #print(top, bottom, left, right)\n",
    "    if top == bottom or left == right:\n",
    "        #print('a')\n",
    "        return -1\n",
    "    else:\n",
    "        mid_row = (top + bottom) // 2\n",
    "        mid_col = (left + right) // 2\n",
    "        \n",
    "        if x == matrix[mid_row][mid_col]:\n",
    "            return [mid_row, mid_col]\n",
    "        \n",
    "        elif x == matrix[mid_row + 1][mid_col + 1]:\n",
    "            return [mid_row + 1, mid_col + 1]\n",
    "        \n",
    "        elif x < matrix[mid_row][mid_col]:\n",
    "            # Search top left\n",
    "            return sorted_matrix_search_helper(x, matrix, top, mid_row, left, mid_col)\n",
    "        \n",
    "        elif matrix[mid_row][mid_col] < x < matrix[mid_row + 1][mid_col + 1]:\n",
    "            # Search bottom left\n",
    "            res = sorted_matrix_search_helper(x, matrix, mid_row, bottom, left, mid_col)\n",
    "            if res != -1: return res\n",
    "            # Search top right\n",
    "            res = sorted_matrix_search_helper(x, matrix, top, mid_row, mid_col, right)\n",
    "            return res\n",
    "            \n",
    "        else:\n",
    "            # Search bottom right\n",
    "            res = sorted_matrix_search_helper(x, matrix, mid_row, bottom, mid_col, right)\n",
    "            return res"
   ]
  },
  {
   "cell_type": "markdown",
   "metadata": {},
   "source": [
    "### Testing"
   ]
  },
  {
   "cell_type": "code",
   "execution_count": 2,
   "metadata": {},
   "outputs": [
    {
     "name": "stdout",
     "output_type": "stream",
     "text": [
      "[0, 0]\n",
      "[1, 1]\n",
      "[1, 2]\n",
      "[2, 2]\n"
     ]
    }
   ],
   "source": [
    "matrix = [\\\n",
    "          [1, 2, 3, 4],\\\n",
    "          [5, 6, 7, 8],\\\n",
    "          [9, 10, 11, 12]]\n",
    "\n",
    "print(sorted_matrix_search(1, matrix))\n",
    "print(sorted_matrix_search(6, matrix))\n",
    "print(sorted_matrix_search(7, matrix))\n",
    "print(sorted_matrix_search(11, matrix))"
   ]
  }
 ],
 "metadata": {
  "kernelspec": {
   "display_name": "Python 3",
   "language": "python",
   "name": "python3"
  },
  "language_info": {
   "codemirror_mode": {
    "name": "ipython",
    "version": 3
   },
   "file_extension": ".py",
   "mimetype": "text/x-python",
   "name": "python",
   "nbconvert_exporter": "python",
   "pygments_lexer": "ipython3",
   "version": "3.7.6"
  }
 },
 "nbformat": 4,
 "nbformat_minor": 4
}
