{
 "cells": [
  {
   "cell_type": "markdown",
   "metadata": {},
   "source": [
    "# Binary tree"
   ]
  },
  {
   "cell_type": "code",
   "execution_count": 42,
   "metadata": {},
   "outputs": [],
   "source": [
    "class Node:\n",
    "    \n",
    "    def __init__(self, data):\n",
    "        'Initialise tree node.'\n",
    "        \n",
    "        self.left = None\n",
    "        self.right = None\n",
    "        self.data = data\n",
    "    \n",
    "    def insert(self, data):\n",
    "        'Insert node.'\n",
    "        \n",
    "        if self.data:\n",
    "            if data < self.data:\n",
    "                if self.left == None:\n",
    "                    self.left = Node(data)\n",
    "                else:\n",
    "                    self.left.insert(data)\n",
    "            elif data > self.data:\n",
    "                if self.right == None:\n",
    "                    self.right = Node(data)\n",
    "                else:\n",
    "                    self.right.insert(data)\n",
    "        else:\n",
    "            self.data = data\n",
    "    \n",
    "    def print_tree(self):\n",
    "        'Print tree.'\n",
    "        \n",
    "        if self.left:\n",
    "            self.left.print_tree()\n",
    "            \n",
    "        print(self.data)\n",
    "        \n",
    "        if self.right:\n",
    "            self.right.print_tree()\n",
    "            \n",
    "    def traverse_inorder(self, tree):\n",
    "        'Traverse tree in order.'\n",
    "        \n",
    "        result = []\n",
    "        \n",
    "        if tree:\n",
    "            result = self.traverse_inorder(tree.left)\n",
    "            result.append(tree.data)\n",
    "            result += self.traverse_inorder(tree.right)\n",
    "        \n",
    "        return result\n",
    "    \n",
    "    def traverse_preorder(self, tree):\n",
    "        'Traverse tree pre-order.'\n",
    "        \n",
    "        result = []\n",
    "        \n",
    "        if tree:\n",
    "            result.append(tree.data)\n",
    "            result += self.traverse_preorder(tree.left)\n",
    "            result += self.traverse_preorder(tree.right)\n",
    "        \n",
    "        return result\n",
    "    \n",
    "    def traverse_postorder(self, tree):\n",
    "        'Traverse tree pre-order.'\n",
    "        \n",
    "        result = []\n",
    "        \n",
    "        if tree:\n",
    "            result += self.traverse_postorder(tree.left)\n",
    "            result += self.traverse_postorder(tree.right)\n",
    "            result.append(tree.data)\n",
    "        \n",
    "        return result"
   ]
  },
  {
   "cell_type": "code",
   "execution_count": 43,
   "metadata": {},
   "outputs": [],
   "source": [
    "tree = Node(10)"
   ]
  },
  {
   "cell_type": "code",
   "execution_count": 44,
   "metadata": {},
   "outputs": [],
   "source": [
    "tree.insert(5)\n",
    "tree.insert(3)\n",
    "tree.insert(8)\n",
    "tree.insert(20)\n",
    "tree.insert(16)\n",
    "tree.insert(30)"
   ]
  },
  {
   "cell_type": "code",
   "execution_count": 45,
   "metadata": {},
   "outputs": [
    {
     "name": "stdout",
     "output_type": "stream",
     "text": [
      "3\n",
      "5\n",
      "8\n",
      "10\n",
      "16\n",
      "20\n",
      "30\n"
     ]
    }
   ],
   "source": [
    "tree.print_tree()"
   ]
  },
  {
   "cell_type": "code",
   "execution_count": 46,
   "metadata": {},
   "outputs": [
    {
     "name": "stdout",
     "output_type": "stream",
     "text": [
      "[3, 5, 8, 10, 16, 20, 30]\n"
     ]
    }
   ],
   "source": [
    "print(tree.traverse_inorder(tree))"
   ]
  },
  {
   "cell_type": "code",
   "execution_count": 47,
   "metadata": {},
   "outputs": [
    {
     "name": "stdout",
     "output_type": "stream",
     "text": [
      "[10, 5, 3, 8, 20, 16, 30]\n"
     ]
    }
   ],
   "source": [
    "print(tree.traverse_preorder(tree))"
   ]
  },
  {
   "cell_type": "code",
   "execution_count": 48,
   "metadata": {},
   "outputs": [
    {
     "name": "stdout",
     "output_type": "stream",
     "text": [
      "[3, 8, 5, 16, 30, 20, 10]\n"
     ]
    }
   ],
   "source": [
    "print(tree.traverse_postorder(tree))"
   ]
  }
 ],
 "metadata": {
  "kernelspec": {
   "display_name": "Python 3",
   "language": "python",
   "name": "python3"
  },
  "language_info": {
   "codemirror_mode": {
    "name": "ipython",
    "version": 3
   },
   "file_extension": ".py",
   "mimetype": "text/x-python",
   "name": "python",
   "nbconvert_exporter": "python",
   "pygments_lexer": "ipython3",
   "version": "3.7.6"
  }
 },
 "nbformat": 4,
 "nbformat_minor": 4
}
